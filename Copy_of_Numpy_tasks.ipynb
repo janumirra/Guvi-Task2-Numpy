{
  "cells": [
    {
      "cell_type": "markdown",
      "metadata": {
        "id": "m_BedX_e3JdB"
      },
      "source": [
        "# Numpy\n",
        "\n"
      ]
    },
    {
      "cell_type": "markdown",
      "metadata": {
        "id": "uPLkNSVl3JdE"
      },
      "source": [
        "#### 1. Import the numpy package under the name `np` (★☆☆) \n",
        "(**hint**: import … as …)"
      ]
    },
    {
      "cell_type": "code",
      "execution_count": null,
      "metadata": {
        "collapsed": true,
        "id": "P32bI0UF3Jdb"
      },
      "outputs": [],
      "source": [
        "import numpy as np"
      ]
    },
    {
      "cell_type": "markdown",
      "metadata": {
        "id": "WzsPoC4Y3Jdd"
      },
      "source": [
        "#### 2. Print the numpy version and the configuration (★☆☆) \n",
        "(**hint**: np.\\_\\_version\\_\\_, np.show\\_config)"
      ]
    },
    {
      "cell_type": "code",
      "execution_count": null,
      "metadata": {
        "id": "uEBrMgOy3Jdf",
        "colab": {
          "base_uri": "https://localhost:8080/"
        },
        "outputId": "2ce0519d-1ed3-4779-9071-5c4a6d420387"
      },
      "outputs": [
        {
          "output_type": "stream",
          "name": "stdout",
          "text": [
            "1.21.6\n"
          ]
        }
      ],
      "source": [
        "print(np.__version__)"
      ]
    },
    {
      "cell_type": "markdown",
      "metadata": {
        "id": "T_Vk4JcO3Jdg"
      },
      "source": [
        "#### 3. Create a null vector of size 10 (★☆☆) \n",
        "(**hint**: np.zeros)"
      ]
    },
    {
      "cell_type": "code",
      "execution_count": null,
      "metadata": {
        "id": "8XNf4wve3Jdh",
        "colab": {
          "base_uri": "https://localhost:8080/"
        },
        "outputId": "bc64968d-a1f8-4b54-dadb-af8a9f3c172e"
      },
      "outputs": [
        {
          "output_type": "stream",
          "name": "stdout",
          "text": [
            "[0. 0. 0. 0. 0. 0. 0. 0. 0. 0.]\n"
          ]
        }
      ],
      "source": [
        "null_vector=np.zeros(10)\n",
        "print(null_vector)"
      ]
    },
    {
      "cell_type": "markdown",
      "metadata": {
        "id": "mbnhuBZI3Jdh"
      },
      "source": [
        "#### 4.  How to find the memory size of any array (★☆☆) \n",
        "(**hint**: size, itemsize)"
      ]
    },
    {
      "cell_type": "code",
      "execution_count": null,
      "metadata": {
        "id": "2kl4GIXz3Jdk",
        "colab": {
          "base_uri": "https://localhost:8080/"
        },
        "outputId": "f1529e81-5b02-4a5e-de59-0b199b159508"
      },
      "outputs": [
        {
          "output_type": "stream",
          "name": "stdout",
          "text": [
            "8\n"
          ]
        }
      ],
      "source": [
        "#size=null_vector.size\n",
        "item_size=null_vector.itemsize\n",
        "#print(size)\n",
        "print(item_size)"
      ]
    },
    {
      "cell_type": "markdown",
      "metadata": {
        "id": "uilmgs7q3Jdm"
      },
      "source": [
        "#### 5.  How to get the documentation of the numpy add function from the command line? (★☆☆) \n",
        "(**hint**: np.info)"
      ]
    },
    {
      "cell_type": "code",
      "execution_count": null,
      "metadata": {
        "collapsed": true,
        "id": "9x3iZK4X3Jdp",
        "colab": {
          "base_uri": "https://localhost:8080/"
        },
        "outputId": "852d570c-7f98-4452-c4e2-d27f62f5c2f7"
      },
      "outputs": [
        {
          "output_type": "stream",
          "name": "stdout",
          "text": [
            "add(x1, x2, /, out=None, *, where=True, casting='same_kind', order='K', dtype=None, subok=True[, signature, extobj])\n",
            "\n",
            "Add arguments element-wise.\n",
            "\n",
            "Parameters\n",
            "----------\n",
            "x1, x2 : array_like\n",
            "    The arrays to be added.\n",
            "    If ``x1.shape != x2.shape``, they must be broadcastable to a common\n",
            "    shape (which becomes the shape of the output).\n",
            "out : ndarray, None, or tuple of ndarray and None, optional\n",
            "    A location into which the result is stored. If provided, it must have\n",
            "    a shape that the inputs broadcast to. If not provided or None,\n",
            "    a freshly-allocated array is returned. A tuple (possible only as a\n",
            "    keyword argument) must have length equal to the number of outputs.\n",
            "where : array_like, optional\n",
            "    This condition is broadcast over the input. At locations where the\n",
            "    condition is True, the `out` array will be set to the ufunc result.\n",
            "    Elsewhere, the `out` array will retain its original value.\n",
            "    Note that if an uninitialized `out` array is created via the default\n",
            "    ``out=None``, locations within it where the condition is False will\n",
            "    remain uninitialized.\n",
            "**kwargs\n",
            "    For other keyword-only arguments, see the\n",
            "    :ref:`ufunc docs <ufuncs.kwargs>`.\n",
            "\n",
            "Returns\n",
            "-------\n",
            "add : ndarray or scalar\n",
            "    The sum of `x1` and `x2`, element-wise.\n",
            "    This is a scalar if both `x1` and `x2` are scalars.\n",
            "\n",
            "Notes\n",
            "-----\n",
            "Equivalent to `x1` + `x2` in terms of array broadcasting.\n",
            "\n",
            "Examples\n",
            "--------\n",
            ">>> np.add(1.0, 4.0)\n",
            "5.0\n",
            ">>> x1 = np.arange(9.0).reshape((3, 3))\n",
            ">>> x2 = np.arange(3.0)\n",
            ">>> np.add(x1, x2)\n",
            "array([[  0.,   2.,   4.],\n",
            "       [  3.,   5.,   7.],\n",
            "       [  6.,   8.,  10.]])\n",
            "\n",
            "The ``+`` operator can be used as a shorthand for ``np.add`` on ndarrays.\n",
            "\n",
            ">>> x1 = np.arange(9.0).reshape((3, 3))\n",
            ">>> x2 = np.arange(3.0)\n",
            ">>> x1 + x2\n",
            "array([[ 0.,  2.,  4.],\n",
            "       [ 3.,  5.,  7.],\n",
            "       [ 6.,  8., 10.]])\n",
            "None\n"
          ]
        }
      ],
      "source": [
        "print(np.info(np.add))"
      ]
    },
    {
      "cell_type": "markdown",
      "metadata": {
        "id": "eYGC03T_3Jdr"
      },
      "source": [
        "#### 6.  Create a null vector of size 10 but the fifth value which is 1 (★☆☆) \n",
        "(**hint**: array\\[4\\])"
      ]
    },
    {
      "cell_type": "code",
      "execution_count": null,
      "metadata": {
        "id": "7l-Sm1_83Jdr",
        "colab": {
          "base_uri": "https://localhost:8080/"
        },
        "outputId": "f623ff6b-1fd2-41f7-a170-047e0b7cd3da"
      },
      "outputs": [
        {
          "output_type": "stream",
          "name": "stdout",
          "text": [
            "[0. 0. 0. 0. 1. 0. 0. 0. 0. 0.]\n"
          ]
        }
      ],
      "source": [
        "a=np.zeros(10)\n",
        "a[4]=1\n",
        "  \n",
        "print(a)"
      ]
    },
    {
      "cell_type": "markdown",
      "metadata": {
        "id": "dy7VHUY93Jdt"
      },
      "source": [
        "#### 7.  Create a vector with values ranging from 10 to 49 (★☆☆) \n",
        "(**hint**: np.arange)"
      ]
    },
    {
      "cell_type": "code",
      "execution_count": null,
      "metadata": {
        "id": "Oo0vAioq3Jdt",
        "colab": {
          "base_uri": "https://localhost:8080/"
        },
        "outputId": "300c3911-0c03-4573-d569-1b0f5a30f0d3"
      },
      "outputs": [
        {
          "output_type": "stream",
          "name": "stdout",
          "text": [
            "[10 11 12 13 14 15 16 17 18 19 20 21 22 23 24 25 26 27 28 29 30 31 32 33\n",
            " 34 35 36 37 38 39 40 41 42 43 44 45 46 47 48 49]\n"
          ]
        }
      ],
      "source": [
        "a=np.arange(10,50)\n",
        "print(a)"
      ]
    },
    {
      "cell_type": "markdown",
      "metadata": {
        "id": "IDq6846r3Jdu"
      },
      "source": [
        "#### 8.  Reverse a vector (first element becomes last) (★☆☆) \n",
        "(**hint**: array\\[::-1\\])"
      ]
    },
    {
      "cell_type": "code",
      "execution_count": null,
      "metadata": {
        "id": "HRtw5_j-3Jdw",
        "colab": {
          "base_uri": "https://localhost:8080/"
        },
        "outputId": "b329c1cb-b6f8-4a49-fb02-2416a995d6bf"
      },
      "outputs": [
        {
          "output_type": "stream",
          "name": "stdout",
          "text": [
            "[4 3 2 1]\n"
          ]
        }
      ],
      "source": [
        "a=np.array([1,2,3,4])\n",
        "b=a[::-1]\n",
        "#print(a)\n",
        "print(b)"
      ]
    },
    {
      "cell_type": "markdown",
      "metadata": {
        "id": "fKZwA3p53Jdw"
      },
      "source": [
        "#### 9.  Create a 3x3 matrix with values ranging from 0 to 8 (★☆☆) \n",
        "(**hint**: reshape)"
      ]
    },
    {
      "cell_type": "code",
      "execution_count": null,
      "metadata": {
        "id": "Nj8Slt1V3Jdy",
        "colab": {
          "base_uri": "https://localhost:8080/"
        },
        "outputId": "300e4235-3239-463a-8e58-ffefd0ceb6f6"
      },
      "outputs": [
        {
          "output_type": "stream",
          "name": "stdout",
          "text": [
            "[[0 1 2]\n",
            " [3 4 5]\n",
            " [6 7 8]]\n"
          ]
        }
      ],
      "source": [
        "a=np.arange(0,9)\n",
        "b=a.reshape(3,3) \n",
        "print(b)"
      ]
    },
    {
      "cell_type": "markdown",
      "metadata": {
        "id": "FQlRb36W3Jd0"
      },
      "source": [
        "#### 10. Find indices of non-zero elements from \\[1,2,0,0,4,0\\] (★☆☆) \n",
        "(**hint**: np.nonzero)"
      ]
    },
    {
      "cell_type": "code",
      "execution_count": null,
      "metadata": {
        "id": "aPR4ZsUH3Jd2",
        "colab": {
          "base_uri": "https://localhost:8080/"
        },
        "outputId": "ac8cac8f-d1f8-43a7-9259-fb7f6c5aa578"
      },
      "outputs": [
        {
          "output_type": "stream",
          "name": "stdout",
          "text": [
            "(array([0, 1, 4]),)\n"
          ]
        }
      ],
      "source": [
        "#why there is a comma at the end?\n",
        "a=np.array([1,2,0,0,4,0])\n",
        "\n",
        "print(np.nonzero(a))\n"
      ]
    },
    {
      "cell_type": "markdown",
      "metadata": {
        "id": "HqUcz18D3Jd2"
      },
      "source": [
        "#### 11. Create a 3x3 identity matrix (★☆☆) \n",
        "(**hint**: np.eye)"
      ]
    },
    {
      "cell_type": "code",
      "execution_count": null,
      "metadata": {
        "id": "smoSRlfE3Jd4",
        "colab": {
          "base_uri": "https://localhost:8080/"
        },
        "outputId": "4aa33eb4-001b-4e4b-c330-d5a235072dd0"
      },
      "outputs": [
        {
          "output_type": "stream",
          "name": "stdout",
          "text": [
            "[[1. 0. 0.]\n",
            " [0. 1. 0.]\n",
            " [0. 0. 1.]]\n"
          ]
        }
      ],
      "source": [
        "a=np.eye(3,3)\n",
        "print(a)"
      ]
    },
    {
      "cell_type": "markdown",
      "metadata": {
        "id": "Hi1h_0zl3Jd7"
      },
      "source": [
        "#### 12. Create a 3x3x3 array with random values (★☆☆) \n",
        "(**hint**: np.random.random)"
      ]
    },
    {
      "cell_type": "code",
      "execution_count": null,
      "metadata": {
        "collapsed": true,
        "id": "8uO9pllG3Jd9",
        "colab": {
          "base_uri": "https://localhost:8080/"
        },
        "outputId": "531a7f5c-5d04-498b-da7f-43c0a5310217"
      },
      "outputs": [
        {
          "output_type": "stream",
          "name": "stdout",
          "text": [
            "[[[1.3850423e-316 0.0000000e+000 0.0000000e+000]\n",
            "  [0.0000000e+000 0.0000000e+000 0.0000000e+000]\n",
            "  [0.0000000e+000 0.0000000e+000 0.0000000e+000]]\n",
            "\n",
            " [[0.0000000e+000 0.0000000e+000 0.0000000e+000]\n",
            "  [0.0000000e+000 0.0000000e+000 0.0000000e+000]\n",
            "  [0.0000000e+000 0.0000000e+000 0.0000000e+000]]\n",
            "\n",
            " [[0.0000000e+000 0.0000000e+000 0.0000000e+000]\n",
            "  [0.0000000e+000 0.0000000e+000 0.0000000e+000]\n",
            "  [0.0000000e+000 0.0000000e+000 0.0000000e+000]]]\n",
            "[[[0.47436226 0.26328216 0.93984972]\n",
            "  [0.95851073 0.94987497 0.47394095]\n",
            "  [0.69945217 0.91009235 0.72750247]]\n",
            "\n",
            " [[0.26312429 0.90827467 0.91491508]\n",
            "  [0.95185378 0.85299286 0.50489168]\n",
            "  [0.07083664 0.39458107 0.18990986]]\n",
            "\n",
            " [[0.62134942 0.37454885 0.43800598]\n",
            "  [0.9793471  0.12857327 0.74536352]\n",
            "  [0.71312075 0.28734573 0.01218506]]]\n"
          ]
        }
      ],
      "source": [
        "#diff b/t empty and random.random\n",
        "a=np.empty([3,3,3]) \n",
        "b=np.random.random((3,3,3))\n",
        "print(a)\n",
        "print(b)"
      ]
    },
    {
      "cell_type": "markdown",
      "metadata": {
        "id": "wCGz9rFK3Jd9"
      },
      "source": [
        "#### 13. Create a 10x10 array with random values and find the minimum and maximum values (★☆☆) \n",
        "(**hint**: min, max)"
      ]
    },
    {
      "cell_type": "code",
      "execution_count": null,
      "metadata": {
        "id": "enfkJ-M83Jd-",
        "colab": {
          "base_uri": "https://localhost:8080/"
        },
        "outputId": "9450aa2b-f81d-4b73-ce15-15e8df2810f3"
      },
      "outputs": [
        {
          "output_type": "stream",
          "name": "stdout",
          "text": [
            "[[0.38821954 0.03571418 0.72037374 0.36625025 0.85459112 0.52304947\n",
            "  0.14389283 0.76783714 0.07350049 0.57626986]\n",
            " [0.4862023  0.30809355 0.41244125 0.46280559 0.01596731 0.13924606\n",
            "  0.9108485  0.15751755 0.01746374 0.7360645 ]\n",
            " [0.81872571 0.61097238 0.68497041 0.52905088 0.27340382 0.42706064\n",
            "  0.89373923 0.00826586 0.58304283 0.92895356]\n",
            " [0.04779953 0.67563626 0.78257291 0.39320019 0.45160374 0.17814545\n",
            "  0.26895445 0.21617981 0.19966725 0.8584964 ]\n",
            " [0.07442753 0.27682719 0.16021858 0.97323656 0.3622751  0.08811538\n",
            "  0.63610832 0.63708227 0.18021191 0.33496946]\n",
            " [0.92703894 0.58501008 0.10023873 0.241414   0.92874297 0.38629227\n",
            "  0.58116528 0.28195358 0.67184097 0.92897494]\n",
            " [0.83567987 0.44030745 0.78162209 0.7018478  0.0865447  0.54602478\n",
            "  0.75217864 0.26224886 0.37563425 0.51933711]\n",
            " [0.3692755  0.59896609 0.63404458 0.44927392 0.81419909 0.87655587\n",
            "  0.06328978 0.34159041 0.64523002 0.07669554]\n",
            " [0.42465878 0.07515052 0.86919099 0.51016851 0.66869696 0.84011996\n",
            "  0.82752473 0.78613501 0.03181153 0.16965611]\n",
            " [0.64005402 0.1899798  0.63474224 0.42538999 0.43163848 0.53598543\n",
            "  0.93728458 0.41639561 0.44730514 0.89652784]]\n",
            "0.9732365630581086\n",
            "0.008265858802987469\n"
          ]
        }
      ],
      "source": [
        "a=np.random.random((10,10))\n",
        "print(a)\n",
        "print(np.max(a))\n",
        "print(np.min(a))"
      ]
    },
    {
      "cell_type": "markdown",
      "metadata": {
        "id": "MyI2JxiS3JeA"
      },
      "source": [
        "#### 14. Create a random vector of size 30 and find the mean value (★☆☆) \n",
        "(**hint**: mean)"
      ]
    },
    {
      "cell_type": "code",
      "execution_count": null,
      "metadata": {
        "id": "_0CkQxlM3JeA",
        "colab": {
          "base_uri": "https://localhost:8080/"
        },
        "outputId": "889c982c-c743-4810-8908-04065d7479b9"
      },
      "outputs": [
        {
          "output_type": "stream",
          "name": "stdout",
          "text": [
            "[0.46454865 0.07803967 0.42246151 0.14779929 0.19541327 0.11687486\n",
            " 0.82250875 0.31757977 0.29032635 0.70659826 0.28584171 0.9199484\n",
            " 0.15262158 0.48119866 0.69074137 0.83104182 0.65249649 0.92921914\n",
            " 0.88901927 0.8745191  0.24175173 0.55912012 0.26620646 0.76155704\n",
            " 0.42095347 0.54972136 0.57068637 0.83302482 0.21523534 0.7614672 ]\n",
            "0.5149507272476059\n"
          ]
        }
      ],
      "source": [
        "a=np.random.random(30)\n",
        "print(a)\n",
        "print(np.mean(a))"
      ]
    },
    {
      "cell_type": "markdown",
      "metadata": {
        "id": "GvkYMMY63JeC"
      },
      "source": [
        "#### 15. Create a 2d array with 1 on the border and 0 inside (★☆☆) \n",
        "(**hint**: array\\[1:-1, 1:-1\\])"
      ]
    },
    {
      "cell_type": "code",
      "execution_count": null,
      "metadata": {
        "id": "WYDTk2nO3JeD",
        "colab": {
          "base_uri": "https://localhost:8080/"
        },
        "outputId": "7650144f-7ab3-488a-cf0c-9541f7641a73"
      },
      "outputs": [
        {
          "output_type": "stream",
          "name": "stdout",
          "text": [
            "[[1. 1. 1. 1.]\n",
            " [1. 0. 0. 1.]\n",
            " [1. 0. 0. 1.]\n",
            " [1. 1. 1. 1.]]\n"
          ]
        }
      ],
      "source": [
        "a=np.ones((4,4))\n",
        "a[1:-1,1:-1]=0\n",
        "print(a)"
      ]
    },
    {
      "cell_type": "markdown",
      "metadata": {
        "id": "No3CbOtE3JeE"
      },
      "source": [
        "#### 16. How to add a border (filled with 0's) around an existing array? (★☆☆) \n",
        "(**hint**: np.pad)"
      ]
    },
    {
      "cell_type": "code",
      "execution_count": null,
      "metadata": {
        "id": "ounHCL3N3JeF",
        "colab": {
          "base_uri": "https://localhost:8080/"
        },
        "outputId": "628a93ec-b111-4618-975f-cd7cb0190392"
      },
      "outputs": [
        {
          "output_type": "stream",
          "name": "stdout",
          "text": [
            "[[0. 0. 0. 0.]\n",
            " [0. 1. 1. 0.]\n",
            " [0. 1. 1. 0.]\n",
            " [0. 0. 0. 0.]]\n"
          ]
        }
      ],
      "source": [
        "a=np.ones((2,2))\n",
        "b=np.pad(a,1)\n",
        "print(b)"
      ]
    },
    {
      "cell_type": "markdown",
      "metadata": {
        "id": "vEPbXUrg3JeG"
      },
      "source": [
        "#### 17. What is the result of the following expression? (★☆☆) \n",
        "(**hint**: NaN = not a number, inf = infinity)"
      ]
    },
    {
      "cell_type": "markdown",
      "metadata": {
        "id": "dVESO6MY3JeH"
      },
      "source": [
        "```python\n",
        "0 * np.nan\n",
        "np.nan == np.nan\n",
        "np.inf > np.nan\n",
        "np.nan - np.nan\n",
        "0.3 == 3 * 0.1\n",
        "```"
      ]
    },
    {
      "cell_type": "code",
      "execution_count": null,
      "metadata": {
        "id": "-z2B3hD53JeI",
        "colab": {
          "base_uri": "https://localhost:8080/"
        },
        "outputId": "9e5218ba-f547-48dd-dedf-47127bb664ed"
      },
      "outputs": [
        {
          "output_type": "stream",
          "name": "stdout",
          "text": [
            "nan\n",
            "False\n",
            "False\n",
            "nan\n",
            "False\n"
          ]
        }
      ],
      "source": [
        "print(0*np.nan)\n",
        "print(np.nan==np.nan)\n",
        "print(np.inf>np.nan)\n",
        "print(np.nan-np.nan)\n",
        "print(0.3==3*0.1)"
      ]
    },
    {
      "cell_type": "markdown",
      "metadata": {
        "id": "_VFJQZ663JeJ"
      },
      "source": [
        "#### 18. Create a 5x5 matrix with values 1,2,3,4 just below the diagonal (★☆☆) \n",
        "(**hint**: np.diag)"
      ]
    },
    {
      "cell_type": "code",
      "execution_count": null,
      "metadata": {
        "id": "vQiWu6FK3JeL",
        "colab": {
          "base_uri": "https://localhost:8080/"
        },
        "outputId": "7a76a5b3-aae1-4200-f3c1-a9309fa52f4d"
      },
      "outputs": [
        {
          "output_type": "stream",
          "name": "stdout",
          "text": [
            " diag(v, k=0)\n",
            "\n",
            "Extract a diagonal or construct a diagonal array.\n",
            "\n",
            "See the more detailed documentation for ``numpy.diagonal`` if you use this\n",
            "function to extract a diagonal and wish to write to the resulting array;\n",
            "whether it returns a copy or a view depends on what version of numpy you\n",
            "are using.\n",
            "\n",
            "Parameters\n",
            "----------\n",
            "v : array_like\n",
            "    If `v` is a 2-D array, return a copy of its `k`-th diagonal.\n",
            "    If `v` is a 1-D array, return a 2-D array with `v` on the `k`-th\n",
            "    diagonal.\n",
            "k : int, optional\n",
            "    Diagonal in question. The default is 0. Use `k>0` for diagonals\n",
            "    above the main diagonal, and `k<0` for diagonals below the main\n",
            "    diagonal.\n",
            "\n",
            "Returns\n",
            "-------\n",
            "out : ndarray\n",
            "    The extracted diagonal or constructed diagonal array.\n",
            "\n",
            "See Also\n",
            "--------\n",
            "diagonal : Return specified diagonals.\n",
            "diagflat : Create a 2-D array with the flattened input as a diagonal.\n",
            "trace : Sum along diagonals.\n",
            "triu : Upper triangle of an array.\n",
            "tril : Lower triangle of an array.\n",
            "\n",
            "Examples\n",
            "--------\n",
            ">>> x = np.arange(9).reshape((3,3))\n",
            ">>> x\n",
            "array([[0, 1, 2],\n",
            "       [3, 4, 5],\n",
            "       [6, 7, 8]])\n",
            "\n",
            ">>> np.diag(x)\n",
            "array([0, 4, 8])\n",
            ">>> np.diag(x, k=1)\n",
            "array([1, 5])\n",
            ">>> np.diag(x, k=-1)\n",
            "array([3, 7])\n",
            "\n",
            ">>> np.diag(np.diag(x))\n",
            "array([[0, 0, 0],\n",
            "       [0, 4, 0],\n",
            "       [0, 0, 8]])\n",
            "None\n",
            "[1 2 3 4]\n",
            "[[0 0 0 0 0]\n",
            " [1 0 0 0 0]\n",
            " [0 2 0 0 0]\n",
            " [0 0 3 0 0]\n",
            " [0 0 0 4 0]]\n"
          ]
        }
      ],
      "source": [
        "print(np.info(np.diag))\n",
        "a=np.array((1,2,3,4))\n",
        "b=np.diag(a,k=-1,)\n",
        "print(a)\n",
        "print(b)"
      ]
    },
    {
      "cell_type": "markdown",
      "metadata": {
        "id": "_svMWt7H3JeL"
      },
      "source": [
        "#### 19. Create a 8x8 matrix and fill it with a checkerboard pattern (★☆☆) \n",
        "(**hint**: array\\[::2\\])"
      ]
    },
    {
      "cell_type": "code",
      "execution_count": null,
      "metadata": {
        "id": "20gQxP1c3JeN",
        "colab": {
          "base_uri": "https://localhost:8080/"
        },
        "outputId": "2024f86a-f710-4fc7-cc2a-2f2885a61524"
      },
      "outputs": [
        {
          "output_type": "stream",
          "name": "stdout",
          "text": [
            "[[1. 0. 1. 0. 1. 0. 1. 0.]\n",
            " [0. 1. 0. 1. 0. 1. 0. 1.]\n",
            " [1. 0. 1. 0. 1. 0. 1. 0.]\n",
            " [0. 1. 0. 1. 0. 1. 0. 1.]\n",
            " [1. 0. 1. 0. 1. 0. 1. 0.]\n",
            " [0. 1. 0. 1. 0. 1. 0. 1.]\n",
            " [1. 0. 1. 0. 1. 0. 1. 0.]\n",
            " [0. 1. 0. 1. 0. 1. 0. 1.]]\n"
          ]
        }
      ],
      "source": [
        "a=np.ones((8,8))\n",
        "a[1::2,::2]=0\n",
        "a[::2,1::2]=0\n",
        "print(a)"
      ]
    },
    {
      "cell_type": "code",
      "source": [
        "a=np.ones((8,8))\n",
        "a[::2,0::2]=0\n",
        "a[1::2,1::2]=0\n",
        "print(a)"
      ],
      "metadata": {
        "colab": {
          "base_uri": "https://localhost:8080/"
        },
        "id": "zRjWLl_gbc0R",
        "outputId": "93dbb5af-89b3-4f05-dbf0-17a0e77d2a1f"
      },
      "execution_count": null,
      "outputs": [
        {
          "output_type": "stream",
          "name": "stdout",
          "text": [
            "[[0. 1. 0. 1. 0. 1. 0. 1.]\n",
            " [1. 0. 1. 0. 1. 0. 1. 0.]\n",
            " [0. 1. 0. 1. 0. 1. 0. 1.]\n",
            " [1. 0. 1. 0. 1. 0. 1. 0.]\n",
            " [0. 1. 0. 1. 0. 1. 0. 1.]\n",
            " [1. 0. 1. 0. 1. 0. 1. 0.]\n",
            " [0. 1. 0. 1. 0. 1. 0. 1.]\n",
            " [1. 0. 1. 0. 1. 0. 1. 0.]]\n"
          ]
        }
      ]
    },
    {
      "cell_type": "markdown",
      "metadata": {
        "id": "fHz90kcd3JeP"
      },
      "source": [
        "#### 20. Consider a (6,7,8) shape array, what is the index (x,y,z) of the 100th element? \n",
        "(**hint**: np.unravel_index)"
      ]
    },
    {
      "cell_type": "code",
      "execution_count": null,
      "metadata": {
        "id": "9rLuVRsc3JeQ",
        "colab": {
          "base_uri": "https://localhost:8080/"
        },
        "outputId": "dbf6bb48-7456-4bad-cc06-fd4fe9ff3483"
      },
      "outputs": [
        {
          "output_type": "stream",
          "name": "stdout",
          "text": [
            "(1, 5, 4)\n",
            " unravel_index()\n",
            "\n",
            "unravel_index(indices, shape, order='C')\n",
            "\n",
            "Converts a flat index or array of flat indices into a tuple\n",
            "of coordinate arrays.\n",
            "\n",
            "Parameters\n",
            "----------\n",
            "indices : array_like\n",
            "    An integer array whose elements are indices into the flattened\n",
            "    version of an array of dimensions ``shape``. Before version 1.6.0,\n",
            "    this function accepted just one index value.\n",
            "shape : tuple of ints\n",
            "    The shape of the array to use for unraveling ``indices``.\n",
            "\n",
            "    .. versionchanged:: 1.16.0\n",
            "        Renamed from ``dims`` to ``shape``.\n",
            "\n",
            "order : {'C', 'F'}, optional\n",
            "    Determines whether the indices should be viewed as indexing in\n",
            "    row-major (C-style) or column-major (Fortran-style) order.\n",
            "\n",
            "    .. versionadded:: 1.6.0\n",
            "\n",
            "Returns\n",
            "-------\n",
            "unraveled_coords : tuple of ndarray\n",
            "    Each array in the tuple has the same shape as the ``indices``\n",
            "    array.\n",
            "\n",
            "See Also\n",
            "--------\n",
            "ravel_multi_index\n",
            "\n",
            "Examples\n",
            "--------\n",
            ">>> np.unravel_index([22, 41, 37], (7,6))\n",
            "(array([3, 6, 6]), array([4, 5, 1]))\n",
            ">>> np.unravel_index([31, 41, 13], (7,6), order='F')\n",
            "(array([3, 6, 6]), array([4, 5, 1]))\n",
            "\n",
            ">>> np.unravel_index(1621, (6,7,8,9))\n",
            "(3, 1, 4, 1)\n",
            "None\n"
          ]
        }
      ],
      "source": [
        "#a=np.arange(1,337).reshape(6,7,8)\n",
        "#print(a)\n",
        "print(np.unravel_index(100,(6,7,8))) # \",\" after the required position is essential.\n",
        "print(np.info(np.unravel_index))\n"
      ]
    },
    {
      "cell_type": "markdown",
      "metadata": {
        "id": "Kydb9KKX3JeQ"
      },
      "source": [
        "#### 21. Create a checkerboard 8x8 matrix using the tile function (★☆☆) \n",
        "(**hint**: np.tile)"
      ]
    },
    {
      "cell_type": "code",
      "execution_count": null,
      "metadata": {
        "id": "vRH2jBXx3JeR",
        "colab": {
          "base_uri": "https://localhost:8080/"
        },
        "outputId": "c980595a-f2b3-4e2b-c7a1-cf2a2a6668ff"
      },
      "outputs": [
        {
          "output_type": "stream",
          "name": "stdout",
          "text": [
            " tile(A, reps)\n",
            "\n",
            "Construct an array by repeating A the number of times given by reps.\n",
            "\n",
            "If `reps` has length ``d``, the result will have dimension of\n",
            "``max(d, A.ndim)``.\n",
            "\n",
            "If ``A.ndim < d``, `A` is promoted to be d-dimensional by prepending new\n",
            "axes. So a shape (3,) array is promoted to (1, 3) for 2-D replication,\n",
            "or shape (1, 1, 3) for 3-D replication. If this is not the desired\n",
            "behavior, promote `A` to d-dimensions manually before calling this\n",
            "function.\n",
            "\n",
            "If ``A.ndim > d``, `reps` is promoted to `A`.ndim by pre-pending 1's to it.\n",
            "Thus for an `A` of shape (2, 3, 4, 5), a `reps` of (2, 2) is treated as\n",
            "(1, 1, 2, 2).\n",
            "\n",
            "Note : Although tile may be used for broadcasting, it is strongly\n",
            "recommended to use numpy's broadcasting operations and functions.\n",
            "\n",
            "Parameters\n",
            "----------\n",
            "A : array_like\n",
            "    The input array.\n",
            "reps : array_like\n",
            "    The number of repetitions of `A` along each axis.\n",
            "\n",
            "Returns\n",
            "-------\n",
            "c : ndarray\n",
            "    The tiled output array.\n",
            "\n",
            "See Also\n",
            "--------\n",
            "repeat : Repeat elements of an array.\n",
            "broadcast_to : Broadcast an array to a new shape\n",
            "\n",
            "Examples\n",
            "--------\n",
            ">>> a = np.array([0, 1, 2])\n",
            ">>> np.tile(a, 2)\n",
            "array([0, 1, 2, 0, 1, 2])\n",
            ">>> np.tile(a, (2, 2))\n",
            "array([[0, 1, 2, 0, 1, 2],\n",
            "       [0, 1, 2, 0, 1, 2]])\n",
            ">>> np.tile(a, (2, 1, 2))\n",
            "array([[[0, 1, 2, 0, 1, 2]],\n",
            "       [[0, 1, 2, 0, 1, 2]]])\n",
            "\n",
            ">>> b = np.array([[1, 2], [3, 4]])\n",
            ">>> np.tile(b, 2)\n",
            "array([[1, 2, 1, 2],\n",
            "       [3, 4, 3, 4]])\n",
            ">>> np.tile(b, (2, 1))\n",
            "array([[1, 2],\n",
            "       [3, 4],\n",
            "       [1, 2],\n",
            "       [3, 4]])\n",
            "\n",
            ">>> c = np.array([1,2,3,4])\n",
            ">>> np.tile(c,(4,1))\n",
            "array([[1, 2, 3, 4],\n",
            "       [1, 2, 3, 4],\n",
            "       [1, 2, 3, 4],\n",
            "       [1, 2, 3, 4]])\n",
            "None\n",
            "[[0 1 0 1 0 1 0 1]\n",
            " [1 0 1 0 1 0 1 0]\n",
            " [0 1 0 1 0 1 0 1]\n",
            " [1 0 1 0 1 0 1 0]\n",
            " [0 1 0 1 0 1 0 1]\n",
            " [1 0 1 0 1 0 1 0]\n",
            " [0 1 0 1 0 1 0 1]\n",
            " [1 0 1 0 1 0 1 0]]\n"
          ]
        }
      ],
      "source": [
        "print(np.info(np.tile))\n",
        "a=np.array([[0,1],[1,0]])\n",
        "b=np.tile(a,(4,4))\n",
        "print(b)"
      ]
    },
    {
      "cell_type": "markdown",
      "metadata": {
        "id": "Jaub57pD3JeR"
      },
      "source": [
        "#### 22. Normalize a 5x5 random matrix (★☆☆) \n",
        "(**hint**: (x - min) / (max - min))"
      ]
    },
    {
      "cell_type": "code",
      "execution_count": null,
      "metadata": {
        "id": "ayrXYa1j3JeS",
        "colab": {
          "base_uri": "https://localhost:8080/"
        },
        "outputId": "f1f25cea-e9a1-4a2a-ada3-517b6b98cc84"
      },
      "outputs": [
        {
          "output_type": "stream",
          "name": "stdout",
          "text": [
            "[[0.24141063 0.08415539 0.47066513 0.60362179 0.64443514]\n",
            " [0.26853193 0.3810965  0.87411614 0.04122152 0.66902429]\n",
            " [0.86858759 0.28050854 0.70474357 0.93335408 0.18696541]\n",
            " [0.94483449 0.23399085 0.08634967 0.26601192 0.99769944]\n",
            " [0.54172543 0.71712628 0.02062802 0.72886065 0.93801067]]\n",
            "[[0.22596364 0.06501814 0.46059797 0.59667468 0.63844578]\n",
            " [0.25372138 0.36892746 0.87351662 0.02107676 0.66361195]\n",
            " [0.86785833 0.26597904 0.70016945 0.93414467 0.17024077]\n",
            " [0.94589449 0.21836974 0.06726392 0.25114224 1.        ]\n",
            " [0.53332581 0.71284273 0.         0.72485247 0.93891053]]\n"
          ]
        }
      ],
      "source": [
        "a=np.random.random((5,5))\n",
        "print(a)\n",
        "max_a=a.max()\n",
        "min_a=a.min()\n",
        "normal=(a-min_a)/(max_a-min_a)\n",
        "print(normal)"
      ]
    },
    {
      "cell_type": "markdown",
      "metadata": {
        "id": "v7T_UrAo3JeT"
      },
      "source": [
        "#### 23. Create a custom dtype that describes a color as four unsigned bytes (RGBA) (★☆☆) \n",
        "(**hint**: np.dtype)"
      ]
    },
    {
      "cell_type": "code",
      "execution_count": null,
      "metadata": {
        "collapsed": true,
        "id": "Pye1NWHv3JeU",
        "colab": {
          "base_uri": "https://localhost:8080/"
        },
        "outputId": "87b66b2c-e253-4d4e-a5ee-b192a816d08a"
      },
      "outputs": [
        {
          "output_type": "stream",
          "name": "stdout",
          "text": [
            " dtype()\n",
            "\n",
            "dtype(dtype, align=False, copy=False)\n",
            "\n",
            "Create a data type object.\n",
            "\n",
            "A numpy array is homogeneous, and contains elements described by a\n",
            "dtype object. A dtype object can be constructed from different\n",
            "combinations of fundamental numeric types.\n",
            "\n",
            "Parameters\n",
            "----------\n",
            "dtype\n",
            "    Object to be converted to a data type object.\n",
            "align : bool, optional\n",
            "    Add padding to the fields to match what a C compiler would output\n",
            "    for a similar C-struct. Can be ``True`` only if `obj` is a dictionary\n",
            "    or a comma-separated string. If a struct dtype is being created,\n",
            "    this also sets a sticky alignment flag ``isalignedstruct``.\n",
            "copy : bool, optional\n",
            "    Make a new copy of the data-type object. If ``False``, the result\n",
            "    may just be a reference to a built-in data-type object.\n",
            "\n",
            "See also\n",
            "--------\n",
            "result_type\n",
            "\n",
            "Examples\n",
            "--------\n",
            "Using array-scalar type:\n",
            "\n",
            ">>> np.dtype(np.int16)\n",
            "dtype('int16')\n",
            "\n",
            "Structured type, one field name 'f1', containing int16:\n",
            "\n",
            ">>> np.dtype([('f1', np.int16)])\n",
            "dtype([('f1', '<i2')])\n",
            "\n",
            "Structured type, one field named 'f1', in itself containing a structured\n",
            "type with one field:\n",
            "\n",
            ">>> np.dtype([('f1', [('f1', np.int16)])])\n",
            "dtype([('f1', [('f1', '<i2')])])\n",
            "\n",
            "Structured type, two fields: the first field contains an unsigned int, the\n",
            "second an int32:\n",
            "\n",
            ">>> np.dtype([('f1', np.uint64), ('f2', np.int32)])\n",
            "dtype([('f1', '<u8'), ('f2', '<i4')])\n",
            "\n",
            "Using array-protocol type strings:\n",
            "\n",
            ">>> np.dtype([('a','f8'),('b','S10')])\n",
            "dtype([('a', '<f8'), ('b', 'S10')])\n",
            "\n",
            "Using comma-separated field formats.  The shape is (2,3):\n",
            "\n",
            ">>> np.dtype(\"i4, (2,3)f8\")\n",
            "dtype([('f0', '<i4'), ('f1', '<f8', (2, 3))])\n",
            "\n",
            "Using tuples.  ``int`` is a fixed type, 3 the field's shape.  ``void``\n",
            "is a flexible type, here of size 10:\n",
            "\n",
            ">>> np.dtype([('hello',(np.int64,3)),('world',np.void,10)])\n",
            "dtype([('hello', '<i8', (3,)), ('world', 'V10')])\n",
            "\n",
            "Subdivide ``int16`` into 2 ``int8``'s, called x and y.  0 and 1 are\n",
            "the offsets in bytes:\n",
            "\n",
            ">>> np.dtype((np.int16, {'x':(np.int8,0), 'y':(np.int8,1)}))\n",
            "dtype((numpy.int16, [('x', 'i1'), ('y', 'i1')]))\n",
            "\n",
            "Using dictionaries.  Two fields named 'gender' and 'age':\n",
            "\n",
            ">>> np.dtype({'names':['gender','age'], 'formats':['S1',np.uint8]})\n",
            "dtype([('gender', 'S1'), ('age', 'u1')])\n",
            "\n",
            "Offsets in bytes, here 0 and 25:\n",
            "\n",
            ">>> np.dtype({'surname':('S25',0),'age':(np.uint8,25)})\n",
            "dtype([('surname', 'S25'), ('age', 'u1')])\n",
            "\n",
            "\n",
            "Methods:\n",
            "\n",
            "  newbyteorder  --  newbyteorder(new_order='S', /)\n",
            "None\n",
            "[('R', 'u1'), ('G', 'u1'), ('B', 'u1'), ('A', 'u1')]\n"
          ]
        }
      ],
      "source": [
        "print(np.info(np.dtype))\n",
        "a=np.dtype([(\"R\",np.ubyte),\n",
        "            (\"G\",np.ubyte),\n",
        "            (\"B\",np.ubyte),\n",
        "            (\"A\",np.ubyte)])\n",
        "print(a)"
      ]
    },
    {
      "cell_type": "markdown",
      "metadata": {
        "id": "mQ9cRGX53JeV"
      },
      "source": [
        "#### 24. Multiply a 5x3 matrix by a 3x2 matrix (real matrix product) (★☆☆) \n",
        "(**hint**: np.dot | @)"
      ]
    },
    {
      "cell_type": "code",
      "execution_count": null,
      "metadata": {
        "id": "0zCzM1ym3JeW",
        "colab": {
          "base_uri": "https://localhost:8080/"
        },
        "outputId": "6ef17715-48ce-4d1c-e976-2500045f44f0"
      },
      "outputs": [
        {
          "output_type": "stream",
          "name": "stdout",
          "text": [
            " dot()\n",
            "\n",
            "dot(a, b, out=None)\n",
            "\n",
            "Dot product of two arrays. Specifically,\n",
            "\n",
            "- If both `a` and `b` are 1-D arrays, it is inner product of vectors\n",
            "  (without complex conjugation).\n",
            "\n",
            "- If both `a` and `b` are 2-D arrays, it is matrix multiplication,\n",
            "  but using :func:`matmul` or ``a @ b`` is preferred.\n",
            "\n",
            "- If either `a` or `b` is 0-D (scalar), it is equivalent to :func:`multiply`\n",
            "  and using ``numpy.multiply(a, b)`` or ``a * b`` is preferred.\n",
            "\n",
            "- If `a` is an N-D array and `b` is a 1-D array, it is a sum product over\n",
            "  the last axis of `a` and `b`.\n",
            "\n",
            "- If `a` is an N-D array and `b` is an M-D array (where ``M>=2``), it is a\n",
            "  sum product over the last axis of `a` and the second-to-last axis of `b`::\n",
            "\n",
            "    dot(a, b)[i,j,k,m] = sum(a[i,j,:] * b[k,:,m])\n",
            "\n",
            "Parameters\n",
            "----------\n",
            "a : array_like\n",
            "    First argument.\n",
            "b : array_like\n",
            "    Second argument.\n",
            "out : ndarray, optional\n",
            "    Output argument. This must have the exact kind that would be returned\n",
            "    if it was not used. In particular, it must have the right type, must be\n",
            "    C-contiguous, and its dtype must be the dtype that would be returned\n",
            "    for `dot(a,b)`. This is a performance feature. Therefore, if these\n",
            "    conditions are not met, an exception is raised, instead of attempting\n",
            "    to be flexible.\n",
            "\n",
            "Returns\n",
            "-------\n",
            "output : ndarray\n",
            "    Returns the dot product of `a` and `b`.  If `a` and `b` are both\n",
            "    scalars or both 1-D arrays then a scalar is returned; otherwise\n",
            "    an array is returned.\n",
            "    If `out` is given, then it is returned.\n",
            "\n",
            "Raises\n",
            "------\n",
            "ValueError\n",
            "    If the last dimension of `a` is not the same size as\n",
            "    the second-to-last dimension of `b`.\n",
            "\n",
            "See Also\n",
            "--------\n",
            "vdot : Complex-conjugating dot product.\n",
            "tensordot : Sum products over arbitrary axes.\n",
            "einsum : Einstein summation convention.\n",
            "matmul : '@' operator as method with out parameter.\n",
            "linalg.multi_dot : Chained dot product.\n",
            "\n",
            "Examples\n",
            "--------\n",
            ">>> np.dot(3, 4)\n",
            "12\n",
            "\n",
            "Neither argument is complex-conjugated:\n",
            "\n",
            ">>> np.dot([2j, 3j], [2j, 3j])\n",
            "(-13+0j)\n",
            "\n",
            "For 2-D arrays it is the matrix product:\n",
            "\n",
            ">>> a = [[1, 0], [0, 1]]\n",
            ">>> b = [[4, 1], [2, 2]]\n",
            ">>> np.dot(a, b)\n",
            "array([[4, 1],\n",
            "       [2, 2]])\n",
            "\n",
            ">>> a = np.arange(3*4*5*6).reshape((3,4,5,6))\n",
            ">>> b = np.arange(3*4*5*6)[::-1].reshape((5,4,6,3))\n",
            ">>> np.dot(a, b)[2,3,2,1,2,2]\n",
            "499128\n",
            ">>> sum(a[2,3,2,:] * b[1,2,:,2])\n",
            "499128\n",
            "None\n",
            "[[ 2  4]\n",
            " [ 6  8]\n",
            " [10 12]]\n",
            "[[ 1  2  3]\n",
            " [ 4  5  6]\n",
            " [ 7  8  9]\n",
            " [10 11 12]\n",
            " [13 14 15]]\n",
            "[[ 44  56]\n",
            " [ 98 128]\n",
            " [152 200]\n",
            " [206 272]\n",
            " [260 344]]\n"
          ]
        }
      ],
      "source": [
        "print(np.info(np.dot))\n",
        "a=np.arange(1,16).reshape(5,3)\n",
        "b=np.arange(2,14,2).reshape(3,2)\n",
        "print(b)\n",
        "print(a)\n",
        "print(np.dot(a,b))"
      ]
    },
    {
      "cell_type": "markdown",
      "metadata": {
        "id": "jG0FxcVI3JeW"
      },
      "source": [
        "#### 25. Given a 1D array, negate all elements which are between 3 and 8, in place. (★☆☆) \n",
        "(**hint**: >, <=)"
      ]
    },
    {
      "cell_type": "code",
      "execution_count": null,
      "metadata": {
        "id": "FJxn3ElS3JeX",
        "colab": {
          "base_uri": "https://localhost:8080/"
        },
        "outputId": "b3491ab4-27c2-427f-aba1-f990b15d5d68"
      },
      "outputs": [
        {
          "output_type": "stream",
          "name": "stdout",
          "text": [
            "[1 2 3 4 5 6 7 8 9]\n",
            "[ 1  2  3 -4 -5 -6 -7  8  9]\n"
          ]
        }
      ],
      "source": [
        " a=np.arange(1,10)\n",
        " print(a)\n",
        " a[(a>3)&(a<8)]*=-1\n",
        "print(a)\n",
        "   "
      ]
    },
    {
      "cell_type": "markdown",
      "metadata": {
        "id": "Nm5yEeX-3JeX"
      },
      "source": [
        "#### 26. What is the output of the following script? (★☆☆) \n",
        "(**hint**: np.sum)"
      ]
    },
    {
      "cell_type": "markdown",
      "metadata": {
        "id": "atkbhFc13JeY"
      },
      "source": [
        "```python\n",
        "# Author: Jake VanderPlas\n",
        "\n",
        "print(sum(range(5),-1))\n",
        "from numpy import *\n",
        "print(sum(range(5),-1))\n",
        "```"
      ]
    },
    {
      "cell_type": "code",
      "execution_count": null,
      "metadata": {
        "id": "z25uXCji3JeZ",
        "colab": {
          "base_uri": "https://localhost:8080/"
        },
        "outputId": "0feccf62-26ee-4526-9867-821d1789fc7a"
      },
      "outputs": [
        {
          "output_type": "stream",
          "name": "stdout",
          "text": [
            "9\n",
            "10\n"
          ]
        }
      ],
      "source": [
        "#earlier it was 9 and 10, but now it is 10 and 10????\n",
        "print(sum(range(5),-1))\n",
        "from numpy import *\n",
        "print(sum(range(5),-1))\n"
      ]
    },
    {
      "cell_type": "markdown",
      "metadata": {
        "id": "YF3JI4Og3Jeb"
      },
      "source": [
        "#### 27. Consider an integer vector Z, which of these expressions are legal? (★☆☆)"
      ]
    },
    {
      "cell_type": "markdown",
      "metadata": {
        "id": "J51Zbk413Jec"
      },
      "source": [
        "```python\n",
        "Z**Z\n",
        "2 << Z >> 2\n",
        "Z <- Z\n",
        "1j*Z\n",
        "Z/1/1\n",
        "Z<Z>Z\n",
        "```"
      ]
    },
    {
      "cell_type": "code",
      "source": [
        "#can't understand\n",
        "z=np.arange(4)\n",
        "print(z)\n",
        "print(z**z)\n",
        "print(2<<z>>2)\n",
        "print(z<-z)\n",
        "print(1j*z)\n",
        "print(z/1/1)\n",
        "print(z<z>z)"
      ],
      "metadata": {
        "colab": {
          "base_uri": "https://localhost:8080/",
          "height": 312
        },
        "id": "e5Yf2ACNnhK7",
        "outputId": "61e4c14b-b922-4d73-c86f-82068ed3c9de"
      },
      "execution_count": null,
      "outputs": [
        {
          "output_type": "stream",
          "name": "stdout",
          "text": [
            "[0 1 2 3]\n",
            "[ 1  1  4 27]\n",
            "[0 1 2 4]\n",
            "[False False False False]\n",
            "[0.+0.j 0.+1.j 0.+2.j 0.+3.j]\n",
            "[0. 1. 2. 3.]\n"
          ]
        },
        {
          "output_type": "error",
          "ename": "ValueError",
          "evalue": "ignored",
          "traceback": [
            "\u001b[0;31m---------------------------------------------------------------------------\u001b[0m",
            "\u001b[0;31mValueError\u001b[0m                                Traceback (most recent call last)",
            "\u001b[0;32m<ipython-input-34-4f291ea300c1>\u001b[0m in \u001b[0;36m<module>\u001b[0;34m()\u001b[0m\n\u001b[1;32m      6\u001b[0m \u001b[0mprint\u001b[0m\u001b[0;34m(\u001b[0m\u001b[0;36m1j\u001b[0m\u001b[0;34m*\u001b[0m\u001b[0mz\u001b[0m\u001b[0;34m)\u001b[0m\u001b[0;34m\u001b[0m\u001b[0;34m\u001b[0m\u001b[0m\n\u001b[1;32m      7\u001b[0m \u001b[0mprint\u001b[0m\u001b[0;34m(\u001b[0m\u001b[0mz\u001b[0m\u001b[0;34m/\u001b[0m\u001b[0;36m1\u001b[0m\u001b[0;34m/\u001b[0m\u001b[0;36m1\u001b[0m\u001b[0;34m)\u001b[0m\u001b[0;34m\u001b[0m\u001b[0;34m\u001b[0m\u001b[0m\n\u001b[0;32m----> 8\u001b[0;31m \u001b[0mprint\u001b[0m\u001b[0;34m(\u001b[0m\u001b[0mz\u001b[0m\u001b[0;34m<\u001b[0m\u001b[0mz\u001b[0m\u001b[0;34m>\u001b[0m\u001b[0mz\u001b[0m\u001b[0;34m)\u001b[0m\u001b[0;34m\u001b[0m\u001b[0;34m\u001b[0m\u001b[0m\n\u001b[0m",
            "\u001b[0;31mValueError\u001b[0m: The truth value of an array with more than one element is ambiguous. Use a.any() or a.all()"
          ]
        }
      ]
    },
    {
      "cell_type": "code",
      "execution_count": null,
      "metadata": {
        "id": "RdVR4r3u3Jed"
      },
      "outputs": [],
      "source": [
        ""
      ]
    },
    {
      "cell_type": "markdown",
      "metadata": {
        "id": "HKYQSM0m3Jee"
      },
      "source": [
        "#### 28. What are the result of the following expressions?"
      ]
    },
    {
      "cell_type": "markdown",
      "metadata": {
        "id": "6vdYELSz3Jef"
      },
      "source": [
        "```python\n",
        "np.array(0) / np.array(0)\n",
        "np.array(0) // np.array(0)\n",
        "np.array([np.nan]).astype(int).astype(float)\n",
        "```"
      ]
    },
    {
      "cell_type": "code",
      "execution_count": null,
      "metadata": {
        "id": "U7vrfrif3Jeg",
        "colab": {
          "base_uri": "https://localhost:8080/"
        },
        "outputId": "b4fc835e-2fe9-41cf-c03a-add496abab11"
      },
      "outputs": [
        {
          "output_type": "stream",
          "name": "stdout",
          "text": [
            "nan\n",
            "0\n",
            "[-9.22337204e+18]\n",
            "[nan]\n"
          ]
        },
        {
          "output_type": "stream",
          "name": "stderr",
          "text": [
            "/usr/local/lib/python3.7/dist-packages/ipykernel_launcher.py:1: RuntimeWarning: invalid value encountered in true_divide\n",
            "  \"\"\"Entry point for launching an IPython kernel.\n",
            "/usr/local/lib/python3.7/dist-packages/ipykernel_launcher.py:2: RuntimeWarning: divide by zero encountered in floor_divide\n",
            "  \n"
          ]
        }
      ],
      "source": [
        "#can't understand\n",
        "print(np.array(0)/np.array(0))\n",
        "print(np.array(0) // np.array(0))\n",
        "print(np.array([np.nan]).astype(int).astype(float))\n",
        "print(np.array([np.nan]))"
      ]
    },
    {
      "cell_type": "markdown",
      "metadata": {
        "id": "ziIbOGhy3Jeg"
      },
      "source": [
        "#### 29. How to round away from zero a float array ? (★☆☆) \n",
        "(**hint**: np.uniform, np.copysign, np.ceil, np.abs)"
      ]
    },
    {
      "cell_type": "code",
      "execution_count": null,
      "metadata": {
        "id": "e8a2RHrQ3Jeh",
        "colab": {
          "base_uri": "https://localhost:8080/"
        },
        "outputId": "52961fbe-d504-4d4b-e26a-2c83bcaa0996"
      },
      "outputs": [
        {
          "output_type": "stream",
          "name": "stdout",
          "text": [
            "[-1.  -0.5  0.   0.5  1. ]\n",
            "[-1. -0.  0.  1.  1.]\n",
            "[1.  0.5 0.  0.5 1. ]\n",
            "[1.  0.5 0.  0.5 1. ]\n",
            "[1. 1. 0. 1. 1.]\n"
          ]
        }
      ],
      "source": [
        "#print(np.info(np.uniform))\n",
        "#print(np.info(np.copysign))\n",
        "#print(np.arange(3)-2)\n",
        "#print(np.info(np.ceil))\n",
        "#print(np.info(np.abs))\n",
        "a=np.arange(-1,1.5,0.5)\n",
        "print(a)\n",
        "print(np.ceil(a))\n",
        "print(np.copysign(a,1))\n",
        "print(np.abs(a))\n",
        "print(np.ceil(np.abs(a)))\n",
        "\n"
      ]
    },
    {
      "cell_type": "code",
      "source": [
        "Z = np.random.uniform(-10,+10,10)\n",
        "print(Z)\n",
        "#print(abs(Z))\n",
        "print(np.copysign(np.ceil(np.abs(Z)), Z))\n"
      ],
      "metadata": {
        "colab": {
          "base_uri": "https://localhost:8080/"
        },
        "id": "m4cAGkz9Wx2Y",
        "outputId": "e9f46cfb-12a3-4284-c91d-2c9d92e9e2ca"
      },
      "execution_count": null,
      "outputs": [
        {
          "output_type": "stream",
          "name": "stdout",
          "text": [
            "[ 9.56520625  9.94131153 -3.4801551  -9.5957768   4.27397301 -8.94723823\n",
            " -0.26579076  8.86766773 -1.45063069 -3.5113084 ]\n",
            "[ 10.  10.  -4. -10.   5.  -9.  -1.   9.  -2.  -4.]\n"
          ]
        }
      ]
    },
    {
      "cell_type": "markdown",
      "metadata": {
        "id": "RvbhQ3y23Jeh"
      },
      "source": [
        "#### 30. How to find common values between two arrays? (★☆☆) \n",
        "(**hint**: np.intersect1d)"
      ]
    },
    {
      "cell_type": "code",
      "execution_count": null,
      "metadata": {
        "id": "hsZw_7RO3Jei",
        "colab": {
          "base_uri": "https://localhost:8080/"
        },
        "outputId": "e978201d-378a-4f86-9f59-cade31018278"
      },
      "outputs": [
        {
          "output_type": "execute_result",
          "data": {
            "text/plain": [
              "array([2, 3, 5, 6])"
            ]
          },
          "metadata": {},
          "execution_count": 58
        }
      ],
      "source": [
        "#print(np.info(np.intersect1d))\n",
        "a=np.array([1,5,2,3,6,4])\n",
        "b=np.array([2,3,6,5,9,8])\n",
        "c=np.intersect1d(a,b)\n",
        "#print(c)\n",
        "np.intersect1d(a,b)"
      ]
    },
    {
      "cell_type": "markdown",
      "metadata": {
        "id": "ENNH9h7w3Jej"
      },
      "source": [
        "#### 31. How to ignore all numpy warnings (not recommended)? (★☆☆) \n",
        "(**hint**: np.seterr, np.errstate)"
      ]
    },
    {
      "cell_type": "code",
      "execution_count": null,
      "metadata": {
        "id": "DnMCdMaP3Jel",
        "colab": {
          "base_uri": "https://localhost:8080/"
        },
        "outputId": "e52af4c2-1487-4207-c448-2cd9fc14a889"
      },
      "outputs": [
        {
          "output_type": "stream",
          "name": "stdout",
          "text": [
            " seterr(all=None, divide=None, over=None, under=None, invalid=None)\n",
            "\n",
            "Set how floating-point errors are handled.\n",
            "\n",
            "Note that operations on integer scalar types (such as `int16`) are\n",
            "handled like floating point, and are affected by these settings.\n",
            "\n",
            "Parameters\n",
            "----------\n",
            "all : {'ignore', 'warn', 'raise', 'call', 'print', 'log'}, optional\n",
            "    Set treatment for all types of floating-point errors at once:\n",
            "\n",
            "    - ignore: Take no action when the exception occurs.\n",
            "    - warn: Print a `RuntimeWarning` (via the Python `warnings` module).\n",
            "    - raise: Raise a `FloatingPointError`.\n",
            "    - call: Call a function specified using the `seterrcall` function.\n",
            "    - print: Print a warning directly to ``stdout``.\n",
            "    - log: Record error in a Log object specified by `seterrcall`.\n",
            "\n",
            "    The default is not to change the current behavior.\n",
            "divide : {'ignore', 'warn', 'raise', 'call', 'print', 'log'}, optional\n",
            "    Treatment for division by zero.\n",
            "over : {'ignore', 'warn', 'raise', 'call', 'print', 'log'}, optional\n",
            "    Treatment for floating-point overflow.\n",
            "under : {'ignore', 'warn', 'raise', 'call', 'print', 'log'}, optional\n",
            "    Treatment for floating-point underflow.\n",
            "invalid : {'ignore', 'warn', 'raise', 'call', 'print', 'log'}, optional\n",
            "    Treatment for invalid floating-point operation.\n",
            "\n",
            "Returns\n",
            "-------\n",
            "old_settings : dict\n",
            "    Dictionary containing the old settings.\n",
            "\n",
            "See also\n",
            "--------\n",
            "seterrcall : Set a callback function for the 'call' mode.\n",
            "geterr, geterrcall, errstate\n",
            "\n",
            "Notes\n",
            "-----\n",
            "The floating-point exceptions are defined in the IEEE 754 standard [1]_:\n",
            "\n",
            "- Division by zero: infinite result obtained from finite numbers.\n",
            "- Overflow: result too large to be expressed.\n",
            "- Underflow: result so close to zero that some precision\n",
            "  was lost.\n",
            "- Invalid operation: result is not an expressible number, typically\n",
            "  indicates that a NaN was produced.\n",
            "\n",
            ".. [1] https://en.wikipedia.org/wiki/IEEE_754\n",
            "\n",
            "Examples\n",
            "--------\n",
            ">>> old_settings = np.seterr(all='ignore')  #seterr to known value\n",
            ">>> np.seterr(over='raise')\n",
            "{'divide': 'ignore', 'over': 'ignore', 'under': 'ignore', 'invalid': 'ignore'}\n",
            ">>> np.seterr(**old_settings)  # reset to default\n",
            "{'divide': 'ignore', 'over': 'raise', 'under': 'ignore', 'invalid': 'ignore'}\n",
            "\n",
            ">>> np.int16(32000) * np.int16(3)\n",
            "30464\n",
            ">>> old_settings = np.seterr(all='warn', over='raise')\n",
            ">>> np.int16(32000) * np.int16(3)\n",
            "Traceback (most recent call last):\n",
            "  File \"<stdin>\", line 1, in <module>\n",
            "FloatingPointError: overflow encountered in short_scalars\n",
            "\n",
            ">>> old_settings = np.seterr(all='print')\n",
            ">>> np.geterr()\n",
            "{'divide': 'print', 'over': 'print', 'under': 'print', 'invalid': 'print'}\n",
            ">>> np.int16(32000) * np.int16(3)\n",
            "30464\n",
            "None\n"
          ]
        }
      ],
      "source": [
        "print(np.info(np.seterr))"
      ]
    },
    {
      "cell_type": "markdown",
      "metadata": {
        "id": "Yh2djTS53Jel"
      },
      "source": [
        "#### 32. Is the following expressions true? (★☆☆) \n",
        "(**hint**: imaginary number)"
      ]
    },
    {
      "cell_type": "markdown",
      "metadata": {
        "id": "36us5tGF3Jel"
      },
      "source": [
        "```python\n",
        "np.sqrt(-1) == np.emath.sqrt(-1)\n",
        "```"
      ]
    },
    {
      "cell_type": "code",
      "execution_count": null,
      "metadata": {
        "id": "eS_K4e_u3Jem",
        "colab": {
          "base_uri": "https://localhost:8080/"
        },
        "outputId": "b1c26a5b-fb07-45d2-fce7-b0f7756c242a"
      },
      "outputs": [
        {
          "output_type": "stream",
          "name": "stdout",
          "text": [
            "False\n"
          ]
        }
      ],
      "source": [
        "defaults = np.seterr(all=\"ignore\")\n",
        "a= (np.sqrt(-1) == np.emath.sqrt(-1))\n",
        "print(a)\n"
      ]
    },
    {
      "cell_type": "code",
      "source": [
        "defaults = np.seterr(**oldsettings)\n",
        "            "
      ],
      "metadata": {
        "colab": {
          "base_uri": "https://localhost:8080/",
          "height": 188
        },
        "id": "7-CrKuvwDUoI",
        "outputId": "26f7c493-eb84-4e25-bbb4-eb2f8adee48e"
      },
      "execution_count": null,
      "outputs": [
        {
          "output_type": "error",
          "ename": "NameError",
          "evalue": "ignored",
          "traceback": [
            "\u001b[0;31m---------------------------------------------------------------------------\u001b[0m",
            "\u001b[0;31mNameError\u001b[0m                                 Traceback (most recent call last)",
            "\u001b[0;32m<ipython-input-23-eaa8e562ca7d>\u001b[0m in \u001b[0;36m<module>\u001b[0;34m()\u001b[0m\n\u001b[0;32m----> 1\u001b[0;31m \u001b[0mdefaults\u001b[0m \u001b[0;34m=\u001b[0m \u001b[0mnp\u001b[0m\u001b[0;34m.\u001b[0m\u001b[0mseterr\u001b[0m\u001b[0;34m(\u001b[0m\u001b[0;34m**\u001b[0m\u001b[0moldsettings\u001b[0m\u001b[0;34m)\u001b[0m\u001b[0;34m\u001b[0m\u001b[0;34m\u001b[0m\u001b[0m\n\u001b[0m\u001b[1;32m      2\u001b[0m \u001b[0;34m\u001b[0m\u001b[0m\n",
            "\u001b[0;31mNameError\u001b[0m: name 'oldsettings' is not defined"
          ]
        }
      ]
    },
    {
      "cell_type": "code",
      "source": [
        "oldsettings = np.seterr(all='warn')"
      ],
      "metadata": {
        "id": "yq8fDoaiGdok"
      },
      "execution_count": null,
      "outputs": []
    },
    {
      "cell_type": "code",
      "source": [
        "a= (np.sqrt(-1) == np.emath.sqrt(-1))\n",
        "print(a)"
      ],
      "metadata": {
        "colab": {
          "base_uri": "https://localhost:8080/"
        },
        "id": "Flag0CF4FDwe",
        "outputId": "789874e5-b531-4f66-fce0-9f85c896870f"
      },
      "execution_count": null,
      "outputs": [
        {
          "output_type": "stream",
          "name": "stdout",
          "text": [
            "False\n"
          ]
        },
        {
          "output_type": "stream",
          "name": "stderr",
          "text": [
            "/usr/local/lib/python3.7/dist-packages/ipykernel_launcher.py:1: RuntimeWarning: invalid value encountered in sqrt\n",
            "  \"\"\"Entry point for launching an IPython kernel.\n"
          ]
        }
      ]
    },
    {
      "cell_type": "markdown",
      "metadata": {
        "id": "FGThC7dE3Jen"
      },
      "source": [
        "#### 33. How to get the dates of yesterday, today and tomorrow? (★☆☆) \n",
        "(**hint**: np.datetime64, np.timedelta64)"
      ]
    },
    {
      "cell_type": "code",
      "execution_count": null,
      "metadata": {
        "collapsed": true,
        "id": "rH45O2fT3Jeo",
        "colab": {
          "base_uri": "https://localhost:8080/"
        },
        "outputId": "308b9375-aa8d-43ae-998a-54fa75293389"
      },
      "outputs": [
        {
          "output_type": "stream",
          "name": "stdout",
          "text": [
            " timedelta64()\n",
            "\n",
            "A timedelta stored as a 64-bit integer.\n",
            "\n",
            "See :ref:`arrays.datetime` for more information.\n",
            "\n",
            ":Character code: ``'m'``\n",
            "\n",
            "\n",
            "Methods:\n",
            "\n",
            "  all  --  Scalar method identical to the corresponding array attribute.\n",
            "  any  --  Scalar method identical to the corresponding array attribute.\n",
            "  argmax  --  Scalar method identical to the corresponding array attribute.\n",
            "  argmin  --  Scalar method identical to the corresponding array attribute.\n",
            "  argsort  --  Scalar method identical to the corresponding array attribute.\n",
            "  astype  --  Scalar method identical to the corresponding array attribute.\n",
            "  byteswap  --  Scalar method identical to the corresponding array attribute.\n",
            "  choose  --  Scalar method identical to the corresponding array attribute.\n",
            "  clip  --  Scalar method identical to the corresponding array attribute.\n",
            "  compress  --  Scalar method identical to the corresponding array attribute.\n",
            "  conj  --  None\n",
            "  conjugate  --  Scalar method identical to the corresponding array attribute.\n",
            "  copy  --  Scalar method identical to the corresponding array attribute.\n",
            "  cumprod  --  Scalar method identical to the corresponding array attribute.\n",
            "  cumsum  --  Scalar method identical to the corresponding array attribute.\n",
            "  diagonal  --  Scalar method identical to the corresponding array attribute.\n",
            "  dump  --  Scalar method identical to the corresponding array attribute.\n",
            "  dumps  --  Scalar method identical to the corresponding array attribute.\n",
            "  fill  --  Scalar method identical to the corresponding array attribute.\n",
            "  flatten  --  Scalar method identical to the corresponding array attribute.\n",
            "  getfield  --  Scalar method identical to the corresponding array attribute.\n",
            "  item  --  Scalar method identical to the corresponding array attribute.\n",
            "  itemset  --  Scalar method identical to the corresponding array attribute.\n",
            "  max  --  Scalar method identical to the corresponding array attribute.\n",
            "  mean  --  Scalar method identical to the corresponding array attribute.\n",
            "  min  --  Scalar method identical to the corresponding array attribute.\n",
            "  newbyteorder  --  newbyteorder(new_order='S', /)\n",
            "  nonzero  --  Scalar method identical to the corresponding array attribute.\n",
            "  prod  --  Scalar method identical to the corresponding array attribute.\n",
            "  ptp  --  Scalar method identical to the corresponding array attribute.\n",
            "  put  --  Scalar method identical to the corresponding array attribute.\n",
            "  ravel  --  Scalar method identical to the corresponding array attribute.\n",
            "  repeat  --  Scalar method identical to the corresponding array attribute.\n",
            "  reshape  --  Scalar method identical to the corresponding array attribute.\n",
            "  resize  --  Scalar method identical to the corresponding array attribute.\n",
            "  round  --  Scalar method identical to the corresponding array attribute.\n",
            "  searchsorted  --  Scalar method identical to the corresponding array attribute.\n",
            "  setfield  --  Scalar method identical to the corresponding array attribute.\n",
            "  setflags  --  Scalar method identical to the corresponding array attribute.\n",
            "  sort  --  Scalar method identical to the corresponding array attribute.\n",
            "  squeeze  --  Scalar method identical to the corresponding array attribute.\n",
            "  std  --  Scalar method identical to the corresponding array attribute.\n",
            "  sum  --  Scalar method identical to the corresponding array attribute.\n",
            "  swapaxes  --  Scalar method identical to the corresponding array attribute.\n",
            "  take  --  Scalar method identical to the corresponding array attribute.\n",
            "  tobytes  --  None\n",
            "  tofile  --  Scalar method identical to the corresponding array attribute.\n",
            "  tolist  --  Scalar method identical to the corresponding array attribute.\n",
            "  tostring  --  Scalar method identical to the corresponding array attribute.\n",
            "  trace  --  Scalar method identical to the corresponding array attribute.\n",
            "  transpose  --  Scalar method identical to the corresponding array attribute.\n",
            "  var  --  Scalar method identical to the corresponding array attribute.\n",
            "  view  --  Scalar method identical to the corresponding array attribute.\n",
            "None\n",
            "today 2022-08-09\n",
            "yesterday 2022-08-08\n",
            "tomorrow 2022-08-10\n"
          ]
        }
      ],
      "source": [
        "#print(np.info(np.datetime64))\n",
        "print(np.info(np.timedelta64))\n",
        "a=np.datetime64(\"today\")\n",
        "b=np.datetime64(\"today\")-np.timedelta64(1)\n",
        "c=np.datetime64(\"today\")+np.timedelta64(1)\n",
        "print(\"today\",a)\n",
        "print(\"yesterday\",b)\n",
        "print(\"tomorrow\",c)"
      ]
    },
    {
      "cell_type": "markdown",
      "metadata": {
        "id": "cwbm6a_v3Jeo"
      },
      "source": [
        "#### 34. How to get all the dates corresponding to the month of July 2016? (★★☆) \n",
        "(**hint**: np.arange(dtype=datetime64\\['D'\\]))"
      ]
    },
    {
      "cell_type": "code",
      "execution_count": null,
      "metadata": {
        "id": "BvaYY3b03Jep",
        "colab": {
          "base_uri": "https://localhost:8080/",
          "height": 385
        },
        "outputId": "5aa95cf2-760f-46fd-8cfe-4a904026c270"
      },
      "outputs": [
        {
          "output_type": "stream",
          "name": "stdout",
          "text": [
            "['2016-07-01' '2016-07-02' '2016-07-03' '2016-07-04' '2016-07-05'\n",
            " '2016-07-06' '2016-07-07' '2016-07-08' '2016-07-09' '2016-07-10'\n",
            " '2016-07-11' '2016-07-12' '2016-07-13' '2016-07-14' '2016-07-15'\n",
            " '2016-07-16' '2016-07-17' '2016-07-18' '2016-07-19' '2016-07-20'\n",
            " '2016-07-21' '2016-07-22' '2016-07-23' '2016-07-24' '2016-07-25'\n",
            " '2016-07-26' '2016-07-27' '2016-07-28' '2016-07-29' '2016-07-30'\n",
            " '2016-07-31']\n",
            "['2016-07' '2016-08' '2016-09' '2016-10' '2016-11' '2016-12' '2017-01'\n",
            " '2017-02' '2017-03' '2017-04' '2017-05' '2017-06' '2017-07']\n"
          ]
        },
        {
          "output_type": "error",
          "ename": "NameError",
          "evalue": "ignored",
          "traceback": [
            "\u001b[0;31m---------------------------------------------------------------------------\u001b[0m",
            "\u001b[0;31mNameError\u001b[0m                                 Traceback (most recent call last)",
            "\u001b[0;32m<ipython-input-40-21fa50b2dab1>\u001b[0m in \u001b[0;36m<module>\u001b[0;34m()\u001b[0m\n\u001b[1;32m      5\u001b[0m \u001b[0mprint\u001b[0m\u001b[0;34m(\u001b[0m\u001b[0mjuly_16_17\u001b[0m\u001b[0;34m)\u001b[0m\u001b[0;34m\u001b[0m\u001b[0;34m\u001b[0m\u001b[0m\n\u001b[1;32m      6\u001b[0m \u001b[0;34m\u001b[0m\u001b[0m\n\u001b[0;32m----> 7\u001b[0;31m \u001b[0ma\u001b[0m\u001b[0;34m=\u001b[0m\u001b[0mnp\u001b[0m\u001b[0;34m.\u001b[0m\u001b[0marange\u001b[0m\u001b[0;34m(\u001b[0m\u001b[0mdtype\u001b[0m\u001b[0;34m=\u001b[0m\u001b[0mdatetime64\u001b[0m\u001b[0;34m[\u001b[0m\u001b[0;34m\"2016-07\"\u001b[0m\u001b[0;34m,\u001b[0m\u001b[0;34m\"2016-08\"\u001b[0m\u001b[0;34m]\u001b[0m\u001b[0;34m)\u001b[0m \u001b[0;31m#range of dates should be given before specifying the dtype in M/D/Y\u001b[0m\u001b[0;34m\u001b[0m\u001b[0;34m\u001b[0m\u001b[0m\n\u001b[0m\u001b[1;32m      8\u001b[0m \u001b[0mprint\u001b[0m\u001b[0;34m(\u001b[0m\u001b[0ma\u001b[0m\u001b[0;34m)\u001b[0m\u001b[0;34m\u001b[0m\u001b[0;34m\u001b[0m\u001b[0m\n",
            "\u001b[0;31mNameError\u001b[0m: name 'datetime64' is not defined"
          ]
        }
      ],
      "source": [
        "july_16=np.arange(\"2016-07\",\"2016-08\",dtype='datetime64[D]')\n",
        "print(july_16)\n",
        "\n",
        "july_16_17=np.arange(\"2016-07\",\"2017-08\",dtype='datetime64[M]')\n",
        "print(july_16_17)\n",
        "\n",
        "a=np.arange(dtype=datetime64[\"2016-07\",\"2016-08\"]) #range of dates should be given before specifying the dtype in M/D/Y\n",
        "print(a)"
      ]
    },
    {
      "cell_type": "markdown",
      "metadata": {
        "id": "SY0h9xtO3Jer"
      },
      "source": [
        "#### 35. How to compute ((A+B)\\*(-A/2)) in place (without copy)? (★★☆) \n",
        "(**hint**: np.add(out=), np.negative(out=), np.multiply(out=), np.divide(out=))"
      ]
    },
    {
      "cell_type": "code",
      "execution_count": null,
      "metadata": {
        "id": "qXtdcrUW3Jeu",
        "colab": {
          "base_uri": "https://localhost:8080/"
        },
        "outputId": "f5ced535-3e21-455d-f345-7c0ce278813c"
      },
      "outputs": [
        {
          "output_type": "stream",
          "name": "stdout",
          "text": [
            "[1 1 1] [1 2 3]\n"
          ]
        },
        {
          "output_type": "execute_result",
          "data": {
            "text/plain": [
              "array([-1. , -1.5, -2. ])"
            ]
          },
          "metadata": {},
          "execution_count": 55
        }
      ],
      "source": [
        "a=np.array([1,1,1])\n",
        "b=np.array([1,2,3])\n",
        "print(a,b)\n",
        "b=np.add(a,b)\n",
        "a=np.divide(np.negative(a),2)\n",
        " \n",
        "\n",
        "#print(a)\n",
        "#print(b)\n",
        "#print(np.multiply(b,a))\n",
        "np.multiply(b,a)"
      ]
    },
    {
      "cell_type": "code",
      "source": [
        "A = np.ones(3)*1\n",
        "B = np.ones(3)*2\n",
        "\n",
        "np.add(A,B,out=B)\n",
        "np.divide(A,2,out=A)\n",
        "np.negative(A,out=A)\n",
        "np.multiply(A,B,out=A)\n"
      ],
      "metadata": {
        "colab": {
          "base_uri": "https://localhost:8080/"
        },
        "id": "7iCI1nJ-O6M9",
        "outputId": "44c429d3-b834-4a87-e0f1-9faf4e0be2a0"
      },
      "execution_count": null,
      "outputs": [
        {
          "output_type": "stream",
          "name": "stdout",
          "text": [
            "[1. 1. 1.]\n",
            "[2. 2. 2.]\n"
          ]
        },
        {
          "output_type": "execute_result",
          "data": {
            "text/plain": [
              "array([-1.5, -1.5, -1.5])"
            ]
          },
          "metadata": {},
          "execution_count": 54
        }
      ]
    },
    {
      "cell_type": "markdown",
      "metadata": {
        "id": "L33NB7GK3Jev"
      },
      "source": [
        "#### 36. Extract the integer part of a random array using 5 different methods (★★☆) \n",
        "(**hint**: %, np.floor, np.ceil, astype, np.trunc)"
      ]
    },
    {
      "cell_type": "code",
      "execution_count": null,
      "metadata": {
        "id": "_exvOYIR3Jew",
        "colab": {
          "base_uri": "https://localhost:8080/"
        },
        "outputId": "607d5620-0b20-4546-c966-876b03e68a00"
      },
      "outputs": [
        {
          "output_type": "stream",
          "name": "stdout",
          "text": [
            "[-2.  -1.5 -1.  -0.5  0.   0.5  1.   1.5  2.   2.5]\n",
            "[-2. -2. -1. -1.  0.  0.  1.  1.  2.  2.]\n",
            "[-2. -1. -1. -0.  0.  1.  1.  2.  2.  3.]\n",
            "[-2. -1. -1. -0.  0.  0.  1.  1.  2.  2.]\n",
            "[-2 -1 -1  0  0  0  1  1  2  2]\n",
            "[-2. -2. -2. -2.  0.  0.  0.  0.  2.  2.]\n"
          ]
        }
      ],
      "source": [
        "#np.info(np.floor)\n",
        "a=np.arange(-2,3,0.5)\n",
        "print(a)\n",
        "print(np.floor(a))\n",
        "print(np.ceil(a))\n",
        "print(np.trunc(a))\n",
        "print(a.astype(int))\n",
        "print(a-a%2)"
      ]
    },
    {
      "cell_type": "code",
      "source": [
        "Z = np.random.uniform(0,10,10)\n",
        "print(Z)\n",
        "print(Z - Z%1)\n",
        "print(Z // 1)\n",
        "print(np.floor(Z))\n",
        "print(Z.astype(int))\n",
        "print(np.trunc(Z))"
      ],
      "metadata": {
        "colab": {
          "base_uri": "https://localhost:8080/"
        },
        "id": "yEzmjKY6WXKR",
        "outputId": "425762ce-0d0b-426e-e647-3577523e3b50"
      },
      "execution_count": null,
      "outputs": [
        {
          "output_type": "stream",
          "name": "stdout",
          "text": [
            "[3.25762093 9.37806197 7.87211092 8.52224151 3.31582024 3.33951522\n",
            " 7.03348042 6.03053266 3.35375178 9.92024735]\n",
            "[3. 9. 7. 8. 3. 3. 7. 6. 3. 9.]\n",
            "[3. 9. 7. 8. 3. 3. 7. 6. 3. 9.]\n",
            "[3. 9. 7. 8. 3. 3. 7. 6. 3. 9.]\n",
            "[3 9 7 8 3 3 7 6 3 9]\n",
            "[3. 9. 7. 8. 3. 3. 7. 6. 3. 9.]\n"
          ]
        }
      ]
    },
    {
      "cell_type": "markdown",
      "metadata": {
        "id": "AVwodk9A3Jew"
      },
      "source": [
        "#### 37. Create a 5x5 matrix with row values ranging from 0 to 4 (★★☆) \n",
        "(**hint**: np.arange)"
      ]
    },
    {
      "cell_type": "code",
      "execution_count": null,
      "metadata": {
        "id": "NHD172uC3Jex",
        "colab": {
          "base_uri": "https://localhost:8080/"
        },
        "outputId": "7f6d2562-d11c-4963-c83c-fb5bd2358223"
      },
      "outputs": [
        {
          "output_type": "stream",
          "name": "stdout",
          "text": [
            "[[4 2 1 1 4]\n",
            " [3 0 2 0 0]\n",
            " [4 2 3 1 1]\n",
            " [2 4 4 4 2]\n",
            " [4 3 3 0 0]]\n",
            "uniform(low=0.0, high=1.0, size=None)\n",
            "\n",
            "Draw samples from a uniform distribution.\n",
            "\n",
            "Samples are uniformly distributed over the half-open interval\n",
            "``[low, high)`` (includes low, but excludes high).  In other words,\n",
            "any value within the given interval is equally likely to be drawn\n",
            "by `uniform`.\n",
            "\n",
            ".. note::\n",
            "    New code should use the ``uniform`` method of a ``default_rng()``\n",
            "    instance instead; please see the :ref:`random-quick-start`.\n",
            "\n",
            "Parameters\n",
            "----------\n",
            "low : float or array_like of floats, optional\n",
            "    Lower boundary of the output interval.  All values generated will be\n",
            "    greater than or equal to low.  The default value is 0.\n",
            "high : float or array_like of floats\n",
            "    Upper boundary of the output interval.  All values generated will be\n",
            "    less than or equal to high.  The default value is 1.0.\n",
            "size : int or tuple of ints, optional\n",
            "    Output shape.  If the given shape is, e.g., ``(m, n, k)``, then\n",
            "    ``m * n * k`` samples are drawn.  If size is ``None`` (default),\n",
            "    a single value is returned if ``low`` and ``high`` are both scalars.\n",
            "    Otherwise, ``np.broadcast(low, high).size`` samples are drawn.\n",
            "\n",
            "Returns\n",
            "-------\n",
            "out : ndarray or scalar\n",
            "    Drawn samples from the parameterized uniform distribution.\n",
            "\n",
            "See Also\n",
            "--------\n",
            "randint : Discrete uniform distribution, yielding integers.\n",
            "random_integers : Discrete uniform distribution over the closed\n",
            "                  interval ``[low, high]``.\n",
            "random_sample : Floats uniformly distributed over ``[0, 1)``.\n",
            "random : Alias for `random_sample`.\n",
            "rand : Convenience function that accepts dimensions as input, e.g.,\n",
            "       ``rand(2,2)`` would generate a 2-by-2 array of floats,\n",
            "       uniformly distributed over ``[0, 1)``.\n",
            "Generator.uniform: which should be used for new code.\n",
            "\n",
            "Notes\n",
            "-----\n",
            "The probability density function of the uniform distribution is\n",
            "\n",
            ".. math:: p(x) = \\frac{1}{b - a}\n",
            "\n",
            "anywhere within the interval ``[a, b)``, and zero elsewhere.\n",
            "\n",
            "When ``high`` == ``low``, values of ``low`` will be returned.\n",
            "If ``high`` < ``low``, the results are officially undefined\n",
            "and may eventually raise an error, i.e. do not rely on this\n",
            "function to behave when passed arguments satisfying that\n",
            "inequality condition. The ``high`` limit may be included in the\n",
            "returned array of floats due to floating-point rounding in the\n",
            "equation ``low + (high-low) * random_sample()``. For example:\n",
            "\n",
            ">>> x = np.float32(5*0.99999999)\n",
            ">>> x\n",
            "5.0\n",
            "\n",
            "\n",
            "Examples\n",
            "--------\n",
            "Draw samples from the distribution:\n",
            "\n",
            ">>> s = np.random.uniform(-1,0,1000)\n",
            "\n",
            "All values are within the given interval:\n",
            "\n",
            ">>> np.all(s >= -1)\n",
            "True\n",
            ">>> np.all(s < 0)\n",
            "True\n",
            "\n",
            "Display the histogram of the samples, along with the\n",
            "probability density function:\n",
            "\n",
            ">>> import matplotlib.pyplot as plt\n",
            ">>> count, bins, ignored = plt.hist(s, 15, density=True)\n",
            ">>> plt.plot(bins, np.ones_like(bins), linewidth=2, color='r')\n",
            ">>> plt.show()\n",
            "None\n"
          ]
        }
      ],
      "source": [
        "a=np.random.uniform(0,5,25).reshape(5,5)\n",
        "print(a.astype(int))\n",
        "print(np.info(np.random.uniform))"
      ]
    },
    {
      "cell_type": "code",
      "source": [
        "Z = np.zeros((5,5))\n",
        "Z += np.arange(5)\n",
        "print(Z)"
      ],
      "metadata": {
        "colab": {
          "base_uri": "https://localhost:8080/"
        },
        "id": "Ypf6BXgV0KYr",
        "outputId": "e7241be8-fd9a-4962-98d2-78a87cf54b2a"
      },
      "execution_count": null,
      "outputs": [
        {
          "output_type": "stream",
          "name": "stdout",
          "text": [
            "[[0. 1. 2. 3. 4.]\n",
            " [0. 1. 2. 3. 4.]\n",
            " [0. 1. 2. 3. 4.]\n",
            " [0. 1. 2. 3. 4.]\n",
            " [0. 1. 2. 3. 4.]]\n"
          ]
        }
      ]
    },
    {
      "cell_type": "code",
      "source": [
        "a=np.random.randint(0,5,25).reshape(5,5)\n",
        "print(a)"
      ],
      "metadata": {
        "colab": {
          "base_uri": "https://localhost:8080/"
        },
        "id": "3W1LQbX3aHtp",
        "outputId": "ffeadfac-fbb4-409e-e270-059e69c6351e"
      },
      "execution_count": null,
      "outputs": [
        {
          "output_type": "stream",
          "name": "stdout",
          "text": [
            "[[2 0 4 0 0]\n",
            " [0 0 2 1 2]\n",
            " [0 3 2 1 4]\n",
            " [2 4 3 1 3]\n",
            " [4 4 4 2 2]]\n"
          ]
        }
      ]
    },
    {
      "cell_type": "code",
      "source": [
        "Z = np.zeros((5,5))\n",
        "Z += np.arange(5)\n",
        "print(Z)"
      ],
      "metadata": {
        "colab": {
          "base_uri": "https://localhost:8080/"
        },
        "id": "uPUTh2TUYmGB",
        "outputId": "b6b99275-d485-4a35-d48c-e99c47a9c908"
      },
      "execution_count": null,
      "outputs": [
        {
          "output_type": "stream",
          "name": "stdout",
          "text": [
            "[[0. 1. 2. 3. 4.]\n",
            " [0. 1. 2. 3. 4.]\n",
            " [0. 1. 2. 3. 4.]\n",
            " [0. 1. 2. 3. 4.]\n",
            " [0. 1. 2. 3. 4.]]\n"
          ]
        }
      ]
    },
    {
      "cell_type": "markdown",
      "metadata": {
        "id": "XH_fcu5k3Jey"
      },
      "source": [
        "#### 38. Consider a generator function that generates 10 integers and use it to build an array (★☆☆) \n",
        "(**hint**: np.fromiter)"
      ]
    },
    {
      "cell_type": "code",
      "execution_count": null,
      "metadata": {
        "id": "Z_SoNaJl3Jez",
        "colab": {
          "base_uri": "https://localhost:8080/"
        },
        "outputId": "95fab5e4-874b-4d4a-f38b-0d3146cd2e80"
      },
      "outputs": [
        {
          "output_type": "execute_result",
          "data": {
            "text/plain": [
              "array([ 0.,  1.,  4.,  9., 16.])"
            ]
          },
          "metadata": {},
          "execution_count": 92
        }
      ],
      "source": [
        "#print(np.info(np.fromiter)) \n",
        "#this is a pre-existing sample\n",
        "iterable = (x*x for x in range(5))\n",
        "np.fromiter(iterable, float)\n"
      ]
    },
    {
      "cell_type": "code",
      "source": [
        "iterable=(x**2 for x in range(1,11))\n",
        "ans=np.fromiter(iterable,int).reshape(2,5)\n",
        "print(ans)"
      ],
      "metadata": {
        "colab": {
          "base_uri": "https://localhost:8080/"
        },
        "id": "mQleulyoa2-K",
        "outputId": "ebf36f00-0c50-46e7-997d-3e00dafbce63"
      },
      "execution_count": null,
      "outputs": [
        {
          "output_type": "stream",
          "name": "stdout",
          "text": [
            "[[  1   4   9  16  25]\n",
            " [ 36  49  64  81 100]]\n"
          ]
        }
      ]
    },
    {
      "cell_type": "markdown",
      "metadata": {
        "id": "arHNLWEn3Je0"
      },
      "source": [
        "#### 39. Create a vector of size 10 with values ranging from 0 to 1, both excluded (★★☆) \n",
        "(**hint**: np.linspace)"
      ]
    },
    {
      "cell_type": "code",
      "execution_count": null,
      "metadata": {
        "id": "BXV8qQqz3Je0",
        "colab": {
          "base_uri": "https://localhost:8080/"
        },
        "outputId": "ed26eaf7-78f1-41b3-d865-0b3c803d56b4"
      },
      "outputs": [
        {
          "output_type": "stream",
          "name": "stdout",
          "text": [
            "[0.09090909 0.18181818 0.27272727 0.36363636 0.45454545 0.54545455\n",
            " 0.63636364 0.72727273 0.81818182 0.90909091]\n"
          ]
        }
      ],
      "source": [
        "#print(np.info(np.linspace))\n",
        "a=np.linspace(0,1,11,endpoint=False)[1:]#[1:] excludes 0 in 0th index \n",
        "print(a)"
      ]
    },
    {
      "cell_type": "markdown",
      "metadata": {
        "id": "sfwjEEUI3Je2"
      },
      "source": [
        "#### 40. Create a random vector of size 10 and sort it (★★☆) \n",
        "(**hint**: sort)"
      ]
    },
    {
      "cell_type": "code",
      "execution_count": null,
      "metadata": {
        "id": "cnSUM8iy3Je2",
        "colab": {
          "base_uri": "https://localhost:8080/"
        },
        "outputId": "4c9e533c-5a41-4bf9-8f43-d835bd0cedce"
      },
      "outputs": [
        {
          "output_type": "stream",
          "name": "stdout",
          "text": [
            "[6 6 6 3 2 4 2 7 7 1]\n",
            "[1 2 2 3 4 6 6 6 7 7]\n"
          ]
        }
      ],
      "source": [
        "a=np.random.randint(1,11,10)\n",
        "print(a)\n",
        "a.sort()\n",
        "print(a)"
      ]
    },
    {
      "cell_type": "code",
      "source": [
        "Z = np.random.random(10)\n",
        "print(Z)\n",
        "Z.sort()\n",
        "print(Z)"
      ],
      "metadata": {
        "colab": {
          "base_uri": "https://localhost:8080/"
        },
        "id": "CNYRrZ_Hd9hl",
        "outputId": "f68a5e56-666b-4422-e0e6-3f0f944aab7f"
      },
      "execution_count": null,
      "outputs": [
        {
          "output_type": "stream",
          "name": "stdout",
          "text": [
            "[0.41506958 0.26203885 0.13706711 0.74957236 0.31603289 0.93925955\n",
            " 0.25633301 0.75507259 0.26012284 0.44557953]\n",
            "[0.13706711 0.25633301 0.26012284 0.26203885 0.31603289 0.41506958\n",
            " 0.44557953 0.74957236 0.75507259 0.93925955]\n"
          ]
        }
      ]
    },
    {
      "cell_type": "markdown",
      "metadata": {
        "id": "QbFiIEbk3Je3"
      },
      "source": [
        "#### 41. How to sum a small array faster than np.sum? (★★☆) \n",
        "(**hint**: np.add.reduce)"
      ]
    },
    {
      "cell_type": "code",
      "execution_count": null,
      "metadata": {
        "id": "zWoTW8cw3Je3",
        "colab": {
          "base_uri": "https://localhost:8080/"
        },
        "outputId": "6fdf41f2-0af6-42a7-d7e5-90969652fdf4"
      },
      "outputs": [
        {
          "output_type": "stream",
          "name": "stdout",
          "text": [
            "reduce(array, axis=0, dtype=None, out=None, keepdims=False, initial=<no value>, where=True)\n",
            "\n",
            "Reduces `array`'s dimension by one, by applying ufunc along one axis.\n",
            "\n",
            "Let :math:`array.shape = (N_0, ..., N_i, ..., N_{M-1})`.  Then\n",
            ":math:`ufunc.reduce(array, axis=i)[k_0, ..,k_{i-1}, k_{i+1}, .., k_{M-1}]` =\n",
            "the result of iterating `j` over :math:`range(N_i)`, cumulatively applying\n",
            "ufunc to each :math:`array[k_0, ..,k_{i-1}, j, k_{i+1}, .., k_{M-1}]`.\n",
            "For a one-dimensional array, reduce produces results equivalent to:\n",
            "::\n",
            "\n",
            " r = op.identity # op = ufunc\n",
            " for i in range(len(A)):\n",
            "   r = op(r, A[i])\n",
            " return r\n",
            "\n",
            "For example, add.reduce() is equivalent to sum().\n",
            "\n",
            "Parameters\n",
            "----------\n",
            "array : array_like\n",
            "    The array to act on.\n",
            "axis : None or int or tuple of ints, optional\n",
            "    Axis or axes along which a reduction is performed.\n",
            "    The default (`axis` = 0) is perform a reduction over the first\n",
            "    dimension of the input array. `axis` may be negative, in\n",
            "    which case it counts from the last to the first axis.\n",
            "\n",
            "    .. versionadded:: 1.7.0\n",
            "\n",
            "    If this is None, a reduction is performed over all the axes.\n",
            "    If this is a tuple of ints, a reduction is performed on multiple\n",
            "    axes, instead of a single axis or all the axes as before.\n",
            "\n",
            "    For operations which are either not commutative or not associative,\n",
            "    doing a reduction over multiple axes is not well-defined. The\n",
            "    ufuncs do not currently raise an exception in this case, but will\n",
            "    likely do so in the future.\n",
            "dtype : data-type code, optional\n",
            "    The type used to represent the intermediate results. Defaults\n",
            "    to the data-type of the output array if this is provided, or\n",
            "    the data-type of the input array if no output array is provided.\n",
            "out : ndarray, None, or tuple of ndarray and None, optional\n",
            "    A location into which the result is stored. If not provided or None,\n",
            "    a freshly-allocated array is returned. For consistency with\n",
            "    ``ufunc.__call__``, if given as a keyword, this may be wrapped in a\n",
            "    1-element tuple.\n",
            "\n",
            "    .. versionchanged:: 1.13.0\n",
            "       Tuples are allowed for keyword argument.\n",
            "keepdims : bool, optional\n",
            "    If this is set to True, the axes which are reduced are left\n",
            "    in the result as dimensions with size one. With this option,\n",
            "    the result will broadcast correctly against the original `array`.\n",
            "\n",
            "    .. versionadded:: 1.7.0\n",
            "initial : scalar, optional\n",
            "    The value with which to start the reduction.\n",
            "    If the ufunc has no identity or the dtype is object, this defaults\n",
            "    to None - otherwise it defaults to ufunc.identity.\n",
            "    If ``None`` is given, the first element of the reduction is used,\n",
            "    and an error is thrown if the reduction is empty.\n",
            "\n",
            "    .. versionadded:: 1.15.0\n",
            "\n",
            "where : array_like of bool, optional\n",
            "    A boolean array which is broadcasted to match the dimensions\n",
            "    of `array`, and selects elements to include in the reduction. Note\n",
            "    that for ufuncs like ``minimum`` that do not have an identity\n",
            "    defined, one has to pass in also ``initial``.\n",
            "\n",
            "    .. versionadded:: 1.17.0\n",
            "\n",
            "Returns\n",
            "-------\n",
            "r : ndarray\n",
            "    The reduced array. If `out` was supplied, `r` is a reference to it.\n",
            "\n",
            "Examples\n",
            "--------\n",
            ">>> np.multiply.reduce([2,3,5])\n",
            "30\n",
            "\n",
            "A multi-dimensional array example:\n",
            "\n",
            ">>> X = np.arange(8).reshape((2,2,2))\n",
            ">>> X\n",
            "array([[[0, 1],\n",
            "        [2, 3]],\n",
            "       [[4, 5],\n",
            "        [6, 7]]])\n",
            ">>> np.add.reduce(X, 0)\n",
            "array([[ 4,  6],\n",
            "       [ 8, 10]])\n",
            ">>> np.add.reduce(X) # confirm: default axis value is 0\n",
            "array([[ 4,  6],\n",
            "       [ 8, 10]])\n",
            ">>> np.add.reduce(X, 1)\n",
            "array([[ 2,  4],\n",
            "       [10, 12]])\n",
            ">>> np.add.reduce(X, 2)\n",
            "array([[ 1,  5],\n",
            "       [ 9, 13]])\n",
            "\n",
            "You can use the ``initial`` keyword argument to initialize the reduction\n",
            "with a different value, and ``where`` to select specific elements to include:\n",
            "\n",
            ">>> np.add.reduce([10], initial=5)\n",
            "15\n",
            ">>> np.add.reduce(np.ones((2, 2, 2)), axis=(0, 2), initial=10)\n",
            "array([14., 14.])\n",
            ">>> a = np.array([10., np.nan, 10])\n",
            ">>> np.add.reduce(a, where=~np.isnan(a))\n",
            "20.0\n",
            "\n",
            "Allows reductions of empty arrays where they would normally fail, i.e.\n",
            "for ufuncs without an identity.\n",
            "\n",
            ">>> np.minimum.reduce([], initial=np.inf)\n",
            "inf\n",
            ">>> np.minimum.reduce([[1., 2.], [3., 4.]], initial=10., where=[True, False])\n",
            "array([ 1., 10.])\n",
            ">>> np.minimum.reduce([])\n",
            "Traceback (most recent call last):\n",
            "    ...\n",
            "ValueError: zero-size array to reduction operation minimum which has no identity\n",
            "20\n"
          ]
        }
      ],
      "source": [
        "np.info(np.add.reduce)\n",
        "a=np.array([5,5,5,5])\n",
        "c=np.add.reduce(a)\n",
        "print(c)"
      ]
    },
    {
      "cell_type": "markdown",
      "metadata": {
        "id": "kCJEf0u13Je4"
      },
      "source": [
        "#### 42. Consider two random array A and B, check if they are equal (★★☆) \n",
        "(**hint**: np.allclose, np.array\\_equal)"
      ]
    },
    {
      "cell_type": "code",
      "execution_count": null,
      "metadata": {
        "id": "RRZstGkQ3Je5",
        "colab": {
          "base_uri": "https://localhost:8080/"
        },
        "outputId": "cd7d63c8-96ef-401f-9ef6-cb21da9c1d0a"
      },
      "outputs": [
        {
          "output_type": "stream",
          "name": "stdout",
          "text": [
            "False\n",
            "False\n"
          ]
        }
      ],
      "source": [
        "#print(np.info(np.allclose))\n",
        "a=np.ones(3)\n",
        "b=np.zeros(3)\n",
        "c=np.allclose(a,b)\n",
        "d=np.array_equal(a,b)\n",
        "print(c)\n",
        "print(d)"
      ]
    },
    {
      "cell_type": "code",
      "source": [
        "print(np.info(np.array_equal))\n",
        "a=np.ones(3)\n",
        "b=np.ones(3)\n",
        "c=np.allclose(a,b)\n",
        "d=np.array_equal(a,b)\n",
        "print(c)\n",
        "print(d)"
      ],
      "metadata": {
        "colab": {
          "base_uri": "https://localhost:8080/"
        },
        "id": "v491iM6Dsjn6",
        "outputId": "a6e00d8f-a24f-413b-b7fc-28e40905c196"
      },
      "execution_count": null,
      "outputs": [
        {
          "output_type": "stream",
          "name": "stdout",
          "text": [
            " array_equal(a1, a2, equal_nan=False)\n",
            "\n",
            "True if two arrays have the same shape and elements, False otherwise.\n",
            "\n",
            "Parameters\n",
            "----------\n",
            "a1, a2 : array_like\n",
            "    Input arrays.\n",
            "equal_nan : bool\n",
            "    Whether to compare NaN's as equal. If the dtype of a1 and a2 is\n",
            "    complex, values will be considered equal if either the real or the\n",
            "    imaginary component of a given value is ``nan``.\n",
            "\n",
            "    .. versionadded:: 1.19.0\n",
            "\n",
            "Returns\n",
            "-------\n",
            "b : bool\n",
            "    Returns True if the arrays are equal.\n",
            "\n",
            "See Also\n",
            "--------\n",
            "allclose: Returns True if two arrays are element-wise equal within a\n",
            "          tolerance.\n",
            "array_equiv: Returns True if input arrays are shape consistent and all\n",
            "             elements equal.\n",
            "\n",
            "Examples\n",
            "--------\n",
            ">>> np.array_equal([1, 2], [1, 2])\n",
            "True\n",
            ">>> np.array_equal(np.array([1, 2]), np.array([1, 2]))\n",
            "True\n",
            ">>> np.array_equal([1, 2], [1, 2, 3])\n",
            "False\n",
            ">>> np.array_equal([1, 2], [1, 4])\n",
            "False\n",
            ">>> a = np.array([1, np.nan])\n",
            ">>> np.array_equal(a, a)\n",
            "False\n",
            ">>> np.array_equal(a, a, equal_nan=True)\n",
            "True\n",
            "\n",
            "When ``equal_nan`` is True, complex values with nan components are\n",
            "considered equal if either the real *or* the imaginary components are nan.\n",
            "\n",
            ">>> a = np.array([1 + 1j])\n",
            ">>> b = a.copy()\n",
            ">>> a.real = np.nan\n",
            ">>> b.imag = np.nan\n",
            ">>> np.array_equal(a, b, equal_nan=True)\n",
            "True\n",
            "None\n",
            "True\n",
            "True\n"
          ]
        }
      ]
    },
    {
      "cell_type": "code",
      "source": [
        "a=np.ones(3)\n",
        "b=np.array([1,0,1])\n",
        "c=np.allclose(a,b)\n",
        "d=np.array_equal(a,b)\n",
        "print(c)\n",
        "print(d)"
      ],
      "metadata": {
        "colab": {
          "base_uri": "https://localhost:8080/"
        },
        "id": "31fbuhSQsoWl",
        "outputId": "3f733cea-1717-4920-bb65-00efa4942489"
      },
      "execution_count": null,
      "outputs": [
        {
          "output_type": "stream",
          "name": "stdout",
          "text": [
            "False\n",
            "False\n"
          ]
        }
      ]
    },
    {
      "cell_type": "markdown",
      "metadata": {
        "id": "YSFjkHPD3Je_"
      },
      "source": [
        "#### 43. Make an array immutable (read-only) (★★☆) \n",
        "(**hint**: flags.writeable)"
      ]
    },
    {
      "cell_type": "code",
      "execution_count": null,
      "metadata": {
        "id": "fqHLrA1P3JfB",
        "colab": {
          "base_uri": "https://localhost:8080/",
          "height": 331
        },
        "outputId": "4e88a352-e377-43be-9cb0-d5e2382b1f0d"
      },
      "outputs": [
        {
          "output_type": "stream",
          "name": "stdout",
          "text": [
            "[[0 1]\n",
            " [2 3]\n",
            " [4 5]]\n",
            "[[0 1]\n",
            " [2 0]\n",
            " [4 5]]\n"
          ]
        },
        {
          "output_type": "error",
          "ename": "ValueError",
          "evalue": "ignored",
          "traceback": [
            "\u001b[0;31m---------------------------------------------------------------------------\u001b[0m",
            "\u001b[0;31mValueError\u001b[0m                                Traceback (most recent call last)",
            "\u001b[0;32m<ipython-input-21-0d953f3d1752>\u001b[0m in \u001b[0;36m<module>\u001b[0;34m()\u001b[0m\n\u001b[1;32m      4\u001b[0m \u001b[0mprint\u001b[0m\u001b[0;34m(\u001b[0m\u001b[0ma\u001b[0m\u001b[0;34m)\u001b[0m\u001b[0;34m\u001b[0m\u001b[0;34m\u001b[0m\u001b[0m\n\u001b[1;32m      5\u001b[0m \u001b[0ma\u001b[0m\u001b[0;34m.\u001b[0m\u001b[0mflags\u001b[0m\u001b[0;34m.\u001b[0m\u001b[0mwriteable\u001b[0m\u001b[0;34m=\u001b[0m\u001b[0;32mFalse\u001b[0m\u001b[0;34m\u001b[0m\u001b[0;34m\u001b[0m\u001b[0m\n\u001b[0;32m----> 6\u001b[0;31m \u001b[0ma\u001b[0m\u001b[0;34m[\u001b[0m\u001b[0;36m1\u001b[0m\u001b[0;34m,\u001b[0m\u001b[0;36m0\u001b[0m\u001b[0;34m]\u001b[0m\u001b[0;34m=\u001b[0m\u001b[0;36m0\u001b[0m\u001b[0;34m\u001b[0m\u001b[0;34m\u001b[0m\u001b[0m\n\u001b[0m\u001b[1;32m      7\u001b[0m \u001b[0mprint\u001b[0m\u001b[0;34m(\u001b[0m\u001b[0ma\u001b[0m\u001b[0;34m)\u001b[0m\u001b[0;34m\u001b[0m\u001b[0;34m\u001b[0m\u001b[0m\n",
            "\u001b[0;31mValueError\u001b[0m: assignment destination is read-only"
          ]
        }
      ],
      "source": [
        "a=np.arange(6).reshape(3,2)\n",
        "print(a)\n",
        "a[1,1]=0\n",
        "print(a)\n",
        "a.flags.writeable=False\n",
        "a[1,0]=0\n",
        "print(a)"
      ]
    },
    {
      "cell_type": "markdown",
      "metadata": {
        "id": "WHCc9WBE3JfC"
      },
      "source": [
        "#### 44. Consider a random 10x2 matrix representing cartesian coordinates, convert them to polar coordinates (★★☆) \n",
        "(**hint**: np.sqrt, np.arctan2)"
      ]
    },
    {
      "cell_type": "code",
      "execution_count": null,
      "metadata": {
        "id": "FqdXCuJH3JfF",
        "colab": {
          "base_uri": "https://localhost:8080/"
        },
        "outputId": "4560ffc6-01ac-4517-ebc8-69a79e4f5694"
      },
      "outputs": [
        {
          "output_type": "stream",
          "name": "stdout",
          "text": [
            "[[0.93465261 0.39811961]\n",
            " [0.85230147 0.31541775]\n",
            " [0.1549037  0.3306676 ]\n",
            " [0.16455829 0.48566092]\n",
            " [0.08217453 0.58518719]\n",
            " [0.16646418 0.15588682]\n",
            " [0.8521681  0.60028358]\n",
            " [0.66079534 0.66143849]\n",
            " [0.19255002 0.29199836]\n",
            " [0.49337407 0.10662296]]\n",
            "[0.93465261 0.85230147 0.1549037  0.16455829 0.08217453 0.16646418\n",
            " 0.8521681  0.66079534 0.19255002 0.49337407] [0.39811961 0.31541775 0.3306676  0.48566092 0.58518719 0.15588682\n",
            " 0.60028358 0.66143849 0.29199836 0.10662296]\n",
            "[1.01591079 0.90879379 0.36515232 0.51278257 0.59092868 0.22805926\n",
            " 1.04236791 0.93496062 0.34976928 0.50476374]\n",
            "[0.3788843  0.30554082 0.31934948 0.45211068 0.52945652 0.1546422\n",
            " 0.54062799 0.58437436 0.28409977 0.10622165]\n"
          ]
        }
      ],
      "source": [
        "#print(np.info(np.arctan2))\n",
        "a=np.random.random((10,2))\n",
        "print(a)\n",
        "x,y=a[:,0],a[:,1]\n",
        "print(x,y)\n",
        "radian=np.sqrt(x**2 + y**2)\n",
        "theta=np.arctan(y,x)\n",
        "print(radian)\n",
        "print(theta)"
      ]
    },
    {
      "cell_type": "code",
      "source": [
        "a=np.random.randint(1,20,20).reshape(10,2)\n",
        "print(a)\n",
        "x,y=a[:,0],a[:,1]\n",
        "print(x,y)\n",
        "radian=np.sqrt(x**2 + y**2)\n",
        "theta=np.arctan2(y,x)\n",
        "print(radian)\n",
        "print(theta)"
      ],
      "metadata": {
        "colab": {
          "base_uri": "https://localhost:8080/"
        },
        "id": "Zm3nwPgmB6c2",
        "outputId": "2b4edfff-c0d7-4849-a405-eb0e21db5479"
      },
      "execution_count": null,
      "outputs": [
        {
          "output_type": "stream",
          "name": "stdout",
          "text": [
            "[[ 4  6]\n",
            " [14  4]\n",
            " [ 4 16]\n",
            " [ 6  7]\n",
            " [ 3  9]\n",
            " [17 12]\n",
            " [ 1 12]\n",
            " [ 1  9]\n",
            " [ 3 10]\n",
            " [ 9 13]]\n",
            "[ 4 14  4  6  3 17  1  1  3  9] [ 6  4 16  7  9 12 12  9 10 13]\n",
            "[ 7.21110255 14.56021978 16.4924225   9.21954446  9.48683298 20.80865205\n",
            " 12.04159458  9.05538514 10.44030651 15.8113883 ]\n",
            "[0.98279372 0.27829966 1.32581766 0.86217005 1.24904577 0.61466295\n",
            " 1.48765509 1.46013911 1.27933953 0.96525166]\n"
          ]
        }
      ]
    },
    {
      "cell_type": "markdown",
      "metadata": {
        "id": "gkdb5uM63JfF"
      },
      "source": [
        "#### 45. Create random vector of size 10 and replace the maximum value by 0 (★★☆) \n",
        "(**hint**: argmax)"
      ]
    },
    {
      "cell_type": "code",
      "execution_count": null,
      "metadata": {
        "id": "wYvAGIEq3JfG",
        "colab": {
          "base_uri": "https://localhost:8080/",
          "height": 1000
        },
        "outputId": "41d20a4e-8f8a-4d94-e756-797a46e8fbeb"
      },
      "outputs": [
        {
          "output_type": "stream",
          "name": "stdout",
          "text": [
            "[[8 9 9 3 9 8 6 3 9 1]]\n",
            "9\n",
            " argmax(a, axis=None, out=None)\n",
            "\n",
            "Returns the indices of the maximum values along an axis.\n",
            "\n",
            "Parameters\n",
            "----------\n",
            "a : array_like\n",
            "    Input array.\n",
            "axis : int, optional\n",
            "    By default, the index is into the flattened array, otherwise\n",
            "    along the specified axis.\n",
            "out : array, optional\n",
            "    If provided, the result will be inserted into this array. It should\n",
            "    be of the appropriate shape and dtype.\n",
            "\n",
            "Returns\n",
            "-------\n",
            "index_array : ndarray of ints\n",
            "    Array of indices into the array. It has the same shape as `a.shape`\n",
            "    with the dimension along `axis` removed.\n",
            "\n",
            "See Also\n",
            "--------\n",
            "ndarray.argmax, argmin\n",
            "amax : The maximum value along a given axis.\n",
            "unravel_index : Convert a flat index into an index tuple.\n",
            "take_along_axis : Apply ``np.expand_dims(index_array, axis)``\n",
            "                  from argmax to an array as if by calling max.\n",
            "\n",
            "Notes\n",
            "-----\n",
            "In case of multiple occurrences of the maximum values, the indices\n",
            "corresponding to the first occurrence are returned.\n",
            "\n",
            "Examples\n",
            "--------\n",
            ">>> a = np.arange(6).reshape(2,3) + 10\n",
            ">>> a\n",
            "array([[10, 11, 12],\n",
            "       [13, 14, 15]])\n",
            ">>> np.argmax(a)\n",
            "5\n",
            ">>> np.argmax(a, axis=0)\n",
            "array([1, 1, 1])\n",
            ">>> np.argmax(a, axis=1)\n",
            "array([2, 2])\n",
            "\n",
            "Indexes of the maximal elements of a N-dimensional array:\n",
            "\n",
            ">>> ind = np.unravel_index(np.argmax(a, axis=None), a.shape)\n",
            ">>> ind\n",
            "(1, 2)\n",
            ">>> a[ind]\n",
            "15\n",
            "\n",
            ">>> b = np.arange(6)\n",
            ">>> b[1] = 5\n",
            ">>> b\n",
            "array([0, 5, 2, 3, 4, 5])\n",
            ">>> np.argmax(b)  # Only the first occurrence is returned.\n",
            "1\n",
            "\n",
            ">>> x = np.array([[4,2,3], [1,0,3]])\n",
            ">>> index_array = np.argmax(x, axis=-1)\n",
            ">>> # Same as np.max(x, axis=-1, keepdims=True)\n",
            ">>> np.take_along_axis(x, np.expand_dims(index_array, axis=-1), axis=-1)\n",
            "array([[4],\n",
            "       [3]])\n",
            ">>> # Same as np.max(x, axis=-1)\n",
            ">>> np.take_along_axis(x, np.expand_dims(index_array, axis=-1), axis=-1).squeeze(axis=-1)\n",
            "array([4, 3])\n",
            "None\n",
            "1\n"
          ]
        },
        {
          "output_type": "error",
          "ename": "IndexError",
          "evalue": "ignored",
          "traceback": [
            "\u001b[0;31m---------------------------------------------------------------------------\u001b[0m",
            "\u001b[0;31mIndexError\u001b[0m                                Traceback (most recent call last)",
            "\u001b[0;32m<ipython-input-47-f7204db0e9fd>\u001b[0m in \u001b[0;36m<module>\u001b[0;34m()\u001b[0m\n\u001b[1;32m      5\u001b[0m \u001b[0mprint\u001b[0m\u001b[0;34m(\u001b[0m\u001b[0mnp\u001b[0m\u001b[0;34m.\u001b[0m\u001b[0minfo\u001b[0m\u001b[0;34m(\u001b[0m\u001b[0mnp\u001b[0m\u001b[0;34m.\u001b[0m\u001b[0margmax\u001b[0m\u001b[0;34m)\u001b[0m\u001b[0;34m)\u001b[0m\u001b[0;34m\u001b[0m\u001b[0;34m\u001b[0m\u001b[0m\n\u001b[1;32m      6\u001b[0m \u001b[0mprint\u001b[0m\u001b[0;34m(\u001b[0m\u001b[0mnp\u001b[0m\u001b[0;34m.\u001b[0m\u001b[0margmax\u001b[0m\u001b[0;34m(\u001b[0m\u001b[0ma\u001b[0m\u001b[0;34m)\u001b[0m\u001b[0;34m)\u001b[0m\u001b[0;34m\u001b[0m\u001b[0;34m\u001b[0m\u001b[0m\n\u001b[0;32m----> 7\u001b[0;31m \u001b[0ma\u001b[0m\u001b[0;34m[\u001b[0m\u001b[0mnp\u001b[0m\u001b[0;34m.\u001b[0m\u001b[0margmax\u001b[0m\u001b[0;34m(\u001b[0m\u001b[0ma\u001b[0m\u001b[0;34m)\u001b[0m\u001b[0;34m]\u001b[0m\u001b[0;34m=\u001b[0m\u001b[0;36m0\u001b[0m\u001b[0;34m\u001b[0m\u001b[0;34m\u001b[0m\u001b[0m\n\u001b[0m\u001b[1;32m      8\u001b[0m \u001b[0mprint\u001b[0m\u001b[0;34m(\u001b[0m\u001b[0ma\u001b[0m\u001b[0;34m)\u001b[0m\u001b[0;34m\u001b[0m\u001b[0;34m\u001b[0m\u001b[0m\n",
            "\u001b[0;31mIndexError\u001b[0m: index 1 is out of bounds for axis 0 with size 1"
          ]
        }
      ],
      "source": [
        "a=np.random.randint(1,10,10).reshape(1,10)\n",
        "print(a)\n",
        "b=np.max(a)\n",
        "print(b)\n",
        "print(np.info(np.argmax))\n",
        "print(np.argmax(a))\n",
        "a[np.argmax(a)]=0\n",
        "print(a)"
      ]
    },
    {
      "cell_type": "code",
      "source": [
        "a=np.random.randint(1,10,10).reshape(1,10)\n",
        "print(a)\n",
        "b=np.max(a)\n",
        "print(b)\n",
        "#print(np.info(np.argmax))\n",
        "print(a.argmax())\n",
        "a[a.argmax()]=0\n",
        "print(a)"
      ],
      "metadata": {
        "colab": {
          "base_uri": "https://localhost:8080/",
          "height": 277
        },
        "id": "EGgriUJsMx-p",
        "outputId": "ddf6d919-57ef-4a7a-dfce-23e27f0d3056"
      },
      "execution_count": null,
      "outputs": [
        {
          "output_type": "stream",
          "name": "stdout",
          "text": [
            "[[1 4 8 7 2 5 8 2 5 8]]\n",
            "8\n",
            "2\n"
          ]
        },
        {
          "output_type": "error",
          "ename": "IndexError",
          "evalue": "ignored",
          "traceback": [
            "\u001b[0;31m---------------------------------------------------------------------------\u001b[0m",
            "\u001b[0;31mIndexError\u001b[0m                                Traceback (most recent call last)",
            "\u001b[0;32m<ipython-input-45-53f539f23c18>\u001b[0m in \u001b[0;36m<module>\u001b[0;34m()\u001b[0m\n\u001b[1;32m      5\u001b[0m \u001b[0;31m#print(np.info(np.argmax))\u001b[0m\u001b[0;34m\u001b[0m\u001b[0;34m\u001b[0m\u001b[0;34m\u001b[0m\u001b[0m\n\u001b[1;32m      6\u001b[0m \u001b[0mprint\u001b[0m\u001b[0;34m(\u001b[0m\u001b[0ma\u001b[0m\u001b[0;34m.\u001b[0m\u001b[0margmax\u001b[0m\u001b[0;34m(\u001b[0m\u001b[0;34m)\u001b[0m\u001b[0;34m)\u001b[0m\u001b[0;34m\u001b[0m\u001b[0;34m\u001b[0m\u001b[0m\n\u001b[0;32m----> 7\u001b[0;31m \u001b[0ma\u001b[0m\u001b[0;34m[\u001b[0m\u001b[0ma\u001b[0m\u001b[0;34m.\u001b[0m\u001b[0margmax\u001b[0m\u001b[0;34m(\u001b[0m\u001b[0;34m)\u001b[0m\u001b[0;34m]\u001b[0m\u001b[0;34m=\u001b[0m\u001b[0;36m0\u001b[0m\u001b[0;34m\u001b[0m\u001b[0;34m\u001b[0m\u001b[0m\n\u001b[0m\u001b[1;32m      8\u001b[0m \u001b[0mprint\u001b[0m\u001b[0;34m(\u001b[0m\u001b[0ma\u001b[0m\u001b[0;34m)\u001b[0m\u001b[0;34m\u001b[0m\u001b[0;34m\u001b[0m\u001b[0m\n",
            "\u001b[0;31mIndexError\u001b[0m: index 2 is out of bounds for axis 0 with size 1"
          ]
        }
      ]
    },
    {
      "cell_type": "code",
      "source": [
        "a=np.array([1,4,2,3,6,5,7,8,9])\n",
        "a[a.argmax()]=0\n",
        "print(a)"
      ],
      "metadata": {
        "colab": {
          "base_uri": "https://localhost:8080/"
        },
        "id": "w5uq6rN5ORiJ",
        "outputId": "afaeb0e4-61e0-4a82-c912-980ac4f1dffb"
      },
      "execution_count": null,
      "outputs": [
        {
          "output_type": "stream",
          "name": "stdout",
          "text": [
            "[1 4 2 3 6 5 7 8 0]\n"
          ]
        }
      ]
    },
    {
      "cell_type": "code",
      "source": [
        "Z = np.random.random(10)\n",
        "print(Z)\n",
        "Z[Z.argmax()] = 0\n",
        "print(Z)"
      ],
      "metadata": {
        "colab": {
          "base_uri": "https://localhost:8080/"
        },
        "id": "OhQ6O9x5NN-4",
        "outputId": "2c10ff09-e5cb-4763-e831-06ede48bc7ef"
      },
      "execution_count": null,
      "outputs": [
        {
          "output_type": "stream",
          "name": "stdout",
          "text": [
            "[0.63654027 0.68317866 0.58595235 0.21165392 0.673594   0.47619779\n",
            " 0.53399205 0.25199817 0.76879423 0.33073061]\n",
            "[0.63654027 0.68317866 0.58595235 0.21165392 0.673594   0.47619779\n",
            " 0.53399205 0.25199817 0.         0.33073061]\n"
          ]
        }
      ]
    },
    {
      "cell_type": "markdown",
      "metadata": {
        "id": "iq4-2hbm3JfG"
      },
      "source": [
        "#### 46. Create a structured array with `x` and `y` coordinates covering the \\[0,1\\]x\\[0,1\\] area (★★☆) \n",
        "(**hint**: np.meshgrid)"
      ]
    },
    {
      "cell_type": "code",
      "execution_count": null,
      "metadata": {
        "id": "oML7z9VW3JfI",
        "colab": {
          "base_uri": "https://localhost:8080/"
        },
        "outputId": "a0c91789-c969-42ba-8969-0619d4f0dedc"
      },
      "outputs": [
        {
          "output_type": "stream",
          "name": "stdout",
          "text": [
            "[[(1, 1) (1, 1) (1, 1)]\n",
            " [(1, 1) (1, 1) (1, 1)]\n",
            " [(1, 1) (1, 1) (1, 1)]]\n",
            "[[(2, 3) (4, 3) (6, 3)]\n",
            " [(2, 6) (4, 6) (6, 6)]\n",
            " [(2, 9) (4, 9) (6, 9)]]\n"
          ]
        }
      ],
      "source": [
        "#have to learn more, can't remember syntax \n",
        "#what is coordinates covering the [0,1]x[1,0] area?\n",
        "\n",
        "#print(np.info(np.meshgrid))\n",
        "\n",
        "a=np.ones((3,3),[('x',int),('y',int)])\n",
        "print(a)\n",
        "a['x'],a['y']=np.meshgrid(np.linspace(2,6,3),np.linspace(3,9,3))\n",
        "print(a)"
      ]
    },
    {
      "cell_type": "markdown",
      "metadata": {
        "id": "MegubDua3JfK"
      },
      "source": [
        "####  47. Given two arrays, X and Y, construct the Cauchy matrix C (Cij =1/(xi - yj)) \n",
        "(**hint**: np.subtract.outer)"
      ]
    },
    {
      "cell_type": "code",
      "execution_count": null,
      "metadata": {
        "id": "LGsdcq9m3JfT",
        "colab": {
          "base_uri": "https://localhost:8080/"
        },
        "outputId": "df697fe7-7f97-4c45-dd91-8800e57fd8df"
      },
      "outputs": [
        {
          "output_type": "stream",
          "name": "stdout",
          "text": [
            "[[0 1]\n",
            " [2 3]]\n",
            "[[10 11]\n",
            " [12 13]]\n",
            "[[[[-10 -11]\n",
            "   [-12 -13]]\n",
            "\n",
            "  [[ -9 -10]\n",
            "   [-11 -12]]]\n",
            "\n",
            "\n",
            " [[[ -8  -9]\n",
            "   [-10 -11]]\n",
            "\n",
            "  [[ -7  -8]\n",
            "   [ -9 -10]]]]\n",
            "[[[[-0.1        -0.09090909]\n",
            "   [-0.08333333 -0.07692308]]\n",
            "\n",
            "  [[-0.11111111 -0.1       ]\n",
            "   [-0.09090909 -0.08333333]]]\n",
            "\n",
            "\n",
            " [[[-0.125      -0.11111111]\n",
            "   [-0.1        -0.09090909]]\n",
            "\n",
            "  [[-0.14285714 -0.125     ]\n",
            "   [-0.11111111 -0.1       ]]]]\n",
            "[[0.00011655 0.00016835]\n",
            " [0.00025253 0.00039683]]\n"
          ]
        }
      ],
      "source": [
        "a=np.arange(4).reshape(2,2)\n",
        "b=np.arange(10,14).reshape(2,2)\n",
        "print(a)\n",
        "print(b)\n",
        "c=np.subtract.outer(a,b)\n",
        "print(c)\n",
        "c=1/np.subtract.outer(a,b)\n",
        "print(c)\n",
        "print(np.linalg.det(c))"
      ]
    },
    {
      "cell_type": "markdown",
      "metadata": {
        "id": "qu55Eve33JfV"
      },
      "source": [
        "#### 48. Print the minimum and maximum representable value for each numpy scalar type (★★☆) \n",
        "(**hint**: np.iinfo, np.finfo, eps)"
      ]
    },
    {
      "cell_type": "code",
      "execution_count": null,
      "metadata": {
        "id": "Ry31YcFR3JfW",
        "colab": {
          "base_uri": "https://localhost:8080/"
        },
        "outputId": "3b814a35-3a4a-404f-986c-bdf71ee35b2c"
      },
      "outputs": [
        {
          "output_type": "stream",
          "name": "stdout",
          "text": [
            "-128\n",
            "127\n",
            "0\n",
            "255\n",
            "-3.4028235e+38\n",
            "3.4028235e+38\n",
            "1.1920929e-07\n"
          ]
        }
      ],
      "source": [
        "i8=np.iinfo(np.int8)\n",
        "print(i8.min)\n",
        "print(i8.max)\n",
        "#print(i8.eps) is not for int type\n",
        "\n",
        "uint8=np.iinfo(np.uint8)\n",
        "print(uint8.min)\n",
        "print(uint8.max)\n",
        "\n",
        "float32=np.finfo(np.float32)\n",
        "print(float32.min)\n",
        "print(float32.max)\n",
        "print(float32.eps)#epsilon is the minimum distance a floating point arithmatic program\n",
        "#can recognise b/w 2 numbers x and y\n"
      ]
    },
    {
      "cell_type": "markdown",
      "metadata": {
        "id": "JyrGtX9j3JfX"
      },
      "source": [
        "#### 49. How to print all the values of an array? (★★☆) \n",
        "(**hint**: np.set\\_printoptions)"
      ]
    },
    {
      "cell_type": "code",
      "source": [
        "a=np.arange(3)\n",
        "print(a)\n",
        "b=np.arange(7)\n",
        "print(b)\n",
        "np.set_printoptions(threshold=5)\n",
        "print(a)\n",
        "print(b)"
      ],
      "metadata": {
        "colab": {
          "base_uri": "https://localhost:8080/"
        },
        "id": "e1rRIRZlxMdc",
        "outputId": "04887407-476d-4d08-92b2-080bed3bdb5c"
      },
      "execution_count": null,
      "outputs": [
        {
          "output_type": "stream",
          "name": "stdout",
          "text": [
            "[0 1 2]\n",
            "[0 1 2 ... 4 5 6]\n",
            "[0 1 2]\n",
            "[0 1 2 ... 4 5 6]\n"
          ]
        }
      ]
    },
    {
      "cell_type": "code",
      "source": [
        "a=np.arange(10)\n",
        "print(a)\n",
        "np.set_printoptions(threshold=10)\n",
        "print(a)"
      ],
      "metadata": {
        "colab": {
          "base_uri": "https://localhost:8080/",
          "height": 373
        },
        "id": "aZhLD9lFsgWy",
        "outputId": "6c6d3e4b-523b-4d0a-9d39-0e2718296823"
      },
      "execution_count": null,
      "outputs": [
        {
          "output_type": "error",
          "ename": "AttributeError",
          "evalue": "ignored",
          "traceback": [
            "\u001b[0;31m---------------------------------------------------------------------------\u001b[0m",
            "\u001b[0;31mAttributeError\u001b[0m                            Traceback (most recent call last)",
            "\u001b[0;32m<ipython-input-30-8d72a3fbb802>\u001b[0m in \u001b[0;36m<module>\u001b[0;34m()\u001b[0m\n\u001b[1;32m      1\u001b[0m \u001b[0ma\u001b[0m\u001b[0;34m=\u001b[0m\u001b[0mnp\u001b[0m\u001b[0;34m.\u001b[0m\u001b[0marange\u001b[0m\u001b[0;34m(\u001b[0m\u001b[0;36m10\u001b[0m\u001b[0;34m)\u001b[0m\u001b[0;34m\u001b[0m\u001b[0;34m\u001b[0m\u001b[0m\n\u001b[0;32m----> 2\u001b[0;31m \u001b[0mprint\u001b[0m\u001b[0;34m(\u001b[0m\u001b[0ma\u001b[0m\u001b[0;34m)\u001b[0m\u001b[0;34m\u001b[0m\u001b[0;34m\u001b[0m\u001b[0m\n\u001b[0m\u001b[1;32m      3\u001b[0m \u001b[0mnp\u001b[0m\u001b[0;34m.\u001b[0m\u001b[0mset_printoptions\u001b[0m\u001b[0;34m(\u001b[0m\u001b[0mthreshold\u001b[0m\u001b[0;34m=\u001b[0m\u001b[0;36m10\u001b[0m\u001b[0;34m)\u001b[0m\u001b[0;34m\u001b[0m\u001b[0;34m\u001b[0m\u001b[0m\n\u001b[1;32m      4\u001b[0m \u001b[0mprint\u001b[0m\u001b[0;34m(\u001b[0m\u001b[0ma\u001b[0m\u001b[0;34m)\u001b[0m\u001b[0;34m\u001b[0m\u001b[0;34m\u001b[0m\u001b[0m\n",
            "\u001b[0;32m/usr/local/lib/python3.7/dist-packages/numpy/core/arrayprint.py\u001b[0m in \u001b[0;36m_array_str_implementation\u001b[0;34m(a, max_line_width, precision, suppress_small, array2string)\u001b[0m\n\u001b[1;32m   1549\u001b[0m         \u001b[0;32mreturn\u001b[0m \u001b[0m_guarded_repr_or_str\u001b[0m\u001b[0;34m(\u001b[0m\u001b[0mnp\u001b[0m\u001b[0;34m.\u001b[0m\u001b[0mndarray\u001b[0m\u001b[0;34m.\u001b[0m\u001b[0m__getitem__\u001b[0m\u001b[0;34m(\u001b[0m\u001b[0ma\u001b[0m\u001b[0;34m,\u001b[0m \u001b[0;34m(\u001b[0m\u001b[0;34m)\u001b[0m\u001b[0;34m)\u001b[0m\u001b[0;34m)\u001b[0m\u001b[0;34m\u001b[0m\u001b[0;34m\u001b[0m\u001b[0m\n\u001b[1;32m   1550\u001b[0m \u001b[0;34m\u001b[0m\u001b[0m\n\u001b[0;32m-> 1551\u001b[0;31m     \u001b[0;32mreturn\u001b[0m \u001b[0marray2string\u001b[0m\u001b[0;34m(\u001b[0m\u001b[0ma\u001b[0m\u001b[0;34m,\u001b[0m \u001b[0mmax_line_width\u001b[0m\u001b[0;34m,\u001b[0m \u001b[0mprecision\u001b[0m\u001b[0;34m,\u001b[0m \u001b[0msuppress_small\u001b[0m\u001b[0;34m,\u001b[0m \u001b[0;34m' '\u001b[0m\u001b[0;34m,\u001b[0m \u001b[0;34m\"\"\u001b[0m\u001b[0;34m)\u001b[0m\u001b[0;34m\u001b[0m\u001b[0;34m\u001b[0m\u001b[0m\n\u001b[0m\u001b[1;32m   1552\u001b[0m \u001b[0;34m\u001b[0m\u001b[0m\n\u001b[1;32m   1553\u001b[0m \u001b[0;34m\u001b[0m\u001b[0m\n",
            "\u001b[0;32m/usr/local/lib/python3.7/dist-packages/numpy/core/arrayprint.py\u001b[0m in \u001b[0;36marray2string\u001b[0;34m(a, max_line_width, precision, suppress_small, separator, prefix, style, formatter, threshold, edgeitems, sign, floatmode, suffix, legacy)\u001b[0m\n\u001b[1;32m    696\u001b[0m         \u001b[0;32mreturn\u001b[0m \u001b[0;34m\"[]\"\u001b[0m\u001b[0;34m\u001b[0m\u001b[0;34m\u001b[0m\u001b[0m\n\u001b[1;32m    697\u001b[0m \u001b[0;34m\u001b[0m\u001b[0m\n\u001b[0;32m--> 698\u001b[0;31m     \u001b[0;32mreturn\u001b[0m \u001b[0m_array2string\u001b[0m\u001b[0;34m(\u001b[0m\u001b[0ma\u001b[0m\u001b[0;34m,\u001b[0m \u001b[0moptions\u001b[0m\u001b[0;34m,\u001b[0m \u001b[0mseparator\u001b[0m\u001b[0;34m,\u001b[0m \u001b[0mprefix\u001b[0m\u001b[0;34m)\u001b[0m\u001b[0;34m\u001b[0m\u001b[0;34m\u001b[0m\u001b[0m\n\u001b[0m\u001b[1;32m    699\u001b[0m \u001b[0;34m\u001b[0m\u001b[0m\n\u001b[1;32m    700\u001b[0m \u001b[0;34m\u001b[0m\u001b[0m\n",
            "\u001b[0;32m/usr/local/lib/python3.7/dist-packages/numpy/core/arrayprint.py\u001b[0m in \u001b[0;36mwrapper\u001b[0;34m(self, *args, **kwargs)\u001b[0m\n\u001b[1;32m    473\u001b[0m             \u001b[0mrepr_running\u001b[0m\u001b[0;34m.\u001b[0m\u001b[0madd\u001b[0m\u001b[0;34m(\u001b[0m\u001b[0mkey\u001b[0m\u001b[0;34m)\u001b[0m\u001b[0;34m\u001b[0m\u001b[0;34m\u001b[0m\u001b[0m\n\u001b[1;32m    474\u001b[0m             \u001b[0;32mtry\u001b[0m\u001b[0;34m:\u001b[0m\u001b[0;34m\u001b[0m\u001b[0;34m\u001b[0m\u001b[0m\n\u001b[0;32m--> 475\u001b[0;31m                 \u001b[0;32mreturn\u001b[0m \u001b[0mf\u001b[0m\u001b[0;34m(\u001b[0m\u001b[0mself\u001b[0m\u001b[0;34m,\u001b[0m \u001b[0;34m*\u001b[0m\u001b[0margs\u001b[0m\u001b[0;34m,\u001b[0m \u001b[0;34m**\u001b[0m\u001b[0mkwargs\u001b[0m\u001b[0;34m)\u001b[0m\u001b[0;34m\u001b[0m\u001b[0;34m\u001b[0m\u001b[0m\n\u001b[0m\u001b[1;32m    476\u001b[0m             \u001b[0;32mfinally\u001b[0m\u001b[0;34m:\u001b[0m\u001b[0;34m\u001b[0m\u001b[0;34m\u001b[0m\u001b[0m\n\u001b[1;32m    477\u001b[0m                 \u001b[0mrepr_running\u001b[0m\u001b[0;34m.\u001b[0m\u001b[0mdiscard\u001b[0m\u001b[0;34m(\u001b[0m\u001b[0mkey\u001b[0m\u001b[0;34m)\u001b[0m\u001b[0;34m\u001b[0m\u001b[0;34m\u001b[0m\u001b[0m\n",
            "\u001b[0;32m/usr/local/lib/python3.7/dist-packages/numpy/core/arrayprint.py\u001b[0m in \u001b[0;36m_array2string\u001b[0;34m(a, options, separator, prefix)\u001b[0m\n\u001b[1;32m    499\u001b[0m \u001b[0;34m\u001b[0m\u001b[0m\n\u001b[1;32m    500\u001b[0m     \u001b[0;31m# find the right formatting function for the array\u001b[0m\u001b[0;34m\u001b[0m\u001b[0;34m\u001b[0m\u001b[0;34m\u001b[0m\u001b[0m\n\u001b[0;32m--> 501\u001b[0;31m     \u001b[0mformat_function\u001b[0m \u001b[0;34m=\u001b[0m \u001b[0m_get_format_function\u001b[0m\u001b[0;34m(\u001b[0m\u001b[0mdata\u001b[0m\u001b[0;34m,\u001b[0m \u001b[0;34m**\u001b[0m\u001b[0moptions\u001b[0m\u001b[0;34m)\u001b[0m\u001b[0;34m\u001b[0m\u001b[0;34m\u001b[0m\u001b[0m\n\u001b[0m\u001b[1;32m    502\u001b[0m \u001b[0;34m\u001b[0m\u001b[0m\n\u001b[1;32m    503\u001b[0m     \u001b[0;31m# skip over \"[\"\u001b[0m\u001b[0;34m\u001b[0m\u001b[0;34m\u001b[0m\u001b[0;34m\u001b[0m\u001b[0m\n",
            "\u001b[0;32m/usr/local/lib/python3.7/dist-packages/numpy/core/arrayprint.py\u001b[0m in \u001b[0;36m_get_format_function\u001b[0;34m(data, **options)\u001b[0m\n\u001b[1;32m    420\u001b[0m     \u001b[0mdtype_\u001b[0m \u001b[0;34m=\u001b[0m \u001b[0mdata\u001b[0m\u001b[0;34m.\u001b[0m\u001b[0mdtype\u001b[0m\u001b[0;34m\u001b[0m\u001b[0;34m\u001b[0m\u001b[0m\n\u001b[1;32m    421\u001b[0m     \u001b[0mdtypeobj\u001b[0m \u001b[0;34m=\u001b[0m \u001b[0mdtype_\u001b[0m\u001b[0;34m.\u001b[0m\u001b[0mtype\u001b[0m\u001b[0;34m\u001b[0m\u001b[0;34m\u001b[0m\u001b[0m\n\u001b[0;32m--> 422\u001b[0;31m     \u001b[0mformatdict\u001b[0m \u001b[0;34m=\u001b[0m \u001b[0m_get_formatdict\u001b[0m\u001b[0;34m(\u001b[0m\u001b[0mdata\u001b[0m\u001b[0;34m,\u001b[0m \u001b[0;34m**\u001b[0m\u001b[0moptions\u001b[0m\u001b[0;34m)\u001b[0m\u001b[0;34m\u001b[0m\u001b[0;34m\u001b[0m\u001b[0m\n\u001b[0m\u001b[1;32m    423\u001b[0m     \u001b[0;32mif\u001b[0m \u001b[0missubclass\u001b[0m\u001b[0;34m(\u001b[0m\u001b[0mdtypeobj\u001b[0m\u001b[0;34m,\u001b[0m \u001b[0m_nt\u001b[0m\u001b[0;34m.\u001b[0m\u001b[0mbool_\u001b[0m\u001b[0;34m)\u001b[0m\u001b[0;34m:\u001b[0m\u001b[0;34m\u001b[0m\u001b[0;34m\u001b[0m\u001b[0m\n\u001b[1;32m    424\u001b[0m         \u001b[0;32mreturn\u001b[0m \u001b[0mformatdict\u001b[0m\u001b[0;34m[\u001b[0m\u001b[0;34m'bool'\u001b[0m\u001b[0;34m]\u001b[0m\u001b[0;34m(\u001b[0m\u001b[0;34m)\u001b[0m\u001b[0;34m\u001b[0m\u001b[0;34m\u001b[0m\u001b[0m\n",
            "\u001b[0;32m/usr/local/lib/python3.7/dist-packages/numpy/core/arrayprint.py\u001b[0m in \u001b[0;36m_get_formatdict\u001b[0;34m(data, precision, floatmode, suppress, sign, legacy, formatter, **kwargs)\u001b[0m\n\u001b[1;32m    393\u001b[0m \u001b[0;34m\u001b[0m\u001b[0m\n\u001b[1;32m    394\u001b[0m     \u001b[0;32mif\u001b[0m \u001b[0mformatter\u001b[0m \u001b[0;32mis\u001b[0m \u001b[0;32mnot\u001b[0m \u001b[0;32mNone\u001b[0m\u001b[0;34m:\u001b[0m\u001b[0;34m\u001b[0m\u001b[0;34m\u001b[0m\u001b[0m\n\u001b[0;32m--> 395\u001b[0;31m         \u001b[0mfkeys\u001b[0m \u001b[0;34m=\u001b[0m \u001b[0;34m[\u001b[0m\u001b[0mk\u001b[0m \u001b[0;32mfor\u001b[0m \u001b[0mk\u001b[0m \u001b[0;32min\u001b[0m \u001b[0mformatter\u001b[0m\u001b[0;34m.\u001b[0m\u001b[0mkeys\u001b[0m\u001b[0;34m(\u001b[0m\u001b[0;34m)\u001b[0m \u001b[0;32mif\u001b[0m \u001b[0mformatter\u001b[0m\u001b[0;34m[\u001b[0m\u001b[0mk\u001b[0m\u001b[0;34m]\u001b[0m \u001b[0;32mis\u001b[0m \u001b[0;32mnot\u001b[0m \u001b[0;32mNone\u001b[0m\u001b[0;34m]\u001b[0m\u001b[0;34m\u001b[0m\u001b[0;34m\u001b[0m\u001b[0m\n\u001b[0m\u001b[1;32m    396\u001b[0m         \u001b[0;32mif\u001b[0m \u001b[0;34m'all'\u001b[0m \u001b[0;32min\u001b[0m \u001b[0mfkeys\u001b[0m\u001b[0;34m:\u001b[0m\u001b[0;34m\u001b[0m\u001b[0;34m\u001b[0m\u001b[0m\n\u001b[1;32m    397\u001b[0m             \u001b[0;32mfor\u001b[0m \u001b[0mkey\u001b[0m \u001b[0;32min\u001b[0m \u001b[0mformatdict\u001b[0m\u001b[0;34m.\u001b[0m\u001b[0mkeys\u001b[0m\u001b[0;34m(\u001b[0m\u001b[0;34m)\u001b[0m\u001b[0;34m:\u001b[0m\u001b[0;34m\u001b[0m\u001b[0;34m\u001b[0m\u001b[0m\n",
            "\u001b[0;31mAttributeError\u001b[0m: 'bool' object has no attribute 'keys'"
          ]
        }
      ]
    },
    {
      "cell_type": "code",
      "execution_count": null,
      "metadata": {
        "id": "4hOc3PWA3JfX",
        "colab": {
          "base_uri": "https://localhost:8080/"
        },
        "outputId": "672658d0-092e-4a68-8e39-61d242008951"
      },
      "outputs": [
        {
          "output_type": "stream",
          "name": "stdout",
          "text": [
            " set_printoptions(precision=None, threshold=None, edgeitems=None,\n",
            "                  linewidth=None, suppress=None, nanstr=None, infstr=None,\n",
            "                  formatter=None, sign=None, floatmode=None, *, legacy=None)\n",
            "\n",
            "Set printing options.\n",
            "\n",
            "These options determine the way floating point numbers, arrays and\n",
            "other NumPy objects are displayed.\n",
            "\n",
            "Parameters\n",
            "----------\n",
            "precision : int or None, optional\n",
            "    Number of digits of precision for floating point output (default 8).\n",
            "    May be None if `floatmode` is not `fixed`, to print as many digits as\n",
            "    necessary to uniquely specify the value.\n",
            "threshold : int, optional\n",
            "    Total number of array elements which trigger summarization\n",
            "    rather than full repr (default 1000).\n",
            "    To always use the full repr without summarization, pass `sys.maxsize`.\n",
            "edgeitems : int, optional\n",
            "    Number of array items in summary at beginning and end of\n",
            "    each dimension (default 3).\n",
            "linewidth : int, optional\n",
            "    The number of characters per line for the purpose of inserting\n",
            "    line breaks (default 75).\n",
            "suppress : bool, optional\n",
            "    If True, always print floating point numbers using fixed point\n",
            "    notation, in which case numbers equal to zero in the current precision\n",
            "    will print as zero.  If False, then scientific notation is used when\n",
            "    absolute value of the smallest number is < 1e-4 or the ratio of the\n",
            "    maximum absolute value to the minimum is > 1e3. The default is False.\n",
            "nanstr : str, optional\n",
            "    String representation of floating point not-a-number (default nan).\n",
            "infstr : str, optional\n",
            "    String representation of floating point infinity (default inf).\n",
            "sign : string, either '-', '+', or ' ', optional\n",
            "    Controls printing of the sign of floating-point types. If '+', always\n",
            "    print the sign of positive values. If ' ', always prints a space\n",
            "    (whitespace character) in the sign position of positive values.  If\n",
            "    '-', omit the sign character of positive values. (default '-')\n",
            "formatter : dict of callables, optional\n",
            "    If not None, the keys should indicate the type(s) that the respective\n",
            "    formatting function applies to.  Callables should return a string.\n",
            "    Types that are not specified (by their corresponding keys) are handled\n",
            "    by the default formatters.  Individual types for which a formatter\n",
            "    can be set are:\n",
            "\n",
            "    - 'bool'\n",
            "    - 'int'\n",
            "    - 'timedelta' : a `numpy.timedelta64`\n",
            "    - 'datetime' : a `numpy.datetime64`\n",
            "    - 'float'\n",
            "    - 'longfloat' : 128-bit floats\n",
            "    - 'complexfloat'\n",
            "    - 'longcomplexfloat' : composed of two 128-bit floats\n",
            "    - 'numpystr' : types `numpy.string_` and `numpy.unicode_`\n",
            "    - 'object' : `np.object_` arrays\n",
            "\n",
            "    Other keys that can be used to set a group of types at once are:\n",
            "\n",
            "    - 'all' : sets all types\n",
            "    - 'int_kind' : sets 'int'\n",
            "    - 'float_kind' : sets 'float' and 'longfloat'\n",
            "    - 'complex_kind' : sets 'complexfloat' and 'longcomplexfloat'\n",
            "    - 'str_kind' : sets 'numpystr'\n",
            "floatmode : str, optional\n",
            "    Controls the interpretation of the `precision` option for\n",
            "    floating-point types. Can take the following values\n",
            "    (default maxprec_equal):\n",
            "\n",
            "    * 'fixed': Always print exactly `precision` fractional digits,\n",
            "            even if this would print more or fewer digits than\n",
            "            necessary to specify the value uniquely.\n",
            "    * 'unique': Print the minimum number of fractional digits necessary\n",
            "            to represent each value uniquely. Different elements may\n",
            "            have a different number of digits. The value of the\n",
            "            `precision` option is ignored.\n",
            "    * 'maxprec': Print at most `precision` fractional digits, but if\n",
            "            an element can be uniquely represented with fewer digits\n",
            "            only print it with that many.\n",
            "    * 'maxprec_equal': Print at most `precision` fractional digits,\n",
            "            but if every element in the array can be uniquely\n",
            "            represented with an equal number of fewer digits, use that\n",
            "            many digits for all elements.\n",
            "legacy : string or `False`, optional\n",
            "    If set to the string `'1.13'` enables 1.13 legacy printing mode. This\n",
            "    approximates numpy 1.13 print output by including a space in the sign\n",
            "    position of floats and different behavior for 0d arrays. If set to\n",
            "    `False`, disables legacy mode. Unrecognized strings will be ignored\n",
            "    with a warning for forward compatibility.\n",
            "\n",
            "    .. versionadded:: 1.14.0\n",
            "\n",
            "See Also\n",
            "--------\n",
            "get_printoptions, printoptions, set_string_function, array2string\n",
            "\n",
            "Notes\n",
            "-----\n",
            "`formatter` is always reset with a call to `set_printoptions`.\n",
            "\n",
            "Use `printoptions` as a context manager to set the values temporarily.\n",
            "\n",
            "Examples\n",
            "--------\n",
            "Floating point precision can be set:\n",
            "\n",
            ">>> np.set_printoptions(precision=4)\n",
            ">>> np.array([1.123456789])\n",
            "[1.1235]\n",
            "\n",
            "Long arrays can be summarised:\n",
            "\n",
            ">>> np.set_printoptions(threshold=5)\n",
            ">>> np.arange(10)\n",
            "array([0, 1, 2, ..., 7, 8, 9])\n",
            "\n",
            "Small results can be suppressed:\n",
            "\n",
            ">>> eps = np.finfo(float).eps\n",
            ">>> x = np.arange(4.)\n",
            ">>> x**2 - (x + eps)**2\n",
            "array([-4.9304e-32, -4.4409e-16,  0.0000e+00,  0.0000e+00])\n",
            ">>> np.set_printoptions(suppress=True)\n",
            ">>> x**2 - (x + eps)**2\n",
            "array([-0., -0.,  0.,  0.])\n",
            "\n",
            "A custom formatter can be used to display array elements as desired:\n",
            "\n",
            ">>> np.set_printoptions(formatter={'all':lambda x: 'int: '+str(-x)})\n",
            ">>> x = np.arange(3)\n",
            ">>> x\n",
            "array([int: 0, int: -1, int: -2])\n",
            ">>> np.set_printoptions()  # formatter gets reset\n",
            ">>> x\n",
            "array([0, 1, 2])\n",
            "\n",
            "To put back the default options, you can use:\n",
            "\n",
            ">>> np.set_printoptions(edgeitems=3, infstr='inf',\n",
            "... linewidth=75, nanstr='nan', precision=8,\n",
            "... suppress=False, threshold=1000, formatter=None)\n",
            "\n",
            "Also to temporarily override options, use `printoptions` as a context manager:\n",
            "\n",
            ">>> with np.printoptions(precision=2, suppress=True, threshold=5):\n",
            "...     np.linspace(0, 10, 10)\n",
            "array([ 0.  ,  1.11,  2.22, ...,  7.78,  8.89, 10.  ])\n",
            "None\n",
            "[0 1 2 3 4 5 6 7 8 9]\n",
            "[0 1 2 ... 7 8 9]\n"
          ]
        }
      ],
      "source": [
        "print(np.info(np.set_printoptions))\n",
        "a=np.arange(10)\n",
        "print(a)\n",
        "\n",
        "np.set_printoptions(threshold=3)\n",
        "\n",
        "\n",
        "print(a)\n"
      ]
    },
    {
      "cell_type": "code",
      "source": [
        "np.set_printoptions(edgeitems=3, infstr='inf', linewidth=75, nanstr='nan', precision=8,\n",
        " suppress=False, threshold=1000, formatter=None)"
      ],
      "metadata": {
        "id": "OcE6w6m0wN5h"
      },
      "execution_count": null,
      "outputs": []
    },
    {
      "cell_type": "code",
      "source": [
        "a=np.arange(10)\n",
        "print(a)\n"
      ],
      "metadata": {
        "colab": {
          "base_uri": "https://localhost:8080/"
        },
        "id": "Zm4_9lGdrRgM",
        "outputId": "33bdd477-7253-475d-e8ef-eb8f79936ec4"
      },
      "execution_count": null,
      "outputs": [
        {
          "output_type": "stream",
          "name": "stdout",
          "text": [
            "[0 1 2 3 4 5 6 7 8 9]\n"
          ]
        }
      ]
    },
    {
      "cell_type": "code",
      "source": [
        ""
      ],
      "metadata": {
        "id": "EPw8d6CuxW9q"
      },
      "execution_count": null,
      "outputs": []
    },
    {
      "cell_type": "markdown",
      "metadata": {
        "id": "OocdJYwb3JfY"
      },
      "source": [
        "#### 50. How to find the closest value (to a given scalar) in a vector? (★★☆) \n",
        "(**hint**: argmin)"
      ]
    },
    {
      "cell_type": "code",
      "execution_count": null,
      "metadata": {
        "id": "ZGpr2_2g3JfY",
        "colab": {
          "base_uri": "https://localhost:8080/",
          "height": 403
        },
        "outputId": "57e43b93-e2ba-4b4d-926a-970be792446d"
      },
      "outputs": [
        {
          "output_type": "stream",
          "name": "stdout",
          "text": [
            "[[ 1  2  3  4  5]\n",
            " [ 6  7  8  9 10]\n",
            " [11 12 13 14 15]\n",
            " [16 17 18 19 20]\n",
            " [21 22 23 24 25]]\n",
            "[0 0 0 0 0]\n",
            "[[1 2 3 4 5]\n",
            " [1 2 3 4 5]\n",
            " [1 2 3 4 5]\n",
            " [1 2 3 4 5]\n",
            " [1 2 3 4 5]]\n"
          ]
        },
        {
          "output_type": "error",
          "ename": "NameError",
          "evalue": "ignored",
          "traceback": [
            "\u001b[0;31m---------------------------------------------------------------------------\u001b[0m",
            "\u001b[0;31mNameError\u001b[0m                                 Traceback (most recent call last)",
            "\u001b[0;32m<ipython-input-5-ed0f15fbd34d>\u001b[0m in \u001b[0;36m<module>\u001b[0;34m()\u001b[0m\n\u001b[1;32m      8\u001b[0m \u001b[0mprint\u001b[0m\u001b[0;34m(\u001b[0m\u001b[0ma\u001b[0m\u001b[0;34m[\u001b[0m\u001b[0mindex_array\u001b[0m\u001b[0;34m]\u001b[0m\u001b[0;34m)\u001b[0m\u001b[0;34m\u001b[0m\u001b[0;34m\u001b[0m\u001b[0m\n\u001b[1;32m      9\u001b[0m  \u001b[0;31m# Same as np.min(x, axis=-1, keepdims=True)\u001b[0m\u001b[0;34m\u001b[0m\u001b[0;34m\u001b[0m\u001b[0;34m\u001b[0m\u001b[0m\n\u001b[0;32m---> 10\u001b[0;31m \u001b[0mprint\u001b[0m\u001b[0;34m(\u001b[0m\u001b[0mnp\u001b[0m\u001b[0;34m.\u001b[0m\u001b[0mtake_along_axis\u001b[0m\u001b[0;34m(\u001b[0m\u001b[0mx\u001b[0m\u001b[0;34m,\u001b[0m \u001b[0mnp\u001b[0m\u001b[0;34m.\u001b[0m\u001b[0mexpand_dims\u001b[0m\u001b[0;34m(\u001b[0m\u001b[0mindex_array\u001b[0m\u001b[0;34m,\u001b[0m \u001b[0maxis\u001b[0m\u001b[0;34m=\u001b[0m\u001b[0;34m-\u001b[0m\u001b[0;36m1\u001b[0m\u001b[0;34m)\u001b[0m\u001b[0;34m,\u001b[0m \u001b[0maxis\u001b[0m\u001b[0;34m=\u001b[0m\u001b[0;34m-\u001b[0m\u001b[0;36m1\u001b[0m\u001b[0;34m)\u001b[0m\u001b[0;34m)\u001b[0m\u001b[0;34m\u001b[0m\u001b[0;34m\u001b[0m\u001b[0m\n\u001b[0m",
            "\u001b[0;31mNameError\u001b[0m: name 'x' is not defined"
          ]
        }
      ],
      "source": [
        "a=np.arange(1,26).reshape(5,5)\n",
        "print(a)\n",
        "#print(np.argmin(a))\n",
        "#print(a[np.argmin(a)])\n",
        "#print(np.take_along_axis(a, np.expand_dims(np.argmin(a, axis=-1)), axis=-1), axis=-1)\n",
        "index_array = np.argmin(a, axis=-1) #axis=-1 means take the last axis of the given array\n",
        "print(index_array)\n",
        "print(a[index_array])\n",
        " # Same as np.min(x, axis=-1, keepdims=True)\n",
        "print(np.take_along_axis(x, np.expand_dims(index_array, axis=-1), axis=-1))"
      ]
    },
    {
      "cell_type": "code",
      "source": [
        "#to find the closest value in a vector, to a given scalar, we need a scalar first hand.\n",
        "scal=44\n",
        "arr=np.array([5,15,25,35,45,55])\n",
        "new_arr=arr-scal\n",
        "print(new_arr)\n",
        "new_arr=np.abs(arr-scal)\n",
        "print(new_arr)\n",
        "min_index=np.argmin(new_arr,axis=-1)\n",
        "print(min_index)\n",
        "print(np.take_along_axis(arr, np.expand_dims(min_index, axis=-1), axis=-1))"
      ],
      "metadata": {
        "colab": {
          "base_uri": "https://localhost:8080/"
        },
        "id": "6MDuOreXF2B5",
        "outputId": "db970ce6-3228-41c9-a6f7-4446149bfbf0"
      },
      "execution_count": null,
      "outputs": [
        {
          "output_type": "stream",
          "name": "stdout",
          "text": [
            "[-39 -29 -19  -9   1  11]\n",
            "[39 29 19  9  1 11]\n",
            "4\n",
            "[45]\n"
          ]
        }
      ]
    },
    {
      "cell_type": "markdown",
      "metadata": {
        "id": "1qnQKZUm3JfZ"
      },
      "source": [
        "#### 51. Create a structured array representing a position (x,y) and a color (r,g,b) (★★☆) \n",
        "(**hint**: dtype)"
      ]
    },
    {
      "cell_type": "code",
      "source": [
        "arr=np.ones(1,[('position',[('x',np.float32,(1,)),('y',np.float32,(1,))]),('color',[('r',np.float32,(1,)),('g',np.float32,(1,)),('b',np.float32,(1,))])])\n",
        "print(arr)"
      ],
      "metadata": {
        "colab": {
          "base_uri": "https://localhost:8080/"
        },
        "id": "VxLJg4KnbnLH",
        "outputId": "d7a27a49-58cb-4f47-a926-6b0006fdb468"
      },
      "execution_count": null,
      "outputs": [
        {
          "output_type": "stream",
          "name": "stdout",
          "text": [
            "[(([1.], [1.]), ([1.], [1.], [1.]))]\n"
          ]
        }
      ]
    },
    {
      "cell_type": "markdown",
      "metadata": {
        "id": "ktBUCCmn3JfZ"
      },
      "source": [
        "#### 52. Consider a random vector with shape (100,2) representing coordinates, find point by point distances (★★☆) \n",
        "(**hint**: np.atleast\\_2d, T, np.sqrt)"
      ]
    },
    {
      "cell_type": "code",
      "execution_count": null,
      "metadata": {
        "id": "AZDiXP3w3Jfb",
        "colab": {
          "base_uri": "https://localhost:8080/"
        },
        "outputId": "78d443ee-b113-4fba-cd33-545b2e5e87ab"
      },
      "outputs": [
        {
          "output_type": "stream",
          "name": "stdout",
          "text": [
            "[[3 7]\n",
            " [9 1]\n",
            " [7 6]\n",
            " [4 8]\n",
            " [2 5]\n",
            " [1 3]\n",
            " [1 5]\n",
            " [8 4]\n",
            " [7 6]\n",
            " [9 3]\n",
            " [3 1]\n",
            " [5 8]\n",
            " [3 0]\n",
            " [9 1]\n",
            " [3 0]\n",
            " [5 7]\n",
            " [9 8]\n",
            " [7 2]\n",
            " [5 6]\n",
            " [3 3]\n",
            " [7 7]\n",
            " [2 3]\n",
            " [9 4]\n",
            " [0 6]\n",
            " [5 0]\n",
            " [1 0]\n",
            " [3 0]\n",
            " [8 4]\n",
            " [4 7]\n",
            " [8 1]\n",
            " [1 4]\n",
            " [1 7]\n",
            " [8 1]\n",
            " [6 7]\n",
            " [4 3]\n",
            " [8 9]\n",
            " [2 4]\n",
            " [1 1]\n",
            " [7 8]\n",
            " [1 0]\n",
            " [4 9]\n",
            " [0 1]\n",
            " [6 8]\n",
            " [2 0]\n",
            " [7 7]\n",
            " [6 2]\n",
            " [7 3]\n",
            " [7 4]\n",
            " [3 9]\n",
            " [5 6]\n",
            " [5 9]\n",
            " [4 9]\n",
            " [3 2]\n",
            " [0 8]\n",
            " [4 5]\n",
            " [6 3]\n",
            " [3 1]\n",
            " [7 6]\n",
            " [2 9]\n",
            " [5 7]\n",
            " [0 6]\n",
            " [3 2]\n",
            " [0 5]\n",
            " [2 7]\n",
            " [1 3]\n",
            " [1 5]\n",
            " [3 7]\n",
            " [7 5]\n",
            " [3 5]\n",
            " [3 2]\n",
            " [1 2]\n",
            " [7 5]\n",
            " [8 0]\n",
            " [6 4]\n",
            " [6 3]\n",
            " [5 9]\n",
            " [2 9]\n",
            " [7 1]\n",
            " [2 6]\n",
            " [4 3]\n",
            " [8 1]\n",
            " [3 0]\n",
            " [9 3]\n",
            " [2 2]\n",
            " [4 1]\n",
            " [9 2]\n",
            " [3 5]\n",
            " [1 2]\n",
            " [3 2]\n",
            " [5 4]\n",
            " [3 2]\n",
            " [7 5]\n",
            " [5 4]\n",
            " [2 8]\n",
            " [6 4]\n",
            " [4 7]\n",
            " [2 7]\n",
            " [3 1]\n",
            " [8 9]\n",
            " [0 8]]\n",
            "[[3 9 7 4 2 1 1 8 7 9 3 5 3 9 3 5 9 7 5 3 7 2 9 0 5 1 3 8 4 8 1 1 8 6 4 8\n",
            "  2 1 7 1 4 0 6 2 7 6 7 7 3 5 5 4 3 0 4 6 3 7 2 5 0 3 0 2 1 1 3 7 3 3 1 7\n",
            "  8 6 6 5 2 7 2 4 8 3 9 2 4 9 3 1 3 5 3 7 5 2 6 4 2 3 8 0]]\n",
            "[[3]\n",
            " [9]\n",
            " [7]\n",
            " [4]\n",
            " [2]\n",
            " [1]\n",
            " [1]\n",
            " [8]\n",
            " [7]\n",
            " [9]\n",
            " [3]\n",
            " [5]\n",
            " [3]\n",
            " [9]\n",
            " [3]\n",
            " [5]\n",
            " [9]\n",
            " [7]\n",
            " [5]\n",
            " [3]\n",
            " [7]\n",
            " [2]\n",
            " [9]\n",
            " [0]\n",
            " [5]\n",
            " [1]\n",
            " [3]\n",
            " [8]\n",
            " [4]\n",
            " [8]\n",
            " [1]\n",
            " [1]\n",
            " [8]\n",
            " [6]\n",
            " [4]\n",
            " [8]\n",
            " [2]\n",
            " [1]\n",
            " [7]\n",
            " [1]\n",
            " [4]\n",
            " [0]\n",
            " [6]\n",
            " [2]\n",
            " [7]\n",
            " [6]\n",
            " [7]\n",
            " [7]\n",
            " [3]\n",
            " [5]\n",
            " [5]\n",
            " [4]\n",
            " [3]\n",
            " [0]\n",
            " [4]\n",
            " [6]\n",
            " [3]\n",
            " [7]\n",
            " [2]\n",
            " [5]\n",
            " [0]\n",
            " [3]\n",
            " [0]\n",
            " [2]\n",
            " [1]\n",
            " [1]\n",
            " [3]\n",
            " [7]\n",
            " [3]\n",
            " [3]\n",
            " [1]\n",
            " [7]\n",
            " [8]\n",
            " [6]\n",
            " [6]\n",
            " [5]\n",
            " [2]\n",
            " [7]\n",
            " [2]\n",
            " [4]\n",
            " [8]\n",
            " [3]\n",
            " [9]\n",
            " [2]\n",
            " [4]\n",
            " [9]\n",
            " [3]\n",
            " [1]\n",
            " [3]\n",
            " [5]\n",
            " [3]\n",
            " [7]\n",
            " [5]\n",
            " [2]\n",
            " [6]\n",
            " [4]\n",
            " [2]\n",
            " [3]\n",
            " [8]\n",
            " [0]]\n",
            "[[7 1 6 8 5 3 5 4 6 3 1 8 0 1 0 7 8 2 6 3 7 3 4 6 0 0 0 4 7 1 4 7 1 7 3 9\n",
            "  4 1 8 0 9 1 8 0 7 2 3 4 9 6 9 9 2 8 5 3 1 6 9 7 6 2 5 7 3 5 7 5 5 2 2 5\n",
            "  0 4 3 9 9 1 6 3 1 0 3 2 1 2 5 2 2 4 2 5 4 8 4 7 7 1 9 8]]\n",
            "[[ 0.          8.48528137  4.12310563 ...  6.          5.38516481\n",
            "   3.16227766]\n",
            " [ 8.48528137  0.          5.38516481 ...  6.          8.06225775\n",
            "  11.40175425]\n",
            " [ 4.12310563  5.38516481  0.         ...  6.40312424  3.16227766\n",
            "   7.28010989]\n",
            " ...\n",
            " [ 6.          6.          6.40312424 ...  0.          9.43398113\n",
            "   7.61577311]\n",
            " [ 5.38516481  8.06225775  3.16227766 ...  9.43398113  0.\n",
            "   8.06225775]\n",
            " [ 3.16227766 11.40175425  7.28010989 ...  7.61577311  8.06225775\n",
            "   0.        ]]\n"
          ]
        }
      ],
      "source": [
        "arr = np.random.randint(0,10,200).reshape(100,2)\n",
        "\n",
        "print(arr)\n",
        "X,Y = np.atleast_2d(arr[:,0], arr[:,1])\n",
        "print(X)\n",
        "print(X.T)\n",
        "print(Y)\n",
        "D = np.sqrt( (X-X.T)**2 + (Y-Y.T)**2)\n",
        "print(D)"
      ]
    },
    {
      "cell_type": "markdown",
      "metadata": {
        "id": "jpkKYVpq3Jfb"
      },
      "source": [
        "#### 53. How to convert a float (32 bits) array into an integer (32 bits) in place? \n",
        "(**hint**: astype(copy=False))"
      ]
    },
    {
      "cell_type": "code",
      "execution_count": null,
      "metadata": {
        "id": "kBKBMnhv3Jfe",
        "colab": {
          "base_uri": "https://localhost:8080/"
        },
        "outputId": "b3f28cec-5ff0-4c91-b45e-5d8a4c016567"
      },
      "outputs": [
        {
          "output_type": "stream",
          "name": "stdout",
          "text": [
            "[1. 2. 3.]\n",
            "[1 2 3]\n"
          ]
        }
      ],
      "source": [
        "a=np.arange(1,4,dtype=np.float32)\n",
        "print(a)\n",
        "a=a.astype(np.int32)\n",
        "print(a)"
      ]
    },
    {
      "cell_type": "markdown",
      "metadata": {
        "id": "rf1oS2vJ3Jff"
      },
      "source": [
        "#### 54. How to read the following file? (★★☆) \n",
        "(**hint**: np.genfromtxt)"
      ]
    },
    {
      "cell_type": "markdown",
      "metadata": {
        "id": "jB_4XY233Jfh"
      },
      "source": [
        "```\n",
        "1, 2, 3, 4, 5\n",
        "6,  ,  , 7, 8\n",
        " ,  , 9,10,11\n",
        "```"
      ]
    },
    {
      "cell_type": "code",
      "source": [
        "data = StringIO(\"1 2 3\\n 4 5 6\")\n",
        "\n",
        "ndtype=[('a',int), ('b', float), ('c', int)]\n",
        "\n",
        "names = [\"A\", \"B\", \"C\"]\n",
        "\n",
        "np.genfromtxt(data, names=names, dtype=ndtype)\n"
      ],
      "metadata": {
        "colab": {
          "base_uri": "https://localhost:8080/"
        },
        "id": "s6blx7_plSDu",
        "outputId": "f8f82591-387b-4b34-e87b-d3cce473398d"
      },
      "execution_count": null,
      "outputs": [
        {
          "output_type": "execute_result",
          "data": {
            "text/plain": [
              "array([(1, 2., 3), (4, 5., 6)],\n",
              "      dtype=[('A', '<i8'), ('B', '<f8'), ('C', '<i8')])"
            ]
          },
          "metadata": {},
          "execution_count": 18
        }
      ]
    },
    {
      "cell_type": "code",
      "source": [
        "data = u\"1, , 3\\n 4, 5, 6\"\n",
        "\n",
        "convert = lambda x: float(x.strip() or -999)\n",
        "\n",
        "np.genfromtxt(StringIO(data), delimiter=\",\",\n",
        "\n",
        "              converters={1: convert})"
      ],
      "metadata": {
        "colab": {
          "base_uri": "https://localhost:8080/"
        },
        "id": "UJh6M07TmrxW",
        "outputId": "9acca398-6918-4452-b9ac-95867ac6a43b"
      },
      "execution_count": null,
      "outputs": [
        {
          "output_type": "execute_result",
          "data": {
            "text/plain": [
              "array([[   1., -999.,    3.],\n",
              "       [   4.,    5.,    6.]])"
            ]
          },
          "metadata": {},
          "execution_count": 20
        }
      ]
    },
    {
      "cell_type": "code",
      "source": [
        "s = StringIO('''1, 2, 3, 4, 5\n",
        "                6,  ,  , 7, 8\n",
        "                 ,  , 9,10,11\n",
        "''')\n",
        "Z = np.genfromtxt(s, delimiter=\",\", dtype=np.int32)\n",
        "print(Z)\n"
      ],
      "metadata": {
        "colab": {
          "base_uri": "https://localhost:8080/"
        },
        "id": "grKaAajGpJxz",
        "outputId": "961e29f5-70a0-41ac-9cf1-b2f9d4bc355e"
      },
      "execution_count": null,
      "outputs": [
        {
          "output_type": "stream",
          "name": "stdout",
          "text": [
            "[[ 1  2  3  4  5]\n",
            " [ 6 -1 -1  7  8]\n",
            " [-1 -1  9 10 11]]\n"
          ]
        }
      ]
    },
    {
      "cell_type": "code",
      "source": [
        "\n",
        "\n",
        "s = StringIO(\"1, 2, 3, 4, 5\\n6,  ,  , 7, 8\\n ,  , 9,10,11\")\n",
        "\n",
        "convert=lambda x:float(x.strip())\n",
        "np.genfromtxt(s,delimiter=\",\",\n",
        "              converters={1: convert})\n",
        "#ans=np.genfromtxt(s,dtype=[('i8,''f8','S5')],delimiter=',')\n",
        "#print(ans)"
      ],
      "metadata": {
        "colab": {
          "base_uri": "https://localhost:8080/"
        },
        "id": "0TuTlX0keHdy",
        "outputId": "be534229-21d9-4b06-9fb2-e6af40d310fb"
      },
      "execution_count": null,
      "outputs": [
        {
          "output_type": "execute_result",
          "data": {
            "text/plain": [
              "array([[ 1.,  2.,  3.,  4.,  5.],\n",
              "       [ 6., nan, nan,  7.,  8.],\n",
              "       [nan, nan,  9., 10., 11.]])"
            ]
          },
          "metadata": {},
          "execution_count": 31
        }
      ]
    },
    {
      "cell_type": "code",
      "execution_count": null,
      "metadata": {
        "id": "WwuOEG9M3Jfi",
        "colab": {
          "base_uri": "https://localhost:8080/"
        },
        "outputId": "87dbb911-7ef4-4fd4-90df-1b0ecf5b642e"
      },
      "outputs": [
        {
          "output_type": "stream",
          "name": "stdout",
          "text": [
            "Help on function genfromtxt in module numpy:\n",
            "\n",
            "genfromtxt(fname, dtype=<class 'float'>, comments='#', delimiter=None, skip_header=0, skip_footer=0, converters=None, missing_values=None, filling_values=None, usecols=None, names=None, excludelist=None, deletechars=\" !#$%&'()*+,-./:;<=>?@[\\\\]^{|}~\", replace_space='_', autostrip=False, case_sensitive=True, defaultfmt='f%i', unpack=None, usemask=False, loose=True, invalid_raise=True, max_rows=None, encoding='bytes', *, like=None)\n",
            "    Load data from a text file, with missing values handled as specified.\n",
            "    \n",
            "    Each line past the first `skip_header` lines is split at the `delimiter`\n",
            "    character, and characters following the `comments` character are discarded.\n",
            "    \n",
            "    Parameters\n",
            "    ----------\n",
            "    fname : file, str, pathlib.Path, list of str, generator\n",
            "        File, filename, list, or generator to read.  If the filename\n",
            "        extension is `.gz` or `.bz2`, the file is first decompressed. Note\n",
            "        that generators must return byte strings. The strings\n",
            "        in a list or produced by a generator are treated as lines.\n",
            "    dtype : dtype, optional\n",
            "        Data type of the resulting array.\n",
            "        If None, the dtypes will be determined by the contents of each\n",
            "        column, individually.\n",
            "    comments : str, optional\n",
            "        The character used to indicate the start of a comment.\n",
            "        All the characters occurring on a line after a comment are discarded.\n",
            "    delimiter : str, int, or sequence, optional\n",
            "        The string used to separate values.  By default, any consecutive\n",
            "        whitespaces act as delimiter.  An integer or sequence of integers\n",
            "        can also be provided as width(s) of each field.\n",
            "    skiprows : int, optional\n",
            "        `skiprows` was removed in numpy 1.10. Please use `skip_header` instead.\n",
            "    skip_header : int, optional\n",
            "        The number of lines to skip at the beginning of the file.\n",
            "    skip_footer : int, optional\n",
            "        The number of lines to skip at the end of the file.\n",
            "    converters : variable, optional\n",
            "        The set of functions that convert the data of a column to a value.\n",
            "        The converters can also be used to provide a default value\n",
            "        for missing data: ``converters = {3: lambda s: float(s or 0)}``.\n",
            "    missing : variable, optional\n",
            "        `missing` was removed in numpy 1.10. Please use `missing_values`\n",
            "        instead.\n",
            "    missing_values : variable, optional\n",
            "        The set of strings corresponding to missing data.\n",
            "    filling_values : variable, optional\n",
            "        The set of values to be used as default when the data are missing.\n",
            "    usecols : sequence, optional\n",
            "        Which columns to read, with 0 being the first.  For example,\n",
            "        ``usecols = (1, 4, 5)`` will extract the 2nd, 5th and 6th columns.\n",
            "    names : {None, True, str, sequence}, optional\n",
            "        If `names` is True, the field names are read from the first line after\n",
            "        the first `skip_header` lines. This line can optionally be preceeded\n",
            "        by a comment delimiter. If `names` is a sequence or a single-string of\n",
            "        comma-separated names, the names will be used to define the field names\n",
            "        in a structured dtype. If `names` is None, the names of the dtype\n",
            "        fields will be used, if any.\n",
            "    excludelist : sequence, optional\n",
            "        A list of names to exclude. This list is appended to the default list\n",
            "        ['return','file','print']. Excluded names are appended with an\n",
            "        underscore: for example, `file` would become `file_`.\n",
            "    deletechars : str, optional\n",
            "        A string combining invalid characters that must be deleted from the\n",
            "        names.\n",
            "    defaultfmt : str, optional\n",
            "        A format used to define default field names, such as \"f%i\" or \"f_%02i\".\n",
            "    autostrip : bool, optional\n",
            "        Whether to automatically strip white spaces from the variables.\n",
            "    replace_space : char, optional\n",
            "        Character(s) used in replacement of white spaces in the variable\n",
            "        names. By default, use a '_'.\n",
            "    case_sensitive : {True, False, 'upper', 'lower'}, optional\n",
            "        If True, field names are case sensitive.\n",
            "        If False or 'upper', field names are converted to upper case.\n",
            "        If 'lower', field names are converted to lower case.\n",
            "    unpack : bool, optional\n",
            "        If True, the returned array is transposed, so that arguments may be\n",
            "        unpacked using ``x, y, z = genfromtxt(...)``.  When used with a\n",
            "        structured data-type, arrays are returned for each field.\n",
            "        Default is False.\n",
            "    usemask : bool, optional\n",
            "        If True, return a masked array.\n",
            "        If False, return a regular array.\n",
            "    loose : bool, optional\n",
            "        If True, do not raise errors for invalid values.\n",
            "    invalid_raise : bool, optional\n",
            "        If True, an exception is raised if an inconsistency is detected in the\n",
            "        number of columns.\n",
            "        If False, a warning is emitted and the offending lines are skipped.\n",
            "    max_rows : int,  optional\n",
            "        The maximum number of rows to read. Must not be used with skip_footer\n",
            "        at the same time.  If given, the value must be at least 1. Default is\n",
            "        to read the entire file.\n",
            "    \n",
            "        .. versionadded:: 1.10.0\n",
            "    encoding : str, optional\n",
            "        Encoding used to decode the inputfile. Does not apply when `fname` is\n",
            "        a file object.  The special value 'bytes' enables backward compatibility\n",
            "        workarounds that ensure that you receive byte arrays when possible\n",
            "        and passes latin1 encoded strings to converters. Override this value to\n",
            "        receive unicode arrays and pass strings as input to converters.  If set\n",
            "        to None the system default is used. The default value is 'bytes'.\n",
            "    \n",
            "        .. versionadded:: 1.14.0\n",
            "    like : array_like\n",
            "        Reference object to allow the creation of arrays which are not\n",
            "        NumPy arrays. If an array-like passed in as ``like`` supports\n",
            "        the ``__array_function__`` protocol, the result will be defined\n",
            "        by it. In this case, it ensures the creation of an array object\n",
            "        compatible with that passed in via this argument.\n",
            "    \n",
            "        .. versionadded:: 1.20.0\n",
            "    \n",
            "    Returns\n",
            "    -------\n",
            "    out : ndarray\n",
            "        Data read from the text file. If `usemask` is True, this is a\n",
            "        masked array.\n",
            "    \n",
            "    See Also\n",
            "    --------\n",
            "    numpy.loadtxt : equivalent function when no data is missing.\n",
            "    \n",
            "    Notes\n",
            "    -----\n",
            "    * When spaces are used as delimiters, or when no delimiter has been given\n",
            "      as input, there should not be any missing data between two fields.\n",
            "    * When the variables are named (either by a flexible dtype or with `names`),\n",
            "      there must not be any header in the file (else a ValueError\n",
            "      exception is raised).\n",
            "    * Individual values are not stripped of spaces by default.\n",
            "      When using a custom converter, make sure the function does remove spaces.\n",
            "    \n",
            "    References\n",
            "    ----------\n",
            "    .. [1] NumPy User Guide, section `I/O with NumPy\n",
            "           <https://docs.scipy.org/doc/numpy/user/basics.io.genfromtxt.html>`_.\n",
            "    \n",
            "    Examples\n",
            "    --------\n",
            "    >>> from io import StringIO\n",
            "    >>> import numpy as np\n",
            "    \n",
            "    Comma delimited file with mixed dtype\n",
            "    \n",
            "    >>> s = StringIO(u\"1,1.3,abcde\")\n",
            "    >>> data = np.genfromtxt(s, dtype=[('myint','i8'),('myfloat','f8'),\n",
            "    ... ('mystring','S5')], delimiter=\",\")\n",
            "    >>> data\n",
            "    array((1, 1.3, b'abcde'),\n",
            "          dtype=[('myint', '<i8'), ('myfloat', '<f8'), ('mystring', 'S5')])\n",
            "    \n",
            "    Using dtype = None\n",
            "    \n",
            "    >>> _ = s.seek(0) # needed for StringIO example only\n",
            "    >>> data = np.genfromtxt(s, dtype=None,\n",
            "    ... names = ['myint','myfloat','mystring'], delimiter=\",\")\n",
            "    >>> data\n",
            "    array((1, 1.3, b'abcde'),\n",
            "          dtype=[('myint', '<i8'), ('myfloat', '<f8'), ('mystring', 'S5')])\n",
            "    \n",
            "    Specifying dtype and names\n",
            "    \n",
            "    >>> _ = s.seek(0)\n",
            "    >>> data = np.genfromtxt(s, dtype=\"i8,f8,S5\",\n",
            "    ... names=['myint','myfloat','mystring'], delimiter=\",\")\n",
            "    >>> data\n",
            "    array((1, 1.3, b'abcde'),\n",
            "          dtype=[('myint', '<i8'), ('myfloat', '<f8'), ('mystring', 'S5')])\n",
            "    \n",
            "    An example with fixed-width columns\n",
            "    \n",
            "    >>> s = StringIO(u\"11.3abcde\")\n",
            "    >>> data = np.genfromtxt(s, dtype=None, names=['intvar','fltvar','strvar'],\n",
            "    ...     delimiter=[1,3,5])\n",
            "    >>> data\n",
            "    array((1, 1.3, b'abcde'),\n",
            "          dtype=[('intvar', '<i8'), ('fltvar', '<f8'), ('strvar', 'S5')])\n",
            "    \n",
            "    An example to show comments\n",
            "    \n",
            "    >>> f = StringIO('''\n",
            "    ... text,# of chars\n",
            "    ... hello world,11\n",
            "    ... numpy,5''')\n",
            "    >>> np.genfromtxt(f, dtype='S12,S12', delimiter=',')\n",
            "    array([(b'text', b''), (b'hello world', b'11'), (b'numpy', b'5')],\n",
            "      dtype=[('f0', 'S12'), ('f1', 'S12')])\n",
            "\n",
            "None\n"
          ]
        }
      ],
      "source": [
        "print(help(np.genfromtxt))"
      ]
    },
    {
      "cell_type": "markdown",
      "metadata": {
        "id": "ScOkHQ_d3Jfj"
      },
      "source": [
        "#### 55. What is the equivalent of enumerate for numpy arrays? (★★☆) \n",
        "(**hint**: np.ndenumerate, np.ndindex)"
      ]
    },
    {
      "cell_type": "code",
      "execution_count": null,
      "metadata": {
        "id": "mNBl5ovP3Jfl",
        "colab": {
          "base_uri": "https://localhost:8080/"
        },
        "outputId": "b06a0332-9d85-4881-da65-a21eb237b65a"
      },
      "outputs": [
        {
          "output_type": "stream",
          "name": "stdout",
          "text": [
            " ndenumerate(arr)\n",
            "\n",
            "Multidimensional index iterator.\n",
            "\n",
            "Return an iterator yielding pairs of array coordinates and values.\n",
            "\n",
            "Parameters\n",
            "----------\n",
            "arr : ndarray\n",
            "  Input array.\n",
            "\n",
            "See Also\n",
            "--------\n",
            "ndindex, flatiter\n",
            "\n",
            "Examples\n",
            "--------\n",
            ">>> a = np.array([[1, 2], [3, 4]])\n",
            ">>> for index, x in np.ndenumerate(a):\n",
            "...     print(index, x)\n",
            "(0, 0) 1\n",
            "(0, 1) 2\n",
            "(1, 0) 3\n",
            "(1, 1) 4\n",
            "None\n"
          ]
        }
      ],
      "source": [
        "print(np.info(np.ndenumerate))"
      ]
    },
    {
      "cell_type": "code",
      "source": [
        "Z = np.arange(9).reshape(3,3)\n",
        "for index, value in np.ndenumerate(Z):\n",
        "    print(index, value)\n",
        "for index in np.ndindex(Z.shape):\n",
        "    print(index, Z[index])"
      ],
      "metadata": {
        "colab": {
          "base_uri": "https://localhost:8080/"
        },
        "id": "MjHOpknVvIBU",
        "outputId": "96c3b003-cb7d-4a7e-f5f2-32c6ec788c2b"
      },
      "execution_count": null,
      "outputs": [
        {
          "output_type": "stream",
          "name": "stdout",
          "text": [
            "(0, 0) 0\n",
            "(0, 1) 1\n",
            "(0, 2) 2\n",
            "(1, 0) 3\n",
            "(1, 1) 4\n",
            "(1, 2) 5\n",
            "(2, 0) 6\n",
            "(2, 1) 7\n",
            "(2, 2) 8\n",
            "(0, 0) 0\n",
            "(0, 1) 1\n",
            "(0, 2) 2\n",
            "(1, 0) 3\n",
            "(1, 1) 4\n",
            "(1, 2) 5\n",
            "(2, 0) 6\n",
            "(2, 1) 7\n",
            "(2, 2) 8\n"
          ]
        }
      ]
    },
    {
      "cell_type": "code",
      "source": [
        "print(help(np.ndindex))"
      ],
      "metadata": {
        "colab": {
          "base_uri": "https://localhost:8080/"
        },
        "id": "F4D8dOibvZUF",
        "outputId": "aed0e017-d87f-41aa-b380-83dfd1eff67d"
      },
      "execution_count": null,
      "outputs": [
        {
          "output_type": "stream",
          "name": "stdout",
          "text": [
            "Help on class ndindex in module numpy:\n",
            "\n",
            "class ndindex(builtins.object)\n",
            " |  ndindex(*shape)\n",
            " |  \n",
            " |  An N-dimensional iterator object to index arrays.\n",
            " |  \n",
            " |  Given the shape of an array, an `ndindex` instance iterates over\n",
            " |  the N-dimensional index of the array. At each iteration a tuple\n",
            " |  of indices is returned, the last dimension is iterated over first.\n",
            " |  \n",
            " |  Parameters\n",
            " |  ----------\n",
            " |  shape : ints, or a single tuple of ints\n",
            " |      The size of each dimension of the array can be passed as \n",
            " |      individual parameters or as the elements of a tuple.\n",
            " |  \n",
            " |  See Also\n",
            " |  --------\n",
            " |  ndenumerate, flatiter\n",
            " |  \n",
            " |  Examples\n",
            " |  --------\n",
            " |  # dimensions as individual arguments\n",
            " |  >>> for index in np.ndindex(3, 2, 1):\n",
            " |  ...     print(index)\n",
            " |  (0, 0, 0)\n",
            " |  (0, 1, 0)\n",
            " |  (1, 0, 0)\n",
            " |  (1, 1, 0)\n",
            " |  (2, 0, 0)\n",
            " |  (2, 1, 0)\n",
            " |  \n",
            " |  # same dimensions - but in a tuple (3, 2, 1)\n",
            " |  >>> for index in np.ndindex((3, 2, 1)):\n",
            " |  ...     print(index)\n",
            " |  (0, 0, 0)\n",
            " |  (0, 1, 0)\n",
            " |  (1, 0, 0)\n",
            " |  (1, 1, 0)\n",
            " |  (2, 0, 0)\n",
            " |  (2, 1, 0)\n",
            " |  \n",
            " |  Methods defined here:\n",
            " |  \n",
            " |  __init__(self, *shape)\n",
            " |      Initialize self.  See help(type(self)) for accurate signature.\n",
            " |  \n",
            " |  __iter__(self)\n",
            " |  \n",
            " |  __next__(self)\n",
            " |      Standard iterator method, updates the index and returns the index\n",
            " |      tuple.\n",
            " |      \n",
            " |      Returns\n",
            " |      -------\n",
            " |      val : tuple of ints\n",
            " |          Returns a tuple containing the indices of the current\n",
            " |          iteration.\n",
            " |  \n",
            " |  ndincr(self)\n",
            " |      Increment the multi-dimensional index by one.\n",
            " |      \n",
            " |      This method is for backward compatibility only: do not use.\n",
            " |      \n",
            " |      .. deprecated:: 1.20.0\n",
            " |          This method has been advised against since numpy 1.8.0, but only\n",
            " |          started emitting DeprecationWarning as of this version.\n",
            " |  \n",
            " |  ----------------------------------------------------------------------\n",
            " |  Data descriptors defined here:\n",
            " |  \n",
            " |  __dict__\n",
            " |      dictionary for instance variables (if defined)\n",
            " |  \n",
            " |  __weakref__\n",
            " |      list of weak references to the object (if defined)\n",
            "\n",
            "None\n"
          ]
        }
      ]
    },
    {
      "cell_type": "code",
      "source": [
        "a = np.array([[1, 2], [3, 4]])\n",
        ">>> for index, x in np.ndenumerate(a):\n",
        "...     print(index, x)\n"
      ],
      "metadata": {
        "colab": {
          "base_uri": "https://localhost:8080/"
        },
        "id": "2Wd38Y0_tL2W",
        "outputId": "576a5b83-b200-4d4b-d1ba-a51234661ef8"
      },
      "execution_count": null,
      "outputs": [
        {
          "output_type": "stream",
          "name": "stdout",
          "text": [
            "(0, 0) 1\n",
            "(0, 1) 2\n",
            "(1, 0) 3\n",
            "(1, 1) 4\n"
          ]
        }
      ]
    },
    {
      "cell_type": "code",
      "source": [
        "a=np.array([[2,4,6],[1,1,1]])\n",
        "print(a)\n",
        "for index_aij,aij in np.ndenumerate(a):\n",
        "  print(aij, index_aij)"
      ],
      "metadata": {
        "colab": {
          "base_uri": "https://localhost:8080/"
        },
        "id": "Tn98KLD0tV3g",
        "outputId": "610404ba-e9f0-40ab-8fec-326fe0959c90"
      },
      "execution_count": null,
      "outputs": [
        {
          "output_type": "stream",
          "name": "stdout",
          "text": [
            "[[2 4 6]\n",
            " [1 1 1]]\n",
            "2 (0, 0)\n",
            "4 (0, 1)\n",
            "6 (0, 2)\n",
            "1 (1, 0)\n",
            "1 (1, 1)\n",
            "1 (1, 2)\n"
          ]
        }
      ]
    },
    {
      "cell_type": "code",
      "source": [
        "arr=([[ 1.,  2.,  3.,  4.,  5.],\n",
        "       [ 6., nan, nan,  7.,  8.],\n",
        "       [nan, nan,  9., 10., 11.]])\n",
        "nan=0\n",
        "for index_aij,aij in np.ndenumerate(a):\n",
        "  print(aij, index_aij)"
      ],
      "metadata": {
        "colab": {
          "base_uri": "https://localhost:8080/",
          "height": 242
        },
        "id": "WNzC1gtRuaOm",
        "outputId": "ce2ee25d-3405-41fd-9da3-cefd1c0709e7"
      },
      "execution_count": null,
      "outputs": [
        {
          "output_type": "error",
          "ename": "NameError",
          "evalue": "ignored",
          "traceback": [
            "\u001b[0;31m---------------------------------------------------------------------------\u001b[0m",
            "\u001b[0;31mNameError\u001b[0m                                 Traceback (most recent call last)",
            "\u001b[0;32m<ipython-input-42-505dc9ea3482>\u001b[0m in \u001b[0;36m<module>\u001b[0;34m()\u001b[0m\n\u001b[1;32m      1\u001b[0m arr=([[ 1.,  2.,  3.,  4.,  5.],\n\u001b[0;32m----> 2\u001b[0;31m        \u001b[0;34m[\u001b[0m \u001b[0;36m6.\u001b[0m\u001b[0;34m,\u001b[0m \u001b[0mnan\u001b[0m\u001b[0;34m,\u001b[0m \u001b[0mnan\u001b[0m\u001b[0;34m,\u001b[0m  \u001b[0;36m7.\u001b[0m\u001b[0;34m,\u001b[0m  \u001b[0;36m8.\u001b[0m\u001b[0;34m]\u001b[0m\u001b[0;34m,\u001b[0m\u001b[0;34m\u001b[0m\u001b[0;34m\u001b[0m\u001b[0m\n\u001b[0m\u001b[1;32m      3\u001b[0m        [nan, nan,  9., 10., 11.]])\n\u001b[1;32m      4\u001b[0m \u001b[0mnan\u001b[0m\u001b[0;34m=\u001b[0m\u001b[0;36m0\u001b[0m\u001b[0;34m\u001b[0m\u001b[0;34m\u001b[0m\u001b[0m\n\u001b[1;32m      5\u001b[0m \u001b[0;32mfor\u001b[0m \u001b[0mindex_aij\u001b[0m\u001b[0;34m,\u001b[0m\u001b[0maij\u001b[0m \u001b[0;32min\u001b[0m \u001b[0mnp\u001b[0m\u001b[0;34m.\u001b[0m\u001b[0mndenumerate\u001b[0m\u001b[0;34m(\u001b[0m\u001b[0ma\u001b[0m\u001b[0;34m)\u001b[0m\u001b[0;34m:\u001b[0m\u001b[0;34m\u001b[0m\u001b[0;34m\u001b[0m\u001b[0m\n",
            "\u001b[0;31mNameError\u001b[0m: name 'nan' is not defined"
          ]
        }
      ]
    },
    {
      "cell_type": "markdown",
      "metadata": {
        "id": "GxOn8STx3Jfm"
      },
      "source": [
        "#### 56. Generate a generic 2D Gaussian-like array (★★☆) \n",
        "(**hint**: np.meshgrid, np.exp)"
      ]
    },
    {
      "cell_type": "code",
      "execution_count": null,
      "metadata": {
        "id": "h2zzPGR33Jf0",
        "colab": {
          "base_uri": "https://localhost:8080/"
        },
        "outputId": "d4095933-98e7-4082-ddc0-80265c6cfcb8"
      },
      "outputs": [
        {
          "output_type": "stream",
          "name": "stdout",
          "text": [
            "[[-1.  -0.5  0.   0.5  1. ]\n",
            " [-1.  -0.5  0.   0.5  1. ]\n",
            " [-1.  -0.5  0.   0.5  1. ]\n",
            " [-1.  -0.5  0.   0.5  1. ]\n",
            " [-1.  -0.5  0.   0.5  1. ]] [[-1.  -1.  -1.  -1.  -1. ]\n",
            " [-0.5 -0.5 -0.5 -0.5 -0.5]\n",
            " [ 0.   0.   0.   0.   0. ]\n",
            " [ 0.5  0.5  0.5  0.5  0.5]\n",
            " [ 1.   1.   1.   1.   1. ]]\n",
            "[[0.05854983 0.0851895  0.09653235 0.0851895  0.05854983]\n",
            " [0.0851895  0.12394999 0.14045374 0.12394999 0.0851895 ]\n",
            " [0.09653235 0.14045374 0.15915494 0.14045374 0.09653235]\n",
            " [0.0851895  0.12394999 0.14045374 0.12394999 0.0851895 ]\n",
            " [0.05854983 0.0851895  0.09653235 0.0851895  0.05854983]]\n"
          ]
        }
      ],
      "source": [
        "x,y=np.meshgrid(np.linspace(-1,1,5),np.linspace(-1,1,5))\n",
        "print(x,y)\n",
        "sigma=1.0\n",
        "gauss=(1/(2*(np.pi*sigma**2)))*(np.exp(-(np.sqrt(x**2+y**2)**2)/2*sigma**2))\n",
        "print(gauss)"
      ]
    },
    {
      "cell_type": "code",
      "source": [
        "x, y = np.meshgrid(np.linspace(-1,1,5), np.linspace(-1,1,5))\n",
        "D = np.sqrt(x*x+y*y)\n",
        "sigma, mu = 1.0, 0.0\n",
        "G = np.exp(-( (D-mu)**2 / ( 2.0 * sigma**2 ) ) )\n",
        "print(G)"
      ],
      "metadata": {
        "colab": {
          "base_uri": "https://localhost:8080/"
        },
        "id": "akZvbHDI1qoj",
        "outputId": "8533eebd-fbcc-4987-ef96-2f4388374ed4"
      },
      "execution_count": null,
      "outputs": [
        {
          "output_type": "stream",
          "name": "stdout",
          "text": [
            "[[0.36787944 0.44822088 0.51979489 0.57375342 0.60279818 0.60279818\n",
            "  0.57375342 0.51979489 0.44822088 0.36787944]\n",
            " [0.44822088 0.54610814 0.63331324 0.69905581 0.73444367 0.73444367\n",
            "  0.69905581 0.63331324 0.54610814 0.44822088]\n",
            " [0.51979489 0.63331324 0.73444367 0.81068432 0.85172308 0.85172308\n",
            "  0.81068432 0.73444367 0.63331324 0.51979489]\n",
            " [0.57375342 0.69905581 0.81068432 0.89483932 0.9401382  0.9401382\n",
            "  0.89483932 0.81068432 0.69905581 0.57375342]\n",
            " [0.60279818 0.73444367 0.85172308 0.9401382  0.98773022 0.98773022\n",
            "  0.9401382  0.85172308 0.73444367 0.60279818]\n",
            " [0.60279818 0.73444367 0.85172308 0.9401382  0.98773022 0.98773022\n",
            "  0.9401382  0.85172308 0.73444367 0.60279818]\n",
            " [0.57375342 0.69905581 0.81068432 0.89483932 0.9401382  0.9401382\n",
            "  0.89483932 0.81068432 0.69905581 0.57375342]\n",
            " [0.51979489 0.63331324 0.73444367 0.81068432 0.85172308 0.85172308\n",
            "  0.81068432 0.73444367 0.63331324 0.51979489]\n",
            " [0.44822088 0.54610814 0.63331324 0.69905581 0.73444367 0.73444367\n",
            "  0.69905581 0.63331324 0.54610814 0.44822088]\n",
            " [0.36787944 0.44822088 0.51979489 0.57375342 0.60279818 0.60279818\n",
            "  0.57375342 0.51979489 0.44822088 0.36787944]]\n"
          ]
        }
      ]
    },
    {
      "cell_type": "markdown",
      "metadata": {
        "id": "AYlSTU9p3JgE"
      },
      "source": [
        "#### 57. How to randomly place p elements in a 2D array? (★★☆) \n",
        "(**hint**: np.put, np.random.choice)"
      ]
    },
    {
      "cell_type": "code",
      "execution_count": null,
      "metadata": {
        "id": "JBujiAlL3JgJ",
        "colab": {
          "base_uri": "https://localhost:8080/"
        },
        "outputId": "f235d46e-c01f-4eea-fadb-e57750533083"
      },
      "outputs": [
        {
          "output_type": "stream",
          "name": "stdout",
          "text": [
            "Help on function put in module numpy:\n",
            "\n",
            "put(a, ind, v, mode='raise')\n",
            "    Replaces specified elements of an array with given values.\n",
            "    \n",
            "    The indexing works on the flattened target array. `put` is roughly\n",
            "    equivalent to:\n",
            "    \n",
            "    ::\n",
            "    \n",
            "        a.flat[ind] = v\n",
            "    \n",
            "    Parameters\n",
            "    ----------\n",
            "    a : ndarray\n",
            "        Target array.\n",
            "    ind : array_like\n",
            "        Target indices, interpreted as integers.\n",
            "    v : array_like\n",
            "        Values to place in `a` at target indices. If `v` is shorter than\n",
            "        `ind` it will be repeated as necessary.\n",
            "    mode : {'raise', 'wrap', 'clip'}, optional\n",
            "        Specifies how out-of-bounds indices will behave.\n",
            "    \n",
            "        * 'raise' -- raise an error (default)\n",
            "        * 'wrap' -- wrap around\n",
            "        * 'clip' -- clip to the range\n",
            "    \n",
            "        'clip' mode means that all indices that are too large are replaced\n",
            "        by the index that addresses the last element along that axis. Note\n",
            "        that this disables indexing with negative numbers. In 'raise' mode,\n",
            "        if an exception occurs the target array may still be modified.\n",
            "    \n",
            "    See Also\n",
            "    --------\n",
            "    putmask, place\n",
            "    put_along_axis : Put elements by matching the array and the index arrays\n",
            "    \n",
            "    Examples\n",
            "    --------\n",
            "    >>> a = np.arange(5)\n",
            "    >>> np.put(a, [0, 2], [-44, -55])\n",
            "    >>> a\n",
            "    array([-44,   1, -55,   3,   4])\n",
            "    \n",
            "    >>> a = np.arange(5)\n",
            "    >>> np.put(a, 22, -5, mode='clip')\n",
            "    >>> a\n",
            "    array([ 0,  1,  2,  3, -5])\n",
            "\n"
          ]
        }
      ],
      "source": [
        "help( np.put)"
      ]
    },
    {
      "cell_type": "code",
      "source": [
        "help(np.random.choice)"
      ],
      "metadata": {
        "colab": {
          "base_uri": "https://localhost:8080/"
        },
        "id": "gkOypgfv3hX6",
        "outputId": "9573e0c6-3be4-4d2a-a4a1-f23dc465187e"
      },
      "execution_count": null,
      "outputs": [
        {
          "output_type": "stream",
          "name": "stdout",
          "text": [
            "Help on built-in function choice:\n",
            "\n",
            "choice(...) method of numpy.random.mtrand.RandomState instance\n",
            "    choice(a, size=None, replace=True, p=None)\n",
            "    \n",
            "    Generates a random sample from a given 1-D array\n",
            "    \n",
            "    .. versionadded:: 1.7.0\n",
            "    \n",
            "    .. note::\n",
            "        New code should use the ``choice`` method of a ``default_rng()``\n",
            "        instance instead; please see the :ref:`random-quick-start`.\n",
            "    \n",
            "    Parameters\n",
            "    ----------\n",
            "    a : 1-D array-like or int\n",
            "        If an ndarray, a random sample is generated from its elements.\n",
            "        If an int, the random sample is generated as if it were ``np.arange(a)``\n",
            "    size : int or tuple of ints, optional\n",
            "        Output shape.  If the given shape is, e.g., ``(m, n, k)``, then\n",
            "        ``m * n * k`` samples are drawn.  Default is None, in which case a\n",
            "        single value is returned.\n",
            "    replace : boolean, optional\n",
            "        Whether the sample is with or without replacement. Default is True,\n",
            "        meaning that a value of ``a`` can be selected multiple times.\n",
            "    p : 1-D array-like, optional\n",
            "        The probabilities associated with each entry in a.\n",
            "        If not given, the sample assumes a uniform distribution over all\n",
            "        entries in ``a``.\n",
            "    \n",
            "    Returns\n",
            "    -------\n",
            "    samples : single item or ndarray\n",
            "        The generated random samples\n",
            "    \n",
            "    Raises\n",
            "    ------\n",
            "    ValueError\n",
            "        If a is an int and less than zero, if a or p are not 1-dimensional,\n",
            "        if a is an array-like of size 0, if p is not a vector of\n",
            "        probabilities, if a and p have different lengths, or if\n",
            "        replace=False and the sample size is greater than the population\n",
            "        size\n",
            "    \n",
            "    See Also\n",
            "    --------\n",
            "    randint, shuffle, permutation\n",
            "    Generator.choice: which should be used in new code\n",
            "    \n",
            "    Notes\n",
            "    -----\n",
            "    Setting user-specified probabilities through ``p`` uses a more general but less\n",
            "    efficient sampler than the default. The general sampler produces a different sample\n",
            "    than the optimized sampler even if each element of ``p`` is 1 / len(a).\n",
            "    \n",
            "    Sampling random rows from a 2-D array is not possible with this function,\n",
            "    but is possible with `Generator.choice` through its ``axis`` keyword.\n",
            "    \n",
            "    Examples\n",
            "    --------\n",
            "    Generate a uniform random sample from np.arange(5) of size 3:\n",
            "    \n",
            "    >>> np.random.choice(5, 3)\n",
            "    array([0, 3, 4]) # random\n",
            "    >>> #This is equivalent to np.random.randint(0,5,3)\n",
            "    \n",
            "    Generate a non-uniform random sample from np.arange(5) of size 3:\n",
            "    \n",
            "    >>> np.random.choice(5, 3, p=[0.1, 0, 0.3, 0.6, 0])\n",
            "    array([3, 3, 0]) # random\n",
            "    \n",
            "    Generate a uniform random sample from np.arange(5) of size 3 without\n",
            "    replacement:\n",
            "    \n",
            "    >>> np.random.choice(5, 3, replace=False)\n",
            "    array([3,1,0]) # random\n",
            "    >>> #This is equivalent to np.random.permutation(np.arange(5))[:3]\n",
            "    \n",
            "    Generate a non-uniform random sample from np.arange(5) of size\n",
            "    3 without replacement:\n",
            "    \n",
            "    >>> np.random.choice(5, 3, replace=False, p=[0.1, 0, 0.3, 0.6, 0])\n",
            "    array([2, 3, 0]) # random\n",
            "    \n",
            "    Any of the above can be repeated with an arbitrary array-like\n",
            "    instead of just integers. For instance:\n",
            "    \n",
            "    >>> aa_milne_arr = ['pooh', 'rabbit', 'piglet', 'Christopher']\n",
            "    >>> np.random.choice(aa_milne_arr, 5, p=[0.5, 0.1, 0.1, 0.3])\n",
            "    array(['pooh', 'pooh', 'pooh', 'Christopher', 'piglet'], # random\n",
            "          dtype='<U11')\n",
            "\n"
          ]
        }
      ]
    },
    {
      "cell_type": "code",
      "source": [
        "a = np.arange(10).reshape(2,5)\n",
        "print(a)\n",
        "#np.put(a, [0, 2], [-44, -55]) # in array a,at index 0 and 2, put -44 and -55\n",
        "#print(a)\n",
        "\n",
        "#Generate a non-uniform random sample from np.arange(5) of size 3:\n",
        "    \n",
        "ab=np.random.choice(5, 3)\n",
        "print(ab) #when prob is mentioned, the random\n",
        "#selection will be based on the probability \n",
        "#sum of all probability=1\n",
        "\n",
        "#we are using np.random.choice, to randomly select indices, where we can np.put the value '99'\n",
        "\n",
        "np.put(a,np.random.choice(range(10), 2, replace=True),99) #do not assign this line to any variable\n",
        "#we are manipulating tha array a only.\n",
        "print(a)"
      ],
      "metadata": {
        "colab": {
          "base_uri": "https://localhost:8080/"
        },
        "id": "YTDrVwJ_4u2T",
        "outputId": "07753bdb-72ca-4b62-ce26-6704c4b51ce6"
      },
      "execution_count": null,
      "outputs": [
        {
          "output_type": "stream",
          "name": "stdout",
          "text": [
            "[[0 1 2 3 4]\n",
            " [5 6 7 8 9]]\n",
            "[2 1 1]\n",
            "[[ 0  1  2  3 99]\n",
            " [ 5  6 99  8  9]]\n"
          ]
        }
      ]
    },
    {
      "cell_type": "code",
      "source": [
        "np.random.choice(5, 2, replace=True)"
      ],
      "metadata": {
        "colab": {
          "base_uri": "https://localhost:8080/"
        },
        "id": "JwOODM1TvrRu",
        "outputId": "54f3cc47-6756-4184-d847-ecc1f4798679"
      },
      "execution_count": null,
      "outputs": [
        {
          "output_type": "execute_result",
          "data": {
            "text/plain": [
              "array([2, 0])"
            ]
          },
          "metadata": {},
          "execution_count": 41
        }
      ]
    },
    {
      "cell_type": "code",
      "source": [
        "#now replace 'a' in first condition\n",
        "a = np.arange(5)\n",
        "arr= np.put(a, np.random.choice(5, 3), [0, 2], [-44, -55])\n",
        "print(arr)"
      ],
      "metadata": {
        "id": "tOl_7KYGpdAA"
      },
      "execution_count": null,
      "outputs": []
    },
    {
      "cell_type": "code",
      "source": [
        "n = 10\n",
        "p = 3\n",
        "Z = np.zeros((n,n))\n",
        "np.put(Z, np.random.choice(range(n*n), p, replace=False),1)\n",
        "print(Z)"
      ],
      "metadata": {
        "colab": {
          "base_uri": "https://localhost:8080/"
        },
        "id": "LfrdcjJUpTNG",
        "outputId": "271f8fe7-ea9e-4912-88b9-e2176f1f058c"
      },
      "execution_count": null,
      "outputs": [
        {
          "output_type": "stream",
          "name": "stdout",
          "text": [
            "[[0. 0. 0. 0. 0. 0. 0. 0. 0. 0.]\n",
            " [0. 0. 0. 0. 0. 0. 0. 0. 0. 0.]\n",
            " [0. 0. 0. 0. 0. 0. 0. 0. 0. 0.]\n",
            " [0. 0. 0. 0. 0. 0. 0. 0. 0. 0.]\n",
            " [0. 1. 0. 0. 0. 1. 0. 0. 0. 0.]\n",
            " [0. 0. 0. 0. 0. 0. 0. 0. 0. 0.]\n",
            " [0. 0. 0. 0. 0. 0. 0. 0. 0. 0.]\n",
            " [0. 0. 0. 0. 0. 0. 0. 0. 0. 0.]\n",
            " [0. 0. 0. 0. 0. 0. 0. 1. 0. 0.]\n",
            " [0. 0. 0. 0. 0. 0. 0. 0. 0. 0.]]\n"
          ]
        }
      ]
    },
    {
      "cell_type": "code",
      "source": [
        "Z = np.arange(10).reshape(2,5)\n",
        "np.put(Z, np.random.choice(range(2*5), 3, replace=False),99)\n",
        "print(Z)"
      ],
      "metadata": {
        "colab": {
          "base_uri": "https://localhost:8080/"
        },
        "id": "-xk-oveowXwf",
        "outputId": "7ae08556-415a-4a84-b1e1-59325a34ffd5"
      },
      "execution_count": null,
      "outputs": [
        {
          "output_type": "stream",
          "name": "stdout",
          "text": [
            "[[ 0 99  2  3 99]\n",
            " [ 5 99  7  8  9]]\n"
          ]
        }
      ]
    },
    {
      "cell_type": "code",
      "source": [
        "np.random.choice(range(n*n), p, replace=False)"
      ],
      "metadata": {
        "colab": {
          "base_uri": "https://localhost:8080/"
        },
        "id": "cSYbgYAityAJ",
        "outputId": "7739bbb7-afd4-43d0-ec99-62db76e6f7ac"
      },
      "execution_count": null,
      "outputs": [
        {
          "output_type": "execute_result",
          "data": {
            "text/plain": [
              "array([42, 49, 29])"
            ]
          },
          "metadata": {},
          "execution_count": 23
        }
      ]
    },
    {
      "cell_type": "markdown",
      "metadata": {
        "id": "QgIaoxPu3JgS"
      },
      "source": [
        "#### 58. Subtract the mean of each row of a matrix (★★☆) \n",
        "(**hint**: mean(axis=,keepdims=))"
      ]
    },
    {
      "cell_type": "code",
      "execution_count": null,
      "metadata": {
        "id": "HBoVXES73JgW",
        "colab": {
          "base_uri": "https://localhost:8080/"
        },
        "outputId": "51fafea0-e50a-46e4-874c-0da4cf2e2f7f"
      },
      "outputs": [
        {
          "output_type": "stream",
          "name": "stdout",
          "text": [
            "[[1. 1. 1. 1. 1.]\n",
            " [2. 2. 2. 2. 2.]\n",
            " [3. 3. 3. 3. 3.]\n",
            " [4. 4. 4. 4. 4.]\n",
            " [5. 5. 5. 5. 5.]]\n",
            "[[0. 0. 0. 0. 0.]\n",
            " [0. 0. 0. 0. 0.]\n",
            " [0. 0. 0. 0. 0.]\n",
            " [0. 0. 0. 0. 0.]\n",
            " [0. 0. 0. 0. 0.]]\n"
          ]
        }
      ],
      "source": [
        "arr=np.ones((5,5))\n",
        "arr[0::]=1\n",
        "arr[1::]=2\n",
        "arr[2::]=3\n",
        "arr[3::]=4\n",
        "arr[4::]=5\n",
        "print(arr)\n",
        "mean_sub_arr=arr-arr.mean(axis=1,keepdims=True) #axis=1 means calculate mean along the rows\n",
        "\n",
        "''' if axis=0, the resulting array will be\n",
        "[[-2. -2. -2. -2. -2.]\n",
        " [-1. -1. -1. -1. -1.]\n",
        " [ 0.  0.  0.  0.  0.]\n",
        " [ 1.  1.  1.  1.  1.]\n",
        " [ 2.  2.  2.  2.  2.]]\n",
        "\n",
        "if keepdims=True is not mentioned, the resulting array is \n",
        "[[ 0. -1. -2. -3. -4.]\n",
        " [ 1.  0. -1. -2. -3.]\n",
        " [ 2.  1.  0. -1. -2.]\n",
        " [ 3.  2.  1.  0. -1.]\n",
        " [ 4.  3.  2.  1.  0.]]\n",
        "mean of each row got subtracted in column wise\n",
        "'''\n",
        "print(mean_sub_arr)\n"
      ]
    },
    {
      "cell_type": "code",
      "source": [
        "arr=np.ones((5,5))\n",
        "for i in range(5):\n",
        "  arr[i::]=i+1\n",
        "print(arr)\n",
        "mean_sub_arr=arr-arr.mean(axis=1,keepdims=True)"
      ],
      "metadata": {
        "colab": {
          "base_uri": "https://localhost:8080/"
        },
        "id": "Pum670lzAtPB",
        "outputId": "222ef8fd-e6b0-449a-8142-f531481037e7"
      },
      "execution_count": null,
      "outputs": [
        {
          "output_type": "stream",
          "name": "stdout",
          "text": [
            "[[1. 1. 1. 1. 1.]\n",
            " [2. 2. 2. 2. 2.]\n",
            " [3. 3. 3. 3. 3.]\n",
            " [4. 4. 4. 4. 4.]\n",
            " [5. 5. 5. 5. 5.]]\n"
          ]
        }
      ]
    },
    {
      "cell_type": "code",
      "source": [
        "X = np.random.randint(1,100,50).reshape(5,10)\n",
        "print(X)\n",
        "# Recent versions of numpy\n",
        "Y = X - X.mean(axis=1, keepdims=True)\n",
        "print(Y)"
      ],
      "metadata": {
        "colab": {
          "base_uri": "https://localhost:8080/"
        },
        "id": "ZKBgOP0q5eBV",
        "outputId": "a647cd97-55c4-4778-ba1f-0b00f25d1620"
      },
      "execution_count": null,
      "outputs": [
        {
          "output_type": "stream",
          "name": "stdout",
          "text": [
            "[[87 28 37 84 13 63 70 99  3  5]\n",
            " [21  3  4 73 46 15 64 22 41 36]\n",
            " [ 6 81 84 44 92 34 48 44 71 20]\n",
            " [23 85  8  5 79 79 33 53  5 55]\n",
            " [66 89 29 21  7 53 57 10 90 61]]\n",
            "[[ 38.1 -20.9 -11.9  35.1 -35.9  14.1  21.1  50.1 -45.9 -43.9]\n",
            " [-11.5 -29.5 -28.5  40.5  13.5 -17.5  31.5 -10.5   8.5   3.5]\n",
            " [-46.4  28.6  31.6  -8.4  39.6 -18.4  -4.4  -8.4  18.6 -32.4]\n",
            " [-19.5  42.5 -34.5 -37.5  36.5  36.5  -9.5  10.5 -37.5  12.5]\n",
            " [ 17.7  40.7 -19.3 -27.3 -41.3   4.7   8.7 -38.3  41.7  12.7]]\n"
          ]
        }
      ]
    },
    {
      "cell_type": "markdown",
      "metadata": {
        "id": "WA3I1Dwb3JgX"
      },
      "source": [
        "#### 59. How to sort an array by the nth column? (★★☆) \n",
        "(**hint**: argsort)"
      ]
    },
    {
      "cell_type": "code",
      "execution_count": null,
      "metadata": {
        "id": "ynjzK_IR3JgY",
        "colab": {
          "base_uri": "https://localhost:8080/"
        },
        "outputId": "487358a8-1fe3-4710-c6da-ca93e5c19ea9"
      },
      "outputs": [
        {
          "output_type": "stream",
          "name": "stdout",
          "text": [
            "Help on function argsort in module numpy:\n",
            "\n",
            "argsort(a, axis=-1, kind=None, order=None)\n",
            "    Returns the indices that would sort an array.\n",
            "    \n",
            "    Perform an indirect sort along the given axis using the algorithm specified\n",
            "    by the `kind` keyword. It returns an array of indices of the same shape as\n",
            "    `a` that index data along the given axis in sorted order.\n",
            "    \n",
            "    Parameters\n",
            "    ----------\n",
            "    a : array_like\n",
            "        Array to sort.\n",
            "    axis : int or None, optional\n",
            "        Axis along which to sort.  The default is -1 (the last axis). If None,\n",
            "        the flattened array is used.\n",
            "    kind : {'quicksort', 'mergesort', 'heapsort', 'stable'}, optional\n",
            "        Sorting algorithm. The default is 'quicksort'. Note that both 'stable'\n",
            "        and 'mergesort' use timsort under the covers and, in general, the\n",
            "        actual implementation will vary with data type. The 'mergesort' option\n",
            "        is retained for backwards compatibility.\n",
            "    \n",
            "        .. versionchanged:: 1.15.0.\n",
            "           The 'stable' option was added.\n",
            "    order : str or list of str, optional\n",
            "        When `a` is an array with fields defined, this argument specifies\n",
            "        which fields to compare first, second, etc.  A single field can\n",
            "        be specified as a string, and not all fields need be specified,\n",
            "        but unspecified fields will still be used, in the order in which\n",
            "        they come up in the dtype, to break ties.\n",
            "    \n",
            "    Returns\n",
            "    -------\n",
            "    index_array : ndarray, int\n",
            "        Array of indices that sort `a` along the specified `axis`.\n",
            "        If `a` is one-dimensional, ``a[index_array]`` yields a sorted `a`.\n",
            "        More generally, ``np.take_along_axis(a, index_array, axis=axis)``\n",
            "        always yields the sorted `a`, irrespective of dimensionality.\n",
            "    \n",
            "    See Also\n",
            "    --------\n",
            "    sort : Describes sorting algorithms used.\n",
            "    lexsort : Indirect stable sort with multiple keys.\n",
            "    ndarray.sort : Inplace sort.\n",
            "    argpartition : Indirect partial sort.\n",
            "    take_along_axis : Apply ``index_array`` from argsort\n",
            "                      to an array as if by calling sort.\n",
            "    \n",
            "    Notes\n",
            "    -----\n",
            "    See `sort` for notes on the different sorting algorithms.\n",
            "    \n",
            "    As of NumPy 1.4.0 `argsort` works with real/complex arrays containing\n",
            "    nan values. The enhanced sort order is documented in `sort`.\n",
            "    \n",
            "    Examples\n",
            "    --------\n",
            "    One dimensional array:\n",
            "    \n",
            "    >>> x = np.array([3, 1, 2])\n",
            "    >>> np.argsort(x)\n",
            "    array([1, 2, 0])\n",
            "    \n",
            "    Two-dimensional array:\n",
            "    \n",
            "    >>> x = np.array([[0, 3], [2, 2]])\n",
            "    >>> x\n",
            "    array([[0, 3],\n",
            "           [2, 2]])\n",
            "    \n",
            "    >>> ind = np.argsort(x, axis=0)  # sorts along first axis (down)\n",
            "    >>> ind\n",
            "    array([[0, 1],\n",
            "           [1, 0]])\n",
            "    >>> np.take_along_axis(x, ind, axis=0)  # same as np.sort(x, axis=0)\n",
            "    array([[0, 2],\n",
            "           [2, 3]])\n",
            "    \n",
            "    >>> ind = np.argsort(x, axis=1)  # sorts along last axis (across)\n",
            "    >>> ind\n",
            "    array([[0, 1],\n",
            "           [0, 1]])\n",
            "    >>> np.take_along_axis(x, ind, axis=1)  # same as np.sort(x, axis=1)\n",
            "    array([[0, 3],\n",
            "           [2, 2]])\n",
            "    \n",
            "    Indices of the sorted elements of a N-dimensional array:\n",
            "    \n",
            "    >>> ind = np.unravel_index(np.argsort(x, axis=None), x.shape)\n",
            "    >>> ind\n",
            "    (array([0, 1, 1, 0]), array([0, 0, 1, 1]))\n",
            "    >>> x[ind]  # same as np.sort(x, axis=None)\n",
            "    array([0, 2, 2, 3])\n",
            "    \n",
            "    Sorting with keys:\n",
            "    \n",
            "    >>> x = np.array([(1, 0), (0, 1)], dtype=[('x', '<i4'), ('y', '<i4')])\n",
            "    >>> x\n",
            "    array([(1, 0), (0, 1)],\n",
            "          dtype=[('x', '<i4'), ('y', '<i4')])\n",
            "    \n",
            "    >>> np.argsort(x, order=('x','y'))\n",
            "    array([1, 0])\n",
            "    \n",
            "    >>> np.argsort(x, order=('y','x'))\n",
            "    array([0, 1])\n",
            "\n"
          ]
        }
      ],
      "source": [
        "help(np.argsort)"
      ]
    },
    {
      "cell_type": "code",
      "source": [
        "arr=np.arange(1,13).reshape(4,3)\n",
        "print(arr)\n",
        "print(arr[1].argsort())\n",
        "#argsort[1]==sort row[1]\n",
        "#argsot[:,1]==sort column[1]"
      ],
      "metadata": {
        "colab": {
          "base_uri": "https://localhost:8080/"
        },
        "id": "S7q-Dl2gDgQ6",
        "outputId": "fc75bdda-196a-42ff-f83b-23ce186d558b"
      },
      "execution_count": null,
      "outputs": [
        {
          "output_type": "stream",
          "name": "stdout",
          "text": [
            "[[ 1  2  3]\n",
            " [ 4  5  6]\n",
            " [ 7  8  9]\n",
            " [10 11 12]]\n",
            "[0 1 2]\n"
          ]
        }
      ]
    },
    {
      "cell_type": "code",
      "source": [
        "#this is my study\n",
        "arr=np.random.randint(1,12,(3,4))\n",
        "print(arr)\n",
        "print(arr[:,1].argsort())\n",
        "print(arr[arr[:,1].argsort()])"
      ],
      "metadata": {
        "colab": {
          "base_uri": "https://localhost:8080/"
        },
        "id": "1B3JKXPkFiMM",
        "outputId": "1836152f-340e-4101-b80f-360afc059edc"
      },
      "execution_count": null,
      "outputs": [
        {
          "output_type": "stream",
          "name": "stdout",
          "text": [
            "[[ 1  5  5 10]\n",
            " [ 7 11  6  3]\n",
            " [ 4  4  4 10]]\n",
            "[2 0 1]\n",
            "[[ 4  4  4 10]\n",
            " [ 1  5  5 10]\n",
            " [ 7 11  6  3]]\n"
          ]
        }
      ]
    },
    {
      "cell_type": "code",
      "source": [
        "Z = np.random.randint(0,10,(3,3))\n",
        "print(Z)\n",
        "print(Z[:,0].argsort())\n",
        "print(Z[Z[:,1].argsort()])"
      ],
      "metadata": {
        "colab": {
          "base_uri": "https://localhost:8080/"
        },
        "id": "YBp7RaJ2D-Tv",
        "outputId": "35d54203-fd2a-4593-e632-72b5b59b47a3"
      },
      "execution_count": null,
      "outputs": [
        {
          "output_type": "stream",
          "name": "stdout",
          "text": [
            "[[9 5 3]\n",
            " [3 9 7]\n",
            " [9 4 1]]\n",
            "[1 0 2]\n",
            "[[9 4 1]\n",
            " [9 5 3]\n",
            " [3 9 7]]\n"
          ]
        }
      ]
    },
    {
      "cell_type": "markdown",
      "metadata": {
        "id": "8qhViGVi3JgZ"
      },
      "source": [
        "#### 60. How to tell if a given 2D array has null columns? (★★☆) \n",
        "(**hint**: any, ~)"
      ]
    },
    {
      "cell_type": "code",
      "execution_count": null,
      "metadata": {
        "id": "Qm9ziDcE3Jga",
        "colab": {
          "base_uri": "https://localhost:8080/"
        },
        "outputId": "c37c2296-1fd4-478c-c5db-320e33678f19"
      },
      "outputs": [
        {
          "output_type": "stream",
          "name": "stdout",
          "text": [
            "[[2 2 0 0 0 0 2 1 0 0]\n",
            " [1 1 2 0 0 2 0 1 0 0]\n",
            " [0 0 1 2 1 1 1 0 0 0]]\n",
            "True\n"
          ]
        }
      ],
      "source": [
        "Z = np.random.randint(0,3,(3,10))\n",
        "print(Z)\n",
        "print((~Z.any(axis=0)).any())#~== show everthing except what is given here\n",
        "# tilde~ is the not operator in python"
      ]
    },
    {
      "cell_type": "code",
      "source": [
        "help(any(0))"
      ],
      "metadata": {
        "colab": {
          "base_uri": "https://localhost:8080/",
          "height": 169
        },
        "id": "a7S15QsQOP5e",
        "outputId": "67a63b2a-7f20-4e3c-99e3-8547fe513f50"
      },
      "execution_count": null,
      "outputs": [
        {
          "output_type": "error",
          "ename": "TypeError",
          "evalue": "ignored",
          "traceback": [
            "\u001b[0;31m---------------------------------------------------------------------------\u001b[0m",
            "\u001b[0;31mTypeError\u001b[0m                                 Traceback (most recent call last)",
            "\u001b[0;32m<ipython-input-111-22cf364ceef1>\u001b[0m in \u001b[0;36m<module>\u001b[0;34m()\u001b[0m\n\u001b[0;32m----> 1\u001b[0;31m \u001b[0mhelp\u001b[0m\u001b[0;34m(\u001b[0m\u001b[0many\u001b[0m\u001b[0;34m(\u001b[0m\u001b[0;36m0\u001b[0m\u001b[0;34m)\u001b[0m\u001b[0;34m)\u001b[0m\u001b[0;34m\u001b[0m\u001b[0;34m\u001b[0m\u001b[0m\n\u001b[0m",
            "\u001b[0;31mTypeError\u001b[0m: 'int' object is not iterable"
          ]
        }
      ]
    },
    {
      "cell_type": "code",
      "source": [
        "#null column = a column full of 0's"
      ],
      "metadata": {
        "id": "BaFjs29oG3mQ"
      },
      "execution_count": null,
      "outputs": []
    },
    {
      "cell_type": "markdown",
      "metadata": {
        "id": "ILqi7KMR3Jga"
      },
      "source": [
        "#### 61. Find the nearest value from a given value in an array (★★☆) \n",
        "(**hint**: np.abs, argmin, flat)"
      ]
    },
    {
      "cell_type": "code",
      "execution_count": null,
      "metadata": {
        "id": "rebiswaV3Jgb",
        "colab": {
          "base_uri": "https://localhost:8080/"
        },
        "outputId": "731fda4e-1ea1-4bda-f19a-4f915a5b1630"
      },
      "outputs": [
        {
          "output_type": "stream",
          "name": "stdout",
          "text": [
            "[0.18424045 0.90486265 0.18119395 0.4719285  0.12805215 0.48275909\n",
            " 0.76065009 0.17682674 0.05587182 0.81723437]\n",
            "[0.31575955 0.40486265 0.31880605 0.0280715  0.37194785 0.01724091\n",
            " 0.26065009 0.32317326 0.44412818 0.31723437]\n",
            "5\n",
            "0.4827590890740726\n",
            "0.4827590890740726\n"
          ]
        }
      ],
      "source": [
        "Z = np.random.uniform(0,1,10)\n",
        "print(Z)\n",
        "z = 0.5\n",
        "print(np.abs(Z - z))\n",
        "print(np.abs(Z - z).argmin())\n",
        "\n",
        "m = Z.flat[np.abs(Z - z).argmin()]\n",
        "print(m)\n",
        "m = Z[np.abs(Z - z).argmin()]\n",
        "print(m)"
      ]
    },
    {
      "cell_type": "code",
      "source": [
        ""
      ],
      "metadata": {
        "id": "5GafN3jWbB8Q"
      },
      "execution_count": null,
      "outputs": []
    },
    {
      "cell_type": "markdown",
      "metadata": {
        "id": "D9_xhUM73Jgb"
      },
      "source": [
        "#### 62. Considering two arrays with shape (1,3) and (3,1), how to compute their sum using an iterator? (★★☆) \n",
        "(**hint**: np.nditer)"
      ]
    },
    {
      "cell_type": "code",
      "source": [
        "x=np.arange(3).reshape(1,3)\n",
        "y=np.ones(3).reshape(3,1)\n",
        "print(x)\n",
        "print(y)\n",
        "\n",
        "\n",
        "def iter_add_py(x, y, out=None):\n",
        "     addop = np.add\n",
        "     it = np.nditer([x, y, out], [],\n",
        "                 [['readonly'], ['readonly'], ['writeonly','allocate']])\n",
        "     with it:\n",
        "         for (a, b, c) in it:\n",
        "             addop(a, b, out=c)\n",
        "     return it.operands[2]\n",
        "\n",
        "ans=iter_add_py(x,y,out=None)\n",
        "print(ans)"
      ],
      "metadata": {
        "colab": {
          "base_uri": "https://localhost:8080/",
          "height": 419
        },
        "id": "zA3M-KuxhyDB",
        "outputId": "83a5c548-8fbb-4328-8db6-75d8bf96a390"
      },
      "execution_count": null,
      "outputs": [
        {
          "output_type": "stream",
          "name": "stdout",
          "text": [
            "[[0 1 2]]\n",
            "[[1.]\n",
            " [1.]\n",
            " [1.]]\n"
          ]
        },
        {
          "output_type": "error",
          "ename": "ValueError",
          "evalue": "ignored",
          "traceback": [
            "\u001b[0;31m---------------------------------------------------------------------------\u001b[0m",
            "\u001b[0;31mValueError\u001b[0m                                Traceback (most recent call last)",
            "\u001b[0;32m<ipython-input-16-edbe0a2d2a85>\u001b[0m in \u001b[0;36m<module>\u001b[0;34m()\u001b[0m\n\u001b[1;32m     14\u001b[0m      \u001b[0;32mreturn\u001b[0m \u001b[0mit\u001b[0m\u001b[0;34m.\u001b[0m\u001b[0moperands\u001b[0m\u001b[0;34m[\u001b[0m\u001b[0;36m2\u001b[0m\u001b[0;34m]\u001b[0m\u001b[0;34m\u001b[0m\u001b[0;34m\u001b[0m\u001b[0m\n\u001b[1;32m     15\u001b[0m \u001b[0;34m\u001b[0m\u001b[0m\n\u001b[0;32m---> 16\u001b[0;31m \u001b[0mans\u001b[0m\u001b[0;34m=\u001b[0m\u001b[0miter_add_py\u001b[0m\u001b[0;34m(\u001b[0m\u001b[0mx\u001b[0m\u001b[0;34m,\u001b[0m\u001b[0my\u001b[0m\u001b[0;34m,\u001b[0m\u001b[0mout\u001b[0m\u001b[0;34m=\u001b[0m\u001b[0;32mNone\u001b[0m\u001b[0;34m)\u001b[0m\u001b[0;34m\u001b[0m\u001b[0;34m\u001b[0m\u001b[0m\n\u001b[0m\u001b[1;32m     17\u001b[0m \u001b[0mprint\u001b[0m\u001b[0;34m(\u001b[0m\u001b[0mans\u001b[0m\u001b[0;34m)\u001b[0m\u001b[0;34m\u001b[0m\u001b[0;34m\u001b[0m\u001b[0m\n",
            "\u001b[0;32m<ipython-input-16-edbe0a2d2a85>\u001b[0m in \u001b[0;36miter_add_py\u001b[0;34m(x, y, out)\u001b[0m\n\u001b[1;32m     12\u001b[0m          \u001b[0;32mfor\u001b[0m \u001b[0;34m(\u001b[0m\u001b[0ma\u001b[0m\u001b[0;34m,\u001b[0m \u001b[0mb\u001b[0m\u001b[0;34m,\u001b[0m \u001b[0mc\u001b[0m\u001b[0;34m)\u001b[0m \u001b[0;32min\u001b[0m \u001b[0mit\u001b[0m\u001b[0;34m:\u001b[0m\u001b[0;34m\u001b[0m\u001b[0;34m\u001b[0m\u001b[0m\n\u001b[1;32m     13\u001b[0m              \u001b[0maddop\u001b[0m\u001b[0;34m(\u001b[0m\u001b[0ma\u001b[0m\u001b[0;34m,\u001b[0m \u001b[0mb\u001b[0m\u001b[0;34m,\u001b[0m \u001b[0mout\u001b[0m\u001b[0;34m=\u001b[0m\u001b[0mc\u001b[0m\u001b[0;34m)\u001b[0m\u001b[0;34m\u001b[0m\u001b[0;34m\u001b[0m\u001b[0m\n\u001b[0;32m---> 14\u001b[0;31m      \u001b[0;32mreturn\u001b[0m \u001b[0mit\u001b[0m\u001b[0;34m.\u001b[0m\u001b[0moperands\u001b[0m\u001b[0;34m[\u001b[0m\u001b[0;36m2\u001b[0m\u001b[0;34m]\u001b[0m\u001b[0;34m\u001b[0m\u001b[0;34m\u001b[0m\u001b[0m\n\u001b[0m\u001b[1;32m     15\u001b[0m \u001b[0;34m\u001b[0m\u001b[0m\n\u001b[1;32m     16\u001b[0m \u001b[0mans\u001b[0m\u001b[0;34m=\u001b[0m\u001b[0miter_add_py\u001b[0m\u001b[0;34m(\u001b[0m\u001b[0mx\u001b[0m\u001b[0;34m,\u001b[0m\u001b[0my\u001b[0m\u001b[0;34m,\u001b[0m\u001b[0mout\u001b[0m\u001b[0;34m=\u001b[0m\u001b[0;32mNone\u001b[0m\u001b[0;34m)\u001b[0m\u001b[0;34m\u001b[0m\u001b[0;34m\u001b[0m\u001b[0m\n",
            "\u001b[0;31mValueError\u001b[0m: Iterator is invalid"
          ]
        }
      ]
    },
    {
      "cell_type": "code",
      "source": [
        "A = np.arange(3).reshape(3,1)\n",
        "B = np.arange(3).reshape(1,3)\n",
        "print(A,B)\n",
        "it = np.nditer([A,B,None])\n",
        "for x,y,z in it:\n",
        "   z[...] = x + y\n",
        "print(it.operands[2])"
      ],
      "metadata": {
        "colab": {
          "base_uri": "https://localhost:8080/"
        },
        "id": "TWVGSNL1lQZY",
        "outputId": "dc70803d-4477-4616-eb07-7a306fdd42de"
      },
      "execution_count": null,
      "outputs": [
        {
          "output_type": "stream",
          "name": "stdout",
          "text": [
            "[[0]\n",
            " [1]\n",
            " [2]] [[0 1 2]]\n",
            "[[0 1 2]\n",
            " [1 2 3]\n",
            " [2 3 4]]\n"
          ]
        }
      ]
    },
    {
      "cell_type": "code",
      "execution_count": null,
      "metadata": {
        "id": "I0j51XJw3Jgc",
        "colab": {
          "base_uri": "https://localhost:8080/"
        },
        "outputId": "bfbc06fb-1a6b-4788-faab-cc01cf891abf"
      },
      "outputs": [
        {
          "output_type": "stream",
          "name": "stdout",
          "text": [
            " nditer()\n",
            "\n",
            "nditer(op, flags=None, op_flags=None, op_dtypes=None, order='K', casting='safe', op_axes=None, itershape=None, buffersize=0)\n",
            "\n",
            "Efficient multi-dimensional iterator object to iterate over arrays.\n",
            "To get started using this object, see the\n",
            ":ref:`introductory guide to array iteration <arrays.nditer>`.\n",
            "\n",
            "Parameters\n",
            "----------\n",
            "op : ndarray or sequence of array_like\n",
            "    The array(s) to iterate over.\n",
            "\n",
            "flags : sequence of str, optional\n",
            "      Flags to control the behavior of the iterator.\n",
            "\n",
            "      * ``buffered`` enables buffering when required.\n",
            "      * ``c_index`` causes a C-order index to be tracked.\n",
            "      * ``f_index`` causes a Fortran-order index to be tracked.\n",
            "      * ``multi_index`` causes a multi-index, or a tuple of indices\n",
            "        with one per iteration dimension, to be tracked.\n",
            "      * ``common_dtype`` causes all the operands to be converted to\n",
            "        a common data type, with copying or buffering as necessary.\n",
            "      * ``copy_if_overlap`` causes the iterator to determine if read\n",
            "        operands have overlap with write operands, and make temporary\n",
            "        copies as necessary to avoid overlap. False positives (needless\n",
            "        copying) are possible in some cases.\n",
            "      * ``delay_bufalloc`` delays allocation of the buffers until\n",
            "        a reset() call is made. Allows ``allocate`` operands to\n",
            "        be initialized before their values are copied into the buffers.\n",
            "      * ``external_loop`` causes the ``values`` given to be\n",
            "        one-dimensional arrays with multiple values instead of\n",
            "        zero-dimensional arrays.\n",
            "      * ``grow_inner`` allows the ``value`` array sizes to be made\n",
            "        larger than the buffer size when both ``buffered`` and\n",
            "        ``external_loop`` is used.\n",
            "      * ``ranged`` allows the iterator to be restricted to a sub-range\n",
            "        of the iterindex values.\n",
            "      * ``refs_ok`` enables iteration of reference types, such as\n",
            "        object arrays.\n",
            "      * ``reduce_ok`` enables iteration of ``readwrite`` operands\n",
            "        which are broadcasted, also known as reduction operands.\n",
            "      * ``zerosize_ok`` allows `itersize` to be zero.\n",
            "op_flags : list of list of str, optional\n",
            "      This is a list of flags for each operand. At minimum, one of\n",
            "      ``readonly``, ``readwrite``, or ``writeonly`` must be specified.\n",
            "\n",
            "      * ``readonly`` indicates the operand will only be read from.\n",
            "      * ``readwrite`` indicates the operand will be read from and written to.\n",
            "      * ``writeonly`` indicates the operand will only be written to.\n",
            "      * ``no_broadcast`` prevents the operand from being broadcasted.\n",
            "      * ``contig`` forces the operand data to be contiguous.\n",
            "      * ``aligned`` forces the operand data to be aligned.\n",
            "      * ``nbo`` forces the operand data to be in native byte order.\n",
            "      * ``copy`` allows a temporary read-only copy if required.\n",
            "      * ``updateifcopy`` allows a temporary read-write copy if required.\n",
            "      * ``allocate`` causes the array to be allocated if it is None\n",
            "        in the ``op`` parameter.\n",
            "      * ``no_subtype`` prevents an ``allocate`` operand from using a subtype.\n",
            "      * ``arraymask`` indicates that this operand is the mask to use\n",
            "        for selecting elements when writing to operands with the\n",
            "        'writemasked' flag set. The iterator does not enforce this,\n",
            "        but when writing from a buffer back to the array, it only\n",
            "        copies those elements indicated by this mask.\n",
            "      * ``writemasked`` indicates that only elements where the chosen\n",
            "        ``arraymask`` operand is True will be written to.\n",
            "      * ``overlap_assume_elementwise`` can be used to mark operands that are\n",
            "        accessed only in the iterator order, to allow less conservative\n",
            "        copying when ``copy_if_overlap`` is present.\n",
            "op_dtypes : dtype or tuple of dtype(s), optional\n",
            "    The required data type(s) of the operands. If copying or buffering\n",
            "    is enabled, the data will be converted to/from their original types.\n",
            "order : {'C', 'F', 'A', 'K'}, optional\n",
            "    Controls the iteration order. 'C' means C order, 'F' means\n",
            "    Fortran order, 'A' means 'F' order if all the arrays are Fortran\n",
            "    contiguous, 'C' order otherwise, and 'K' means as close to the\n",
            "    order the array elements appear in memory as possible. This also\n",
            "    affects the element memory order of ``allocate`` operands, as they\n",
            "    are allocated to be compatible with iteration order.\n",
            "    Default is 'K'.\n",
            "casting : {'no', 'equiv', 'safe', 'same_kind', 'unsafe'}, optional\n",
            "    Controls what kind of data casting may occur when making a copy\n",
            "    or buffering.  Setting this to 'unsafe' is not recommended,\n",
            "    as it can adversely affect accumulations.\n",
            "\n",
            "    * 'no' means the data types should not be cast at all.\n",
            "    * 'equiv' means only byte-order changes are allowed.\n",
            "    * 'safe' means only casts which can preserve values are allowed.\n",
            "    * 'same_kind' means only safe casts or casts within a kind,\n",
            "      like float64 to float32, are allowed.\n",
            "    * 'unsafe' means any data conversions may be done.\n",
            "op_axes : list of list of ints, optional\n",
            "    If provided, is a list of ints or None for each operands.\n",
            "    The list of axes for an operand is a mapping from the dimensions\n",
            "    of the iterator to the dimensions of the operand. A value of\n",
            "    -1 can be placed for entries, causing that dimension to be\n",
            "    treated as `newaxis`.\n",
            "itershape : tuple of ints, optional\n",
            "    The desired shape of the iterator. This allows ``allocate`` operands\n",
            "    with a dimension mapped by op_axes not corresponding to a dimension\n",
            "    of a different operand to get a value not equal to 1 for that\n",
            "    dimension.\n",
            "buffersize : int, optional\n",
            "    When buffering is enabled, controls the size of the temporary\n",
            "    buffers. Set to 0 for the default value.\n",
            "\n",
            "Attributes\n",
            "----------\n",
            "dtypes : tuple of dtype(s)\n",
            "    The data types of the values provided in `value`. This may be\n",
            "    different from the operand data types if buffering is enabled.\n",
            "    Valid only before the iterator is closed.\n",
            "finished : bool\n",
            "    Whether the iteration over the operands is finished or not.\n",
            "has_delayed_bufalloc : bool\n",
            "    If True, the iterator was created with the ``delay_bufalloc`` flag,\n",
            "    and no reset() function was called on it yet.\n",
            "has_index : bool\n",
            "    If True, the iterator was created with either the ``c_index`` or\n",
            "    the ``f_index`` flag, and the property `index` can be used to\n",
            "    retrieve it.\n",
            "has_multi_index : bool\n",
            "    If True, the iterator was created with the ``multi_index`` flag,\n",
            "    and the property `multi_index` can be used to retrieve it.\n",
            "index\n",
            "    When the ``c_index`` or ``f_index`` flag was used, this property\n",
            "    provides access to the index. Raises a ValueError if accessed\n",
            "    and ``has_index`` is False.\n",
            "iterationneedsapi : bool\n",
            "    Whether iteration requires access to the Python API, for example\n",
            "    if one of the operands is an object array.\n",
            "iterindex : int\n",
            "    An index which matches the order of iteration.\n",
            "itersize : int\n",
            "    Size of the iterator.\n",
            "itviews\n",
            "    Structured view(s) of `operands` in memory, matching the reordered\n",
            "    and optimized iterator access pattern. Valid only before the iterator\n",
            "    is closed.\n",
            "multi_index\n",
            "    When the ``multi_index`` flag was used, this property\n",
            "    provides access to the index. Raises a ValueError if accessed\n",
            "    accessed and ``has_multi_index`` is False.\n",
            "ndim : int\n",
            "    The dimensions of the iterator.\n",
            "nop : int\n",
            "    The number of iterator operands.\n",
            "operands : tuple of operand(s)\n",
            "    The array(s) to be iterated over. Valid only before the iterator is\n",
            "    closed.\n",
            "shape : tuple of ints\n",
            "    Shape tuple, the shape of the iterator.\n",
            "value\n",
            "    Value of ``operands`` at current iteration. Normally, this is a\n",
            "    tuple of array scalars, but if the flag ``external_loop`` is used,\n",
            "    it is a tuple of one dimensional arrays.\n",
            "\n",
            "Notes\n",
            "-----\n",
            "`nditer` supersedes `flatiter`.  The iterator implementation behind\n",
            "`nditer` is also exposed by the NumPy C API.\n",
            "\n",
            "The Python exposure supplies two iteration interfaces, one which follows\n",
            "the Python iterator protocol, and another which mirrors the C-style\n",
            "do-while pattern.  The native Python approach is better in most cases, but\n",
            "if you need the coordinates or index of an iterator, use the C-style pattern.\n",
            "\n",
            "Examples\n",
            "--------\n",
            "Here is how we might write an ``iter_add`` function, using the\n",
            "Python iterator protocol:\n",
            "\n",
            ">>> def iter_add_py(x, y, out=None):\n",
            "...     addop = np.add\n",
            "...     it = np.nditer([x, y, out], [],\n",
            "...                 [['readonly'], ['readonly'], ['writeonly','allocate']])\n",
            "...     with it:\n",
            "...         for (a, b, c) in it:\n",
            "...             addop(a, b, out=c)\n",
            "...     return it.operands[2]\n",
            "\n",
            "Here is the same function, but following the C-style pattern:\n",
            "\n",
            ">>> def iter_add(x, y, out=None):\n",
            "...    addop = np.add\n",
            "...    it = np.nditer([x, y, out], [],\n",
            "...                [['readonly'], ['readonly'], ['writeonly','allocate']])\n",
            "...    with it:\n",
            "...        while not it.finished:\n",
            "...            addop(it[0], it[1], out=it[2])\n",
            "...            it.iternext()\n",
            "...        return it.operands[2]\n",
            "\n",
            "Here is an example outer product function:\n",
            "\n",
            ">>> def outer_it(x, y, out=None):\n",
            "...     mulop = np.multiply\n",
            "...     it = np.nditer([x, y, out], ['external_loop'],\n",
            "...             [['readonly'], ['readonly'], ['writeonly', 'allocate']],\n",
            "...             op_axes=[list(range(x.ndim)) + [-1] * y.ndim,\n",
            "...                      [-1] * x.ndim + list(range(y.ndim)),\n",
            "...                      None])\n",
            "...     with it:\n",
            "...         for (a, b, c) in it:\n",
            "...             mulop(a, b, out=c)\n",
            "...         return it.operands[2]\n",
            "\n",
            ">>> a = np.arange(2)+1\n",
            ">>> b = np.arange(3)+1\n",
            ">>> outer_it(a,b)\n",
            "array([[1, 2, 3],\n",
            "       [2, 4, 6]])\n",
            "\n",
            "Here is an example function which operates like a \"lambda\" ufunc:\n",
            "\n",
            ">>> def luf(lamdaexpr, *args, **kwargs):\n",
            "...    '''luf(lambdaexpr, op1, ..., opn, out=None, order='K', casting='safe', buffersize=0)'''\n",
            "...    nargs = len(args)\n",
            "...    op = (kwargs.get('out',None),) + args\n",
            "...    it = np.nditer(op, ['buffered','external_loop'],\n",
            "...            [['writeonly','allocate','no_broadcast']] +\n",
            "...                            [['readonly','nbo','aligned']]*nargs,\n",
            "...            order=kwargs.get('order','K'),\n",
            "...            casting=kwargs.get('casting','safe'),\n",
            "...            buffersize=kwargs.get('buffersize',0))\n",
            "...    while not it.finished:\n",
            "...        it[0] = lamdaexpr(*it[1:])\n",
            "...        it.iternext()\n",
            "...    return it.operands[0]\n",
            "\n",
            ">>> a = np.arange(5)\n",
            ">>> b = np.ones(5)\n",
            ">>> luf(lambda i,j:i*i + j/2, a, b)\n",
            "array([  0.5,   1.5,   4.5,   9.5,  16.5])\n",
            "\n",
            "If operand flags `\"writeonly\"` or `\"readwrite\"` are used the\n",
            "operands may be views into the original data with the\n",
            "`WRITEBACKIFCOPY` flag. In this case `nditer` must be used as a\n",
            "context manager or the `nditer.close` method must be called before\n",
            "using the result. The temporary data will be written back to the\n",
            "original data when the `__exit__` function is called but not before:\n",
            "\n",
            ">>> a = np.arange(6, dtype='i4')[::-2]\n",
            ">>> with np.nditer(a, [],\n",
            "...        [['writeonly', 'updateifcopy']],\n",
            "...        casting='unsafe',\n",
            "...        op_dtypes=[np.dtype('f4')]) as i:\n",
            "...    x = i.operands[0]\n",
            "...    x[:] = [-1, -2, -3]\n",
            "...    # a still unchanged here\n",
            ">>> a, x\n",
            "(array([-1, -2, -3], dtype=int32), array([-1., -2., -3.], dtype=float32))\n",
            "\n",
            "It is important to note that once the iterator is exited, dangling\n",
            "references (like `x` in the example) may or may not share data with\n",
            "the original data `a`. If writeback semantics were active, i.e. if\n",
            "`x.base.flags.writebackifcopy` is `True`, then exiting the iterator\n",
            "will sever the connection between `x` and `a`, writing to `x` will\n",
            "no longer write to `a`. If writeback semantics are not active, then\n",
            "`x.data` will still point at some part of `a.data`, and writing to\n",
            "one will affect the other.\n",
            "\n",
            "Context management and the `close` method appeared in version 1.15.0.\n",
            "\n",
            "\n",
            "Methods:\n",
            "\n",
            "  close  --  close()\n",
            "  copy  --  copy()\n",
            "  debug_print  --  debug_print()\n",
            "  enable_external_loop  --  enable_external_loop()\n",
            "  iternext  --  iternext()\n",
            "  remove_axis  --  remove_axis(i)\n",
            "  remove_multi_index  --  remove_multi_index()\n",
            "  reset  --  reset()\n"
          ]
        }
      ],
      "source": [
        "np.info(np.nditer)"
      ]
    },
    {
      "cell_type": "code",
      "source": [
        ""
      ],
      "metadata": {
        "id": "mEXMzM4shtcK"
      },
      "execution_count": null,
      "outputs": []
    },
    {
      "cell_type": "markdown",
      "metadata": {
        "id": "WTVzDWBs3Jgc"
      },
      "source": [
        "#### 63. Create an array class that has a name attribute (★★☆) \n",
        "(**hint**: class method)"
      ]
    },
    {
      "cell_type": "markdown",
      "source": [
        "can't understand.\n",
        "need clarification **bold text**"
      ],
      "metadata": {
        "id": "9eop2t1v3_W5"
      }
    },
    {
      "cell_type": "code",
      "execution_count": null,
      "metadata": {
        "id": "YdANn4GH3Jgd",
        "colab": {
          "base_uri": "https://localhost:8080/"
        },
        "outputId": "6cf575da-609d-486f-fe33-706ed48f89c5"
      },
      "outputs": [
        {
          "output_type": "stream",
          "name": "stdout",
          "text": [
            "range_10\n"
          ]
        }
      ],
      "source": [
        "class NamedArray(np.ndarray):\n",
        "    def __new__(cls, array, name=\"no name\"):\n",
        "        obj = np.asarray(array).view(cls)\n",
        "        obj.name = name\n",
        "        return obj\n",
        "    def __array_finalize__(self, obj):\n",
        "        if obj is None: return\n",
        "        self.info = getattr(obj, 'name', \"no name\")\n",
        "\n",
        "Z = NamedArray(np.arange(10), \"range_10\")\n",
        "print (Z.name)"
      ]
    },
    {
      "cell_type": "code",
      "source": [
        "class PeruVachiama(np.ndarray):\n",
        "  def"
      ],
      "metadata": {
        "id": "BOP-fVHk0SVL"
      },
      "execution_count": null,
      "outputs": []
    },
    {
      "cell_type": "code",
      "source": [
        "help(np.asarray)"
      ],
      "metadata": {
        "colab": {
          "base_uri": "https://localhost:8080/"
        },
        "id": "M2RJIBVHOVoZ",
        "outputId": "f4aa7a46-acf8-441a-f91b-a1950bc333be"
      },
      "execution_count": null,
      "outputs": [
        {
          "output_type": "stream",
          "name": "stdout",
          "text": [
            "Help on built-in function asarray in module numpy:\n",
            "\n",
            "asarray(...)\n",
            "    asarray(a, dtype=None, order=None, *, like=None)\n",
            "    \n",
            "    Convert the input to an array.\n",
            "    \n",
            "    Parameters\n",
            "    ----------\n",
            "    a : array_like\n",
            "        Input data, in any form that can be converted to an array.  This\n",
            "        includes lists, lists of tuples, tuples, tuples of tuples, tuples\n",
            "        of lists and ndarrays.\n",
            "    dtype : data-type, optional\n",
            "        By default, the data-type is inferred from the input data.\n",
            "    order : {'C', 'F', 'A', 'K'}, optional\n",
            "        Memory layout.  'A' and 'K' depend on the order of input array a.\n",
            "        'C' row-major (C-style),\n",
            "        'F' column-major (Fortran-style) memory representation.\n",
            "        'A' (any) means 'F' if `a` is Fortran contiguous, 'C' otherwise\n",
            "        'K' (keep) preserve input order\n",
            "        Defaults to 'C'.\n",
            "    like : array_like\n",
            "        Reference object to allow the creation of arrays which are not\n",
            "        NumPy arrays. If an array-like passed in as ``like`` supports\n",
            "        the ``__array_function__`` protocol, the result will be defined\n",
            "        by it. In this case, it ensures the creation of an array object\n",
            "        compatible with that passed in via this argument.\n",
            "    \n",
            "        .. versionadded:: 1.20.0\n",
            "    \n",
            "    Returns\n",
            "    -------\n",
            "    out : ndarray\n",
            "        Array interpretation of `a`.  No copy is performed if the input\n",
            "        is already an ndarray with matching dtype and order.  If `a` is a\n",
            "        subclass of ndarray, a base class ndarray is returned.\n",
            "    \n",
            "    See Also\n",
            "    --------\n",
            "    asanyarray : Similar function which passes through subclasses.\n",
            "    ascontiguousarray : Convert input to a contiguous array.\n",
            "    asfarray : Convert input to a floating point ndarray.\n",
            "    asfortranarray : Convert input to an ndarray with column-major\n",
            "                     memory order.\n",
            "    asarray_chkfinite : Similar function which checks input for NaNs and Infs.\n",
            "    fromiter : Create an array from an iterator.\n",
            "    fromfunction : Construct an array by executing a function on grid\n",
            "                   positions.\n",
            "    \n",
            "    Examples\n",
            "    --------\n",
            "    Convert a list into an array:\n",
            "    \n",
            "    >>> a = [1, 2]\n",
            "    >>> np.asarray(a)\n",
            "    array([1, 2])\n",
            "    \n",
            "    Existing arrays are not copied:\n",
            "    \n",
            "    >>> a = np.array([1, 2])\n",
            "    >>> np.asarray(a) is a\n",
            "    True\n",
            "    \n",
            "    If `dtype` is set, array is copied only if dtype does not match:\n",
            "    \n",
            "    >>> a = np.array([1, 2], dtype=np.float32)\n",
            "    >>> np.asarray(a, dtype=np.float32) is a\n",
            "    True\n",
            "    >>> np.asarray(a, dtype=np.float64) is a\n",
            "    False\n",
            "    \n",
            "    Contrary to `asanyarray`, ndarray subclasses are not passed through:\n",
            "    \n",
            "    >>> issubclass(np.recarray, np.ndarray)\n",
            "    True\n",
            "    >>> a = np.array([(1.0, 2), (3.0, 4)], dtype='f4,i4').view(np.recarray)\n",
            "    >>> np.asarray(a) is a\n",
            "    False\n",
            "    >>> np.asanyarray(a) is a\n",
            "    True\n",
            "\n"
          ]
        }
      ]
    },
    {
      "cell_type": "code",
      "source": [
        "help(np.view())"
      ],
      "metadata": {
        "colab": {
          "base_uri": "https://localhost:8080/",
          "height": 169
        },
        "id": "43Omd7ttPEa6",
        "outputId": "e1ae91c8-30ef-4929-df82-dc43f30436b7"
      },
      "execution_count": null,
      "outputs": [
        {
          "output_type": "error",
          "ename": "NameError",
          "evalue": "ignored",
          "traceback": [
            "\u001b[0;31m---------------------------------------------------------------------------\u001b[0m",
            "\u001b[0;31mNameError\u001b[0m                                 Traceback (most recent call last)",
            "\u001b[0;32m<ipython-input-6-7ab0b24d26cd>\u001b[0m in \u001b[0;36m<module>\u001b[0;34m()\u001b[0m\n\u001b[0;32m----> 1\u001b[0;31m \u001b[0mhelp\u001b[0m\u001b[0;34m(\u001b[0m\u001b[0mview\u001b[0m\u001b[0;34m(\u001b[0m\u001b[0;34m)\u001b[0m\u001b[0;34m)\u001b[0m\u001b[0;34m\u001b[0m\u001b[0;34m\u001b[0m\u001b[0m\n\u001b[0m",
            "\u001b[0;31mNameError\u001b[0m: name 'view' is not defined"
          ]
        }
      ]
    },
    {
      "cell_type": "markdown",
      "metadata": {
        "id": "qUNu7Z3E3Jgd"
      },
      "source": [
        "#### 64. Consider a given vector, how to add 1 to each element indexed by a second vector (be careful with repeated indices)? (★★★) \n",
        "(**hint**: np.bincount | np.add.at)"
      ]
    },
    {
      "cell_type": "code",
      "execution_count": null,
      "metadata": {
        "id": "pYjeHdhT3Jgf",
        "colab": {
          "base_uri": "https://localhost:8080/"
        },
        "outputId": "4eecddbd-b8ab-4e01-8bd8-ee3aaba2f184"
      },
      "outputs": [
        {
          "output_type": "stream",
          "name": "stdout",
          "text": [
            "Help on function bincount in module numpy:\n",
            "\n",
            "bincount(...)\n",
            "    bincount(x, weights=None, minlength=0)\n",
            "    \n",
            "    Count number of occurrences of each value in array of non-negative ints.\n",
            "    \n",
            "    The number of bins (of size 1) is one larger than the largest value in\n",
            "    `x`. If `minlength` is specified, there will be at least this number\n",
            "    of bins in the output array (though it will be longer if necessary,\n",
            "    depending on the contents of `x`).\n",
            "    Each bin gives the number of occurrences of its index value in `x`.\n",
            "    If `weights` is specified the input array is weighted by it, i.e. if a\n",
            "    value ``n`` is found at position ``i``, ``out[n] += weight[i]`` instead\n",
            "    of ``out[n] += 1``.\n",
            "    \n",
            "    Parameters\n",
            "    ----------\n",
            "    x : array_like, 1 dimension, nonnegative ints\n",
            "        Input array.\n",
            "    weights : array_like, optional\n",
            "        Weights, array of the same shape as `x`.\n",
            "    minlength : int, optional\n",
            "        A minimum number of bins for the output array.\n",
            "    \n",
            "        .. versionadded:: 1.6.0\n",
            "    \n",
            "    Returns\n",
            "    -------\n",
            "    out : ndarray of ints\n",
            "        The result of binning the input array.\n",
            "        The length of `out` is equal to ``np.amax(x)+1``.\n",
            "    \n",
            "    Raises\n",
            "    ------\n",
            "    ValueError\n",
            "        If the input is not 1-dimensional, or contains elements with negative\n",
            "        values, or if `minlength` is negative.\n",
            "    TypeError\n",
            "        If the type of the input is float or complex.\n",
            "    \n",
            "    See Also\n",
            "    --------\n",
            "    histogram, digitize, unique\n",
            "    \n",
            "    Examples\n",
            "    --------\n",
            "    >>> np.bincount(np.arange(5))\n",
            "    array([1, 1, 1, 1, 1])\n",
            "    >>> np.bincount(np.array([0, 1, 1, 3, 2, 1, 7]))\n",
            "    array([1, 3, 1, 1, 0, 0, 0, 1])\n",
            "    \n",
            "    >>> x = np.array([0, 1, 1, 3, 2, 1, 7, 23])\n",
            "    >>> np.bincount(x).size == np.amax(x)+1\n",
            "    True\n",
            "    \n",
            "    The input array needs to be of integer dtype, otherwise a\n",
            "    TypeError is raised:\n",
            "    \n",
            "    >>> np.bincount(np.arange(5, dtype=float))\n",
            "    Traceback (most recent call last):\n",
            "      ...\n",
            "    TypeError: Cannot cast array data from dtype('float64') to dtype('int64')\n",
            "    according to the rule 'safe'\n",
            "    \n",
            "    A possible use of ``bincount`` is to perform sums over\n",
            "    variable-size chunks of an array, using the ``weights`` keyword.\n",
            "    \n",
            "    >>> w = np.array([0.3, 0.5, 0.2, 0.7, 1., -0.6]) # weights\n",
            "    >>> x = np.array([0, 1, 1, 2, 2, 2])\n",
            "    >>> np.bincount(x,  weights=w)\n",
            "    array([ 0.3,  0.7,  1.1])\n",
            "\n"
          ]
        }
      ],
      "source": [
        "help(np.bincount)\n"
      ]
    },
    {
      "cell_type": "code",
      "source": [
        "help(np.add.at)"
      ],
      "metadata": {
        "colab": {
          "base_uri": "https://localhost:8080/"
        },
        "id": "153gkaPZ5Srv",
        "outputId": "8f729d5f-905c-48d6-f9ad-a1f74c6db4cb"
      },
      "execution_count": null,
      "outputs": [
        {
          "output_type": "stream",
          "name": "stdout",
          "text": [
            "Help on built-in function at:\n",
            "\n",
            "at(...) method of numpy.ufunc instance\n",
            "    at(a, indices, b=None, /)\n",
            "    \n",
            "    Performs unbuffered in place operation on operand 'a' for elements\n",
            "    specified by 'indices'. For addition ufunc, this method is equivalent to\n",
            "    ``a[indices] += b``, except that results are accumulated for elements that\n",
            "    are indexed more than once. For example, ``a[[0,0]] += 1`` will only\n",
            "    increment the first element once because of buffering, whereas\n",
            "    ``add.at(a, [0,0], 1)`` will increment the first element twice.\n",
            "    \n",
            "    .. versionadded:: 1.8.0\n",
            "    \n",
            "    Parameters\n",
            "    ----------\n",
            "    a : array_like\n",
            "        The array to perform in place operation on.\n",
            "    indices : array_like or tuple\n",
            "        Array like index object or slice object for indexing into first\n",
            "        operand. If first operand has multiple dimensions, indices can be a\n",
            "        tuple of array like index objects or slice objects.\n",
            "    b : array_like\n",
            "        Second operand for ufuncs requiring two operands. Operand must be\n",
            "        broadcastable over first operand after indexing or slicing.\n",
            "    \n",
            "    Examples\n",
            "    --------\n",
            "    Set items 0 and 1 to their negative values:\n",
            "    \n",
            "    >>> a = np.array([1, 2, 3, 4])\n",
            "    >>> np.negative.at(a, [0, 1])\n",
            "    >>> a\n",
            "    array([-1, -2,  3,  4])\n",
            "    \n",
            "    Increment items 0 and 1, and increment item 2 twice:\n",
            "    \n",
            "    >>> a = np.array([1, 2, 3, 4])\n",
            "    >>> np.add.at(a, [0, 1, 2, 2], 1)\n",
            "    >>> a\n",
            "    array([2, 3, 5, 4])\n",
            "    \n",
            "    Add items 0 and 1 in first array to second array,\n",
            "    and store results in first array:\n",
            "    \n",
            "    >>> a = np.array([1, 2, 3, 4])\n",
            "    >>> b = np.array([1, 2])\n",
            "    >>> np.add.at(a, [0, 1], b)\n",
            "    >>> a\n",
            "    array([2, 4, 3, 4])\n",
            "\n"
          ]
        }
      ]
    },
    {
      "cell_type": "code",
      "source": [
        "Z = np.ones(10)\n",
        "print(Z)\n",
        "I = np.random.randint(0,len(Z),20)\n",
        "print(I)\n",
        "Z += np.bincount(I, minlength=len(Z))\n",
        "print(Z)"
      ],
      "metadata": {
        "colab": {
          "base_uri": "https://localhost:8080/"
        },
        "id": "sEjE6FDS-8mt",
        "outputId": "a8d49a14-ae5f-43e1-844a-75ad8fa2080b"
      },
      "execution_count": null,
      "outputs": [
        {
          "output_type": "stream",
          "name": "stdout",
          "text": [
            "[1. 1. 1. 1. 1. 1. 1. 1. 1. 1.]\n",
            "[9 5 9 0 7 6 1 4 4 9 0 0 4 3 3 3 7 1 2 1]\n",
            "[4. 4. 2. 4. 4. 2. 2. 3. 1. 4.]\n"
          ]
        }
      ]
    },
    {
      "cell_type": "code",
      "source": [
        "np.add.at(Z, I, 1) # to the elements of Z, at the position corresponding to elements of I, add \"1\"\n",
        "print(Z)"
      ],
      "metadata": {
        "colab": {
          "base_uri": "https://localhost:8080/"
        },
        "id": "6WJLo1Pi_pbF",
        "outputId": "12ca6c6a-6045-43ac-e8d5-b765cba1cc8d"
      },
      "execution_count": null,
      "outputs": [
        {
          "output_type": "stream",
          "name": "stdout",
          "text": [
            "[7. 7. 3. 7. 7. 3. 3. 5. 1. 7.]\n"
          ]
        }
      ]
    },
    {
      "cell_type": "code",
      "source": [
        "np.bincount(np.array([0,1,2,1,1,3,4,2]))"
      ],
      "metadata": {
        "colab": {
          "base_uri": "https://localhost:8080/"
        },
        "id": "HTKFUig44u1J",
        "outputId": "330e2859-58f1-41f4-e866-2acb37020d5a"
      },
      "execution_count": null,
      "outputs": [
        {
          "output_type": "execute_result",
          "data": {
            "text/plain": [
              "array([1, 3, 2, 1, 1])"
            ]
          },
          "metadata": {},
          "execution_count": 24
        }
      ]
    },
    {
      "cell_type": "markdown",
      "metadata": {
        "id": "PnppJKfj3Jgp"
      },
      "source": [
        "#### 65. How to accumulate elements of a vector (X) to an array (F) based on an index list (I)? (★★★) \n",
        "(**hint**: np.bincount)"
      ]
    },
    {
      "cell_type": "code",
      "execution_count": null,
      "metadata": {
        "id": "bQYPQ7Ag3Jgp",
        "colab": {
          "base_uri": "https://localhost:8080/"
        },
        "outputId": "c106c217-287b-4153-ccdb-6c186a8e1b45"
      },
      "outputs": [
        {
          "output_type": "stream",
          "name": "stdout",
          "text": [
            "[0. 7. 0. 6. 5. 0. 0. 0. 0. 3.]\n"
          ]
        }
      ],
      "source": [
        "X = [1,2,3,4,5,6]\n",
        "I = [1,3,9,3,4,1]\n",
        "F = np.bincount(I,X)\n",
        "print(F)"
      ]
    },
    {
      "cell_type": "markdown",
      "metadata": {
        "id": "2yIXNhtW3Jgq"
      },
      "source": [
        "#### 66. Considering a (w,h,3) image of (dtype=ubyte), compute the number of unique colors (★★★) \n",
        "(**hint**: np.unique)"
      ]
    },
    {
      "cell_type": "code",
      "source": [
        "w, h = 256, 256\n",
        "I = np.random.randint(0, 4, (h, w, 3)).astype(np.ubyte)\n",
        "print(I)\n",
        "print(len(I))\n",
        "colors = np.unique(I.reshape(-1, 3), axis=0)\n",
        "print(colors)\n",
        "n = len(colors)\n",
        "print(n)"
      ],
      "metadata": {
        "colab": {
          "base_uri": "https://localhost:8080/"
        },
        "id": "XCVK28JjRHvs",
        "outputId": "6fde93fa-13c1-4571-806b-71f5c895d3f9"
      },
      "execution_count": null,
      "outputs": [
        {
          "output_type": "stream",
          "name": "stdout",
          "text": [
            "[[[1 1 1]\n",
            "  [0 1 1]\n",
            "  [2 0 2]\n",
            "  ...\n",
            "  [0 2 1]\n",
            "  [0 2 3]\n",
            "  [0 3 0]]\n",
            "\n",
            " [[2 3 0]\n",
            "  [3 1 1]\n",
            "  [3 3 0]\n",
            "  ...\n",
            "  [3 2 3]\n",
            "  [2 2 3]\n",
            "  [3 1 2]]\n",
            "\n",
            " [[2 1 3]\n",
            "  [3 1 2]\n",
            "  [0 1 2]\n",
            "  ...\n",
            "  [1 3 0]\n",
            "  [3 3 0]\n",
            "  [1 3 1]]\n",
            "\n",
            " ...\n",
            "\n",
            " [[2 3 3]\n",
            "  [1 0 3]\n",
            "  [2 2 0]\n",
            "  ...\n",
            "  [1 3 2]\n",
            "  [1 0 2]\n",
            "  [1 2 3]]\n",
            "\n",
            " [[0 1 2]\n",
            "  [0 0 3]\n",
            "  [3 0 2]\n",
            "  ...\n",
            "  [3 0 2]\n",
            "  [3 0 1]\n",
            "  [0 0 3]]\n",
            "\n",
            " [[3 1 2]\n",
            "  [1 2 3]\n",
            "  [1 2 1]\n",
            "  ...\n",
            "  [3 3 1]\n",
            "  [0 2 0]\n",
            "  [2 1 0]]]\n",
            "256\n",
            "[[0 0 0]\n",
            " [0 0 1]\n",
            " [0 0 2]\n",
            " [0 0 3]\n",
            " [0 1 0]\n",
            " [0 1 1]\n",
            " [0 1 2]\n",
            " [0 1 3]\n",
            " [0 2 0]\n",
            " [0 2 1]\n",
            " [0 2 2]\n",
            " [0 2 3]\n",
            " [0 3 0]\n",
            " [0 3 1]\n",
            " [0 3 2]\n",
            " [0 3 3]\n",
            " [1 0 0]\n",
            " [1 0 1]\n",
            " [1 0 2]\n",
            " [1 0 3]\n",
            " [1 1 0]\n",
            " [1 1 1]\n",
            " [1 1 2]\n",
            " [1 1 3]\n",
            " [1 2 0]\n",
            " [1 2 1]\n",
            " [1 2 2]\n",
            " [1 2 3]\n",
            " [1 3 0]\n",
            " [1 3 1]\n",
            " [1 3 2]\n",
            " [1 3 3]\n",
            " [2 0 0]\n",
            " [2 0 1]\n",
            " [2 0 2]\n",
            " [2 0 3]\n",
            " [2 1 0]\n",
            " [2 1 1]\n",
            " [2 1 2]\n",
            " [2 1 3]\n",
            " [2 2 0]\n",
            " [2 2 1]\n",
            " [2 2 2]\n",
            " [2 2 3]\n",
            " [2 3 0]\n",
            " [2 3 1]\n",
            " [2 3 2]\n",
            " [2 3 3]\n",
            " [3 0 0]\n",
            " [3 0 1]\n",
            " [3 0 2]\n",
            " [3 0 3]\n",
            " [3 1 0]\n",
            " [3 1 1]\n",
            " [3 1 2]\n",
            " [3 1 3]\n",
            " [3 2 0]\n",
            " [3 2 1]\n",
            " [3 2 2]\n",
            " [3 2 3]\n",
            " [3 3 0]\n",
            " [3 3 1]\n",
            " [3 3 2]\n",
            " [3 3 3]]\n",
            "64\n"
          ]
        }
      ]
    },
    {
      "cell_type": "code",
      "source": [
        "\n",
        "w, h = 256, 256\n",
        "I = np.random.randint(0,4,(h,w,3), dtype=np.uint8)\n",
        "\n",
        "# View each pixel as a single 24-bit integer, rather than three 8-bit bytes\n",
        "I24 = np.dot(I.astype(np.uint32),[1,256,65536])\n",
        "print(I24)\n",
        "\n",
        "# Count unique colours\n",
        "n = len(np.unique(I24))\n",
        "print(n)"
      ],
      "metadata": {
        "colab": {
          "base_uri": "https://localhost:8080/"
        },
        "id": "E2Czck9MSAkT",
        "outputId": "5f165f04-997f-446b-8ba2-358a28b72ddb"
      },
      "execution_count": null,
      "outputs": [
        {
          "output_type": "stream",
          "name": "stdout",
          "text": [
            "[[   256    768 197121 ...  65539 197122  65793]\n",
            " [ 66049    258 131330 ... 196865  65793  65793]\n",
            " [ 66051  66050 196610 ... 131073    768 197379]\n",
            " ...\n",
            " [     2 196611 196865 ...    259    513 196865]\n",
            " [196611 131074 131843 ... 131331  66048  65795]\n",
            " [131328 197121 131331 ... 197123 131074  65793]]\n",
            "64\n"
          ]
        }
      ]
    },
    {
      "cell_type": "code",
      "source": [
        "help(np.dot)"
      ],
      "metadata": {
        "colab": {
          "base_uri": "https://localhost:8080/"
        },
        "id": "92MoBpk2TcjH",
        "outputId": "0fcbb9e2-e7f7-4dee-941a-190a71ba719e"
      },
      "execution_count": null,
      "outputs": [
        {
          "output_type": "stream",
          "name": "stdout",
          "text": [
            "Help on function dot in module numpy:\n",
            "\n",
            "dot(...)\n",
            "    dot(a, b, out=None)\n",
            "    \n",
            "    Dot product of two arrays. Specifically,\n",
            "    \n",
            "    - If both `a` and `b` are 1-D arrays, it is inner product of vectors\n",
            "      (without complex conjugation).\n",
            "    \n",
            "    - If both `a` and `b` are 2-D arrays, it is matrix multiplication,\n",
            "      but using :func:`matmul` or ``a @ b`` is preferred.\n",
            "    \n",
            "    - If either `a` or `b` is 0-D (scalar), it is equivalent to :func:`multiply`\n",
            "      and using ``numpy.multiply(a, b)`` or ``a * b`` is preferred.\n",
            "    \n",
            "    - If `a` is an N-D array and `b` is a 1-D array, it is a sum product over\n",
            "      the last axis of `a` and `b`.\n",
            "    \n",
            "    - If `a` is an N-D array and `b` is an M-D array (where ``M>=2``), it is a\n",
            "      sum product over the last axis of `a` and the second-to-last axis of `b`::\n",
            "    \n",
            "        dot(a, b)[i,j,k,m] = sum(a[i,j,:] * b[k,:,m])\n",
            "    \n",
            "    Parameters\n",
            "    ----------\n",
            "    a : array_like\n",
            "        First argument.\n",
            "    b : array_like\n",
            "        Second argument.\n",
            "    out : ndarray, optional\n",
            "        Output argument. This must have the exact kind that would be returned\n",
            "        if it was not used. In particular, it must have the right type, must be\n",
            "        C-contiguous, and its dtype must be the dtype that would be returned\n",
            "        for `dot(a,b)`. This is a performance feature. Therefore, if these\n",
            "        conditions are not met, an exception is raised, instead of attempting\n",
            "        to be flexible.\n",
            "    \n",
            "    Returns\n",
            "    -------\n",
            "    output : ndarray\n",
            "        Returns the dot product of `a` and `b`.  If `a` and `b` are both\n",
            "        scalars or both 1-D arrays then a scalar is returned; otherwise\n",
            "        an array is returned.\n",
            "        If `out` is given, then it is returned.\n",
            "    \n",
            "    Raises\n",
            "    ------\n",
            "    ValueError\n",
            "        If the last dimension of `a` is not the same size as\n",
            "        the second-to-last dimension of `b`.\n",
            "    \n",
            "    See Also\n",
            "    --------\n",
            "    vdot : Complex-conjugating dot product.\n",
            "    tensordot : Sum products over arbitrary axes.\n",
            "    einsum : Einstein summation convention.\n",
            "    matmul : '@' operator as method with out parameter.\n",
            "    linalg.multi_dot : Chained dot product.\n",
            "    \n",
            "    Examples\n",
            "    --------\n",
            "    >>> np.dot(3, 4)\n",
            "    12\n",
            "    \n",
            "    Neither argument is complex-conjugated:\n",
            "    \n",
            "    >>> np.dot([2j, 3j], [2j, 3j])\n",
            "    (-13+0j)\n",
            "    \n",
            "    For 2-D arrays it is the matrix product:\n",
            "    \n",
            "    >>> a = [[1, 0], [0, 1]]\n",
            "    >>> b = [[4, 1], [2, 2]]\n",
            "    >>> np.dot(a, b)\n",
            "    array([[4, 1],\n",
            "           [2, 2]])\n",
            "    \n",
            "    >>> a = np.arange(3*4*5*6).reshape((3,4,5,6))\n",
            "    >>> b = np.arange(3*4*5*6)[::-1].reshape((5,4,6,3))\n",
            "    >>> np.dot(a, b)[2,3,2,1,2,2]\n",
            "    499128\n",
            "    >>> sum(a[2,3,2,:] * b[1,2,:,2])\n",
            "    499128\n",
            "\n"
          ]
        }
      ]
    },
    {
      "cell_type": "code",
      "source": [
        "arr=np.array()"
      ],
      "metadata": {
        "id": "knUm_u5EQwHR"
      },
      "execution_count": null,
      "outputs": []
    },
    {
      "cell_type": "code",
      "execution_count": null,
      "metadata": {
        "id": "yA1hraaC3Jgq",
        "colab": {
          "base_uri": "https://localhost:8080/"
        },
        "outputId": "9ae68f23-3b60-4735-c481-8a06a374d63b"
      },
      "outputs": [
        {
          "output_type": "stream",
          "name": "stdout",
          "text": [
            "Help on function unique in module numpy:\n",
            "\n",
            "unique(ar, return_index=False, return_inverse=False, return_counts=False, axis=None)\n",
            "    Find the unique elements of an array.\n",
            "    \n",
            "    Returns the sorted unique elements of an array. There are three optional\n",
            "    outputs in addition to the unique elements:\n",
            "    \n",
            "    * the indices of the input array that give the unique values\n",
            "    * the indices of the unique array that reconstruct the input array\n",
            "    * the number of times each unique value comes up in the input array\n",
            "    \n",
            "    Parameters\n",
            "    ----------\n",
            "    ar : array_like\n",
            "        Input array. Unless `axis` is specified, this will be flattened if it\n",
            "        is not already 1-D.\n",
            "    return_index : bool, optional\n",
            "        If True, also return the indices of `ar` (along the specified axis,\n",
            "        if provided, or in the flattened array) that result in the unique array.\n",
            "    return_inverse : bool, optional\n",
            "        If True, also return the indices of the unique array (for the specified\n",
            "        axis, if provided) that can be used to reconstruct `ar`.\n",
            "    return_counts : bool, optional\n",
            "        If True, also return the number of times each unique item appears\n",
            "        in `ar`.\n",
            "    \n",
            "        .. versionadded:: 1.9.0\n",
            "    \n",
            "    axis : int or None, optional\n",
            "        The axis to operate on. If None, `ar` will be flattened. If an integer,\n",
            "        the subarrays indexed by the given axis will be flattened and treated\n",
            "        as the elements of a 1-D array with the dimension of the given axis,\n",
            "        see the notes for more details.  Object arrays or structured arrays\n",
            "        that contain objects are not supported if the `axis` kwarg is used. The\n",
            "        default is None.\n",
            "    \n",
            "        .. versionadded:: 1.13.0\n",
            "    \n",
            "    Returns\n",
            "    -------\n",
            "    unique : ndarray\n",
            "        The sorted unique values.\n",
            "    unique_indices : ndarray, optional\n",
            "        The indices of the first occurrences of the unique values in the\n",
            "        original array. Only provided if `return_index` is True.\n",
            "    unique_inverse : ndarray, optional\n",
            "        The indices to reconstruct the original array from the\n",
            "        unique array. Only provided if `return_inverse` is True.\n",
            "    unique_counts : ndarray, optional\n",
            "        The number of times each of the unique values comes up in the\n",
            "        original array. Only provided if `return_counts` is True.\n",
            "    \n",
            "        .. versionadded:: 1.9.0\n",
            "    \n",
            "    See Also\n",
            "    --------\n",
            "    numpy.lib.arraysetops : Module with a number of other functions for\n",
            "                            performing set operations on arrays.\n",
            "    repeat : Repeat elements of an array.\n",
            "    \n",
            "    Notes\n",
            "    -----\n",
            "    When an axis is specified the subarrays indexed by the axis are sorted.\n",
            "    This is done by making the specified axis the first dimension of the array\n",
            "    (move the axis to the first dimension to keep the order of the other axes)\n",
            "    and then flattening the subarrays in C order. The flattened subarrays are\n",
            "    then viewed as a structured type with each element given a label, with the\n",
            "    effect that we end up with a 1-D array of structured types that can be\n",
            "    treated in the same way as any other 1-D array. The result is that the\n",
            "    flattened subarrays are sorted in lexicographic order starting with the\n",
            "    first element.\n",
            "    \n",
            "    .. versionchanged: NumPy 1.21\n",
            "        If nan values are in the input array, a single nan is put\n",
            "        to the end of the sorted unique values.\n",
            "    \n",
            "        Also for complex arrays all NaN values are considered equivalent\n",
            "        (no matter whether the NaN is in the real or imaginary part).\n",
            "        As the representant for the returned array the smallest one in the\n",
            "        lexicographical order is chosen - see np.sort for how the lexicographical\n",
            "        order is defined for complex arrays.\n",
            "    \n",
            "    Examples\n",
            "    --------\n",
            "    >>> np.unique([1, 1, 2, 2, 3, 3])\n",
            "    array([1, 2, 3])\n",
            "    >>> a = np.array([[1, 1], [2, 3]])\n",
            "    >>> np.unique(a)\n",
            "    array([1, 2, 3])\n",
            "    \n",
            "    Return the unique rows of a 2D array\n",
            "    \n",
            "    >>> a = np.array([[1, 0, 0], [1, 0, 0], [2, 3, 4]])\n",
            "    >>> np.unique(a, axis=0)\n",
            "    array([[1, 0, 0], [2, 3, 4]])\n",
            "    \n",
            "    Return the indices of the original array that give the unique values:\n",
            "    \n",
            "    >>> a = np.array(['a', 'b', 'b', 'c', 'a'])\n",
            "    >>> u, indices = np.unique(a, return_index=True)\n",
            "    >>> u\n",
            "    array(['a', 'b', 'c'], dtype='<U1')\n",
            "    >>> indices\n",
            "    array([0, 1, 3])\n",
            "    >>> a[indices]\n",
            "    array(['a', 'b', 'c'], dtype='<U1')\n",
            "    \n",
            "    Reconstruct the input array from the unique values and inverse:\n",
            "    \n",
            "    >>> a = np.array([1, 2, 6, 4, 2, 3, 2])\n",
            "    >>> u, indices = np.unique(a, return_inverse=True)\n",
            "    >>> u\n",
            "    array([1, 2, 3, 4, 6])\n",
            "    >>> indices\n",
            "    array([0, 1, 4, 3, 1, 2, 1])\n",
            "    >>> u[indices]\n",
            "    array([1, 2, 6, 4, 2, 3, 2])\n",
            "    \n",
            "    Reconstruct the input values from the unique values and counts:\n",
            "    \n",
            "    >>> a = np.array([1, 2, 6, 4, 2, 3, 2])\n",
            "    >>> values, counts = np.unique(a, return_counts=True)\n",
            "    >>> values\n",
            "    array([1, 2, 3, 4, 6])\n",
            "    >>> counts\n",
            "    array([1, 3, 1, 1, 1])\n",
            "    >>> np.repeat(values, counts)\n",
            "    array([1, 2, 2, 2, 3, 4, 6])    # original order not preserved\n",
            "\n"
          ]
        }
      ],
      "source": [
        "help(np.unique)"
      ]
    },
    {
      "cell_type": "markdown",
      "metadata": {
        "id": "uvDG4wju3Jgr"
      },
      "source": [
        "#### 67. Considering a four dimensions array, how to get sum over the last two axis at once? (★★★) \n",
        "(**hint**: sum(axis=(-2,-1)))"
      ]
    },
    {
      "cell_type": "code",
      "execution_count": null,
      "metadata": {
        "id": "A5r4edyg3Jgs",
        "colab": {
          "base_uri": "https://localhost:8080/"
        },
        "outputId": "6fdaec3b-ea4a-4bbf-f99e-324fe58aeb75"
      },
      "outputs": [
        {
          "output_type": "stream",
          "name": "stdout",
          "text": [
            "[[[[ 0  1  2]\n",
            "   [ 3  4  5]]\n",
            "\n",
            "  [[ 6  7  8]\n",
            "   [ 9 10 11]]]\n",
            "\n",
            "\n",
            " [[[12 13 14]\n",
            "   [15 16 17]]\n",
            "\n",
            "  [[18 19 20]\n",
            "   [21 22 23]]]]\n",
            "[[ 15  51]\n",
            " [ 87 123]]\n"
          ]
        }
      ],
      "source": [
        "a=np.arange(24).reshape(2,2,2,3)\n",
        "print(a)\n",
        "print(a.sum(axis=(-2,-1)))"
      ]
    },
    {
      "cell_type": "markdown",
      "metadata": {
        "id": "hGWHb73N3Jgs"
      },
      "source": [
        "#### 68. Considering a one-dimensional vector D, how to compute means of subsets of D using a vector S of same size describing subset  indices? (★★★) \n",
        "(**hint**: np.bincount)"
      ]
    },
    {
      "cell_type": "code",
      "execution_count": null,
      "metadata": {
        "id": "99hwjS_u3Jgs",
        "colab": {
          "base_uri": "https://localhost:8080/"
        },
        "outputId": "e7cf0483-1b25-4e4f-cb42-3fe554f3c019"
      },
      "outputs": [
        {
          "output_type": "stream",
          "name": "stdout",
          "text": [
            "[0.06470827 0.93718717 0.78147153 0.06933611 0.13918092 0.8098341\n",
            " 0.11233884 0.70624765 0.3342173  0.53076635 0.00765763 0.09891396\n",
            " 0.95378325 0.38695368 0.57294158 0.49808903 0.71263024 0.60767196\n",
            " 0.33666002 0.41271942 0.42813148 0.58548235 0.13147292 0.41293537\n",
            " 0.06070004 0.95977959 0.77681509 0.58530516 0.99811037 0.85021123\n",
            " 0.61985313 0.3038572  0.82700606 0.81632987 0.82591994 0.05705779\n",
            " 0.40504809 0.43850922 0.12124731 0.40932341 0.63041579 0.33247373\n",
            " 0.05824665 0.82096195 0.57997686 0.07556182 0.99419864 0.604081\n",
            " 0.32614408 0.37782653 0.80787586 0.41904333 0.42029049 0.66876612\n",
            " 0.45834174 0.89132791 0.79713887 0.40787901 0.95833297 0.64221088\n",
            " 0.75234071 0.41196859 0.39772224 0.32306372 0.99582624 0.22011859\n",
            " 0.89718499 0.77385918 0.1681348  0.49723876 0.68418389 0.53348584\n",
            " 0.95487965 0.26037652 0.80003082 0.87432179 0.42227406 0.83733117\n",
            " 0.92761582 0.45944573 0.14909336 0.8392583  0.90771428 0.69723585\n",
            " 0.63005587 0.53797999 0.35242925 0.13628422 0.92965485 0.18695424\n",
            " 0.45960677 0.65576015 0.87881522 0.50424218 0.10294509 0.1850336\n",
            " 0.96703889 0.71412084 0.79245619 0.43055061]\n",
            "[2 7 5 5 5 0 8 3 5 7 9 1 0 9 5 8 9 1 1 1 6 0 5 8 5 2 0 3 3 7 4 2 0 9 0 4 4\n",
            " 2 7 0 0 4 7 5 1 0 7 2 8 8 9 0 5 8 1 9 2 4 5 9 3 1 9 7 4 7 1 2 9 7 8 1 3 5\n",
            " 3 7 9 6 6 5 0 9 5 6 8 8 5 1 0 6 1 3 4 9 2 5 1 0 2 8]\n",
            "[8.10605418 5.89985327 4.8373346  5.45267451 3.6969532  6.45390517\n",
            " 3.07726856 5.40660022 4.67887033 6.59661764]\n",
            "[13 12  9  7  7 15  5 10 10 12]\n",
            "[0.62354263 0.49165444 0.53748162 0.7789535  0.52813617 0.43026034\n",
            " 0.61545371 0.54066002 0.46788703 0.54971814]\n"
          ]
        }
      ],
      "source": [
        "D = np.random.uniform(0,1,100)\n",
        "print(D)\n",
        "S = np.random.randint(0,10,100)\n",
        "print(S)\n",
        "D_sums = np.bincount(S, weights=D)\n",
        "print(D_sums)\n",
        "D_counts = np.bincount(S)\n",
        "print(D_counts)\n",
        "D_means = D_sums / D_counts\n",
        "print(D_means)"
      ]
    },
    {
      "cell_type": "code",
      "source": [
        "import pandas as pd\n",
        "print(pd.Series(D).groupby(S).mean())"
      ],
      "metadata": {
        "colab": {
          "base_uri": "https://localhost:8080/"
        },
        "id": "jEum0YI_Cqs5",
        "outputId": "52f80440-fe89-4623-a6dc-11d155477908"
      },
      "execution_count": null,
      "outputs": [
        {
          "output_type": "stream",
          "name": "stdout",
          "text": [
            "0    0.623543\n",
            "1    0.491654\n",
            "2    0.537482\n",
            "3    0.778954\n",
            "4    0.528136\n",
            "5    0.430260\n",
            "6    0.615454\n",
            "7    0.540660\n",
            "8    0.467887\n",
            "9    0.549718\n",
            "dtype: float64\n"
          ]
        }
      ]
    },
    {
      "cell_type": "code",
      "source": [
        "D=np.random.randint(1,10,5)\n",
        "S=np.random.randint(1,6,5)\n",
        "print(D,S)\n",
        "print(np.bincount(S))\n",
        "sum_subset=np.bincount(S,D)\n",
        "print(sum_subset)\n",
        "mean_subset=sum_subset/np.bincount(S)\n",
        "print(mean_subset)\n",
        "\n"
      ],
      "metadata": {
        "colab": {
          "base_uri": "https://localhost:8080/"
        },
        "id": "AQbWTttIrnj3",
        "outputId": "bbd2ff40-cd65-4f1a-958a-efaabaec6717"
      },
      "execution_count": null,
      "outputs": [
        {
          "output_type": "stream",
          "name": "stdout",
          "text": [
            "[8 7 7 1 1] [5 4 1 4 3]\n",
            "[0 1 0 1 2 1]\n",
            "[0. 7. 0. 1. 8. 8.]\n",
            "[nan  7. nan  1.  4.  8.]\n"
          ]
        },
        {
          "output_type": "stream",
          "name": "stderr",
          "text": [
            "/usr/local/lib/python3.7/dist-packages/ipykernel_launcher.py:7: RuntimeWarning: invalid value encountered in true_divide\n",
            "  import sys\n"
          ]
        }
      ]
    },
    {
      "cell_type": "code",
      "source": [
        "import pandas as pd\n",
        "print(pd.Series(D).groupby(S).mean())"
      ],
      "metadata": {
        "colab": {
          "base_uri": "https://localhost:8080/"
        },
        "id": "Y1RRuDlVCbeT",
        "outputId": "aee325d9-4749-44a7-c022-4abdc5436eac"
      },
      "execution_count": null,
      "outputs": [
        {
          "output_type": "stream",
          "name": "stdout",
          "text": [
            "1    7.0\n",
            "3    1.0\n",
            "4    4.0\n",
            "5    8.0\n",
            "dtype: float64\n"
          ]
        }
      ]
    },
    {
      "cell_type": "markdown",
      "metadata": {
        "id": "b1mj2ta_3Jgt"
      },
      "source": [
        "#### 69. How to get the diagonal of a dot product? (★★★) \n",
        "(**hint**: np.diag)"
      ]
    },
    {
      "cell_type": "code",
      "execution_count": null,
      "metadata": {
        "id": "IgQsvHA23Jgt",
        "colab": {
          "base_uri": "https://localhost:8080/"
        },
        "outputId": "46db98e2-d65b-47ae-e5b0-604cc997fccd"
      },
      "outputs": [
        {
          "output_type": "stream",
          "name": "stdout",
          "text": [
            "Help on function diag in module numpy:\n",
            "\n",
            "diag(v, k=0)\n",
            "    Extract a diagonal or construct a diagonal array.\n",
            "    \n",
            "    See the more detailed documentation for ``numpy.diagonal`` if you use this\n",
            "    function to extract a diagonal and wish to write to the resulting array;\n",
            "    whether it returns a copy or a view depends on what version of numpy you\n",
            "    are using.\n",
            "    \n",
            "    Parameters\n",
            "    ----------\n",
            "    v : array_like\n",
            "        If `v` is a 2-D array, return a copy of its `k`-th diagonal.\n",
            "        If `v` is a 1-D array, return a 2-D array with `v` on the `k`-th\n",
            "        diagonal.\n",
            "    k : int, optional\n",
            "        Diagonal in question. The default is 0. Use `k>0` for diagonals\n",
            "        above the main diagonal, and `k<0` for diagonals below the main\n",
            "        diagonal.\n",
            "    \n",
            "    Returns\n",
            "    -------\n",
            "    out : ndarray\n",
            "        The extracted diagonal or constructed diagonal array.\n",
            "    \n",
            "    See Also\n",
            "    --------\n",
            "    diagonal : Return specified diagonals.\n",
            "    diagflat : Create a 2-D array with the flattened input as a diagonal.\n",
            "    trace : Sum along diagonals.\n",
            "    triu : Upper triangle of an array.\n",
            "    tril : Lower triangle of an array.\n",
            "    \n",
            "    Examples\n",
            "    --------\n",
            "    >>> x = np.arange(9).reshape((3,3))\n",
            "    >>> x\n",
            "    array([[0, 1, 2],\n",
            "           [3, 4, 5],\n",
            "           [6, 7, 8]])\n",
            "    \n",
            "    >>> np.diag(x)\n",
            "    array([0, 4, 8])\n",
            "    >>> np.diag(x, k=1)\n",
            "    array([1, 5])\n",
            "    >>> np.diag(x, k=-1)\n",
            "    array([3, 7])\n",
            "    \n",
            "    >>> np.diag(np.diag(x))\n",
            "    array([[0, 0, 0],\n",
            "           [0, 4, 0],\n",
            "           [0, 0, 8]])\n",
            "\n"
          ]
        }
      ],
      "source": [
        "help(np.diag)"
      ]
    },
    {
      "cell_type": "code",
      "source": [
        "A = np.random.uniform(0,1,(5,5))\n",
        "print(A)\n",
        "\n",
        "B = np.random.uniform(0,1,(5,5))\n",
        "print(B)\n",
        "\n",
        "# Slow version\n",
        "print(np.diag(np.dot(A, B)))\n",
        "\n",
        "# Fast version\n",
        "print(np.sum(A * B.T, axis=1))\n",
        "\n",
        "# Faster version\n",
        "print(np.einsum(\"ij,ji->i\", A, B))"
      ],
      "metadata": {
        "colab": {
          "base_uri": "https://localhost:8080/"
        },
        "id": "hBffV_uWKiHr",
        "outputId": "5533d248-ba01-4a9d-ed8e-932f72a1d481"
      },
      "execution_count": null,
      "outputs": [
        {
          "output_type": "stream",
          "name": "stdout",
          "text": [
            "[[0.11555965 0.2003968  0.82528624 0.06852951 0.15054661]\n",
            " [0.14426745 0.11184073 0.49186071 0.75109045 0.54386436]\n",
            " [0.65087146 0.92461168 0.03641344 0.7757621  0.95072154]\n",
            " [0.49072082 0.90201822 0.99214591 0.39986561 0.40582184]\n",
            " [0.93360338 0.33130885 0.55351425 0.8494667  0.16263702]]\n",
            "[[0.53827869 0.21598324 0.92751093 0.82140601 0.61946456]\n",
            " [0.54370826 0.15672033 0.19352113 0.59793343 0.87823883]\n",
            " [0.64422848 0.93108502 0.00289914 0.69946686 0.56912796]\n",
            " [0.22697711 0.39051171 0.20560827 0.484673   0.68076159]\n",
            " [0.87070044 0.84168689 0.71371377 0.47354258 0.05379838]]\n",
            "[0.84946921 1.25772432 1.62077402 2.02237904 1.77135684]\n",
            "[0.84946921 1.25772432 1.62077402 2.02237904 1.77135684]\n",
            "[0.84946921 1.25772432 1.62077402 2.02237904 1.77135684]\n"
          ]
        }
      ]
    },
    {
      "cell_type": "code",
      "source": [
        "A = np.random.randint(1,9,(3,3))\n",
        "print(A)\n",
        "\n",
        "B = np.random.randint(1,9,(3,3))\n",
        "print(B)\n",
        "\n",
        "# Slow version\n",
        "print(np.dot(A, B))\n",
        "print(np.diag(np.dot(A, B)))\n",
        "\n",
        "# Fast version\n",
        "print(np.sum(A * B.T, axis=1))\n",
        "\n",
        "# Faster version\n",
        "print(np.einsum(\"ij,ji->i\", A, B))"
      ],
      "metadata": {
        "colab": {
          "base_uri": "https://localhost:8080/"
        },
        "id": "i2U857zIOerj",
        "outputId": "fc974d3b-1b54-493b-f92f-d43be93d379f"
      },
      "execution_count": null,
      "outputs": [
        {
          "output_type": "stream",
          "name": "stdout",
          "text": [
            "[[7 6 3]\n",
            " [3 8 6]\n",
            " [7 1 5]]\n",
            "[[5 8 3]\n",
            " [4 4 3]\n",
            " [8 6 8]]\n",
            "[[83 98 63]\n",
            " [95 92 81]\n",
            " [79 90 64]]\n",
            "[83 92 64]\n",
            "[83 92 64]\n",
            "[83 92 64]\n"
          ]
        }
      ]
    },
    {
      "cell_type": "code",
      "source": [
        "help(np.einsum)"
      ],
      "metadata": {
        "colab": {
          "base_uri": "https://localhost:8080/"
        },
        "id": "vLICUNZpLFLM",
        "outputId": "de5f7b32-5eb2-4fd4-efbd-41b65fb66621"
      },
      "execution_count": null,
      "outputs": [
        {
          "output_type": "stream",
          "name": "stdout",
          "text": [
            "Help on function einsum in module numpy:\n",
            "\n",
            "einsum(*operands, out=None, optimize=False, **kwargs)\n",
            "    einsum(subscripts, *operands, out=None, dtype=None, order='K',\n",
            "           casting='safe', optimize=False)\n",
            "    \n",
            "    Evaluates the Einstein summation convention on the operands.\n",
            "    \n",
            "    Using the Einstein summation convention, many common multi-dimensional,\n",
            "    linear algebraic array operations can be represented in a simple fashion.\n",
            "    In *implicit* mode `einsum` computes these values.\n",
            "    \n",
            "    In *explicit* mode, `einsum` provides further flexibility to compute\n",
            "    other array operations that might not be considered classical Einstein\n",
            "    summation operations, by disabling, or forcing summation over specified\n",
            "    subscript labels.\n",
            "    \n",
            "    See the notes and examples for clarification.\n",
            "    \n",
            "    Parameters\n",
            "    ----------\n",
            "    subscripts : str\n",
            "        Specifies the subscripts for summation as comma separated list of\n",
            "        subscript labels. An implicit (classical Einstein summation)\n",
            "        calculation is performed unless the explicit indicator '->' is\n",
            "        included as well as subscript labels of the precise output form.\n",
            "    operands : list of array_like\n",
            "        These are the arrays for the operation.\n",
            "    out : ndarray, optional\n",
            "        If provided, the calculation is done into this array.\n",
            "    dtype : {data-type, None}, optional\n",
            "        If provided, forces the calculation to use the data type specified.\n",
            "        Note that you may have to also give a more liberal `casting`\n",
            "        parameter to allow the conversions. Default is None.\n",
            "    order : {'C', 'F', 'A', 'K'}, optional\n",
            "        Controls the memory layout of the output. 'C' means it should\n",
            "        be C contiguous. 'F' means it should be Fortran contiguous,\n",
            "        'A' means it should be 'F' if the inputs are all 'F', 'C' otherwise.\n",
            "        'K' means it should be as close to the layout as the inputs as\n",
            "        is possible, including arbitrarily permuted axes.\n",
            "        Default is 'K'.\n",
            "    casting : {'no', 'equiv', 'safe', 'same_kind', 'unsafe'}, optional\n",
            "        Controls what kind of data casting may occur.  Setting this to\n",
            "        'unsafe' is not recommended, as it can adversely affect accumulations.\n",
            "    \n",
            "          * 'no' means the data types should not be cast at all.\n",
            "          * 'equiv' means only byte-order changes are allowed.\n",
            "          * 'safe' means only casts which can preserve values are allowed.\n",
            "          * 'same_kind' means only safe casts or casts within a kind,\n",
            "            like float64 to float32, are allowed.\n",
            "          * 'unsafe' means any data conversions may be done.\n",
            "    \n",
            "        Default is 'safe'.\n",
            "    optimize : {False, True, 'greedy', 'optimal'}, optional\n",
            "        Controls if intermediate optimization should occur. No optimization\n",
            "        will occur if False and True will default to the 'greedy' algorithm.\n",
            "        Also accepts an explicit contraction list from the ``np.einsum_path``\n",
            "        function. See ``np.einsum_path`` for more details. Defaults to False.\n",
            "    \n",
            "    Returns\n",
            "    -------\n",
            "    output : ndarray\n",
            "        The calculation based on the Einstein summation convention.\n",
            "    \n",
            "    See Also\n",
            "    --------\n",
            "    einsum_path, dot, inner, outer, tensordot, linalg.multi_dot\n",
            "    einops :\n",
            "        similar verbose interface is provided by\n",
            "        `einops <https://github.com/arogozhnikov/einops>`_ package to cover\n",
            "        additional operations: transpose, reshape/flatten, repeat/tile,\n",
            "        squeeze/unsqueeze and reductions.\n",
            "    opt_einsum :\n",
            "        `opt_einsum <https://optimized-einsum.readthedocs.io/en/stable/>`_\n",
            "        optimizes contraction order for einsum-like expressions\n",
            "        in backend-agnostic manner.\n",
            "    \n",
            "    Notes\n",
            "    -----\n",
            "    .. versionadded:: 1.6.0\n",
            "    \n",
            "    The Einstein summation convention can be used to compute\n",
            "    many multi-dimensional, linear algebraic array operations. `einsum`\n",
            "    provides a succinct way of representing these.\n",
            "    \n",
            "    A non-exhaustive list of these operations,\n",
            "    which can be computed by `einsum`, is shown below along with examples:\n",
            "    \n",
            "    * Trace of an array, :py:func:`numpy.trace`.\n",
            "    * Return a diagonal, :py:func:`numpy.diag`.\n",
            "    * Array axis summations, :py:func:`numpy.sum`.\n",
            "    * Transpositions and permutations, :py:func:`numpy.transpose`.\n",
            "    * Matrix multiplication and dot product, :py:func:`numpy.matmul` :py:func:`numpy.dot`.\n",
            "    * Vector inner and outer products, :py:func:`numpy.inner` :py:func:`numpy.outer`.\n",
            "    * Broadcasting, element-wise and scalar multiplication, :py:func:`numpy.multiply`.\n",
            "    * Tensor contractions, :py:func:`numpy.tensordot`.\n",
            "    * Chained array operations, in efficient calculation order, :py:func:`numpy.einsum_path`.\n",
            "    \n",
            "    The subscripts string is a comma-separated list of subscript labels,\n",
            "    where each label refers to a dimension of the corresponding operand.\n",
            "    Whenever a label is repeated it is summed, so ``np.einsum('i,i', a, b)``\n",
            "    is equivalent to :py:func:`np.inner(a,b) <numpy.inner>`. If a label\n",
            "    appears only once, it is not summed, so ``np.einsum('i', a)`` produces a\n",
            "    view of ``a`` with no changes. A further example ``np.einsum('ij,jk', a, b)``\n",
            "    describes traditional matrix multiplication and is equivalent to\n",
            "    :py:func:`np.matmul(a,b) <numpy.matmul>`. Repeated subscript labels in one\n",
            "    operand take the diagonal. For example, ``np.einsum('ii', a)`` is equivalent\n",
            "    to :py:func:`np.trace(a) <numpy.trace>`.\n",
            "    \n",
            "    In *implicit mode*, the chosen subscripts are important\n",
            "    since the axes of the output are reordered alphabetically.  This\n",
            "    means that ``np.einsum('ij', a)`` doesn't affect a 2D array, while\n",
            "    ``np.einsum('ji', a)`` takes its transpose. Additionally,\n",
            "    ``np.einsum('ij,jk', a, b)`` returns a matrix multiplication, while,\n",
            "    ``np.einsum('ij,jh', a, b)`` returns the transpose of the\n",
            "    multiplication since subscript 'h' precedes subscript 'i'.\n",
            "    \n",
            "    In *explicit mode* the output can be directly controlled by\n",
            "    specifying output subscript labels.  This requires the\n",
            "    identifier '->' as well as the list of output subscript labels.\n",
            "    This feature increases the flexibility of the function since\n",
            "    summing can be disabled or forced when required. The call\n",
            "    ``np.einsum('i->', a)`` is like :py:func:`np.sum(a, axis=-1) <numpy.sum>`,\n",
            "    and ``np.einsum('ii->i', a)`` is like :py:func:`np.diag(a) <numpy.diag>`.\n",
            "    The difference is that `einsum` does not allow broadcasting by default.\n",
            "    Additionally ``np.einsum('ij,jh->ih', a, b)`` directly specifies the\n",
            "    order of the output subscript labels and therefore returns matrix\n",
            "    multiplication, unlike the example above in implicit mode.\n",
            "    \n",
            "    To enable and control broadcasting, use an ellipsis.  Default\n",
            "    NumPy-style broadcasting is done by adding an ellipsis\n",
            "    to the left of each term, like ``np.einsum('...ii->...i', a)``.\n",
            "    To take the trace along the first and last axes,\n",
            "    you can do ``np.einsum('i...i', a)``, or to do a matrix-matrix\n",
            "    product with the left-most indices instead of rightmost, one can do\n",
            "    ``np.einsum('ij...,jk...->ik...', a, b)``.\n",
            "    \n",
            "    When there is only one operand, no axes are summed, and no output\n",
            "    parameter is provided, a view into the operand is returned instead\n",
            "    of a new array.  Thus, taking the diagonal as ``np.einsum('ii->i', a)``\n",
            "    produces a view (changed in version 1.10.0).\n",
            "    \n",
            "    `einsum` also provides an alternative way to provide the subscripts\n",
            "    and operands as ``einsum(op0, sublist0, op1, sublist1, ..., [sublistout])``.\n",
            "    If the output shape is not provided in this format `einsum` will be\n",
            "    calculated in implicit mode, otherwise it will be performed explicitly.\n",
            "    The examples below have corresponding `einsum` calls with the two\n",
            "    parameter methods.\n",
            "    \n",
            "    .. versionadded:: 1.10.0\n",
            "    \n",
            "    Views returned from einsum are now writeable whenever the input array\n",
            "    is writeable. For example, ``np.einsum('ijk...->kji...', a)`` will now\n",
            "    have the same effect as :py:func:`np.swapaxes(a, 0, 2) <numpy.swapaxes>`\n",
            "    and ``np.einsum('ii->i', a)`` will return a writeable view of the diagonal\n",
            "    of a 2D array.\n",
            "    \n",
            "    .. versionadded:: 1.12.0\n",
            "    \n",
            "    Added the ``optimize`` argument which will optimize the contraction order\n",
            "    of an einsum expression. For a contraction with three or more operands this\n",
            "    can greatly increase the computational efficiency at the cost of a larger\n",
            "    memory footprint during computation.\n",
            "    \n",
            "    Typically a 'greedy' algorithm is applied which empirical tests have shown\n",
            "    returns the optimal path in the majority of cases. In some cases 'optimal'\n",
            "    will return the superlative path through a more expensive, exhaustive search.\n",
            "    For iterative calculations it may be advisable to calculate the optimal path\n",
            "    once and reuse that path by supplying it as an argument. An example is given\n",
            "    below.\n",
            "    \n",
            "    See :py:func:`numpy.einsum_path` for more details.\n",
            "    \n",
            "    Examples\n",
            "    --------\n",
            "    >>> a = np.arange(25).reshape(5,5)\n",
            "    >>> b = np.arange(5)\n",
            "    >>> c = np.arange(6).reshape(2,3)\n",
            "    \n",
            "    Trace of a matrix:\n",
            "    \n",
            "    >>> np.einsum('ii', a)\n",
            "    60\n",
            "    >>> np.einsum(a, [0,0])\n",
            "    60\n",
            "    >>> np.trace(a)\n",
            "    60\n",
            "    \n",
            "    Extract the diagonal (requires explicit form):\n",
            "    \n",
            "    >>> np.einsum('ii->i', a)\n",
            "    array([ 0,  6, 12, 18, 24])\n",
            "    >>> np.einsum(a, [0,0], [0])\n",
            "    array([ 0,  6, 12, 18, 24])\n",
            "    >>> np.diag(a)\n",
            "    array([ 0,  6, 12, 18, 24])\n",
            "    \n",
            "    Sum over an axis (requires explicit form):\n",
            "    \n",
            "    >>> np.einsum('ij->i', a)\n",
            "    array([ 10,  35,  60,  85, 110])\n",
            "    >>> np.einsum(a, [0,1], [0])\n",
            "    array([ 10,  35,  60,  85, 110])\n",
            "    >>> np.sum(a, axis=1)\n",
            "    array([ 10,  35,  60,  85, 110])\n",
            "    \n",
            "    For higher dimensional arrays summing a single axis can be done with ellipsis:\n",
            "    \n",
            "    >>> np.einsum('...j->...', a)\n",
            "    array([ 10,  35,  60,  85, 110])\n",
            "    >>> np.einsum(a, [Ellipsis,1], [Ellipsis])\n",
            "    array([ 10,  35,  60,  85, 110])\n",
            "    \n",
            "    Compute a matrix transpose, or reorder any number of axes:\n",
            "    \n",
            "    >>> np.einsum('ji', c)\n",
            "    array([[0, 3],\n",
            "           [1, 4],\n",
            "           [2, 5]])\n",
            "    >>> np.einsum('ij->ji', c)\n",
            "    array([[0, 3],\n",
            "           [1, 4],\n",
            "           [2, 5]])\n",
            "    >>> np.einsum(c, [1,0])\n",
            "    array([[0, 3],\n",
            "           [1, 4],\n",
            "           [2, 5]])\n",
            "    >>> np.transpose(c)\n",
            "    array([[0, 3],\n",
            "           [1, 4],\n",
            "           [2, 5]])\n",
            "    \n",
            "    Vector inner products:\n",
            "    \n",
            "    >>> np.einsum('i,i', b, b)\n",
            "    30\n",
            "    >>> np.einsum(b, [0], b, [0])\n",
            "    30\n",
            "    >>> np.inner(b,b)\n",
            "    30\n",
            "    \n",
            "    Matrix vector multiplication:\n",
            "    \n",
            "    >>> np.einsum('ij,j', a, b)\n",
            "    array([ 30,  80, 130, 180, 230])\n",
            "    >>> np.einsum(a, [0,1], b, [1])\n",
            "    array([ 30,  80, 130, 180, 230])\n",
            "    >>> np.dot(a, b)\n",
            "    array([ 30,  80, 130, 180, 230])\n",
            "    >>> np.einsum('...j,j', a, b)\n",
            "    array([ 30,  80, 130, 180, 230])\n",
            "    \n",
            "    Broadcasting and scalar multiplication:\n",
            "    \n",
            "    >>> np.einsum('..., ...', 3, c)\n",
            "    array([[ 0,  3,  6],\n",
            "           [ 9, 12, 15]])\n",
            "    >>> np.einsum(',ij', 3, c)\n",
            "    array([[ 0,  3,  6],\n",
            "           [ 9, 12, 15]])\n",
            "    >>> np.einsum(3, [Ellipsis], c, [Ellipsis])\n",
            "    array([[ 0,  3,  6],\n",
            "           [ 9, 12, 15]])\n",
            "    >>> np.multiply(3, c)\n",
            "    array([[ 0,  3,  6],\n",
            "           [ 9, 12, 15]])\n",
            "    \n",
            "    Vector outer product:\n",
            "    \n",
            "    >>> np.einsum('i,j', np.arange(2)+1, b)\n",
            "    array([[0, 1, 2, 3, 4],\n",
            "           [0, 2, 4, 6, 8]])\n",
            "    >>> np.einsum(np.arange(2)+1, [0], b, [1])\n",
            "    array([[0, 1, 2, 3, 4],\n",
            "           [0, 2, 4, 6, 8]])\n",
            "    >>> np.outer(np.arange(2)+1, b)\n",
            "    array([[0, 1, 2, 3, 4],\n",
            "           [0, 2, 4, 6, 8]])\n",
            "    \n",
            "    Tensor contraction:\n",
            "    \n",
            "    >>> a = np.arange(60.).reshape(3,4,5)\n",
            "    >>> b = np.arange(24.).reshape(4,3,2)\n",
            "    >>> np.einsum('ijk,jil->kl', a, b)\n",
            "    array([[4400., 4730.],\n",
            "           [4532., 4874.],\n",
            "           [4664., 5018.],\n",
            "           [4796., 5162.],\n",
            "           [4928., 5306.]])\n",
            "    >>> np.einsum(a, [0,1,2], b, [1,0,3], [2,3])\n",
            "    array([[4400., 4730.],\n",
            "           [4532., 4874.],\n",
            "           [4664., 5018.],\n",
            "           [4796., 5162.],\n",
            "           [4928., 5306.]])\n",
            "    >>> np.tensordot(a,b, axes=([1,0],[0,1]))\n",
            "    array([[4400., 4730.],\n",
            "           [4532., 4874.],\n",
            "           [4664., 5018.],\n",
            "           [4796., 5162.],\n",
            "           [4928., 5306.]])\n",
            "    \n",
            "    Writeable returned arrays (since version 1.10.0):\n",
            "    \n",
            "    >>> a = np.zeros((3, 3))\n",
            "    >>> np.einsum('ii->i', a)[:] = 1\n",
            "    >>> a\n",
            "    array([[1., 0., 0.],\n",
            "           [0., 1., 0.],\n",
            "           [0., 0., 1.]])\n",
            "    \n",
            "    Example of ellipsis use:\n",
            "    \n",
            "    >>> a = np.arange(6).reshape((3,2))\n",
            "    >>> b = np.arange(12).reshape((4,3))\n",
            "    >>> np.einsum('ki,jk->ij', a, b)\n",
            "    array([[10, 28, 46, 64],\n",
            "           [13, 40, 67, 94]])\n",
            "    >>> np.einsum('ki,...k->i...', a, b)\n",
            "    array([[10, 28, 46, 64],\n",
            "           [13, 40, 67, 94]])\n",
            "    >>> np.einsum('k...,jk', a, b)\n",
            "    array([[10, 28, 46, 64],\n",
            "           [13, 40, 67, 94]])\n",
            "    \n",
            "    Chained array operations. For more complicated contractions, speed ups\n",
            "    might be achieved by repeatedly computing a 'greedy' path or pre-computing the\n",
            "    'optimal' path and repeatedly applying it, using an\n",
            "    `einsum_path` insertion (since version 1.12.0). Performance improvements can be\n",
            "    particularly significant with larger arrays:\n",
            "    \n",
            "    >>> a = np.ones(64).reshape(2,4,8)\n",
            "    \n",
            "    Basic `einsum`: ~1520ms  (benchmarked on 3.1GHz Intel i5.)\n",
            "    \n",
            "    >>> for iteration in range(500):\n",
            "    ...     _ = np.einsum('ijk,ilm,njm,nlk,abc->',a,a,a,a,a)\n",
            "    \n",
            "    Sub-optimal `einsum` (due to repeated path calculation time): ~330ms\n",
            "    \n",
            "    >>> for iteration in range(500):\n",
            "    ...     _ = np.einsum('ijk,ilm,njm,nlk,abc->',a,a,a,a,a, optimize='optimal')\n",
            "    \n",
            "    Greedy `einsum` (faster optimal path approximation): ~160ms\n",
            "    \n",
            "    >>> for iteration in range(500):\n",
            "    ...     _ = np.einsum('ijk,ilm,njm,nlk,abc->',a,a,a,a,a, optimize='greedy')\n",
            "    \n",
            "    Optimal `einsum` (best usage pattern in some use cases): ~110ms\n",
            "    \n",
            "    >>> path = np.einsum_path('ijk,ilm,njm,nlk,abc->',a,a,a,a,a, optimize='optimal')[0]\n",
            "    >>> for iteration in range(500):\n",
            "    ...     _ = np.einsum('ijk,ilm,njm,nlk,abc->',a,a,a,a,a, optimize=path)\n",
            "\n"
          ]
        }
      ]
    },
    {
      "cell_type": "markdown",
      "metadata": {
        "id": "WUyoANg03Jgu"
      },
      "source": [
        "#### 70. Consider the vector \\[1, 2, 3, 4, 5\\], how to build a new vector with 3 consecutive zeros interleaved between each value? (★★★) \n",
        "(**hint**: array\\[::4\\])"
      ]
    },
    {
      "cell_type": "code",
      "execution_count": null,
      "metadata": {
        "id": "xeWU5Ice3Jgu",
        "colab": {
          "base_uri": "https://localhost:8080/"
        },
        "outputId": "db351d2f-df4c-49df-a112-88fa12eaa158"
      },
      "outputs": [
        {
          "output_type": "stream",
          "name": "stdout",
          "text": [
            "[0. 0. 0. 0. 0.]\n",
            "[0. 0. 0. 0. 0. 0. 0. 0. 0. 0. 0. 0. 0. 0. 0. 0. 0.]\n",
            "[1. 0. 0. 0. 2. 0. 0. 0. 3. 0. 0. 0. 4. 0. 0. 0. 5.]\n"
          ]
        }
      ],
      "source": [
        "Z = np.array([1,2,3,4,5])\n",
        "nz = 3\n",
        "print(np.zeros(len(Z)))\n",
        "\n",
        "Z0 = np.zeros(len(Z) + (len(Z)-1)*(nz))\n",
        "print(Z0)\n",
        "Z0[::nz+1] = Z\n",
        "print(Z0)"
      ]
    },
    {
      "cell_type": "markdown",
      "metadata": {
        "id": "tExf61sN3Jgu"
      },
      "source": [
        "#### 71. Consider an array of dimension (5,5,3), how to mulitply it by an array with dimensions (5,5)? (★★★) \n",
        "(**hint**: array\\[:, :, None\\])"
      ]
    },
    {
      "cell_type": "code",
      "execution_count": null,
      "metadata": {
        "collapsed": true,
        "id": "1-D-kply3Jgv",
        "colab": {
          "base_uri": "https://localhost:8080/"
        },
        "outputId": "b4c9d35b-eec2-4843-c37b-b72f6715e0ae"
      },
      "outputs": [
        {
          "output_type": "stream",
          "name": "stdout",
          "text": [
            "[[[7 8 8]\n",
            "  [8 6 9]\n",
            "  [5 4 8]\n",
            "  [7 2 3]\n",
            "  [3 2 5]]\n",
            "\n",
            " [[2 1 2]\n",
            "  [8 2 5]\n",
            "  [6 4 3]\n",
            "  [7 5 3]\n",
            "  [8 2 9]]\n",
            "\n",
            " [[2 5 9]\n",
            "  [6 9 7]\n",
            "  [1 7 6]\n",
            "  [6 4 1]\n",
            "  [7 5 8]]\n",
            "\n",
            " [[4 2 3]\n",
            "  [4 9 5]\n",
            "  [8 8 7]\n",
            "  [5 4 9]\n",
            "  [1 6 5]]\n",
            "\n",
            " [[8 4 2]\n",
            "  [4 8 2]\n",
            "  [1 7 5]\n",
            "  [5 6 8]\n",
            "  [6 3 4]]]\n",
            "[[6 2 2 2 7]\n",
            " [7 6 2 2 3]\n",
            " [5 3 6 3 4]\n",
            " [5 6 2 2 4]\n",
            " [6 3 6 2 3]]\n",
            "[[[42 48 48]\n",
            "  [16 12 18]\n",
            "  [10  8 16]\n",
            "  [14  4  6]\n",
            "  [21 14 35]]\n",
            "\n",
            " [[14  7 14]\n",
            "  [48 12 30]\n",
            "  [12  8  6]\n",
            "  [14 10  6]\n",
            "  [24  6 27]]\n",
            "\n",
            " [[10 25 45]\n",
            "  [18 27 21]\n",
            "  [ 6 42 36]\n",
            "  [18 12  3]\n",
            "  [28 20 32]]\n",
            "\n",
            " [[20 10 15]\n",
            "  [24 54 30]\n",
            "  [16 16 14]\n",
            "  [10  8 18]\n",
            "  [ 4 24 20]]\n",
            "\n",
            " [[48 24 12]\n",
            "  [12 24  6]\n",
            "  [ 6 42 30]\n",
            "  [10 12 16]\n",
            "  [18  9 12]]]\n"
          ]
        }
      ],
      "source": [
        "arr1=np.random.randint(1,10,(5,5,3))\n",
        "print(arr1)\n",
        "arr2=np.random.randint(2,8,(5,5))\n",
        "print(arr2)\n",
        "print(arr1 * arr2[:,:,None])"
      ]
    },
    {
      "cell_type": "code",
      "source": [
        "A = np.ones((5,5,3))\n",
        "B = 2*np.ones((5,5))\n",
        "print(A * B[:,:,None])"
      ],
      "metadata": {
        "colab": {
          "base_uri": "https://localhost:8080/"
        },
        "id": "ejU6WCHgomut",
        "outputId": "77e08ef6-2741-4df2-b87a-d2e692d2f36b"
      },
      "execution_count": null,
      "outputs": [
        {
          "output_type": "stream",
          "name": "stdout",
          "text": [
            "[[[2. 2. 2.]\n",
            "  [2. 2. 2.]\n",
            "  [2. 2. 2.]\n",
            "  [2. 2. 2.]\n",
            "  [2. 2. 2.]]\n",
            "\n",
            " [[2. 2. 2.]\n",
            "  [2. 2. 2.]\n",
            "  [2. 2. 2.]\n",
            "  [2. 2. 2.]\n",
            "  [2. 2. 2.]]\n",
            "\n",
            " [[2. 2. 2.]\n",
            "  [2. 2. 2.]\n",
            "  [2. 2. 2.]\n",
            "  [2. 2. 2.]\n",
            "  [2. 2. 2.]]\n",
            "\n",
            " [[2. 2. 2.]\n",
            "  [2. 2. 2.]\n",
            "  [2. 2. 2.]\n",
            "  [2. 2. 2.]\n",
            "  [2. 2. 2.]]\n",
            "\n",
            " [[2. 2. 2.]\n",
            "  [2. 2. 2.]\n",
            "  [2. 2. 2.]\n",
            "  [2. 2. 2.]\n",
            "  [2. 2. 2.]]]\n"
          ]
        }
      ]
    },
    {
      "cell_type": "markdown",
      "metadata": {
        "id": "zRvsUmat3Jgw"
      },
      "source": [
        "#### 72. How to swap two rows of an array? (★★★) \n",
        "(**hint**: array\\[\\[\\]\\] = array\\[\\[\\]\\])"
      ]
    },
    {
      "cell_type": "code",
      "execution_count": null,
      "metadata": {
        "id": "imCT2cU43Jgy",
        "colab": {
          "base_uri": "https://localhost:8080/"
        },
        "outputId": "c89ebbdc-616e-4f90-c03f-9a225eb2ccb7"
      },
      "outputs": [
        {
          "output_type": "stream",
          "name": "stdout",
          "text": [
            "[[3 2 2]\n",
            " [2 2 1]]\n"
          ]
        },
        {
          "output_type": "execute_result",
          "data": {
            "text/plain": [
              "array([[2, 2, 1],\n",
              "       [3, 2, 2]])"
            ]
          },
          "metadata": {},
          "execution_count": 27
        }
      ],
      "source": [
        "arr=np.random.randint(1,5,(2,3))\n",
        "print(arr)\n",
        "arr[[0,1],:]=arr[[1,0],:]\n",
        "arr"
      ]
    },
    {
      "cell_type": "code",
      "source": [
        "\n",
        "A = np.arange(25).reshape(5,5)\n",
        "print(A)\n",
        "\n",
        "A[:,[0,3]] = A[:,[3,0]]\n",
        "print(A)\n",
        "print(A[1,:])\n",
        "print(A[:,2])"
      ],
      "metadata": {
        "colab": {
          "base_uri": "https://localhost:8080/"
        },
        "id": "TFg4FQihpqbP",
        "outputId": "630b2490-bff0-4ce4-bcaf-1b345a607a5c"
      },
      "execution_count": null,
      "outputs": [
        {
          "output_type": "stream",
          "name": "stdout",
          "text": [
            "[[ 0  1  2  3  4]\n",
            " [ 5  6  7  8  9]\n",
            " [10 11 12 13 14]\n",
            " [15 16 17 18 19]\n",
            " [20 21 22 23 24]]\n",
            "[[ 3  1  2  0  4]\n",
            " [ 8  6  7  5  9]\n",
            " [13 11 12 10 14]\n",
            " [18 16 17 15 19]\n",
            " [23 21 22 20 24]]\n",
            "[8 6 7 5 9]\n",
            "[ 2  7 12 17 22]\n"
          ]
        }
      ]
    },
    {
      "cell_type": "markdown",
      "metadata": {
        "id": "gLSm46ZB3Jgz"
      },
      "source": [
        "#### 73. Consider a set of 10 triplets describing 10 triangles (with shared vertices), find the set of unique line segments composing all the  triangles (★★★) \n",
        "(**hint**: repeat, np.roll, np.sort, view, np.unique)"
      ]
    },
    {
      "cell_type": "code",
      "source": [
        "help(np.roll)"
      ],
      "metadata": {
        "colab": {
          "base_uri": "https://localhost:8080/"
        },
        "id": "M_LIPiMv3tXQ",
        "outputId": "c8248d0b-5c3e-4470-beda-6b43dad3f383"
      },
      "execution_count": null,
      "outputs": [
        {
          "output_type": "stream",
          "name": "stdout",
          "text": [
            "Help on function roll in module numpy:\n",
            "\n",
            "roll(a, shift, axis=None)\n",
            "    Roll array elements along a given axis.\n",
            "    \n",
            "    Elements that roll beyond the last position are re-introduced at\n",
            "    the first.\n",
            "    \n",
            "    Parameters\n",
            "    ----------\n",
            "    a : array_like\n",
            "        Input array.\n",
            "    shift : int or tuple of ints\n",
            "        The number of places by which elements are shifted.  If a tuple,\n",
            "        then `axis` must be a tuple of the same size, and each of the\n",
            "        given axes is shifted by the corresponding number.  If an int\n",
            "        while `axis` is a tuple of ints, then the same value is used for\n",
            "        all given axes.\n",
            "    axis : int or tuple of ints, optional\n",
            "        Axis or axes along which elements are shifted.  By default, the\n",
            "        array is flattened before shifting, after which the original\n",
            "        shape is restored.\n",
            "    \n",
            "    Returns\n",
            "    -------\n",
            "    res : ndarray\n",
            "        Output array, with the same shape as `a`.\n",
            "    \n",
            "    See Also\n",
            "    --------\n",
            "    rollaxis : Roll the specified axis backwards, until it lies in a\n",
            "               given position.\n",
            "    \n",
            "    Notes\n",
            "    -----\n",
            "    .. versionadded:: 1.12.0\n",
            "    \n",
            "    Supports rolling over multiple dimensions simultaneously.\n",
            "    \n",
            "    Examples\n",
            "    --------\n",
            "    >>> x = np.arange(10)\n",
            "    >>> np.roll(x, 2)\n",
            "    array([8, 9, 0, 1, 2, 3, 4, 5, 6, 7])\n",
            "    >>> np.roll(x, -2)\n",
            "    array([2, 3, 4, 5, 6, 7, 8, 9, 0, 1])\n",
            "    \n",
            "    >>> x2 = np.reshape(x, (2,5))\n",
            "    >>> x2\n",
            "    array([[0, 1, 2, 3, 4],\n",
            "           [5, 6, 7, 8, 9]])\n",
            "    >>> np.roll(x2, 1)\n",
            "    array([[9, 0, 1, 2, 3],\n",
            "           [4, 5, 6, 7, 8]])\n",
            "    >>> np.roll(x2, -1)\n",
            "    array([[1, 2, 3, 4, 5],\n",
            "           [6, 7, 8, 9, 0]])\n",
            "    >>> np.roll(x2, 1, axis=0)\n",
            "    array([[5, 6, 7, 8, 9],\n",
            "           [0, 1, 2, 3, 4]])\n",
            "    >>> np.roll(x2, -1, axis=0)\n",
            "    array([[5, 6, 7, 8, 9],\n",
            "           [0, 1, 2, 3, 4]])\n",
            "    >>> np.roll(x2, 1, axis=1)\n",
            "    array([[4, 0, 1, 2, 3],\n",
            "           [9, 5, 6, 7, 8]])\n",
            "    >>> np.roll(x2, -1, axis=1)\n",
            "    array([[1, 2, 3, 4, 0],\n",
            "           [6, 7, 8, 9, 5]])\n",
            "\n"
          ]
        }
      ]
    },
    {
      "cell_type": "code",
      "source": [
        "help(np.repeat)"
      ],
      "metadata": {
        "colab": {
          "base_uri": "https://localhost:8080/"
        },
        "id": "jCannvFV-ni9",
        "outputId": "690568bf-3932-418f-f65b-6de05bba33d1"
      },
      "execution_count": null,
      "outputs": [
        {
          "output_type": "stream",
          "name": "stdout",
          "text": [
            "Help on function repeat in module numpy:\n",
            "\n",
            "repeat(a, repeats, axis=None)\n",
            "    Repeat elements of an array.\n",
            "    \n",
            "    Parameters\n",
            "    ----------\n",
            "    a : array_like\n",
            "        Input array.\n",
            "    repeats : int or array of ints\n",
            "        The number of repetitions for each element.  `repeats` is broadcasted\n",
            "        to fit the shape of the given axis.\n",
            "    axis : int, optional\n",
            "        The axis along which to repeat values.  By default, use the\n",
            "        flattened input array, and return a flat output array.\n",
            "    \n",
            "    Returns\n",
            "    -------\n",
            "    repeated_array : ndarray\n",
            "        Output array which has the same shape as `a`, except along\n",
            "        the given axis.\n",
            "    \n",
            "    See Also\n",
            "    --------\n",
            "    tile : Tile an array.\n",
            "    unique : Find the unique elements of an array.\n",
            "    \n",
            "    Examples\n",
            "    --------\n",
            "    >>> np.repeat(3, 4)\n",
            "    array([3, 3, 3, 3])\n",
            "    >>> x = np.array([[1,2],[3,4]])\n",
            "    >>> np.repeat(x, 2)\n",
            "    array([1, 1, 2, 2, 3, 3, 4, 4])\n",
            "    >>> np.repeat(x, 3, axis=1)\n",
            "    array([[1, 1, 1, 2, 2, 2],\n",
            "           [3, 3, 3, 4, 4, 4]])\n",
            "    >>> np.repeat(x, [1, 2], axis=0)\n",
            "    array([[1, 2],\n",
            "           [3, 4],\n",
            "           [3, 4]])\n",
            "\n"
          ]
        }
      ]
    },
    {
      "cell_type": "code",
      "source": [
        "import numpy as np\n",
        "x = np.array([[1,2],[3,4]])\n",
        "np.repeat(x, [2, 2], axis=0)"
      ],
      "metadata": {
        "colab": {
          "base_uri": "https://localhost:8080/"
        },
        "id": "ieu5tpvdfIBJ",
        "outputId": "342736d3-8e95-42a0-a0f2-1949fcbacefd"
      },
      "execution_count": null,
      "outputs": [
        {
          "output_type": "execute_result",
          "data": {
            "text/plain": [
              "array([[1, 2],\n",
              "       [1, 2],\n",
              "       [3, 4],\n",
              "       [3, 4]])"
            ]
          },
          "metadata": {},
          "execution_count": 2
        }
      ]
    },
    {
      "cell_type": "code",
      "source": [
        "faces = np.random.randint(0,10,(2,3))\n",
        "print(faces)\n",
        "F=faces.repeat(2,axis=1)\n",
        "print(F)\n",
        "F = np.roll(faces.repeat(2,axis=1),-1,axis=1)\n",
        "print(F)\n",
        "F = F.reshape(len(F)*3,2)\n",
        "print(F)\n",
        "F = np.sort(F,axis=1)\n",
        "print(F)\n",
        "G = F.view( dtype=[('p0',F.dtype),('p1',F.dtype)] )\n",
        "G = np.unique(G)\n",
        "print(G)"
      ],
      "metadata": {
        "colab": {
          "base_uri": "https://localhost:8080/"
        },
        "id": "13fXj3Gbfm02",
        "outputId": "a3c3f497-f10e-4b7a-e9b2-9d2fe60e34ae"
      },
      "execution_count": null,
      "outputs": [
        {
          "output_type": "stream",
          "name": "stdout",
          "text": [
            "[[6 3 2]\n",
            " [8 7 1]]\n",
            "[[6 6 3 3 2 2]\n",
            " [8 8 7 7 1 1]]\n",
            "[[6 3 3 2 2 6]\n",
            " [8 7 7 1 1 8]]\n",
            "[[6 3]\n",
            " [3 2]\n",
            " [2 6]\n",
            " [8 7]\n",
            " [7 1]\n",
            " [1 8]]\n",
            "[[3 6]\n",
            " [2 3]\n",
            " [2 6]\n",
            " [7 8]\n",
            " [1 7]\n",
            " [1 8]]\n",
            "[(1, 7) (1, 8) (2, 3) (2, 6) (3, 6) (7, 8)]\n"
          ]
        }
      ]
    },
    {
      "cell_type": "code",
      "execution_count": null,
      "metadata": {
        "id": "v3vzMJib3Jg5",
        "colab": {
          "base_uri": "https://localhost:8080/"
        },
        "outputId": "0b198f0f-6e2a-4216-f287-d55440afa09f"
      },
      "outputs": [
        {
          "output_type": "stream",
          "name": "stdout",
          "text": [
            "[[43 22 61]\n",
            " [28 11 21]\n",
            " [86 37 91]\n",
            " [16 74 29]\n",
            " [92 32 26]\n",
            " [73 38 13]\n",
            " [43 71 82]\n",
            " [27 11 82]\n",
            " [36 41 81]\n",
            " [51 26 47]]\n",
            "[[43 22 22 61 61 43]\n",
            " [28 11 11 21 21 28]\n",
            " [86 37 37 91 91 86]\n",
            " [16 74 74 29 29 16]\n",
            " [92 32 32 26 26 92]\n",
            " [73 38 38 13 13 73]\n",
            " [43 71 71 82 82 43]\n",
            " [27 11 11 82 82 27]\n",
            " [36 41 41 81 81 36]\n",
            " [51 26 26 47 47 51]]\n",
            "[[43 22]\n",
            " [22 61]\n",
            " [61 43]\n",
            " [28 11]\n",
            " [11 21]\n",
            " [21 28]\n",
            " [86 37]\n",
            " [37 91]\n",
            " [91 86]\n",
            " [16 74]\n",
            " [74 29]\n",
            " [29 16]\n",
            " [92 32]\n",
            " [32 26]\n",
            " [26 92]\n",
            " [73 38]\n",
            " [38 13]\n",
            " [13 73]\n",
            " [43 71]\n",
            " [71 82]\n",
            " [82 43]\n",
            " [27 11]\n",
            " [11 82]\n",
            " [82 27]\n",
            " [36 41]\n",
            " [41 81]\n",
            " [81 36]\n",
            " [51 26]\n",
            " [26 47]\n",
            " [47 51]]\n",
            "[[22 43]\n",
            " [22 61]\n",
            " [43 61]\n",
            " [11 28]\n",
            " [11 21]\n",
            " [21 28]\n",
            " [37 86]\n",
            " [37 91]\n",
            " [86 91]\n",
            " [16 74]\n",
            " [29 74]\n",
            " [16 29]\n",
            " [32 92]\n",
            " [26 32]\n",
            " [26 92]\n",
            " [38 73]\n",
            " [13 38]\n",
            " [13 73]\n",
            " [43 71]\n",
            " [71 82]\n",
            " [43 82]\n",
            " [11 27]\n",
            " [11 82]\n",
            " [27 82]\n",
            " [36 41]\n",
            " [41 81]\n",
            " [36 81]\n",
            " [26 51]\n",
            " [26 47]\n",
            " [47 51]]\n",
            "[(11, 21) (11, 27) (11, 28) (11, 82) (13, 38) (13, 73) (16, 29) (16, 74)\n",
            " (21, 28) (22, 43) (22, 61) (26, 32) (26, 47) (26, 51) (26, 92) (27, 82)\n",
            " (29, 74) (32, 92) (36, 41) (36, 81) (37, 86) (37, 91) (38, 73) (41, 81)\n",
            " (43, 61) (43, 71) (43, 82) (47, 51) (71, 82) (86, 91)]\n"
          ]
        }
      ],
      "source": [
        "faces = np.random.randint(0,100,(10,3))\n",
        "print(faces)\n",
        "F = np.roll(faces.repeat(2,axis=1),-1,axis=1)\n",
        "print(F)\n",
        "F = F.reshape(len(F)*3,2)\n",
        "print(F)\n",
        "F = np.sort(F,axis=1)\n",
        "print(F)\n",
        "G = F.view( dtype=[('p0',F.dtype),('p1',F.dtype)] )\n",
        "G = np.unique(G)\n",
        "print(G)"
      ]
    },
    {
      "cell_type": "markdown",
      "metadata": {
        "id": "Xhp1MiVc3Jg6"
      },
      "source": [
        "#### 74. Given an array C that is a bincount, how to produce an array A such that np.bincount(A) == C? (★★★) \n",
        "(**hint**: np.repeat)"
      ]
    },
    {
      "cell_type": "code",
      "execution_count": null,
      "metadata": {
        "id": "KCVnVAzW3Jg7",
        "colab": {
          "base_uri": "https://localhost:8080/"
        },
        "outputId": "a5a51dd6-2f1e-4f71-96cf-f6cb3f8bb44a"
      },
      "outputs": [
        {
          "output_type": "stream",
          "name": "stdout",
          "text": [
            "[0 2 1 1 2 0 1]\n",
            "[1 1 2 3 4 4 6]\n"
          ]
        }
      ],
      "source": [
        "import numpy as np\n",
        "C = np.bincount([1,1,2,3,4,4,6])\n",
        "print(C)\n",
        "A = np.repeat(np.arange(len(C)), C)\n",
        "print(A)"
      ]
    },
    {
      "cell_type": "markdown",
      "metadata": {
        "id": "Pe9UC9e53Jg8"
      },
      "source": [
        "#### 75. How to compute averages using a sliding window over an array? (★★★) \n",
        "(**hint**: np.cumsum)"
      ]
    },
    {
      "cell_type": "code",
      "execution_count": null,
      "metadata": {
        "id": "95TCK5pg3Jg9",
        "colab": {
          "base_uri": "https://localhost:8080/"
        },
        "outputId": "bb2c79c9-1e79-43d3-9adb-d3accafff1a2"
      },
      "outputs": [
        {
          "output_type": "stream",
          "name": "stdout",
          "text": [
            "[ 1.  2.  3.  4.  5.  6.  7.  8.  9. 10. 11. 12. 13. 14. 15. 16. 17. 18.]\n"
          ]
        }
      ],
      "source": [
        "def moving_average(a, n=3) :\n",
        "    ret = np.cumsum(a, dtype=float)\n",
        "    ret[n:] = ret[n:] - ret[:-n]\n",
        "    return ret[n - 1:] / n\n",
        "Z = np.arange(20)\n",
        "print(moving_average(Z, n=3))"
      ]
    },
    {
      "cell_type": "code",
      "source": [
        "from numpy.lib.stride_tricks import sliding_window_view\n",
        "\n",
        "Z = np.arange(20)\n",
        "print(sliding_window_view(Z, window_shape=3).mean(axis=-1))"
      ],
      "metadata": {
        "colab": {
          "base_uri": "https://localhost:8080/"
        },
        "id": "AYUdT9xMCTIq",
        "outputId": "fab54de1-86d9-4ff2-cbf6-68af0b84785a"
      },
      "execution_count": null,
      "outputs": [
        {
          "output_type": "stream",
          "name": "stdout",
          "text": [
            "[ 1.  2.  3.  4.  5.  6.  7.  8.  9. 10. 11. 12. 13. 14. 15. 16. 17. 18.]\n"
          ]
        }
      ]
    },
    {
      "cell_type": "markdown",
      "metadata": {
        "id": "kCwC5QX33Jg-"
      },
      "source": [
        "#### 76. Consider a one-dimensional array Z, build a two-dimensional array whose first row is (Z\\[0\\],Z\\[1\\],Z\\[2\\]) and each subsequent row is  shifted by 1 (last row should be (Z\\[-3\\],Z\\[-2\\],Z\\[-1\\]) (★★★) \n",
        "(**hint**: from numpy.lib import stride_tricks)"
      ]
    },
    {
      "cell_type": "code",
      "execution_count": null,
      "metadata": {
        "id": "o-SEfbFA3Jg-",
        "colab": {
          "base_uri": "https://localhost:8080/"
        },
        "outputId": "d06b6d25-8567-41b5-bbf7-0d18258e4187"
      },
      "outputs": [
        {
          "output_type": "stream",
          "name": "stdout",
          "text": [
            "[[0 1 2]\n",
            " [1 2 3]\n",
            " [2 3 4]\n",
            " [3 4 5]\n",
            " [4 5 6]\n",
            " [5 6 7]\n",
            " [6 7 8]\n",
            " [7 8 9]]\n"
          ]
        }
      ],
      "source": [
        "import numpy as np\n",
        "from numpy.lib import stride_tricks\n",
        "def rolling(a, window):\n",
        "    shape = (a.size - window + 1, window)\n",
        "    strides = (a.strides[0], a.strides[0])\n",
        "    return stride_tricks.as_strided(a, shape=shape, strides=strides)\n",
        "Z = rolling(np.arange(10), 3)\n",
        "print(Z)"
      ]
    },
    {
      "cell_type": "code",
      "source": [
        "from numpy.lib.stride_tricks import sliding_window_view\n",
        "\n",
        "Z = np.arange(10)\n",
        "print(Z)\n",
        "print(sliding_window_view(Z, window_shape=3))"
      ],
      "metadata": {
        "colab": {
          "base_uri": "https://localhost:8080/"
        },
        "id": "p-C9_tuBsqDT",
        "outputId": "fc66be25-9eb8-4c5b-c2c2-ae4579412296"
      },
      "execution_count": null,
      "outputs": [
        {
          "output_type": "stream",
          "name": "stdout",
          "text": [
            "[0 1 2 3 4 5 6 7 8 9]\n",
            "[[0 1 2]\n",
            " [1 2 3]\n",
            " [2 3 4]\n",
            " [3 4 5]\n",
            " [4 5 6]\n",
            " [5 6 7]\n",
            " [6 7 8]\n",
            " [7 8 9]]\n"
          ]
        }
      ]
    },
    {
      "cell_type": "markdown",
      "metadata": {
        "id": "s9Wpf2eR3Jg_"
      },
      "source": [
        "#### 77. How to negate a boolean, or to change the sign of a float inplace? (★★★) \n",
        "(**hint**: np.logical_not, np.negative)"
      ]
    },
    {
      "cell_type": "code",
      "execution_count": null,
      "metadata": {
        "id": "AW4Z59P13Jg_",
        "colab": {
          "base_uri": "https://localhost:8080/"
        },
        "outputId": "19ccf51e-e33f-4ce9-d549-0c2a3990f57a"
      },
      "outputs": [
        {
          "output_type": "stream",
          "name": "stdout",
          "text": [
            "[0 1 0 1 0 1 0 0 1 1 0 1 1 0 1 0 0 1 0 0 0 0 0 1 1 1 0 1 0 0 0 1 0 1 0 1 0\n",
            " 1 1 1 0 0 1 1 0 1 1 1 0 0 0 1 0 0 0 1 0 0 1 1 0 0 1 1 0 1 1 1 0 1 1 0 1 1\n",
            " 0 0 1 1 1 0 1 1 1 1 1 0 0 1 1 1 1 1 1 0 0 1 1 0 0 1]\n"
          ]
        },
        {
          "output_type": "execute_result",
          "data": {
            "text/plain": [
              "array([1, 0, 1, 0, 1, 0, 1, 1, 0, 0, 1, 0, 0, 1, 0, 1, 1, 0, 1, 1, 1, 1,\n",
              "       1, 0, 0, 0, 1, 0, 1, 1, 1, 0, 1, 0, 1, 0, 1, 0, 0, 0, 1, 1, 0, 0,\n",
              "       1, 0, 0, 0, 1, 1, 1, 0, 1, 1, 1, 0, 1, 1, 0, 0, 1, 1, 0, 0, 1, 0,\n",
              "       0, 0, 1, 0, 0, 1, 0, 0, 1, 1, 0, 0, 0, 1, 0, 0, 0, 0, 0, 1, 1, 0,\n",
              "       0, 0, 0, 0, 0, 1, 1, 0, 0, 1, 1, 0])"
            ]
          },
          "metadata": {},
          "execution_count": 9
        }
      ],
      "source": [
        "Z = np.random.randint(0,2,100)\n",
        "print(Z)\n",
        "np.logical_not(Z, out=Z)\n"
      ]
    },
    {
      "cell_type": "code",
      "source": [
        "Z = np.random.uniform(-1.0,1.0,100)\n",
        "print(Z)\n",
        "np.negative(Z, out=Z)"
      ],
      "metadata": {
        "colab": {
          "base_uri": "https://localhost:8080/"
        },
        "id": "C-FIo327tLUC",
        "outputId": "61d8db75-f550-4c9e-b722-d8274e3ab5f2"
      },
      "execution_count": null,
      "outputs": [
        {
          "output_type": "stream",
          "name": "stdout",
          "text": [
            "[-0.86908752 -0.14888013 -0.81379528  0.31900837 -0.81772118 -0.83508077\n",
            " -0.89273481 -0.88439275  0.38233071 -0.47148318  0.31083658 -0.95606977\n",
            "  0.64238534 -0.41301656 -0.9737895  -0.04470412 -0.38440696 -0.7864996\n",
            "  0.86179962 -0.16697727 -0.20736721 -0.92871684  0.87776047  0.82837976\n",
            "  0.5506597  -0.42493801 -0.70400513 -0.46692153 -0.48039089  0.24406381\n",
            " -0.82502441 -0.41247821 -0.7477814   0.09423257 -0.38559705 -0.94373269\n",
            " -0.16694486 -0.37271175 -0.67298736  0.36683694 -0.66752559 -0.3103358\n",
            " -0.45160666 -0.15170631 -0.78455373  0.66967558 -0.66529309  0.13910187\n",
            " -0.43680079  0.16092577 -0.02830618  0.13078541 -0.51829223 -0.90898861\n",
            "  0.47542665  0.48712557  0.89816773  0.42562537  0.26368031  0.07091556\n",
            "  0.70874419 -0.1302318   0.84073097  0.92113133 -0.44331424  0.70169027\n",
            " -0.19936413 -0.78299083  0.69652661  0.33000246 -0.94293441 -0.36302772\n",
            "  0.24917723 -0.12810214 -0.54675788 -0.78902881  0.4446118  -0.4907705\n",
            "  0.24779421  0.31065021 -0.86904057  0.07078022  0.26652422  0.11083232\n",
            " -0.27612032  0.30704268 -0.77952003  0.65785492 -0.83030212 -0.02104854\n",
            "  0.0807851  -0.12354301 -0.6926803   0.86465371 -0.48747613 -0.47104877\n",
            " -0.26758558  0.49752051 -0.27911601  0.38680203]\n"
          ]
        },
        {
          "output_type": "execute_result",
          "data": {
            "text/plain": [
              "array([ 0.86908752,  0.14888013,  0.81379528, -0.31900837,  0.81772118,\n",
              "        0.83508077,  0.89273481,  0.88439275, -0.38233071,  0.47148318,\n",
              "       -0.31083658,  0.95606977, -0.64238534,  0.41301656,  0.9737895 ,\n",
              "        0.04470412,  0.38440696,  0.7864996 , -0.86179962,  0.16697727,\n",
              "        0.20736721,  0.92871684, -0.87776047, -0.82837976, -0.5506597 ,\n",
              "        0.42493801,  0.70400513,  0.46692153,  0.48039089, -0.24406381,\n",
              "        0.82502441,  0.41247821,  0.7477814 , -0.09423257,  0.38559705,\n",
              "        0.94373269,  0.16694486,  0.37271175,  0.67298736, -0.36683694,\n",
              "        0.66752559,  0.3103358 ,  0.45160666,  0.15170631,  0.78455373,\n",
              "       -0.66967558,  0.66529309, -0.13910187,  0.43680079, -0.16092577,\n",
              "        0.02830618, -0.13078541,  0.51829223,  0.90898861, -0.47542665,\n",
              "       -0.48712557, -0.89816773, -0.42562537, -0.26368031, -0.07091556,\n",
              "       -0.70874419,  0.1302318 , -0.84073097, -0.92113133,  0.44331424,\n",
              "       -0.70169027,  0.19936413,  0.78299083, -0.69652661, -0.33000246,\n",
              "        0.94293441,  0.36302772, -0.24917723,  0.12810214,  0.54675788,\n",
              "        0.78902881, -0.4446118 ,  0.4907705 , -0.24779421, -0.31065021,\n",
              "        0.86904057, -0.07078022, -0.26652422, -0.11083232,  0.27612032,\n",
              "       -0.30704268,  0.77952003, -0.65785492,  0.83030212,  0.02104854,\n",
              "       -0.0807851 ,  0.12354301,  0.6926803 , -0.86465371,  0.48747613,\n",
              "        0.47104877,  0.26758558, -0.49752051,  0.27911601, -0.38680203])"
            ]
          },
          "metadata": {},
          "execution_count": 11
        }
      ]
    },
    {
      "cell_type": "markdown",
      "metadata": {
        "id": "FQyS_5ra3JhA"
      },
      "source": [
        "#### 78. Consider 2 sets of points P0,P1 describing lines (2d) and a point p, how to compute distance from p to each line i  (P0\\[i\\],P1\\[i\\])? (★★★)"
      ]
    },
    {
      "cell_type": "code",
      "execution_count": null,
      "metadata": {
        "id": "opVSeIft3JhD"
      },
      "outputs": [],
      "source": [
        "#cant understand"
      ]
    },
    {
      "cell_type": "markdown",
      "metadata": {
        "id": "vBd9Fiq53JhE"
      },
      "source": [
        "#### 79. Consider 2 sets of points P0,P1 describing lines (2d) and a set of points P, how to compute distance from each point j (P\\[j\\]) to each line i (P0\\[i\\],P1\\[i\\])? (★★★)"
      ]
    },
    {
      "cell_type": "code",
      "execution_count": null,
      "metadata": {
        "id": "yrJDfYLV3JhG"
      },
      "outputs": [],
      "source": [
        ""
      ]
    },
    {
      "cell_type": "markdown",
      "metadata": {
        "id": "iknLKUVe3JhJ"
      },
      "source": [
        "#### 80. Consider an arbitrary array, write a function that extract a subpart with a fixed shape and centered on a given element (pad with a `fill` value when necessary) (★★★) \n",
        "(**hint**: minimum, maximum)"
      ]
    },
    {
      "cell_type": "code",
      "execution_count": null,
      "metadata": {
        "id": "BrBwpumi3JhK",
        "colab": {
          "base_uri": "https://localhost:8080/"
        },
        "outputId": "56bf2845-42c0-473c-8eb7-5678a6350512"
      },
      "outputs": [
        {
          "output_type": "stream",
          "name": "stdout",
          "text": [
            "[[9 2 8 8 8 5 1 4 3 7]\n",
            " [6 0 6 0 7 5 4 9 2 1]\n",
            " [3 8 1 0 3 8 5 7 0 9]\n",
            " [3 3 3 8 5 2 6 0 1 7]\n",
            " [2 2 2 8 3 3 4 5 2 5]\n",
            " [0 4 3 6 3 3 9 4 5 9]\n",
            " [0 9 7 7 1 3 9 1 0 5]\n",
            " [8 7 5 5 9 6 1 6 3 2]\n",
            " [1 0 8 3 3 7 1 1 1 8]\n",
            " [1 5 2 1 8 6 2 6 0 8]]\n",
            "[[0 0 0 0 0]\n",
            " [0 9 2 8 8]\n",
            " [0 6 0 6 0]\n",
            " [0 3 8 1 0]\n",
            " [0 3 3 3 8]]\n"
          ]
        },
        {
          "output_type": "stream",
          "name": "stderr",
          "text": [
            "/usr/local/lib/python3.7/dist-packages/ipykernel_launcher.py:24: FutureWarning: Using a non-tuple sequence for multidimensional indexing is deprecated; use `arr[tuple(seq)]` instead of `arr[seq]`. In the future this will be interpreted as an array index, `arr[np.array(seq)]`, which will result either in an error or a different result.\n"
          ]
        }
      ],
      "source": [
        "import numpy as np\n",
        "Z = np.random.randint(0,10,(10,10))\n",
        "shape = (5,5)\n",
        "fill  = 0\n",
        "position = (1,1)\n",
        "\n",
        "R = np.ones(shape, dtype=Z.dtype)*fill\n",
        "P  = np.array(list(position)).astype(int)\n",
        "Rs = np.array(list(R.shape)).astype(int)\n",
        "Zs = np.array(list(Z.shape)).astype(int)\n",
        "\n",
        "R_start = np.zeros((len(shape),)).astype(int)\n",
        "R_stop  = np.array(list(shape)).astype(int)\n",
        "Z_start = (P-Rs//2)\n",
        "Z_stop  = (P+Rs//2)+Rs%2\n",
        "\n",
        "R_start = (R_start - np.minimum(Z_start,0)).tolist()\n",
        "Z_start = (np.maximum(Z_start,0)).tolist()\n",
        "R_stop = np.maximum(R_start, (R_stop - np.maximum(Z_stop-Zs,0))).tolist()\n",
        "Z_stop = (np.minimum(Z_stop,Zs)).tolist()\n",
        "\n",
        "r = [slice(start,stop) for start,stop in zip(R_start,R_stop)]\n",
        "z = [slice(start,stop) for start,stop in zip(Z_start,Z_stop)]\n",
        "R[r] = Z[z]\n",
        "print(Z)\n",
        "print(R)"
      ]
    },
    {
      "cell_type": "markdown",
      "metadata": {
        "id": "LPeHeZFA3JhK"
      },
      "source": [
        "#### 81. Consider an array Z = \\[1,2,3,4,5,6,7,8,9,10,11,12,13,14\\], how to generate an array R = \\[\\[1,2,3,4\\], \\[2,3,4,5\\], \\[3,4,5,6\\], ..., \\[11,12,13,14\\]\\]? (★★★) \n",
        "(**hint**: stride\\_tricks.as\\_strided)"
      ]
    },
    {
      "cell_type": "code",
      "execution_count": null,
      "metadata": {
        "id": "sRaV9ga33JhL",
        "colab": {
          "base_uri": "https://localhost:8080/"
        },
        "outputId": "e49bf927-949f-484f-9a43-0c66beef5b11"
      },
      "outputs": [
        {
          "output_type": "stream",
          "name": "stdout",
          "text": [
            "[[ 1  2  3  4]\n",
            " [ 2  3  4  5]\n",
            " [ 3  4  5  6]\n",
            " [ 4  5  6  7]\n",
            " [ 5  6  7  8]\n",
            " [ 6  7  8  9]\n",
            " [ 7  8  9 10]\n",
            " [ 8  9 10 11]\n",
            " [ 9 10 11 12]\n",
            " [10 11 12 13]\n",
            " [11 12 13 14]]\n"
          ]
        }
      ],
      "source": [
        "from numpy.lib import stride_tricks\n",
        "Z = np.arange(1,15,dtype=np.uint32)\n",
        "R = stride_tricks.as_strided(Z,(11,4),(4,4))\n",
        "print(R)"
      ]
    },
    {
      "cell_type": "code",
      "source": [
        "help(stride_tricks)"
      ],
      "metadata": {
        "id": "pr2Wl2GMSylG",
        "outputId": "cfb54357-e6aa-423a-9771-ddb7bf98c272",
        "colab": {
          "base_uri": "https://localhost:8080/"
        }
      },
      "execution_count": null,
      "outputs": [
        {
          "output_type": "stream",
          "name": "stdout",
          "text": [
            "Help on module numpy.lib.stride_tricks in numpy.lib:\n",
            "\n",
            "NAME\n",
            "    numpy.lib.stride_tricks - Utilities that manipulate strides to achieve desirable effects.\n",
            "\n",
            "DESCRIPTION\n",
            "    An explanation of strides can be found in the \"ndarray.rst\" file in the\n",
            "    NumPy reference guide.\n",
            "\n",
            "FUNCTIONS\n",
            "    broadcast_arrays(*args, subok=False)\n",
            "        Broadcast any number of arrays against each other.\n",
            "        \n",
            "        Parameters\n",
            "        ----------\n",
            "        `*args` : array_likes\n",
            "            The arrays to broadcast.\n",
            "        \n",
            "        subok : bool, optional\n",
            "            If True, then sub-classes will be passed-through, otherwise\n",
            "            the returned arrays will be forced to be a base-class array (default).\n",
            "        \n",
            "        Returns\n",
            "        -------\n",
            "        broadcasted : list of arrays\n",
            "            These arrays are views on the original arrays.  They are typically\n",
            "            not contiguous.  Furthermore, more than one element of a\n",
            "            broadcasted array may refer to a single memory location. If you need\n",
            "            to write to the arrays, make copies first. While you can set the\n",
            "            ``writable`` flag True, writing to a single output value may end up\n",
            "            changing more than one location in the output array.\n",
            "        \n",
            "            .. deprecated:: 1.17\n",
            "                The output is currently marked so that if written to, a deprecation\n",
            "                warning will be emitted. A future version will set the\n",
            "                ``writable`` flag False so writing to it will raise an error.\n",
            "        \n",
            "        See Also\n",
            "        --------\n",
            "        broadcast\n",
            "        broadcast_to\n",
            "        broadcast_shapes\n",
            "        \n",
            "        Examples\n",
            "        --------\n",
            "        >>> x = np.array([[1,2,3]])\n",
            "        >>> y = np.array([[4],[5]])\n",
            "        >>> np.broadcast_arrays(x, y)\n",
            "        [array([[1, 2, 3],\n",
            "               [1, 2, 3]]), array([[4, 4, 4],\n",
            "               [5, 5, 5]])]\n",
            "        \n",
            "        Here is a useful idiom for getting contiguous copies instead of\n",
            "        non-contiguous views.\n",
            "        \n",
            "        >>> [np.array(a) for a in np.broadcast_arrays(x, y)]\n",
            "        [array([[1, 2, 3],\n",
            "               [1, 2, 3]]), array([[4, 4, 4],\n",
            "               [5, 5, 5]])]\n",
            "    \n",
            "    broadcast_shapes(*args)\n",
            "        Broadcast the input shapes into a single shape.\n",
            "        \n",
            "        :ref:`Learn more about broadcasting here <basics.broadcasting>`.\n",
            "        \n",
            "        .. versionadded:: 1.20.0\n",
            "        \n",
            "        Parameters\n",
            "        ----------\n",
            "        `*args` : tuples of ints, or ints\n",
            "            The shapes to be broadcast against each other.\n",
            "        \n",
            "        Returns\n",
            "        -------\n",
            "        tuple\n",
            "            Broadcasted shape.\n",
            "        \n",
            "        Raises\n",
            "        ------\n",
            "        ValueError\n",
            "            If the shapes are not compatible and cannot be broadcast according\n",
            "            to NumPy's broadcasting rules.\n",
            "        \n",
            "        See Also\n",
            "        --------\n",
            "        broadcast\n",
            "        broadcast_arrays\n",
            "        broadcast_to\n",
            "        \n",
            "        Examples\n",
            "        --------\n",
            "        >>> np.broadcast_shapes((1, 2), (3, 1), (3, 2))\n",
            "        (3, 2)\n",
            "        \n",
            "        >>> np.broadcast_shapes((6, 7), (5, 6, 1), (7,), (5, 1, 7))\n",
            "        (5, 6, 7)\n",
            "    \n",
            "    broadcast_to(array, shape, subok=False)\n",
            "        Broadcast an array to a new shape.\n",
            "        \n",
            "        Parameters\n",
            "        ----------\n",
            "        array : array_like\n",
            "            The array to broadcast.\n",
            "        shape : tuple\n",
            "            The shape of the desired array.\n",
            "        subok : bool, optional\n",
            "            If True, then sub-classes will be passed-through, otherwise\n",
            "            the returned array will be forced to be a base-class array (default).\n",
            "        \n",
            "        Returns\n",
            "        -------\n",
            "        broadcast : array\n",
            "            A readonly view on the original array with the given shape. It is\n",
            "            typically not contiguous. Furthermore, more than one element of a\n",
            "            broadcasted array may refer to a single memory location.\n",
            "        \n",
            "        Raises\n",
            "        ------\n",
            "        ValueError\n",
            "            If the array is not compatible with the new shape according to NumPy's\n",
            "            broadcasting rules.\n",
            "        \n",
            "        See Also\n",
            "        --------\n",
            "        broadcast\n",
            "        broadcast_arrays\n",
            "        broadcast_shapes\n",
            "        \n",
            "        Notes\n",
            "        -----\n",
            "        .. versionadded:: 1.10.0\n",
            "        \n",
            "        Examples\n",
            "        --------\n",
            "        >>> x = np.array([1, 2, 3])\n",
            "        >>> np.broadcast_to(x, (3, 3))\n",
            "        array([[1, 2, 3],\n",
            "               [1, 2, 3],\n",
            "               [1, 2, 3]])\n",
            "\n",
            "DATA\n",
            "    __all__ = ['broadcast_to', 'broadcast_arrays', 'broadcast_shapes']\n",
            "\n",
            "FILE\n",
            "    /usr/local/lib/python3.7/dist-packages/numpy/lib/stride_tricks.py\n",
            "\n",
            "\n"
          ]
        }
      ]
    },
    {
      "cell_type": "code",
      "source": [
        "np.broadcast_shapes((6, 7), (5, 6, 1), (7,), (5, 1, 7))"
      ],
      "metadata": {
        "colab": {
          "base_uri": "https://localhost:8080/"
        },
        "id": "r2meX6AMZ39c",
        "outputId": "2ccac534-0439-49c9-a190-dd5f96d04644"
      },
      "execution_count": null,
      "outputs": [
        {
          "output_type": "execute_result",
          "data": {
            "text/plain": [
              "(5, 6, 7)"
            ]
          },
          "metadata": {},
          "execution_count": 6
        }
      ]
    },
    {
      "cell_type": "code",
      "source": [
        "from numpy.lib.stride_tricks import sliding_window_view\n",
        "Z = np.arange(1, 15, dtype=np.uint32)\n",
        "print(sliding_window_view(Z, window_shape=4))"
      ],
      "metadata": {
        "colab": {
          "base_uri": "https://localhost:8080/"
        },
        "id": "GE1wywa3aIcr",
        "outputId": "1bf396b6-0f35-4247-bc53-282da981de18"
      },
      "execution_count": null,
      "outputs": [
        {
          "output_type": "stream",
          "name": "stdout",
          "text": [
            "[[ 1  2  3  4]\n",
            " [ 2  3  4  5]\n",
            " [ 3  4  5  6]\n",
            " [ 4  5  6  7]\n",
            " [ 5  6  7  8]\n",
            " [ 6  7  8  9]\n",
            " [ 7  8  9 10]\n",
            " [ 8  9 10 11]\n",
            " [ 9 10 11 12]\n",
            " [10 11 12 13]\n",
            " [11 12 13 14]]\n"
          ]
        }
      ]
    },
    {
      "cell_type": "markdown",
      "metadata": {
        "id": "xOBBBlgq3JhL"
      },
      "source": [
        "#### 82. Compute a matrix rank (★★★) \n",
        "(**hint**: np.linalg.svd) (suggestion: np.linalg.svd)"
      ]
    },
    {
      "cell_type": "code",
      "execution_count": null,
      "metadata": {
        "id": "Ty0MvmGZ3JhM",
        "colab": {
          "base_uri": "https://localhost:8080/"
        },
        "outputId": "1c7c4231-0573-407b-dc21-c117fa0258a6"
      },
      "outputs": [
        {
          "output_type": "stream",
          "name": "stdout",
          "text": [
            "[4.69931323 1.5965048  1.22594795 1.05935394 0.80744119 0.626197\n",
            " 0.44068233 0.37537674 0.20289942 0.15980367]\n",
            "10\n"
          ]
        }
      ],
      "source": [
        "Z = np.random.uniform(0,1,(10,10))\n",
        "U, S, V = np.linalg.svd(Z) # Singular Value Decomposition\n",
        "print(S)\n",
        "rank = np.sum(S > 1e-10)\n",
        "print(rank)"
      ]
    },
    {
      "cell_type": "code",
      "source": [
        "help(np.linalg.svd)"
      ],
      "metadata": {
        "colab": {
          "base_uri": "https://localhost:8080/"
        },
        "id": "xsyNsdC3gId9",
        "outputId": "487df74c-00cf-4bed-c673-fe5c15be9802"
      },
      "execution_count": null,
      "outputs": [
        {
          "output_type": "stream",
          "name": "stdout",
          "text": [
            "Help on function svd in module numpy.linalg:\n",
            "\n",
            "svd(a, full_matrices=True, compute_uv=True, hermitian=False)\n",
            "    Singular Value Decomposition.\n",
            "    \n",
            "    When `a` is a 2D array, it is factorized as ``u @ np.diag(s) @ vh\n",
            "    = (u * s) @ vh``, where `u` and `vh` are 2D unitary arrays and `s` is a 1D\n",
            "    array of `a`'s singular values. When `a` is higher-dimensional, SVD is\n",
            "    applied in stacked mode as explained below.\n",
            "    \n",
            "    Parameters\n",
            "    ----------\n",
            "    a : (..., M, N) array_like\n",
            "        A real or complex array with ``a.ndim >= 2``.\n",
            "    full_matrices : bool, optional\n",
            "        If True (default), `u` and `vh` have the shapes ``(..., M, M)`` and\n",
            "        ``(..., N, N)``, respectively.  Otherwise, the shapes are\n",
            "        ``(..., M, K)`` and ``(..., K, N)``, respectively, where\n",
            "        ``K = min(M, N)``.\n",
            "    compute_uv : bool, optional\n",
            "        Whether or not to compute `u` and `vh` in addition to `s`.  True\n",
            "        by default.\n",
            "    hermitian : bool, optional\n",
            "        If True, `a` is assumed to be Hermitian (symmetric if real-valued),\n",
            "        enabling a more efficient method for finding singular values.\n",
            "        Defaults to False.\n",
            "    \n",
            "        .. versionadded:: 1.17.0\n",
            "    \n",
            "    Returns\n",
            "    -------\n",
            "    u : { (..., M, M), (..., M, K) } array\n",
            "        Unitary array(s). The first ``a.ndim - 2`` dimensions have the same\n",
            "        size as those of the input `a`. The size of the last two dimensions\n",
            "        depends on the value of `full_matrices`. Only returned when\n",
            "        `compute_uv` is True.\n",
            "    s : (..., K) array\n",
            "        Vector(s) with the singular values, within each vector sorted in\n",
            "        descending order. The first ``a.ndim - 2`` dimensions have the same\n",
            "        size as those of the input `a`.\n",
            "    vh : { (..., N, N), (..., K, N) } array\n",
            "        Unitary array(s). The first ``a.ndim - 2`` dimensions have the same\n",
            "        size as those of the input `a`. The size of the last two dimensions\n",
            "        depends on the value of `full_matrices`. Only returned when\n",
            "        `compute_uv` is True.\n",
            "    \n",
            "    Raises\n",
            "    ------\n",
            "    LinAlgError\n",
            "        If SVD computation does not converge.\n",
            "    \n",
            "    See Also\n",
            "    --------\n",
            "    scipy.linalg.svd : Similar function in SciPy.\n",
            "    scipy.linalg.svdvals : Compute singular values of a matrix.\n",
            "    \n",
            "    Notes\n",
            "    -----\n",
            "    \n",
            "    .. versionchanged:: 1.8.0\n",
            "       Broadcasting rules apply, see the `numpy.linalg` documentation for\n",
            "       details.\n",
            "    \n",
            "    The decomposition is performed using LAPACK routine ``_gesdd``.\n",
            "    \n",
            "    SVD is usually described for the factorization of a 2D matrix :math:`A`.\n",
            "    The higher-dimensional case will be discussed below. In the 2D case, SVD is\n",
            "    written as :math:`A = U S V^H`, where :math:`A = a`, :math:`U= u`,\n",
            "    :math:`S= \\mathtt{np.diag}(s)` and :math:`V^H = vh`. The 1D array `s`\n",
            "    contains the singular values of `a` and `u` and `vh` are unitary. The rows\n",
            "    of `vh` are the eigenvectors of :math:`A^H A` and the columns of `u` are\n",
            "    the eigenvectors of :math:`A A^H`. In both cases the corresponding\n",
            "    (possibly non-zero) eigenvalues are given by ``s**2``.\n",
            "    \n",
            "    If `a` has more than two dimensions, then broadcasting rules apply, as\n",
            "    explained in :ref:`routines.linalg-broadcasting`. This means that SVD is\n",
            "    working in \"stacked\" mode: it iterates over all indices of the first\n",
            "    ``a.ndim - 2`` dimensions and for each combination SVD is applied to the\n",
            "    last two indices. The matrix `a` can be reconstructed from the\n",
            "    decomposition with either ``(u * s[..., None, :]) @ vh`` or\n",
            "    ``u @ (s[..., None] * vh)``. (The ``@`` operator can be replaced by the\n",
            "    function ``np.matmul`` for python versions below 3.5.)\n",
            "    \n",
            "    If `a` is a ``matrix`` object (as opposed to an ``ndarray``), then so are\n",
            "    all the return values.\n",
            "    \n",
            "    Examples\n",
            "    --------\n",
            "    >>> a = np.random.randn(9, 6) + 1j*np.random.randn(9, 6)\n",
            "    >>> b = np.random.randn(2, 7, 8, 3) + 1j*np.random.randn(2, 7, 8, 3)\n",
            "    \n",
            "    Reconstruction based on full SVD, 2D case:\n",
            "    \n",
            "    >>> u, s, vh = np.linalg.svd(a, full_matrices=True)\n",
            "    >>> u.shape, s.shape, vh.shape\n",
            "    ((9, 9), (6,), (6, 6))\n",
            "    >>> np.allclose(a, np.dot(u[:, :6] * s, vh))\n",
            "    True\n",
            "    >>> smat = np.zeros((9, 6), dtype=complex)\n",
            "    >>> smat[:6, :6] = np.diag(s)\n",
            "    >>> np.allclose(a, np.dot(u, np.dot(smat, vh)))\n",
            "    True\n",
            "    \n",
            "    Reconstruction based on reduced SVD, 2D case:\n",
            "    \n",
            "    >>> u, s, vh = np.linalg.svd(a, full_matrices=False)\n",
            "    >>> u.shape, s.shape, vh.shape\n",
            "    ((9, 6), (6,), (6, 6))\n",
            "    >>> np.allclose(a, np.dot(u * s, vh))\n",
            "    True\n",
            "    >>> smat = np.diag(s)\n",
            "    >>> np.allclose(a, np.dot(u, np.dot(smat, vh)))\n",
            "    True\n",
            "    \n",
            "    Reconstruction based on full SVD, 4D case:\n",
            "    \n",
            "    >>> u, s, vh = np.linalg.svd(b, full_matrices=True)\n",
            "    >>> u.shape, s.shape, vh.shape\n",
            "    ((2, 7, 8, 8), (2, 7, 3), (2, 7, 3, 3))\n",
            "    >>> np.allclose(b, np.matmul(u[..., :3] * s[..., None, :], vh))\n",
            "    True\n",
            "    >>> np.allclose(b, np.matmul(u[..., :3], s[..., None] * vh))\n",
            "    True\n",
            "    \n",
            "    Reconstruction based on reduced SVD, 4D case:\n",
            "    \n",
            "    >>> u, s, vh = np.linalg.svd(b, full_matrices=False)\n",
            "    >>> u.shape, s.shape, vh.shape\n",
            "    ((2, 7, 8, 3), (2, 7, 3), (2, 7, 3, 3))\n",
            "    >>> np.allclose(b, np.matmul(u * s[..., None, :], vh))\n",
            "    True\n",
            "    >>> np.allclose(b, np.matmul(u, s[..., None] * vh))\n",
            "    True\n",
            "\n"
          ]
        }
      ]
    },
    {
      "cell_type": "code",
      "source": [
        "rank = np.linalg.matrix_rank(Z)\n",
        "print(rank)"
      ],
      "metadata": {
        "colab": {
          "base_uri": "https://localhost:8080/"
        },
        "id": "GiHji8PyBmvB",
        "outputId": "e7908403-38fb-4d77-8f57-b3ad88685db9"
      },
      "execution_count": null,
      "outputs": [
        {
          "output_type": "stream",
          "name": "stdout",
          "text": [
            "10\n"
          ]
        }
      ]
    },
    {
      "cell_type": "markdown",
      "metadata": {
        "id": "EuE7VO9y3JhM"
      },
      "source": [
        "#### 83. How to find the most frequent value in an array? \n",
        "(**hint**: np.bincount, argmax)"
      ]
    },
    {
      "cell_type": "code",
      "execution_count": null,
      "metadata": {
        "id": "I9tanF0k3JhM",
        "colab": {
          "base_uri": "https://localhost:8080/"
        },
        "outputId": "c3d899d0-36e8-4342-fccf-5b62f057b951"
      },
      "outputs": [
        {
          "output_type": "stream",
          "name": "stdout",
          "text": [
            "[6 6 3 7 3 0 7 1 5 6 4 9 2 2 3 7 1 6 9 3 0 7 3 9 4 5 1 9 6 2 3 1 1 0 4 5 7\n",
            " 0 9 4 8 8 7 8 4 4 7 9 0 9]\n",
            "[5 5 3 6 6 3 5 7 3 7]\n",
            "7\n"
          ]
        }
      ],
      "source": [
        "Z = np.random.randint(0,10,50)\n",
        "print(Z)\n",
        "print(np.bincount(Z))\n",
        "print(np.bincount(Z).argmax())"
      ]
    },
    {
      "cell_type": "code",
      "source": [
        "help(np.argmax)"
      ],
      "metadata": {
        "colab": {
          "base_uri": "https://localhost:8080/"
        },
        "id": "id-KNx79FICY",
        "outputId": "5d32632a-d992-4e5c-b5cc-173c8ecb560c"
      },
      "execution_count": null,
      "outputs": [
        {
          "output_type": "stream",
          "name": "stdout",
          "text": [
            "Help on function argmax in module numpy:\n",
            "\n",
            "argmax(a, axis=None, out=None)\n",
            "    Returns the indices of the maximum values along an axis.\n",
            "    \n",
            "    Parameters\n",
            "    ----------\n",
            "    a : array_like\n",
            "        Input array.\n",
            "    axis : int, optional\n",
            "        By default, the index is into the flattened array, otherwise\n",
            "        along the specified axis.\n",
            "    out : array, optional\n",
            "        If provided, the result will be inserted into this array. It should\n",
            "        be of the appropriate shape and dtype.\n",
            "    \n",
            "    Returns\n",
            "    -------\n",
            "    index_array : ndarray of ints\n",
            "        Array of indices into the array. It has the same shape as `a.shape`\n",
            "        with the dimension along `axis` removed.\n",
            "    \n",
            "    See Also\n",
            "    --------\n",
            "    ndarray.argmax, argmin\n",
            "    amax : The maximum value along a given axis.\n",
            "    unravel_index : Convert a flat index into an index tuple.\n",
            "    take_along_axis : Apply ``np.expand_dims(index_array, axis)``\n",
            "                      from argmax to an array as if by calling max.\n",
            "    \n",
            "    Notes\n",
            "    -----\n",
            "    In case of multiple occurrences of the maximum values, the indices\n",
            "    corresponding to the first occurrence are returned.\n",
            "    \n",
            "    Examples\n",
            "    --------\n",
            "    >>> a = np.arange(6).reshape(2,3) + 10\n",
            "    >>> a\n",
            "    array([[10, 11, 12],\n",
            "           [13, 14, 15]])\n",
            "    >>> np.argmax(a)\n",
            "    5\n",
            "    >>> np.argmax(a, axis=0)\n",
            "    array([1, 1, 1])\n",
            "    >>> np.argmax(a, axis=1)\n",
            "    array([2, 2])\n",
            "    \n",
            "    Indexes of the maximal elements of a N-dimensional array:\n",
            "    \n",
            "    >>> ind = np.unravel_index(np.argmax(a, axis=None), a.shape)\n",
            "    >>> ind\n",
            "    (1, 2)\n",
            "    >>> a[ind]\n",
            "    15\n",
            "    \n",
            "    >>> b = np.arange(6)\n",
            "    >>> b[1] = 5\n",
            "    >>> b\n",
            "    array([0, 5, 2, 3, 4, 5])\n",
            "    >>> np.argmax(b)  # Only the first occurrence is returned.\n",
            "    1\n",
            "    \n",
            "    >>> x = np.array([[4,2,3], [1,0,3]])\n",
            "    >>> index_array = np.argmax(x, axis=-1)\n",
            "    >>> # Same as np.max(x, axis=-1, keepdims=True)\n",
            "    >>> np.take_along_axis(x, np.expand_dims(index_array, axis=-1), axis=-1)\n",
            "    array([[4],\n",
            "           [3]])\n",
            "    >>> # Same as np.max(x, axis=-1)\n",
            "    >>> np.take_along_axis(x, np.expand_dims(index_array, axis=-1), axis=-1).squeeze(axis=-1)\n",
            "    array([4, 3])\n",
            "\n"
          ]
        }
      ]
    },
    {
      "cell_type": "markdown",
      "metadata": {
        "id": "Debrb-t33JhN"
      },
      "source": [
        "#### 84. Extract all the contiguous 3x3 blocks from a random 10x10 matrix (★★★) \n",
        "(**hint**: stride\\_tricks.as\\_strided)"
      ]
    },
    {
      "cell_type": "code",
      "execution_count": null,
      "metadata": {
        "id": "Anwu-2K23JhO",
        "colab": {
          "base_uri": "https://localhost:8080/"
        },
        "outputId": "49002a4d-65be-46d7-8447-140eb5acf90f"
      },
      "outputs": [
        {
          "output_type": "stream",
          "name": "stdout",
          "text": [
            "[[4 3 4 0 1 1 1 2 1 3]\n",
            " [1 2 2 2 4 1 0 3 3 4]\n",
            " [4 0 3 0 0 0 0 4 3 2]\n",
            " [1 1 1 4 2 2 2 2 0 1]\n",
            " [1 3 4 0 4 1 3 0 2 2]\n",
            " [0 2 3 3 2 4 1 2 2 2]\n",
            " [2 2 2 2 2 0 3 2 2 2]\n",
            " [4 0 2 1 2 0 3 0 1 2]\n",
            " [1 2 0 2 2 3 3 2 0 2]\n",
            " [0 0 1 2 4 2 0 4 1 2]]\n",
            "[[[[4 3 4]\n",
            "   [1 2 2]\n",
            "   [4 0 3]]\n",
            "\n",
            "  [[3 4 0]\n",
            "   [2 2 2]\n",
            "   [0 3 0]]\n",
            "\n",
            "  [[4 0 1]\n",
            "   [2 2 4]\n",
            "   [3 0 0]]\n",
            "\n",
            "  [[0 1 1]\n",
            "   [2 4 1]\n",
            "   [0 0 0]]\n",
            "\n",
            "  [[1 1 1]\n",
            "   [4 1 0]\n",
            "   [0 0 0]]\n",
            "\n",
            "  [[1 1 2]\n",
            "   [1 0 3]\n",
            "   [0 0 4]]\n",
            "\n",
            "  [[1 2 1]\n",
            "   [0 3 3]\n",
            "   [0 4 3]]\n",
            "\n",
            "  [[2 1 3]\n",
            "   [3 3 4]\n",
            "   [4 3 2]]]\n",
            "\n",
            "\n",
            " [[[1 2 2]\n",
            "   [4 0 3]\n",
            "   [1 1 1]]\n",
            "\n",
            "  [[2 2 2]\n",
            "   [0 3 0]\n",
            "   [1 1 4]]\n",
            "\n",
            "  [[2 2 4]\n",
            "   [3 0 0]\n",
            "   [1 4 2]]\n",
            "\n",
            "  [[2 4 1]\n",
            "   [0 0 0]\n",
            "   [4 2 2]]\n",
            "\n",
            "  [[4 1 0]\n",
            "   [0 0 0]\n",
            "   [2 2 2]]\n",
            "\n",
            "  [[1 0 3]\n",
            "   [0 0 4]\n",
            "   [2 2 2]]\n",
            "\n",
            "  [[0 3 3]\n",
            "   [0 4 3]\n",
            "   [2 2 0]]\n",
            "\n",
            "  [[3 3 4]\n",
            "   [4 3 2]\n",
            "   [2 0 1]]]\n",
            "\n",
            "\n",
            " [[[4 0 3]\n",
            "   [1 1 1]\n",
            "   [1 3 4]]\n",
            "\n",
            "  [[0 3 0]\n",
            "   [1 1 4]\n",
            "   [3 4 0]]\n",
            "\n",
            "  [[3 0 0]\n",
            "   [1 4 2]\n",
            "   [4 0 4]]\n",
            "\n",
            "  [[0 0 0]\n",
            "   [4 2 2]\n",
            "   [0 4 1]]\n",
            "\n",
            "  [[0 0 0]\n",
            "   [2 2 2]\n",
            "   [4 1 3]]\n",
            "\n",
            "  [[0 0 4]\n",
            "   [2 2 2]\n",
            "   [1 3 0]]\n",
            "\n",
            "  [[0 4 3]\n",
            "   [2 2 0]\n",
            "   [3 0 2]]\n",
            "\n",
            "  [[4 3 2]\n",
            "   [2 0 1]\n",
            "   [0 2 2]]]\n",
            "\n",
            "\n",
            " [[[1 1 1]\n",
            "   [1 3 4]\n",
            "   [0 2 3]]\n",
            "\n",
            "  [[1 1 4]\n",
            "   [3 4 0]\n",
            "   [2 3 3]]\n",
            "\n",
            "  [[1 4 2]\n",
            "   [4 0 4]\n",
            "   [3 3 2]]\n",
            "\n",
            "  [[4 2 2]\n",
            "   [0 4 1]\n",
            "   [3 2 4]]\n",
            "\n",
            "  [[2 2 2]\n",
            "   [4 1 3]\n",
            "   [2 4 1]]\n",
            "\n",
            "  [[2 2 2]\n",
            "   [1 3 0]\n",
            "   [4 1 2]]\n",
            "\n",
            "  [[2 2 0]\n",
            "   [3 0 2]\n",
            "   [1 2 2]]\n",
            "\n",
            "  [[2 0 1]\n",
            "   [0 2 2]\n",
            "   [2 2 2]]]\n",
            "\n",
            "\n",
            " [[[1 3 4]\n",
            "   [0 2 3]\n",
            "   [2 2 2]]\n",
            "\n",
            "  [[3 4 0]\n",
            "   [2 3 3]\n",
            "   [2 2 2]]\n",
            "\n",
            "  [[4 0 4]\n",
            "   [3 3 2]\n",
            "   [2 2 2]]\n",
            "\n",
            "  [[0 4 1]\n",
            "   [3 2 4]\n",
            "   [2 2 0]]\n",
            "\n",
            "  [[4 1 3]\n",
            "   [2 4 1]\n",
            "   [2 0 3]]\n",
            "\n",
            "  [[1 3 0]\n",
            "   [4 1 2]\n",
            "   [0 3 2]]\n",
            "\n",
            "  [[3 0 2]\n",
            "   [1 2 2]\n",
            "   [3 2 2]]\n",
            "\n",
            "  [[0 2 2]\n",
            "   [2 2 2]\n",
            "   [2 2 2]]]\n",
            "\n",
            "\n",
            " [[[0 2 3]\n",
            "   [2 2 2]\n",
            "   [4 0 2]]\n",
            "\n",
            "  [[2 3 3]\n",
            "   [2 2 2]\n",
            "   [0 2 1]]\n",
            "\n",
            "  [[3 3 2]\n",
            "   [2 2 2]\n",
            "   [2 1 2]]\n",
            "\n",
            "  [[3 2 4]\n",
            "   [2 2 0]\n",
            "   [1 2 0]]\n",
            "\n",
            "  [[2 4 1]\n",
            "   [2 0 3]\n",
            "   [2 0 3]]\n",
            "\n",
            "  [[4 1 2]\n",
            "   [0 3 2]\n",
            "   [0 3 0]]\n",
            "\n",
            "  [[1 2 2]\n",
            "   [3 2 2]\n",
            "   [3 0 1]]\n",
            "\n",
            "  [[2 2 2]\n",
            "   [2 2 2]\n",
            "   [0 1 2]]]\n",
            "\n",
            "\n",
            " [[[2 2 2]\n",
            "   [4 0 2]\n",
            "   [1 2 0]]\n",
            "\n",
            "  [[2 2 2]\n",
            "   [0 2 1]\n",
            "   [2 0 2]]\n",
            "\n",
            "  [[2 2 2]\n",
            "   [2 1 2]\n",
            "   [0 2 2]]\n",
            "\n",
            "  [[2 2 0]\n",
            "   [1 2 0]\n",
            "   [2 2 3]]\n",
            "\n",
            "  [[2 0 3]\n",
            "   [2 0 3]\n",
            "   [2 3 3]]\n",
            "\n",
            "  [[0 3 2]\n",
            "   [0 3 0]\n",
            "   [3 3 2]]\n",
            "\n",
            "  [[3 2 2]\n",
            "   [3 0 1]\n",
            "   [3 2 0]]\n",
            "\n",
            "  [[2 2 2]\n",
            "   [0 1 2]\n",
            "   [2 0 2]]]\n",
            "\n",
            "\n",
            " [[[4 0 2]\n",
            "   [1 2 0]\n",
            "   [0 0 1]]\n",
            "\n",
            "  [[0 2 1]\n",
            "   [2 0 2]\n",
            "   [0 1 2]]\n",
            "\n",
            "  [[2 1 2]\n",
            "   [0 2 2]\n",
            "   [1 2 4]]\n",
            "\n",
            "  [[1 2 0]\n",
            "   [2 2 3]\n",
            "   [2 4 2]]\n",
            "\n",
            "  [[2 0 3]\n",
            "   [2 3 3]\n",
            "   [4 2 0]]\n",
            "\n",
            "  [[0 3 0]\n",
            "   [3 3 2]\n",
            "   [2 0 4]]\n",
            "\n",
            "  [[3 0 1]\n",
            "   [3 2 0]\n",
            "   [0 4 1]]\n",
            "\n",
            "  [[0 1 2]\n",
            "   [2 0 2]\n",
            "   [4 1 2]]]]\n"
          ]
        }
      ],
      "source": [
        "Z = np.random.randint(0,5,(10,10))\n",
        "print(Z)\n",
        "print(sliding_window_view(Z, window_shape=(3, 3)))"
      ]
    },
    {
      "cell_type": "code",
      "source": [
        "Z = np.random.randint(0,5,(5,5))\n",
        "print(Z.shape)\n",
        "print(Z.size)\n",
        "print(Z.ndim)\n",
        "n = 3\n",
        "i = 1 + (Z.shape[0]-n) #1 +(matrix shape along row - n)\n",
        "j = 1 + (Z.shape[1]-3) #1 +(matrix shape along column - n)\n",
        "C = stride_tricks.as_strided(Z, shape=(i, j, n, n), strides=Z.strides + Z.strides)\n",
        "print(C)"
      ],
      "metadata": {
        "colab": {
          "base_uri": "https://localhost:8080/"
        },
        "id": "Ntg4rQzVFyGu",
        "outputId": "54ee8572-8049-4afd-ce24-06123786a078"
      },
      "execution_count": null,
      "outputs": [
        {
          "output_type": "stream",
          "name": "stdout",
          "text": [
            "(5, 5)\n",
            "25\n",
            "2\n",
            "[[[[3 3 1]\n",
            "   [1 1 4]\n",
            "   [1 2 2]]\n",
            "\n",
            "  [[3 1 4]\n",
            "   [1 4 3]\n",
            "   [2 2 2]]\n",
            "\n",
            "  [[1 4 3]\n",
            "   [4 3 2]\n",
            "   [2 2 1]]]\n",
            "\n",
            "\n",
            " [[[1 1 4]\n",
            "   [1 2 2]\n",
            "   [3 3 3]]\n",
            "\n",
            "  [[1 4 3]\n",
            "   [2 2 2]\n",
            "   [3 3 4]]\n",
            "\n",
            "  [[4 3 2]\n",
            "   [2 2 1]\n",
            "   [3 4 0]]]\n",
            "\n",
            "\n",
            " [[[1 2 2]\n",
            "   [3 3 3]\n",
            "   [3 2 0]]\n",
            "\n",
            "  [[2 2 2]\n",
            "   [3 3 4]\n",
            "   [2 0 2]]\n",
            "\n",
            "  [[2 2 1]\n",
            "   [3 4 0]\n",
            "   [0 2 1]]]]\n"
          ]
        }
      ]
    },
    {
      "cell_type": "markdown",
      "metadata": {
        "id": "skvUeaDs3JhO"
      },
      "source": [
        "#### 85. Create a 2D array subclass such that Z\\[i,j\\] == Z\\[j,i\\] (★★★) \n",
        "(**hint**: class method)"
      ]
    },
    {
      "cell_type": "code",
      "execution_count": null,
      "metadata": {
        "id": "zE1sxjem3JhO"
      },
      "outputs": [],
      "source": [
        "#puriyavillai\n",
        "\n",
        "# Note: only works for 2d array and value setting using indices\n",
        "class Symetric(np.ndarray):\n",
        "    def __setitem__(self, index, value):\n",
        "        i,j = index\n",
        "        super(Symetric, self).__setitem__((i,j), value)\n",
        "        super(Symetric, self).__setitem__((j,i), value)\n",
        "\n",
        "def symetric(Z):\n",
        "    return np.asarray(Z + Z.T - np.diag(Z.diagonal())).view(Symetric)\n",
        "\n",
        "S = symetric(np.random.randint(0,10,(5,5)))\n",
        "S[2,3] = 42\n",
        "print(S)"
      ]
    },
    {
      "cell_type": "markdown",
      "metadata": {
        "id": "HD4LHPsL3JhP"
      },
      "source": [
        "#### 86. Consider a set of p matrices wich shape (n,n) and a set of p vectors with shape (n,1). How to compute the sum of of the p matrix products at once? (result has shape (n,1)) (★★★) \n",
        "(**hint**: np.tensordot)"
      ]
    },
    {
      "cell_type": "code",
      "execution_count": null,
      "metadata": {
        "id": "6ujWXxa23JhP",
        "colab": {
          "base_uri": "https://localhost:8080/"
        },
        "outputId": "1bb800b7-f469-41df-8e0c-a8c729b515c9"
      },
      "outputs": [
        {
          "output_type": "stream",
          "name": "stdout",
          "text": [
            "Help on function tensordot in module numpy:\n",
            "\n",
            "tensordot(a, b, axes=2)\n",
            "    Compute tensor dot product along specified axes.\n",
            "    \n",
            "    Given two tensors, `a` and `b`, and an array_like object containing\n",
            "    two array_like objects, ``(a_axes, b_axes)``, sum the products of\n",
            "    `a`'s and `b`'s elements (components) over the axes specified by\n",
            "    ``a_axes`` and ``b_axes``. The third argument can be a single non-negative\n",
            "    integer_like scalar, ``N``; if it is such, then the last ``N`` dimensions\n",
            "    of `a` and the first ``N`` dimensions of `b` are summed over.\n",
            "    \n",
            "    Parameters\n",
            "    ----------\n",
            "    a, b : array_like\n",
            "        Tensors to \"dot\".\n",
            "    \n",
            "    axes : int or (2,) array_like\n",
            "        * integer_like\n",
            "          If an int N, sum over the last N axes of `a` and the first N axes\n",
            "          of `b` in order. The sizes of the corresponding axes must match.\n",
            "        * (2,) array_like\n",
            "          Or, a list of axes to be summed over, first sequence applying to `a`,\n",
            "          second to `b`. Both elements array_like must be of the same length.\n",
            "    \n",
            "    Returns\n",
            "    -------\n",
            "    output : ndarray\n",
            "        The tensor dot product of the input.\n",
            "    \n",
            "    See Also\n",
            "    --------\n",
            "    dot, einsum\n",
            "    \n",
            "    Notes\n",
            "    -----\n",
            "    Three common use cases are:\n",
            "        * ``axes = 0`` : tensor product :math:`a\\otimes b`\n",
            "        * ``axes = 1`` : tensor dot product :math:`a\\cdot b`\n",
            "        * ``axes = 2`` : (default) tensor double contraction :math:`a:b`\n",
            "    \n",
            "    When `axes` is integer_like, the sequence for evaluation will be: first\n",
            "    the -Nth axis in `a` and 0th axis in `b`, and the -1th axis in `a` and\n",
            "    Nth axis in `b` last.\n",
            "    \n",
            "    When there is more than one axis to sum over - and they are not the last\n",
            "    (first) axes of `a` (`b`) - the argument `axes` should consist of\n",
            "    two sequences of the same length, with the first axis to sum over given\n",
            "    first in both sequences, the second axis second, and so forth.\n",
            "    \n",
            "    The shape of the result consists of the non-contracted axes of the\n",
            "    first tensor, followed by the non-contracted axes of the second.\n",
            "    \n",
            "    Examples\n",
            "    --------\n",
            "    A \"traditional\" example:\n",
            "    \n",
            "    >>> a = np.arange(60.).reshape(3,4,5)\n",
            "    >>> b = np.arange(24.).reshape(4,3,2)\n",
            "    >>> c = np.tensordot(a,b, axes=([1,0],[0,1]))\n",
            "    >>> c.shape\n",
            "    (5, 2)\n",
            "    >>> c\n",
            "    array([[4400., 4730.],\n",
            "           [4532., 4874.],\n",
            "           [4664., 5018.],\n",
            "           [4796., 5162.],\n",
            "           [4928., 5306.]])\n",
            "    >>> # A slower but equivalent way of computing the same...\n",
            "    >>> d = np.zeros((5,2))\n",
            "    >>> for i in range(5):\n",
            "    ...   for j in range(2):\n",
            "    ...     for k in range(3):\n",
            "    ...       for n in range(4):\n",
            "    ...         d[i,j] += a[k,n,i] * b[n,k,j]\n",
            "    >>> c == d\n",
            "    array([[ True,  True],\n",
            "           [ True,  True],\n",
            "           [ True,  True],\n",
            "           [ True,  True],\n",
            "           [ True,  True]])\n",
            "    \n",
            "    An extended example taking advantage of the overloading of + and \\*:\n",
            "    \n",
            "    >>> a = np.array(range(1, 9))\n",
            "    >>> a.shape = (2, 2, 2)\n",
            "    >>> A = np.array(('a', 'b', 'c', 'd'), dtype=object)\n",
            "    >>> A.shape = (2, 2)\n",
            "    >>> a; A\n",
            "    array([[[1, 2],\n",
            "            [3, 4]],\n",
            "           [[5, 6],\n",
            "            [7, 8]]])\n",
            "    array([['a', 'b'],\n",
            "           ['c', 'd']], dtype=object)\n",
            "    \n",
            "    >>> np.tensordot(a, A) # third argument default is 2 for double-contraction\n",
            "    array(['abbcccdddd', 'aaaaabbbbbbcccccccdddddddd'], dtype=object)\n",
            "    \n",
            "    >>> np.tensordot(a, A, 1)\n",
            "    array([[['acc', 'bdd'],\n",
            "            ['aaacccc', 'bbbdddd']],\n",
            "           [['aaaaacccccc', 'bbbbbdddddd'],\n",
            "            ['aaaaaaacccccccc', 'bbbbbbbdddddddd']]], dtype=object)\n",
            "    \n",
            "    >>> np.tensordot(a, A, 0) # tensor product (result too long to incl.)\n",
            "    array([[[[['a', 'b'],\n",
            "              ['c', 'd']],\n",
            "              ...\n",
            "    \n",
            "    >>> np.tensordot(a, A, (0, 1))\n",
            "    array([[['abbbbb', 'cddddd'],\n",
            "            ['aabbbbbb', 'ccdddddd']],\n",
            "           [['aaabbbbbbb', 'cccddddddd'],\n",
            "            ['aaaabbbbbbbb', 'ccccdddddddd']]], dtype=object)\n",
            "    \n",
            "    >>> np.tensordot(a, A, (2, 1))\n",
            "    array([[['abb', 'cdd'],\n",
            "            ['aaabbbb', 'cccdddd']],\n",
            "           [['aaaaabbbbbb', 'cccccdddddd'],\n",
            "            ['aaaaaaabbbbbbbb', 'cccccccdddddddd']]], dtype=object)\n",
            "    \n",
            "    >>> np.tensordot(a, A, ((0, 1), (0, 1)))\n",
            "    array(['abbbcccccddddddd', 'aabbbbccccccdddddddd'], dtype=object)\n",
            "    \n",
            "    >>> np.tensordot(a, A, ((2, 1), (1, 0)))\n",
            "    array(['acccbbdddd', 'aaaaacccccccbbbbbbdddddddd'], dtype=object)\n",
            "\n"
          ]
        }
      ],
      "source": [
        "help(np.tensordot)"
      ]
    },
    {
      "cell_type": "code",
      "source": [
        "p, n = 10, 20\n",
        "M = np.ones((p,n,n))\n",
        "V = np.ones((p,n,1))\n",
        "S = np.tensordot(M, V, axes=[[0, 2], [0, 1]])\n",
        "print(S)"
      ],
      "metadata": {
        "colab": {
          "base_uri": "https://localhost:8080/"
        },
        "id": "an-FREGxRkTI",
        "outputId": "eb513ca0-ab93-400d-9461-9833746688de"
      },
      "execution_count": null,
      "outputs": [
        {
          "output_type": "stream",
          "name": "stdout",
          "text": [
            "[[200.]\n",
            " [200.]\n",
            " [200.]\n",
            " [200.]\n",
            " [200.]\n",
            " [200.]\n",
            " [200.]\n",
            " [200.]\n",
            " [200.]\n",
            " [200.]\n",
            " [200.]\n",
            " [200.]\n",
            " [200.]\n",
            " [200.]\n",
            " [200.]\n",
            " [200.]\n",
            " [200.]\n",
            " [200.]\n",
            " [200.]\n",
            " [200.]]\n"
          ]
        }
      ]
    },
    {
      "cell_type": "code",
      "source": [
        "p, n = 3, 3\n",
        "M = np.ones((p,n,n))\n",
        "print(M)\n",
        "V = np.ones((p,n,1))\n",
        "print(V)\n",
        "S = np.tensordot(M, V, axes=[[0, 2], [0, 1]])\n",
        "print(S)"
      ],
      "metadata": {
        "colab": {
          "base_uri": "https://localhost:8080/"
        },
        "id": "aaXd_PopRo8U",
        "outputId": "442f84f7-52a8-4435-a4b8-fa779c4d5c16"
      },
      "execution_count": null,
      "outputs": [
        {
          "output_type": "stream",
          "name": "stdout",
          "text": [
            "[[[1. 1. 1.]\n",
            "  [1. 1. 1.]\n",
            "  [1. 1. 1.]]\n",
            "\n",
            " [[1. 1. 1.]\n",
            "  [1. 1. 1.]\n",
            "  [1. 1. 1.]]\n",
            "\n",
            " [[1. 1. 1.]\n",
            "  [1. 1. 1.]\n",
            "  [1. 1. 1.]]]\n",
            "[[[1.]\n",
            "  [1.]\n",
            "  [1.]]\n",
            "\n",
            " [[1.]\n",
            "  [1.]\n",
            "  [1.]]\n",
            "\n",
            " [[1.]\n",
            "  [1.]\n",
            "  [1.]]]\n",
            "[[9.]\n",
            " [9.]\n",
            " [9.]]\n"
          ]
        }
      ]
    },
    {
      "cell_type": "markdown",
      "metadata": {
        "id": "ZBWyordy3JhQ"
      },
      "source": [
        "#### 87. Consider a 16x16 array, how to get the block-sum (block size is 4x4)? (★★★) \n",
        "(**hint**: np.add.reduceat)"
      ]
    },
    {
      "cell_type": "code",
      "execution_count": null,
      "metadata": {
        "id": "vejCafKg3JhW",
        "colab": {
          "base_uri": "https://localhost:8080/"
        },
        "outputId": "812a55df-47d4-4167-ab26-56a9b18c473d"
      },
      "outputs": [
        {
          "output_type": "stream",
          "name": "stdout",
          "text": [
            "Help on built-in function reduceat:\n",
            "\n",
            "reduceat(...) method of numpy.ufunc instance\n",
            "    reduceat(array, indices, axis=0, dtype=None, out=None)\n",
            "    \n",
            "    Performs a (local) reduce with specified slices over a single axis.\n",
            "    \n",
            "    For i in ``range(len(indices))``, `reduceat` computes\n",
            "    ``ufunc.reduce(array[indices[i]:indices[i+1]])``, which becomes the i-th\n",
            "    generalized \"row\" parallel to `axis` in the final result (i.e., in a\n",
            "    2-D array, for example, if `axis = 0`, it becomes the i-th row, but if\n",
            "    `axis = 1`, it becomes the i-th column).  There are three exceptions to this:\n",
            "    \n",
            "    * when ``i = len(indices) - 1`` (so for the last index),\n",
            "      ``indices[i+1] = array.shape[axis]``.\n",
            "    * if ``indices[i] >= indices[i + 1]``, the i-th generalized \"row\" is\n",
            "      simply ``array[indices[i]]``.\n",
            "    * if ``indices[i] >= len(array)`` or ``indices[i] < 0``, an error is raised.\n",
            "    \n",
            "    The shape of the output depends on the size of `indices`, and may be\n",
            "    larger than `array` (this happens if ``len(indices) > array.shape[axis]``).\n",
            "    \n",
            "    Parameters\n",
            "    ----------\n",
            "    array : array_like\n",
            "        The array to act on.\n",
            "    indices : array_like\n",
            "        Paired indices, comma separated (not colon), specifying slices to\n",
            "        reduce.\n",
            "    axis : int, optional\n",
            "        The axis along which to apply the reduceat.\n",
            "    dtype : data-type code, optional\n",
            "        The type used to represent the intermediate results. Defaults\n",
            "        to the data type of the output array if this is provided, or\n",
            "        the data type of the input array if no output array is provided.\n",
            "    out : ndarray, None, or tuple of ndarray and None, optional\n",
            "        A location into which the result is stored. If not provided or None,\n",
            "        a freshly-allocated array is returned. For consistency with\n",
            "        ``ufunc.__call__``, if given as a keyword, this may be wrapped in a\n",
            "        1-element tuple.\n",
            "    \n",
            "        .. versionchanged:: 1.13.0\n",
            "           Tuples are allowed for keyword argument.\n",
            "    \n",
            "    Returns\n",
            "    -------\n",
            "    r : ndarray\n",
            "        The reduced values. If `out` was supplied, `r` is a reference to\n",
            "        `out`.\n",
            "    \n",
            "    Notes\n",
            "    -----\n",
            "    A descriptive example:\n",
            "    \n",
            "    If `array` is 1-D, the function `ufunc.accumulate(array)` is the same as\n",
            "    ``ufunc.reduceat(array, indices)[::2]`` where `indices` is\n",
            "    ``range(len(array) - 1)`` with a zero placed\n",
            "    in every other element:\n",
            "    ``indices = zeros(2 * len(array) - 1)``,\n",
            "    ``indices[1::2] = range(1, len(array))``.\n",
            "    \n",
            "    Don't be fooled by this attribute's name: `reduceat(array)` is not\n",
            "    necessarily smaller than `array`.\n",
            "    \n",
            "    Examples\n",
            "    --------\n",
            "    To take the running sum of four successive values:\n",
            "    \n",
            "    >>> np.add.reduceat(np.arange(8),[0,4, 1,5, 2,6, 3,7])[::2]\n",
            "    array([ 6, 10, 14, 18])\n",
            "    \n",
            "    A 2-D example:\n",
            "    \n",
            "    >>> x = np.linspace(0, 15, 16).reshape(4,4)\n",
            "    >>> x\n",
            "    array([[ 0.,   1.,   2.,   3.],\n",
            "           [ 4.,   5.,   6.,   7.],\n",
            "           [ 8.,   9.,  10.,  11.],\n",
            "           [12.,  13.,  14.,  15.]])\n",
            "    \n",
            "    ::\n",
            "    \n",
            "     # reduce such that the result has the following five rows:\n",
            "     # [row1 + row2 + row3]\n",
            "     # [row4]\n",
            "     # [row2]\n",
            "     # [row3]\n",
            "     # [row1 + row2 + row3 + row4]\n",
            "    \n",
            "    >>> np.add.reduceat(x, [0, 3, 1, 2, 0])\n",
            "    array([[12.,  15.,  18.,  21.],\n",
            "           [12.,  13.,  14.,  15.],\n",
            "           [ 4.,   5.,   6.,   7.],\n",
            "           [ 8.,   9.,  10.,  11.],\n",
            "           [24.,  28.,  32.,  36.]])\n",
            "    \n",
            "    ::\n",
            "    \n",
            "     # reduce such that result has the following two columns:\n",
            "     # [col1 * col2 * col3, col4]\n",
            "    \n",
            "    >>> np.multiply.reduceat(x, [0, 3], 1)\n",
            "    array([[   0.,     3.],\n",
            "           [ 120.,     7.],\n",
            "           [ 720.,    11.],\n",
            "           [2184.,    15.]])\n",
            "\n"
          ]
        }
      ],
      "source": [
        "help(np.add.reduceat)"
      ]
    },
    {
      "cell_type": "code",
      "source": [
        "\n",
        "#reduceat(array, indices, axis=0, dtype=None, out=None)\n",
        "Z = np.ones((16,16))\n",
        "print(Z)\n",
        "k = 4\n",
        "print(np.arange(0, Z.shape[0], k))\n",
        "s=np.add.reduceat(Z, np.arange(0, Z.shape[0], k), axis=0)\n",
        "                   \n",
        "print(s)\n",
        "print(np.arange(0, Z.shape[1], k))#, axis=1)\n",
        "S = np.add.reduceat(np.add.reduceat(Z, np.arange(0, Z.shape[0], k), axis=0),np.arange(0, Z.shape[1], k), axis=1)\n",
        "print(S)"
      ],
      "metadata": {
        "colab": {
          "base_uri": "https://localhost:8080/"
        },
        "id": "77XGdnaOdapQ",
        "outputId": "a6eb529b-d007-4269-85b4-fb080ffef467"
      },
      "execution_count": null,
      "outputs": [
        {
          "output_type": "stream",
          "name": "stdout",
          "text": [
            "[[1. 1. 1. 1. 1. 1. 1. 1. 1. 1. 1. 1. 1. 1. 1. 1.]\n",
            " [1. 1. 1. 1. 1. 1. 1. 1. 1. 1. 1. 1. 1. 1. 1. 1.]\n",
            " [1. 1. 1. 1. 1. 1. 1. 1. 1. 1. 1. 1. 1. 1. 1. 1.]\n",
            " [1. 1. 1. 1. 1. 1. 1. 1. 1. 1. 1. 1. 1. 1. 1. 1.]\n",
            " [1. 1. 1. 1. 1. 1. 1. 1. 1. 1. 1. 1. 1. 1. 1. 1.]\n",
            " [1. 1. 1. 1. 1. 1. 1. 1. 1. 1. 1. 1. 1. 1. 1. 1.]\n",
            " [1. 1. 1. 1. 1. 1. 1. 1. 1. 1. 1. 1. 1. 1. 1. 1.]\n",
            " [1. 1. 1. 1. 1. 1. 1. 1. 1. 1. 1. 1. 1. 1. 1. 1.]\n",
            " [1. 1. 1. 1. 1. 1. 1. 1. 1. 1. 1. 1. 1. 1. 1. 1.]\n",
            " [1. 1. 1. 1. 1. 1. 1. 1. 1. 1. 1. 1. 1. 1. 1. 1.]\n",
            " [1. 1. 1. 1. 1. 1. 1. 1. 1. 1. 1. 1. 1. 1. 1. 1.]\n",
            " [1. 1. 1. 1. 1. 1. 1. 1. 1. 1. 1. 1. 1. 1. 1. 1.]\n",
            " [1. 1. 1. 1. 1. 1. 1. 1. 1. 1. 1. 1. 1. 1. 1. 1.]\n",
            " [1. 1. 1. 1. 1. 1. 1. 1. 1. 1. 1. 1. 1. 1. 1. 1.]\n",
            " [1. 1. 1. 1. 1. 1. 1. 1. 1. 1. 1. 1. 1. 1. 1. 1.]\n",
            " [1. 1. 1. 1. 1. 1. 1. 1. 1. 1. 1. 1. 1. 1. 1. 1.]]\n",
            "[ 0  4  8 12]\n",
            "[[4. 4. 4. 4. 4. 4. 4. 4. 4. 4. 4. 4. 4. 4. 4. 4.]\n",
            " [4. 4. 4. 4. 4. 4. 4. 4. 4. 4. 4. 4. 4. 4. 4. 4.]\n",
            " [4. 4. 4. 4. 4. 4. 4. 4. 4. 4. 4. 4. 4. 4. 4. 4.]\n",
            " [4. 4. 4. 4. 4. 4. 4. 4. 4. 4. 4. 4. 4. 4. 4. 4.]]\n",
            "[ 0  4  8 12]\n",
            "[[16. 16. 16. 16.]\n",
            " [16. 16. 16. 16.]\n",
            " [16. 16. 16. 16.]\n",
            " [16. 16. 16. 16.]]\n"
          ]
        }
      ]
    },
    {
      "cell_type": "markdown",
      "metadata": {
        "id": "SggVaGw23JhW"
      },
      "source": [
        "#### 88. How to implement the Game of Life using numpy arrays? (★★★)"
      ]
    },
    {
      "cell_type": "code",
      "execution_count": null,
      "metadata": {
        "id": "DRVXAozC3JhX",
        "colab": {
          "base_uri": "https://localhost:8080/"
        },
        "outputId": "182bf223-2f82-41e5-9534-f19841423ecb"
      },
      "outputs": [
        {
          "output_type": "stream",
          "name": "stdout",
          "text": [
            "[[0 0 0 1 1 1 1 0 1 1]\n",
            " [1 0 0 0 1 0 1 1 0 1]\n",
            " [0 0 0 1 1 0 0 0 0 0]\n",
            " [0 1 1 1 1 1 1 0 0 0]\n",
            " [0 1 0 0 1 1 1 0 1 0]\n",
            " [1 1 1 0 0 0 0 0 1 1]\n",
            " [1 1 1 0 1 0 0 0 0 1]\n",
            " [1 0 1 0 1 0 1 1 1 0]\n",
            " [0 0 0 0 1 1 1 1 1 1]\n",
            " [0 1 0 1 0 0 1 0 0 1]]\n",
            "[[1 2 5 5 6 3 3 4]\n",
            " [3 4 5 5 6 4 3 2]\n",
            " [2 4 5 6 6 3 3 1]\n",
            " [5 6 5 4 5 3 4 2]\n",
            " [6 4 4 3 4 2 3 3]\n",
            " [7 4 5 1 3 2 4 5]\n",
            " [5 2 5 3 6 4 5 5]\n",
            " [3 3 4 3 5 5 6 5]]\n"
          ]
        },
        {
          "output_type": "execute_result",
          "data": {
            "text/plain": [
              "array([[0, 0, 0, 1, 1, 1, 1, 0, 1, 1],\n",
              "       [1, 0, 0, 0, 1, 0, 1, 1, 0, 1],\n",
              "       [0, 0, 0, 1, 1, 0, 0, 0, 0, 0],\n",
              "       [0, 1, 1, 1, 1, 1, 1, 0, 0, 0],\n",
              "       [0, 1, 0, 0, 1, 1, 1, 0, 1, 0],\n",
              "       [1, 1, 1, 0, 0, 0, 0, 0, 1, 1],\n",
              "       [1, 1, 1, 0, 1, 0, 0, 0, 0, 1],\n",
              "       [1, 0, 1, 0, 1, 0, 1, 1, 1, 0],\n",
              "       [0, 0, 0, 0, 1, 1, 1, 1, 1, 1],\n",
              "       [0, 1, 0, 1, 0, 0, 1, 0, 0, 1]])"
            ]
          },
          "metadata": {},
          "execution_count": 13
        }
      ],
      "source": [
        "Z=np.random.randint(0,2,(10,10))\n",
        "print(Z)\n",
        "N = (Z[0:-2,0:-2] + Z[0:-2,1:-1] + Z[0:-2,2:] +\n",
        "         Z[1:-1,0:-2]                + Z[1:-1,2:] +\n",
        "         Z[2:  ,0:-2] + Z[2:  ,1:-1] + Z[2:  ,2:])\n",
        "print(N)\n",
        "\n",
        "Z[1:-1,1:-1]\n",
        "Z"
      ]
    },
    {
      "cell_type": "code",
      "source": [
        "#How to implement the Game of Life using numpy arrays? (★★★)\n",
        "import numpy as np\n",
        "def iterate(Z):\n",
        "    # Count neighbours\n",
        "    N = (Z[0:-2,0:-2] + Z[0:-2,1:-1] + Z[0:-2,2:] +\n",
        "         Z[1:-1,0:-2]                + Z[1:-1,2:] +\n",
        "         Z[2:  ,0:-2] + Z[2:  ,1:-1] + Z[2:  ,2:])\n",
        "\n",
        "    # Apply rules\n",
        "    birth = (N==3) & (Z[1:-1,1:-1]==0)\n",
        "    survive = ((N==2) | (N==3)) & (Z[1:-1,1:-1]==1)\n",
        "    Z[...] = 0\n",
        "    Z[1:-1,1:-1][birth | survive] = 1\n",
        "    return Z\n",
        "\n",
        "Z = np.random.randint(0,2,(50,50))\n",
        "for i in range(100): Z = iterate(Z)\n",
        "print(Z)"
      ],
      "metadata": {
        "colab": {
          "base_uri": "https://localhost:8080/"
        },
        "id": "tmB6YY84aMxs",
        "outputId": "42f31a63-0339-442f-e5be-6da1ea582ef0"
      },
      "execution_count": null,
      "outputs": [
        {
          "output_type": "stream",
          "name": "stdout",
          "text": [
            "[[0 0 0 ... 0 0 0]\n",
            " [0 0 0 ... 0 0 0]\n",
            " [0 0 0 ... 0 0 0]\n",
            " ...\n",
            " [0 0 0 ... 0 0 0]\n",
            " [0 0 0 ... 0 0 0]\n",
            " [0 0 0 ... 0 0 0]]\n"
          ]
        }
      ]
    },
    {
      "cell_type": "markdown",
      "metadata": {
        "id": "navAsSAW3JhY"
      },
      "source": [
        "#### 89. How to get the n largest values of an array (★★★) \n",
        "(**hint**: np.argsort | np.argpartition)"
      ]
    },
    {
      "cell_type": "code",
      "execution_count": null,
      "metadata": {
        "id": "PlU6wp3h3JhY",
        "colab": {
          "base_uri": "https://localhost:8080/"
        },
        "outputId": "e61c6b4b-e513-45d4-ab78-08fff23995fb"
      },
      "outputs": [
        {
          "output_type": "stream",
          "name": "stdout",
          "text": [
            "[9995 9996 9997 9998 9999]\n",
            "[9997 9998 9999 9996 9995]\n"
          ]
        }
      ],
      "source": [
        "Z = np.arange(10000)\n",
        "np.random.shuffle(Z)\n",
        "n = 5\n",
        "\n",
        "# Slow\n",
        "print (Z[np.argsort(Z)[-n:]]) #first sort and then print 5 elements from the end\n",
        "\n",
        "# Fast\n",
        "print (Z[np.argpartition(-Z,n)[:n]])# when argpartitioned for 5th element in -Z(sort in descending order)\n",
        "#the 5th element will be 9995 and when argpartitioned all biger values will be pushed before(since descending) the 5th element. so when giving [:5]\n",
        "#we are telling print sorted elements upto 5th (9995) element"
      ]
    },
    {
      "cell_type": "code",
      "source": [
        "help(np.argpartition)"
      ],
      "metadata": {
        "colab": {
          "base_uri": "https://localhost:8080/"
        },
        "id": "xmR3OaBjh7EF",
        "outputId": "cc2e0ebd-4f77-4921-e02b-e45c1580d3c6"
      },
      "execution_count": null,
      "outputs": [
        {
          "output_type": "stream",
          "name": "stdout",
          "text": [
            "Help on function argpartition in module numpy:\n",
            "\n",
            "argpartition(a, kth, axis=-1, kind='introselect', order=None)\n",
            "    Perform an indirect partition along the given axis using the\n",
            "    algorithm specified by the `kind` keyword. It returns an array of\n",
            "    indices of the same shape as `a` that index data along the given\n",
            "    axis in partitioned order.\n",
            "    \n",
            "    .. versionadded:: 1.8.0\n",
            "    \n",
            "    Parameters\n",
            "    ----------\n",
            "    a : array_like\n",
            "        Array to sort.\n",
            "    kth : int or sequence of ints\n",
            "        Element index to partition by. The k-th element will be in its\n",
            "        final sorted position and all smaller elements will be moved\n",
            "        before it and all larger elements behind it. The order all\n",
            "        elements in the partitions is undefined. If provided with a\n",
            "        sequence of k-th it will partition all of them into their sorted\n",
            "        position at once.\n",
            "    axis : int or None, optional\n",
            "        Axis along which to sort. The default is -1 (the last axis). If\n",
            "        None, the flattened array is used.\n",
            "    kind : {'introselect'}, optional\n",
            "        Selection algorithm. Default is 'introselect'\n",
            "    order : str or list of str, optional\n",
            "        When `a` is an array with fields defined, this argument\n",
            "        specifies which fields to compare first, second, etc. A single\n",
            "        field can be specified as a string, and not all fields need be\n",
            "        specified, but unspecified fields will still be used, in the\n",
            "        order in which they come up in the dtype, to break ties.\n",
            "    \n",
            "    Returns\n",
            "    -------\n",
            "    index_array : ndarray, int\n",
            "        Array of indices that partition `a` along the specified axis.\n",
            "        If `a` is one-dimensional, ``a[index_array]`` yields a partitioned `a`.\n",
            "        More generally, ``np.take_along_axis(a, index_array, axis=a)`` always\n",
            "        yields the partitioned `a`, irrespective of dimensionality.\n",
            "    \n",
            "    See Also\n",
            "    --------\n",
            "    partition : Describes partition algorithms used.\n",
            "    ndarray.partition : Inplace partition.\n",
            "    argsort : Full indirect sort.\n",
            "    take_along_axis : Apply ``index_array`` from argpartition\n",
            "                      to an array as if by calling partition.\n",
            "    \n",
            "    Notes\n",
            "    -----\n",
            "    See `partition` for notes on the different selection algorithms.\n",
            "    \n",
            "    Examples\n",
            "    --------\n",
            "    One dimensional array:\n",
            "    \n",
            "    >>> x = np.array([3, 4, 2, 1])\n",
            "    >>> x[np.argpartition(x, 3)]\n",
            "    array([2, 1, 3, 4])\n",
            "    >>> x[np.argpartition(x, (1, 3))]\n",
            "    array([1, 2, 3, 4])\n",
            "    \n",
            "    >>> x = [3, 4, 2, 1]\n",
            "    >>> np.array(x)[np.argpartition(x, 3)]\n",
            "    array([2, 1, 3, 4])\n",
            "    \n",
            "    Multi-dimensional array:\n",
            "    \n",
            "    >>> x = np.array([[3, 4, 2], [1, 3, 1]])\n",
            "    >>> index_array = np.argpartition(x, kth=1, axis=-1)\n",
            "    >>> np.take_along_axis(x, index_array, axis=-1)  # same as np.partition(x, kth=1)\n",
            "    array([[2, 3, 4],\n",
            "           [1, 1, 3]])\n",
            "\n"
          ]
        }
      ]
    },
    {
      "cell_type": "markdown",
      "metadata": {
        "id": "-lBKVl4Y3JhZ"
      },
      "source": [
        "#### 90. Given an arbitrary number of vectors, build the cartesian product (every combinations of every item) (★★★) \n",
        "(**hint**: np.indices)"
      ]
    },
    {
      "cell_type": "code",
      "execution_count": null,
      "metadata": {
        "scrolled": true,
        "id": "ELaxq-WS3JhZ",
        "colab": {
          "base_uri": "https://localhost:8080/"
        },
        "outputId": "bb475738-3624-49eb-da5d-af4a1fac6905"
      },
      "outputs": [
        {
          "output_type": "stream",
          "name": "stdout",
          "text": [
            "Help on function indices in module numpy:\n",
            "\n",
            "indices(dimensions, dtype=<class 'int'>, sparse=False)\n",
            "    Return an array representing the indices of a grid.\n",
            "    \n",
            "    Compute an array where the subarrays contain index values 0, 1, ...\n",
            "    varying only along the corresponding axis.\n",
            "    \n",
            "    Parameters\n",
            "    ----------\n",
            "    dimensions : sequence of ints\n",
            "        The shape of the grid.\n",
            "    dtype : dtype, optional\n",
            "        Data type of the result.\n",
            "    sparse : boolean, optional\n",
            "        Return a sparse representation of the grid instead of a dense\n",
            "        representation. Default is False.\n",
            "    \n",
            "        .. versionadded:: 1.17\n",
            "    \n",
            "    Returns\n",
            "    -------\n",
            "    grid : one ndarray or tuple of ndarrays\n",
            "        If sparse is False:\n",
            "            Returns one array of grid indices,\n",
            "            ``grid.shape = (len(dimensions),) + tuple(dimensions)``.\n",
            "        If sparse is True:\n",
            "            Returns a tuple of arrays, with\n",
            "            ``grid[i].shape = (1, ..., 1, dimensions[i], 1, ..., 1)`` with\n",
            "            dimensions[i] in the ith place\n",
            "    \n",
            "    See Also\n",
            "    --------\n",
            "    mgrid, ogrid, meshgrid\n",
            "    \n",
            "    Notes\n",
            "    -----\n",
            "    The output shape in the dense case is obtained by prepending the number\n",
            "    of dimensions in front of the tuple of dimensions, i.e. if `dimensions`\n",
            "    is a tuple ``(r0, ..., rN-1)`` of length ``N``, the output shape is\n",
            "    ``(N, r0, ..., rN-1)``.\n",
            "    \n",
            "    The subarrays ``grid[k]`` contains the N-D array of indices along the\n",
            "    ``k-th`` axis. Explicitly::\n",
            "    \n",
            "        grid[k, i0, i1, ..., iN-1] = ik\n",
            "    \n",
            "    Examples\n",
            "    --------\n",
            "    >>> grid = np.indices((2, 3))\n",
            "    >>> grid.shape\n",
            "    (2, 2, 3)\n",
            "    >>> grid[0]        # row indices\n",
            "    array([[0, 0, 0],\n",
            "           [1, 1, 1]])\n",
            "    >>> grid[1]        # column indices\n",
            "    array([[0, 1, 2],\n",
            "           [0, 1, 2]])\n",
            "    \n",
            "    The indices can be used as an index into an array.\n",
            "    \n",
            "    >>> x = np.arange(20).reshape(5, 4)\n",
            "    >>> row, col = np.indices((2, 3))\n",
            "    >>> x[row, col]\n",
            "    array([[0, 1, 2],\n",
            "           [4, 5, 6]])\n",
            "    \n",
            "    Note that it would be more straightforward in the above example to\n",
            "    extract the required elements directly with ``x[:2, :3]``.\n",
            "    \n",
            "    If sparse is set to true, the grid will be returned in a sparse\n",
            "    representation.\n",
            "    \n",
            "    >>> i, j = np.indices((2, 3), sparse=True)\n",
            "    >>> i.shape\n",
            "    (2, 1)\n",
            "    >>> j.shape\n",
            "    (1, 3)\n",
            "    >>> i        # row indices\n",
            "    array([[0],\n",
            "           [1]])\n",
            "    >>> j        # column indices\n",
            "    array([[0, 1, 2]])\n",
            "\n"
          ]
        }
      ],
      "source": [
        "help(np.indices)"
      ]
    },
    {
      "cell_type": "code",
      "source": [
        "def cartesian(arrays):\n",
        "    arrays = [np.asarray(a) for a in arrays]\n",
        "    shape = (len(x) for x in arrays)\n",
        "\n",
        "    ix = np.indices(shape, dtype=int)\n",
        "    ix = ix.reshape(len(arrays), -1).T\n",
        "\n",
        "    for n, arr in enumerate(arrays):\n",
        "        ix[:, n] = arrays[n][ix[:, n]]\n",
        "\n",
        "    return ix\n",
        "\n",
        "print (cartesian(([1, 2, 3], [4, 5], [6, 7])))"
      ],
      "metadata": {
        "colab": {
          "base_uri": "https://localhost:8080/"
        },
        "id": "mu3tFWhrsady",
        "outputId": "a09fedbd-7d95-4432-fa0d-5c1dcaa57e96"
      },
      "execution_count": null,
      "outputs": [
        {
          "output_type": "stream",
          "name": "stdout",
          "text": [
            "[[1 4 6]\n",
            " [1 4 7]\n",
            " [1 5 6]\n",
            " [1 5 7]\n",
            " [2 4 6]\n",
            " [2 4 7]\n",
            " [2 5 6]\n",
            " [2 5 7]\n",
            " [3 4 6]\n",
            " [3 4 7]\n",
            " [3 5 6]\n",
            " [3 5 7]]\n"
          ]
        }
      ]
    },
    {
      "cell_type": "markdown",
      "metadata": {
        "id": "G9_Dxfuj3Jha"
      },
      "source": [
        "#### 91. How to create a record array from a regular array? (★★★) \n",
        "(**hint**: np.core.records.fromarrays)"
      ]
    },
    {
      "cell_type": "code",
      "execution_count": null,
      "metadata": {
        "id": "VGaLs2373Jhb",
        "colab": {
          "base_uri": "https://localhost:8080/"
        },
        "outputId": "fd267c2e-efaf-44b3-c3c7-b3f110ad2be9"
      },
      "outputs": [
        {
          "output_type": "stream",
          "name": "stdout",
          "text": [
            "[['Hello' '2.5' '3']\n",
            " ['World' '3.6' '2']]\n",
            "[(b'Hello', 2.5, 3) (b'World', 3.6, 2)]\n"
          ]
        }
      ],
      "source": [
        "import numpy as np\n",
        "Z = np.array([(\"Hello\", 2.5, 3),\n",
        "              (\"World\", 3.6, 2)])\n",
        "print(Z)\n",
        "R = np.core.records.fromarrays(Z.T,\n",
        "                               names='col1, col2, col3',\n",
        "                               formats = 'S8, f8, i8')\n",
        "print(R)"
      ]
    },
    {
      "cell_type": "markdown",
      "metadata": {
        "id": "dZm2rHGH3Jhb"
      },
      "source": [
        "#### 92. Consider a large vector Z, compute Z to the power of 3 using 3 different methods (★★★) \n",
        "(**hint**: np.power, \\*, np.einsum)"
      ]
    },
    {
      "cell_type": "code",
      "execution_count": null,
      "metadata": {
        "id": "vYrmfrBX3Jhc",
        "colab": {
          "base_uri": "https://localhost:8080/"
        },
        "outputId": "eecd5767-8cf1-4b22-ffdc-4027cec966e7"
      },
      "outputs": [
        {
          "output_type": "stream",
          "name": "stdout",
          "text": [
            "(50000000,)\n",
            "1\n",
            "[0.01697178 0.21251297 0.00330232 ... 0.14953155 0.05250627 0.02597886]\n",
            "[0.01697178 0.21251297 0.00330232 ... 0.14953155 0.05250627 0.02597886]\n",
            "[0.01697178 0.21251297 0.00330232 ... 0.14953155 0.05250627 0.02597886]\n"
          ]
        }
      ],
      "source": [
        "x = np.random.rand(int(5e7))\n",
        "print(x.shape)\n",
        "print(x.ndim)\n",
        "\n",
        "a= np.power(x,3)\n",
        "print(a)\n",
        "b= x*x*x\n",
        "print(b)\n",
        "c= np.einsum('i,i,i->i',x,x,x)\n",
        "print(c) "
      ]
    },
    {
      "cell_type": "code",
      "source": [
        "help(np.einsum)"
      ],
      "metadata": {
        "colab": {
          "base_uri": "https://localhost:8080/"
        },
        "id": "s6NtUxNKpWSN",
        "outputId": "c724658c-2926-4ade-86e0-8ac47d3ffa5a"
      },
      "execution_count": null,
      "outputs": [
        {
          "output_type": "stream",
          "name": "stdout",
          "text": [
            "Help on function einsum in module numpy:\n",
            "\n",
            "einsum(*operands, out=None, optimize=False, **kwargs)\n",
            "    einsum(subscripts, *operands, out=None, dtype=None, order='K',\n",
            "           casting='safe', optimize=False)\n",
            "    \n",
            "    Evaluates the Einstein summation convention on the operands.\n",
            "    \n",
            "    Using the Einstein summation convention, many common multi-dimensional,\n",
            "    linear algebraic array operations can be represented in a simple fashion.\n",
            "    In *implicit* mode `einsum` computes these values.\n",
            "    \n",
            "    In *explicit* mode, `einsum` provides further flexibility to compute\n",
            "    other array operations that might not be considered classical Einstein\n",
            "    summation operations, by disabling, or forcing summation over specified\n",
            "    subscript labels.\n",
            "    \n",
            "    See the notes and examples for clarification.\n",
            "    \n",
            "    Parameters\n",
            "    ----------\n",
            "    subscripts : str\n",
            "        Specifies the subscripts for summation as comma separated list of\n",
            "        subscript labels. An implicit (classical Einstein summation)\n",
            "        calculation is performed unless the explicit indicator '->' is\n",
            "        included as well as subscript labels of the precise output form.\n",
            "    operands : list of array_like\n",
            "        These are the arrays for the operation.\n",
            "    out : ndarray, optional\n",
            "        If provided, the calculation is done into this array.\n",
            "    dtype : {data-type, None}, optional\n",
            "        If provided, forces the calculation to use the data type specified.\n",
            "        Note that you may have to also give a more liberal `casting`\n",
            "        parameter to allow the conversions. Default is None.\n",
            "    order : {'C', 'F', 'A', 'K'}, optional\n",
            "        Controls the memory layout of the output. 'C' means it should\n",
            "        be C contiguous. 'F' means it should be Fortran contiguous,\n",
            "        'A' means it should be 'F' if the inputs are all 'F', 'C' otherwise.\n",
            "        'K' means it should be as close to the layout as the inputs as\n",
            "        is possible, including arbitrarily permuted axes.\n",
            "        Default is 'K'.\n",
            "    casting : {'no', 'equiv', 'safe', 'same_kind', 'unsafe'}, optional\n",
            "        Controls what kind of data casting may occur.  Setting this to\n",
            "        'unsafe' is not recommended, as it can adversely affect accumulations.\n",
            "    \n",
            "          * 'no' means the data types should not be cast at all.\n",
            "          * 'equiv' means only byte-order changes are allowed.\n",
            "          * 'safe' means only casts which can preserve values are allowed.\n",
            "          * 'same_kind' means only safe casts or casts within a kind,\n",
            "            like float64 to float32, are allowed.\n",
            "          * 'unsafe' means any data conversions may be done.\n",
            "    \n",
            "        Default is 'safe'.\n",
            "    optimize : {False, True, 'greedy', 'optimal'}, optional\n",
            "        Controls if intermediate optimization should occur. No optimization\n",
            "        will occur if False and True will default to the 'greedy' algorithm.\n",
            "        Also accepts an explicit contraction list from the ``np.einsum_path``\n",
            "        function. See ``np.einsum_path`` for more details. Defaults to False.\n",
            "    \n",
            "    Returns\n",
            "    -------\n",
            "    output : ndarray\n",
            "        The calculation based on the Einstein summation convention.\n",
            "    \n",
            "    See Also\n",
            "    --------\n",
            "    einsum_path, dot, inner, outer, tensordot, linalg.multi_dot\n",
            "    einops :\n",
            "        similar verbose interface is provided by\n",
            "        `einops <https://github.com/arogozhnikov/einops>`_ package to cover\n",
            "        additional operations: transpose, reshape/flatten, repeat/tile,\n",
            "        squeeze/unsqueeze and reductions.\n",
            "    opt_einsum :\n",
            "        `opt_einsum <https://optimized-einsum.readthedocs.io/en/stable/>`_\n",
            "        optimizes contraction order for einsum-like expressions\n",
            "        in backend-agnostic manner.\n",
            "    \n",
            "    Notes\n",
            "    -----\n",
            "    .. versionadded:: 1.6.0\n",
            "    \n",
            "    The Einstein summation convention can be used to compute\n",
            "    many multi-dimensional, linear algebraic array operations. `einsum`\n",
            "    provides a succinct way of representing these.\n",
            "    \n",
            "    A non-exhaustive list of these operations,\n",
            "    which can be computed by `einsum`, is shown below along with examples:\n",
            "    \n",
            "    * Trace of an array, :py:func:`numpy.trace`.\n",
            "    * Return a diagonal, :py:func:`numpy.diag`.\n",
            "    * Array axis summations, :py:func:`numpy.sum`.\n",
            "    * Transpositions and permutations, :py:func:`numpy.transpose`.\n",
            "    * Matrix multiplication and dot product, :py:func:`numpy.matmul` :py:func:`numpy.dot`.\n",
            "    * Vector inner and outer products, :py:func:`numpy.inner` :py:func:`numpy.outer`.\n",
            "    * Broadcasting, element-wise and scalar multiplication, :py:func:`numpy.multiply`.\n",
            "    * Tensor contractions, :py:func:`numpy.tensordot`.\n",
            "    * Chained array operations, in efficient calculation order, :py:func:`numpy.einsum_path`.\n",
            "    \n",
            "    The subscripts string is a comma-separated list of subscript labels,\n",
            "    where each label refers to a dimension of the corresponding operand.\n",
            "    Whenever a label is repeated it is summed, so ``np.einsum('i,i', a, b)``\n",
            "    is equivalent to :py:func:`np.inner(a,b) <numpy.inner>`. If a label\n",
            "    appears only once, it is not summed, so ``np.einsum('i', a)`` produces a\n",
            "    view of ``a`` with no changes. A further example ``np.einsum('ij,jk', a, b)``\n",
            "    describes traditional matrix multiplication and is equivalent to\n",
            "    :py:func:`np.matmul(a,b) <numpy.matmul>`. Repeated subscript labels in one\n",
            "    operand take the diagonal. For example, ``np.einsum('ii', a)`` is equivalent\n",
            "    to :py:func:`np.trace(a) <numpy.trace>`.\n",
            "    \n",
            "    In *implicit mode*, the chosen subscripts are important\n",
            "    since the axes of the output are reordered alphabetically.  This\n",
            "    means that ``np.einsum('ij', a)`` doesn't affect a 2D array, while\n",
            "    ``np.einsum('ji', a)`` takes its transpose. Additionally,\n",
            "    ``np.einsum('ij,jk', a, b)`` returns a matrix multiplication, while,\n",
            "    ``np.einsum('ij,jh', a, b)`` returns the transpose of the\n",
            "    multiplication since subscript 'h' precedes subscript 'i'.\n",
            "    \n",
            "    In *explicit mode* the output can be directly controlled by\n",
            "    specifying output subscript labels.  This requires the\n",
            "    identifier '->' as well as the list of output subscript labels.\n",
            "    This feature increases the flexibility of the function since\n",
            "    summing can be disabled or forced when required. The call\n",
            "    ``np.einsum('i->', a)`` is like :py:func:`np.sum(a, axis=-1) <numpy.sum>`,\n",
            "    and ``np.einsum('ii->i', a)`` is like :py:func:`np.diag(a) <numpy.diag>`.\n",
            "    The difference is that `einsum` does not allow broadcasting by default.\n",
            "    Additionally ``np.einsum('ij,jh->ih', a, b)`` directly specifies the\n",
            "    order of the output subscript labels and therefore returns matrix\n",
            "    multiplication, unlike the example above in implicit mode.\n",
            "    \n",
            "    To enable and control broadcasting, use an ellipsis.  Default\n",
            "    NumPy-style broadcasting is done by adding an ellipsis\n",
            "    to the left of each term, like ``np.einsum('...ii->...i', a)``.\n",
            "    To take the trace along the first and last axes,\n",
            "    you can do ``np.einsum('i...i', a)``, or to do a matrix-matrix\n",
            "    product with the left-most indices instead of rightmost, one can do\n",
            "    ``np.einsum('ij...,jk...->ik...', a, b)``.\n",
            "    \n",
            "    When there is only one operand, no axes are summed, and no output\n",
            "    parameter is provided, a view into the operand is returned instead\n",
            "    of a new array.  Thus, taking the diagonal as ``np.einsum('ii->i', a)``\n",
            "    produces a view (changed in version 1.10.0).\n",
            "    \n",
            "    `einsum` also provides an alternative way to provide the subscripts\n",
            "    and operands as ``einsum(op0, sublist0, op1, sublist1, ..., [sublistout])``.\n",
            "    If the output shape is not provided in this format `einsum` will be\n",
            "    calculated in implicit mode, otherwise it will be performed explicitly.\n",
            "    The examples below have corresponding `einsum` calls with the two\n",
            "    parameter methods.\n",
            "    \n",
            "    .. versionadded:: 1.10.0\n",
            "    \n",
            "    Views returned from einsum are now writeable whenever the input array\n",
            "    is writeable. For example, ``np.einsum('ijk...->kji...', a)`` will now\n",
            "    have the same effect as :py:func:`np.swapaxes(a, 0, 2) <numpy.swapaxes>`\n",
            "    and ``np.einsum('ii->i', a)`` will return a writeable view of the diagonal\n",
            "    of a 2D array.\n",
            "    \n",
            "    .. versionadded:: 1.12.0\n",
            "    \n",
            "    Added the ``optimize`` argument which will optimize the contraction order\n",
            "    of an einsum expression. For a contraction with three or more operands this\n",
            "    can greatly increase the computational efficiency at the cost of a larger\n",
            "    memory footprint during computation.\n",
            "    \n",
            "    Typically a 'greedy' algorithm is applied which empirical tests have shown\n",
            "    returns the optimal path in the majority of cases. In some cases 'optimal'\n",
            "    will return the superlative path through a more expensive, exhaustive search.\n",
            "    For iterative calculations it may be advisable to calculate the optimal path\n",
            "    once and reuse that path by supplying it as an argument. An example is given\n",
            "    below.\n",
            "    \n",
            "    See :py:func:`numpy.einsum_path` for more details.\n",
            "    \n",
            "    Examples\n",
            "    --------\n",
            "    >>> a = np.arange(25).reshape(5,5)\n",
            "    >>> b = np.arange(5)\n",
            "    >>> c = np.arange(6).reshape(2,3)\n",
            "    \n",
            "    Trace of a matrix:\n",
            "    \n",
            "    >>> np.einsum('ii', a)\n",
            "    60\n",
            "    >>> np.einsum(a, [0,0])\n",
            "    60\n",
            "    >>> np.trace(a)\n",
            "    60\n",
            "    \n",
            "    Extract the diagonal (requires explicit form):\n",
            "    \n",
            "    >>> np.einsum('ii->i', a)\n",
            "    array([ 0,  6, 12, 18, 24])\n",
            "    >>> np.einsum(a, [0,0], [0])\n",
            "    array([ 0,  6, 12, 18, 24])\n",
            "    >>> np.diag(a)\n",
            "    array([ 0,  6, 12, 18, 24])\n",
            "    \n",
            "    Sum over an axis (requires explicit form):\n",
            "    \n",
            "    >>> np.einsum('ij->i', a)\n",
            "    array([ 10,  35,  60,  85, 110])\n",
            "    >>> np.einsum(a, [0,1], [0])\n",
            "    array([ 10,  35,  60,  85, 110])\n",
            "    >>> np.sum(a, axis=1)\n",
            "    array([ 10,  35,  60,  85, 110])\n",
            "    \n",
            "    For higher dimensional arrays summing a single axis can be done with ellipsis:\n",
            "    \n",
            "    >>> np.einsum('...j->...', a)\n",
            "    array([ 10,  35,  60,  85, 110])\n",
            "    >>> np.einsum(a, [Ellipsis,1], [Ellipsis])\n",
            "    array([ 10,  35,  60,  85, 110])\n",
            "    \n",
            "    Compute a matrix transpose, or reorder any number of axes:\n",
            "    \n",
            "    >>> np.einsum('ji', c)\n",
            "    array([[0, 3],\n",
            "           [1, 4],\n",
            "           [2, 5]])\n",
            "    >>> np.einsum('ij->ji', c)\n",
            "    array([[0, 3],\n",
            "           [1, 4],\n",
            "           [2, 5]])\n",
            "    >>> np.einsum(c, [1,0])\n",
            "    array([[0, 3],\n",
            "           [1, 4],\n",
            "           [2, 5]])\n",
            "    >>> np.transpose(c)\n",
            "    array([[0, 3],\n",
            "           [1, 4],\n",
            "           [2, 5]])\n",
            "    \n",
            "    Vector inner products:\n",
            "    \n",
            "    >>> np.einsum('i,i', b, b)\n",
            "    30\n",
            "    >>> np.einsum(b, [0], b, [0])\n",
            "    30\n",
            "    >>> np.inner(b,b)\n",
            "    30\n",
            "    \n",
            "    Matrix vector multiplication:\n",
            "    \n",
            "    >>> np.einsum('ij,j', a, b)\n",
            "    array([ 30,  80, 130, 180, 230])\n",
            "    >>> np.einsum(a, [0,1], b, [1])\n",
            "    array([ 30,  80, 130, 180, 230])\n",
            "    >>> np.dot(a, b)\n",
            "    array([ 30,  80, 130, 180, 230])\n",
            "    >>> np.einsum('...j,j', a, b)\n",
            "    array([ 30,  80, 130, 180, 230])\n",
            "    \n",
            "    Broadcasting and scalar multiplication:\n",
            "    \n",
            "    >>> np.einsum('..., ...', 3, c)\n",
            "    array([[ 0,  3,  6],\n",
            "           [ 9, 12, 15]])\n",
            "    >>> np.einsum(',ij', 3, c)\n",
            "    array([[ 0,  3,  6],\n",
            "           [ 9, 12, 15]])\n",
            "    >>> np.einsum(3, [Ellipsis], c, [Ellipsis])\n",
            "    array([[ 0,  3,  6],\n",
            "           [ 9, 12, 15]])\n",
            "    >>> np.multiply(3, c)\n",
            "    array([[ 0,  3,  6],\n",
            "           [ 9, 12, 15]])\n",
            "    \n",
            "    Vector outer product:\n",
            "    \n",
            "    >>> np.einsum('i,j', np.arange(2)+1, b)\n",
            "    array([[0, 1, 2, 3, 4],\n",
            "           [0, 2, 4, 6, 8]])\n",
            "    >>> np.einsum(np.arange(2)+1, [0], b, [1])\n",
            "    array([[0, 1, 2, 3, 4],\n",
            "           [0, 2, 4, 6, 8]])\n",
            "    >>> np.outer(np.arange(2)+1, b)\n",
            "    array([[0, 1, 2, 3, 4],\n",
            "           [0, 2, 4, 6, 8]])\n",
            "    \n",
            "    Tensor contraction:\n",
            "    \n",
            "    >>> a = np.arange(60.).reshape(3,4,5)\n",
            "    >>> b = np.arange(24.).reshape(4,3,2)\n",
            "    >>> np.einsum('ijk,jil->kl', a, b)\n",
            "    array([[4400., 4730.],\n",
            "           [4532., 4874.],\n",
            "           [4664., 5018.],\n",
            "           [4796., 5162.],\n",
            "           [4928., 5306.]])\n",
            "    >>> np.einsum(a, [0,1,2], b, [1,0,3], [2,3])\n",
            "    array([[4400., 4730.],\n",
            "           [4532., 4874.],\n",
            "           [4664., 5018.],\n",
            "           [4796., 5162.],\n",
            "           [4928., 5306.]])\n",
            "    >>> np.tensordot(a,b, axes=([1,0],[0,1]))\n",
            "    array([[4400., 4730.],\n",
            "           [4532., 4874.],\n",
            "           [4664., 5018.],\n",
            "           [4796., 5162.],\n",
            "           [4928., 5306.]])\n",
            "    \n",
            "    Writeable returned arrays (since version 1.10.0):\n",
            "    \n",
            "    >>> a = np.zeros((3, 3))\n",
            "    >>> np.einsum('ii->i', a)[:] = 1\n",
            "    >>> a\n",
            "    array([[1., 0., 0.],\n",
            "           [0., 1., 0.],\n",
            "           [0., 0., 1.]])\n",
            "    \n",
            "    Example of ellipsis use:\n",
            "    \n",
            "    >>> a = np.arange(6).reshape((3,2))\n",
            "    >>> b = np.arange(12).reshape((4,3))\n",
            "    >>> np.einsum('ki,jk->ij', a, b)\n",
            "    array([[10, 28, 46, 64],\n",
            "           [13, 40, 67, 94]])\n",
            "    >>> np.einsum('ki,...k->i...', a, b)\n",
            "    array([[10, 28, 46, 64],\n",
            "           [13, 40, 67, 94]])\n",
            "    >>> np.einsum('k...,jk', a, b)\n",
            "    array([[10, 28, 46, 64],\n",
            "           [13, 40, 67, 94]])\n",
            "    \n",
            "    Chained array operations. For more complicated contractions, speed ups\n",
            "    might be achieved by repeatedly computing a 'greedy' path or pre-computing the\n",
            "    'optimal' path and repeatedly applying it, using an\n",
            "    `einsum_path` insertion (since version 1.12.0). Performance improvements can be\n",
            "    particularly significant with larger arrays:\n",
            "    \n",
            "    >>> a = np.ones(64).reshape(2,4,8)\n",
            "    \n",
            "    Basic `einsum`: ~1520ms  (benchmarked on 3.1GHz Intel i5.)\n",
            "    \n",
            "    >>> for iteration in range(500):\n",
            "    ...     _ = np.einsum('ijk,ilm,njm,nlk,abc->',a,a,a,a,a)\n",
            "    \n",
            "    Sub-optimal `einsum` (due to repeated path calculation time): ~330ms\n",
            "    \n",
            "    >>> for iteration in range(500):\n",
            "    ...     _ = np.einsum('ijk,ilm,njm,nlk,abc->',a,a,a,a,a, optimize='optimal')\n",
            "    \n",
            "    Greedy `einsum` (faster optimal path approximation): ~160ms\n",
            "    \n",
            "    >>> for iteration in range(500):\n",
            "    ...     _ = np.einsum('ijk,ilm,njm,nlk,abc->',a,a,a,a,a, optimize='greedy')\n",
            "    \n",
            "    Optimal `einsum` (best usage pattern in some use cases): ~110ms\n",
            "    \n",
            "    >>> path = np.einsum_path('ijk,ilm,njm,nlk,abc->',a,a,a,a,a, optimize='optimal')[0]\n",
            "    >>> for iteration in range(500):\n",
            "    ...     _ = np.einsum('ijk,ilm,njm,nlk,abc->',a,a,a,a,a, optimize=path)\n",
            "\n"
          ]
        }
      ]
    },
    {
      "cell_type": "markdown",
      "metadata": {
        "id": "NN32g4sK3Jhc"
      },
      "source": [
        "#### 93. Consider two arrays A and B of shape (8,3) and (2,2). How to find rows of A that contain elements of each row of B regardless of the order of the elements in B? (★★★) \n",
        "(**hint**: np.where)"
      ]
    },
    {
      "cell_type": "code",
      "execution_count": null,
      "metadata": {
        "id": "AIl5-B7X3Jhd",
        "colab": {
          "base_uri": "https://localhost:8080/"
        },
        "outputId": "d7c09e04-b0bd-4f40-b83f-a1b374111a54"
      },
      "outputs": [
        {
          "output_type": "stream",
          "name": "stdout",
          "text": [
            "[[3 1 4]\n",
            " [1 0 0]\n",
            " [2 1 0]\n",
            " [4 3 0]\n",
            " [3 0 4]\n",
            " [3 2 4]\n",
            " [2 3 4]\n",
            " [1 3 3]]\n",
            "[[1 4]\n",
            " [2 0]]\n",
            "[[[[False False]\n",
            "   [False False]]\n",
            "\n",
            "  [[ True False]\n",
            "   [False False]]\n",
            "\n",
            "  [[False  True]\n",
            "   [False False]]]\n",
            "\n",
            "\n",
            " [[[ True False]\n",
            "   [False False]]\n",
            "\n",
            "  [[False False]\n",
            "   [False  True]]\n",
            "\n",
            "  [[False False]\n",
            "   [False  True]]]\n",
            "\n",
            "\n",
            " [[[False False]\n",
            "   [ True False]]\n",
            "\n",
            "  [[ True False]\n",
            "   [False False]]\n",
            "\n",
            "  [[False False]\n",
            "   [False  True]]]\n",
            "\n",
            "\n",
            " [[[False  True]\n",
            "   [False False]]\n",
            "\n",
            "  [[False False]\n",
            "   [False False]]\n",
            "\n",
            "  [[False False]\n",
            "   [False  True]]]\n",
            "\n",
            "\n",
            " [[[False False]\n",
            "   [False False]]\n",
            "\n",
            "  [[False False]\n",
            "   [False  True]]\n",
            "\n",
            "  [[False  True]\n",
            "   [False False]]]\n",
            "\n",
            "\n",
            " [[[False False]\n",
            "   [False False]]\n",
            "\n",
            "  [[False False]\n",
            "   [ True False]]\n",
            "\n",
            "  [[False  True]\n",
            "   [False False]]]\n",
            "\n",
            "\n",
            " [[[False False]\n",
            "   [ True False]]\n",
            "\n",
            "  [[False False]\n",
            "   [False False]]\n",
            "\n",
            "  [[False  True]\n",
            "   [False False]]]\n",
            "\n",
            "\n",
            " [[[ True False]\n",
            "   [False False]]\n",
            "\n",
            "  [[False False]\n",
            "   [False False]]\n",
            "\n",
            "  [[False False]\n",
            "   [False False]]]]\n",
            "[1 2 3 4 5 6]\n"
          ]
        }
      ],
      "source": [
        "#puriyavillai\n",
        "import numpy as np\n",
        "A = np.random.randint(0,5,(8,3))\n",
        "print(A)\n",
        "B = np.random.randint(0,5,(2,2))\n",
        "print(B)\n",
        "C = (A[..., np.newaxis, np.newaxis] == B)\n",
        "print(C)\n",
        "rows = np.where(C.any((3,1)).all(1))[0]\n",
        "print(rows)"
      ]
    },
    {
      "cell_type": "code",
      "source": [
        "help(np.newaxis)"
      ],
      "metadata": {
        "id": "MpFkehuAjdi5",
        "outputId": "55de5c2a-a8cc-4ac6-9aaf-140efb914479",
        "colab": {
          "base_uri": "https://localhost:8080/"
        }
      },
      "execution_count": null,
      "outputs": [
        {
          "output_type": "stream",
          "name": "stdout",
          "text": [
            "Help on NoneType object:\n",
            "\n",
            "class NoneType(object)\n",
            " |  Methods defined here:\n",
            " |  \n",
            " |  __bool__(self, /)\n",
            " |      self != 0\n",
            " |  \n",
            " |  __repr__(self, /)\n",
            " |      Return repr(self).\n",
            " |  \n",
            " |  ----------------------------------------------------------------------\n",
            " |  Static methods defined here:\n",
            " |  \n",
            " |  __new__(*args, **kwargs) from builtins.type\n",
            " |      Create and return a new object.  See help(type) for accurate signature.\n",
            "\n"
          ]
        }
      ]
    },
    {
      "cell_type": "markdown",
      "metadata": {
        "id": "QWTUaY4g3Jhd"
      },
      "source": [
        "#### 94. Considering a 10x3 matrix, extract rows with unequal values (e.g. \\[2,2,3\\]) (★★★)"
      ]
    },
    {
      "cell_type": "code",
      "execution_count": null,
      "metadata": {
        "id": "0as-92ar3Jhe",
        "colab": {
          "base_uri": "https://localhost:8080/"
        },
        "outputId": "9c2c2058-8a3c-46a1-99fb-cd5959483dc7"
      },
      "outputs": [
        {
          "output_type": "stream",
          "name": "stdout",
          "text": [
            "[[1 2 0]\n",
            " [4 1 4]\n",
            " [4 2 2]\n",
            " [2 1 1]\n",
            " [0 2 3]\n",
            " [3 1 2]\n",
            " [2 4 3]\n",
            " [4 4 4]\n",
            " [1 4 0]\n",
            " [4 1 3]]\n",
            "[False False False False False False False  True False False]\n",
            "[[1 2 0]\n",
            " [4 1 4]\n",
            " [4 2 2]\n",
            " [2 1 1]\n",
            " [0 2 3]\n",
            " [3 1 2]\n",
            " [2 4 3]\n",
            " [1 4 0]\n",
            " [4 1 3]]\n"
          ]
        }
      ],
      "source": [
        "Z = np.random.randint(0,5,(10,3))\n",
        "print(Z)\n",
        "# solution for arrays of all dtypes (including string arrays and record arrays)\n",
        "E = np.all(Z[:,1:] == Z[:,:-1], axis=1)\n",
        "print(E)\n",
        "U = Z[~E]\n",
        "print(U)"
      ]
    },
    {
      "cell_type": "markdown",
      "metadata": {
        "id": "drEk94_a3Jhe"
      },
      "source": [
        "#### 95. Convert a vector of ints into a matrix binary representation (★★★) \n",
        "(**hint**: np.unpackbits)"
      ]
    },
    {
      "cell_type": "code",
      "execution_count": null,
      "metadata": {
        "id": "UtuuAOD73Jhg",
        "colab": {
          "base_uri": "https://localhost:8080/"
        },
        "outputId": "847b4b06-d02d-40ee-bffa-557083ac7f94"
      },
      "outputs": [
        {
          "output_type": "stream",
          "name": "stdout",
          "text": [
            "[  0   1   2   3  15  16  32  64 128]\n",
            "[[0 0 0 0 0 0 0 0]\n",
            " [0 0 0 0 0 0 0 1]\n",
            " [0 0 0 0 0 0 1 0]\n",
            " [0 0 0 0 0 0 1 1]\n",
            " [0 0 0 0 1 1 1 1]\n",
            " [0 0 0 1 0 0 0 0]\n",
            " [0 0 1 0 0 0 0 0]\n",
            " [0 1 0 0 0 0 0 0]\n",
            " [1 0 0 0 0 0 0 0]]\n"
          ]
        }
      ],
      "source": [
        "\n",
        "\n",
        "# Author: Daniel T. McDonald\n",
        "\n",
        "I = np.array([0, 1, 2, 3, 15, 16, 32, 64, 128], dtype=np.uint8)\n",
        "print(I)\n",
        "print(np.unpackbits(I[:, np.newaxis], axis=1)) # which code indicates the change of 8x9 to 9x8 ????"
      ]
    },
    {
      "cell_type": "code",
      "source": [
        "help(np.unpackbits)"
      ],
      "metadata": {
        "colab": {
          "base_uri": "https://localhost:8080/"
        },
        "id": "LgLOEoYI_5D3",
        "outputId": "b53fe995-d7e0-4da6-cfec-b2214f1924bd"
      },
      "execution_count": null,
      "outputs": [
        {
          "output_type": "stream",
          "name": "stdout",
          "text": [
            "Help on function unpackbits in module numpy:\n",
            "\n",
            "unpackbits(...)\n",
            "    unpackbits(a, axis=None, count=None, bitorder='big')\n",
            "    \n",
            "    Unpacks elements of a uint8 array into a binary-valued output array.\n",
            "    \n",
            "    Each element of `a` represents a bit-field that should be unpacked\n",
            "    into a binary-valued output array. The shape of the output array is\n",
            "    either 1-D (if `axis` is ``None``) or the same shape as the input\n",
            "    array with unpacking done along the axis specified.\n",
            "    \n",
            "    Parameters\n",
            "    ----------\n",
            "    a : ndarray, uint8 type\n",
            "       Input array.\n",
            "    axis : int, optional\n",
            "        The dimension over which bit-unpacking is done.\n",
            "        ``None`` implies unpacking the flattened array.\n",
            "    count : int or None, optional\n",
            "        The number of elements to unpack along `axis`, provided as a way\n",
            "        of undoing the effect of packing a size that is not a multiple\n",
            "        of eight. A non-negative number means to only unpack `count`\n",
            "        bits. A negative number means to trim off that many bits from\n",
            "        the end. ``None`` means to unpack the entire array (the\n",
            "        default). Counts larger than the available number of bits will\n",
            "        add zero padding to the output. Negative counts must not\n",
            "        exceed the available number of bits.\n",
            "    \n",
            "        .. versionadded:: 1.17.0\n",
            "    \n",
            "    bitorder : {'big', 'little'}, optional\n",
            "        The order of the returned bits. 'big' will mimic bin(val),\n",
            "        ``3 = 0b00000011 => [0, 0, 0, 0, 0, 0, 1, 1]``, 'little' will reverse\n",
            "        the order to ``[1, 1, 0, 0, 0, 0, 0, 0]``.\n",
            "        Defaults to 'big'.\n",
            "    \n",
            "        .. versionadded:: 1.17.0\n",
            "    \n",
            "    Returns\n",
            "    -------\n",
            "    unpacked : ndarray, uint8 type\n",
            "       The elements are binary-valued (0 or 1).\n",
            "    \n",
            "    See Also\n",
            "    --------\n",
            "    packbits : Packs the elements of a binary-valued array into bits in\n",
            "               a uint8 array.\n",
            "    \n",
            "    Examples\n",
            "    --------\n",
            "    >>> a = np.array([[2], [7], [23]], dtype=np.uint8)\n",
            "    >>> a\n",
            "    array([[ 2],\n",
            "           [ 7],\n",
            "           [23]], dtype=uint8)\n",
            "    >>> b = np.unpackbits(a, axis=1)\n",
            "    >>> b\n",
            "    array([[0, 0, 0, 0, 0, 0, 1, 0],\n",
            "           [0, 0, 0, 0, 0, 1, 1, 1],\n",
            "           [0, 0, 0, 1, 0, 1, 1, 1]], dtype=uint8)\n",
            "    >>> c = np.unpackbits(a, axis=1, count=-3)\n",
            "    >>> c\n",
            "    array([[0, 0, 0, 0, 0],\n",
            "           [0, 0, 0, 0, 0],\n",
            "           [0, 0, 0, 1, 0]], dtype=uint8)\n",
            "    \n",
            "    >>> p = np.packbits(b, axis=0)\n",
            "    >>> np.unpackbits(p, axis=0)\n",
            "    array([[0, 0, 0, 0, 0, 0, 1, 0],\n",
            "           [0, 0, 0, 0, 0, 1, 1, 1],\n",
            "           [0, 0, 0, 1, 0, 1, 1, 1],\n",
            "           [0, 0, 0, 0, 0, 0, 0, 0],\n",
            "           [0, 0, 0, 0, 0, 0, 0, 0],\n",
            "           [0, 0, 0, 0, 0, 0, 0, 0],\n",
            "           [0, 0, 0, 0, 0, 0, 0, 0],\n",
            "           [0, 0, 0, 0, 0, 0, 0, 0]], dtype=uint8)\n",
            "    >>> np.array_equal(b, np.unpackbits(p, axis=0, count=b.shape[0]))\n",
            "    True\n",
            "\n"
          ]
        }
      ]
    },
    {
      "cell_type": "code",
      "source": [
        "2**np.arange(8)"
      ],
      "metadata": {
        "colab": {
          "base_uri": "https://localhost:8080/"
        },
        "id": "m0hjAyWL0tHK",
        "outputId": "ae883aec-daf8-47a1-fbbb-d45ba7058807"
      },
      "execution_count": null,
      "outputs": [
        {
          "output_type": "execute_result",
          "data": {
            "text/plain": [
              "array([  1,   2,   4,   8,  16,  32,  64, 128])"
            ]
          },
          "metadata": {},
          "execution_count": 9
        }
      ]
    },
    {
      "cell_type": "code",
      "source": [
        "2**np.arange(8)\n",
        "\n",
        "(I.reshape(-1,1) & (2**np.arange(8)))\n",
        "I.reshape(-1,1)"
      ],
      "metadata": {
        "colab": {
          "base_uri": "https://localhost:8080/"
        },
        "id": "vgh_Mflr8QSy",
        "outputId": "940a28b3-228e-4c53-aa50-4d1be2aa7f92"
      },
      "execution_count": null,
      "outputs": [
        {
          "output_type": "execute_result",
          "data": {
            "text/plain": [
              "array([[  0],\n",
              "       [  1],\n",
              "       [  2],\n",
              "       [  3],\n",
              "       [ 15],\n",
              "       [ 16],\n",
              "       [ 32],\n",
              "       [ 64],\n",
              "       [128]], dtype=uint8)"
            ]
          },
          "metadata": {},
          "execution_count": 10
        }
      ]
    },
    {
      "cell_type": "code",
      "source": [
        "(I.reshape(-1,1) & (2**np.arange(8)))"
      ],
      "metadata": {
        "colab": {
          "base_uri": "https://localhost:8080/"
        },
        "id": "8ocuDcZ-05uh",
        "outputId": "d1e92447-8ae8-45d8-aeea-7cd3d61ffeb3"
      },
      "execution_count": null,
      "outputs": [
        {
          "output_type": "execute_result",
          "data": {
            "text/plain": [
              "array([[  0,   0,   0,   0,   0,   0,   0,   0],\n",
              "       [  1,   0,   0,   0,   0,   0,   0,   0],\n",
              "       [  0,   2,   0,   0,   0,   0,   0,   0],\n",
              "       [  1,   2,   0,   0,   0,   0,   0,   0],\n",
              "       [  1,   2,   4,   8,   0,   0,   0,   0],\n",
              "       [  0,   0,   0,   0,  16,   0,   0,   0],\n",
              "       [  0,   0,   0,   0,   0,  32,   0,   0],\n",
              "       [  0,   0,   0,   0,   0,   0,  64,   0],\n",
              "       [  0,   0,   0,   0,   0,   0,   0, 128]])"
            ]
          },
          "metadata": {},
          "execution_count": 11
        }
      ]
    },
    {
      "cell_type": "code",
      "source": [
        "I = np.array([1, 2, 3, 15, 16, 32, 64, 128])\n",
        "B = ((I.reshape(-1,1) & (2**np.arange(8))) != 0).astype(int)\n",
        "print(B[:,::-1])"
      ],
      "metadata": {
        "colab": {
          "base_uri": "https://localhost:8080/"
        },
        "id": "Fh7kAVwv4Ye6",
        "outputId": "4deb74e0-13eb-4737-cb27-ad44e858284d"
      },
      "execution_count": null,
      "outputs": [
        {
          "output_type": "stream",
          "name": "stdout",
          "text": [
            "[[0 0 0 0 0 0 0 1]\n",
            " [0 0 0 0 0 0 1 0]\n",
            " [0 0 0 0 0 0 1 1]\n",
            " [0 0 0 0 1 1 1 1]\n",
            " [0 0 0 1 0 0 0 0]\n",
            " [0 0 1 0 0 0 0 0]\n",
            " [0 1 0 0 0 0 0 0]\n",
            " [1 0 0 0 0 0 0 0]]\n"
          ]
        }
      ]
    },
    {
      "cell_type": "markdown",
      "metadata": {
        "id": "yyMGU99i3Jhg"
      },
      "source": [
        "#### 96. Given a two dimensional array, how to extract unique rows? (★★★) \n",
        "(**hint**: np.ascontiguousarray)"
      ]
    },
    {
      "cell_type": "code",
      "execution_count": null,
      "metadata": {
        "id": "DReMkCH43Jhj",
        "colab": {
          "base_uri": "https://localhost:8080/"
        },
        "outputId": "714341d8-89af-49af-95d8-c9db2219ce1f"
      },
      "outputs": [
        {
          "output_type": "stream",
          "name": "stdout",
          "text": [
            "Help on built-in function ascontiguousarray in module numpy:\n",
            "\n",
            "ascontiguousarray(...)\n",
            "    ascontiguousarray(a, dtype=None, *, like=None)\n",
            "    \n",
            "    Return a contiguous array (ndim >= 1) in memory (C order).\n",
            "    \n",
            "    Parameters\n",
            "    ----------\n",
            "    a : array_like\n",
            "        Input array.\n",
            "    dtype : str or dtype object, optional\n",
            "        Data-type of returned array.\n",
            "    like : array_like\n",
            "        Reference object to allow the creation of arrays which are not\n",
            "        NumPy arrays. If an array-like passed in as ``like`` supports\n",
            "        the ``__array_function__`` protocol, the result will be defined\n",
            "        by it. In this case, it ensures the creation of an array object\n",
            "        compatible with that passed in via this argument.\n",
            "    \n",
            "        .. versionadded:: 1.20.0\n",
            "    \n",
            "    Returns\n",
            "    -------\n",
            "    out : ndarray\n",
            "        Contiguous array of same shape and content as `a`, with type `dtype`\n",
            "        if specified.\n",
            "    \n",
            "    See Also\n",
            "    --------\n",
            "    asfortranarray : Convert input to an ndarray with column-major\n",
            "                     memory order.\n",
            "    require : Return an ndarray that satisfies requirements.\n",
            "    ndarray.flags : Information about the memory layout of the array.\n",
            "    \n",
            "    Examples\n",
            "    --------\n",
            "    >>> x = np.arange(6).reshape(2,3)\n",
            "    >>> np.ascontiguousarray(x, dtype=np.float32)\n",
            "    array([[0., 1., 2.],\n",
            "           [3., 4., 5.]], dtype=float32)\n",
            "    >>> x.flags['C_CONTIGUOUS']\n",
            "    True\n",
            "    \n",
            "    Note: This function returns an array with at least one-dimension (1-d)\n",
            "    so it will not preserve 0-d arrays.\n",
            "\n"
          ]
        }
      ],
      "source": [
        "help(np.ascontiguousarray)"
      ]
    },
    {
      "cell_type": "code",
      "source": [
        "Z = np.random.randint(0,2,(6,3))\n",
        "print(Z)\n",
        "T=np.ascontiguousarray(Z).view()\n",
        "print(T)\n",
        "T = np.ascontiguousarray(Z).view(np.dtype((np.void, Z.dtype.itemsize * Z.shape[1])))#(np.dtype((np.void, Z.dtype.itemsize * Z.shape[1]) puriiyavillai\n",
        "print(T)\n",
        "_, idx = np.unique(T, return_index=True)\n",
        "uZ = Z[idx]\n",
        "print(uZ)\n",
        "\n"
      ],
      "metadata": {
        "colab": {
          "base_uri": "https://localhost:8080/"
        },
        "id": "Lb51xsHnRQZn",
        "outputId": "ddd5f758-fb61-481b-acfe-59932436012f"
      },
      "execution_count": null,
      "outputs": [
        {
          "output_type": "stream",
          "name": "stdout",
          "text": [
            "[[1 0 1]\n",
            " [0 1 0]\n",
            " [1 0 1]\n",
            " [0 0 1]\n",
            " [0 1 1]\n",
            " [0 1 0]]\n",
            "[[1 0 1]\n",
            " [0 1 0]\n",
            " [1 0 1]\n",
            " [0 0 1]\n",
            " [0 1 1]\n",
            " [0 1 0]]\n",
            "[[b'\\x01\\x00\\x00\\x00\\x00\\x00\\x00\\x00\\x00\\x00\\x00\\x00\\x00\\x00\\x00\\x00\\x01\\x00\\x00\\x00\\x00\\x00\\x00\\x00']\n",
            " [b'\\x00\\x00\\x00\\x00\\x00\\x00\\x00\\x00\\x01\\x00\\x00\\x00\\x00\\x00\\x00\\x00\\x00\\x00\\x00\\x00\\x00\\x00\\x00\\x00']\n",
            " [b'\\x01\\x00\\x00\\x00\\x00\\x00\\x00\\x00\\x00\\x00\\x00\\x00\\x00\\x00\\x00\\x00\\x01\\x00\\x00\\x00\\x00\\x00\\x00\\x00']\n",
            " [b'\\x00\\x00\\x00\\x00\\x00\\x00\\x00\\x00\\x00\\x00\\x00\\x00\\x00\\x00\\x00\\x00\\x01\\x00\\x00\\x00\\x00\\x00\\x00\\x00']\n",
            " [b'\\x00\\x00\\x00\\x00\\x00\\x00\\x00\\x00\\x01\\x00\\x00\\x00\\x00\\x00\\x00\\x00\\x01\\x00\\x00\\x00\\x00\\x00\\x00\\x00']\n",
            " [b'\\x00\\x00\\x00\\x00\\x00\\x00\\x00\\x00\\x01\\x00\\x00\\x00\\x00\\x00\\x00\\x00\\x00\\x00\\x00\\x00\\x00\\x00\\x00\\x00']]\n",
            "[[0 0 1]\n",
            " [0 1 0]\n",
            " [0 1 1]\n",
            " [1 0 1]]\n"
          ]
        }
      ]
    },
    {
      "cell_type": "code",
      "source": [
        "# Author: Andreas Kouzelis\n",
        "# NumPy >= 1.13\n",
        "uZ = np.unique(Z, axis=0)\n",
        "print(uZ)"
      ],
      "metadata": {
        "colab": {
          "base_uri": "https://localhost:8080/"
        },
        "id": "BZK5uf9QR1FQ",
        "outputId": "19c35672-b871-4e4a-f011-04c4cb51e39b"
      },
      "execution_count": null,
      "outputs": [
        {
          "output_type": "stream",
          "name": "stdout",
          "text": [
            "[[0 0 0]\n",
            " [0 1 1]\n",
            " [1 0 1]\n",
            " [1 1 1]]\n"
          ]
        }
      ]
    },
    {
      "cell_type": "markdown",
      "metadata": {
        "id": "IBzfUYkf3Jhj"
      },
      "source": [
        "#### 97. Considering 2 vectors A & B, write the einsum equivalent of inner, outer, sum, and mul function (★★★) \n",
        "(**hint**: np.einsum)"
      ]
    },
    {
      "cell_type": "code",
      "source": [
        "help(np.einsum)"
      ],
      "metadata": {
        "colab": {
          "base_uri": "https://localhost:8080/"
        },
        "id": "SEixjCh_TqqO",
        "outputId": "243717d3-0770-4b76-e70a-047f1708164c"
      },
      "execution_count": null,
      "outputs": [
        {
          "output_type": "stream",
          "name": "stdout",
          "text": [
            "Help on function einsum in module numpy:\n",
            "\n",
            "einsum(*operands, out=None, optimize=False, **kwargs)\n",
            "    einsum(subscripts, *operands, out=None, dtype=None, order='K',\n",
            "           casting='safe', optimize=False)\n",
            "    \n",
            "    Evaluates the Einstein summation convention on the operands.\n",
            "    \n",
            "    Using the Einstein summation convention, many common multi-dimensional,\n",
            "    linear algebraic array operations can be represented in a simple fashion.\n",
            "    In *implicit* mode `einsum` computes these values.\n",
            "    \n",
            "    In *explicit* mode, `einsum` provides further flexibility to compute\n",
            "    other array operations that might not be considered classical Einstein\n",
            "    summation operations, by disabling, or forcing summation over specified\n",
            "    subscript labels.\n",
            "    \n",
            "    See the notes and examples for clarification.\n",
            "    \n",
            "    Parameters\n",
            "    ----------\n",
            "    subscripts : str\n",
            "        Specifies the subscripts for summation as comma separated list of\n",
            "        subscript labels. An implicit (classical Einstein summation)\n",
            "        calculation is performed unless the explicit indicator '->' is\n",
            "        included as well as subscript labels of the precise output form.\n",
            "    operands : list of array_like\n",
            "        These are the arrays for the operation.\n",
            "    out : ndarray, optional\n",
            "        If provided, the calculation is done into this array.\n",
            "    dtype : {data-type, None}, optional\n",
            "        If provided, forces the calculation to use the data type specified.\n",
            "        Note that you may have to also give a more liberal `casting`\n",
            "        parameter to allow the conversions. Default is None.\n",
            "    order : {'C', 'F', 'A', 'K'}, optional\n",
            "        Controls the memory layout of the output. 'C' means it should\n",
            "        be C contiguous. 'F' means it should be Fortran contiguous,\n",
            "        'A' means it should be 'F' if the inputs are all 'F', 'C' otherwise.\n",
            "        'K' means it should be as close to the layout as the inputs as\n",
            "        is possible, including arbitrarily permuted axes.\n",
            "        Default is 'K'.\n",
            "    casting : {'no', 'equiv', 'safe', 'same_kind', 'unsafe'}, optional\n",
            "        Controls what kind of data casting may occur.  Setting this to\n",
            "        'unsafe' is not recommended, as it can adversely affect accumulations.\n",
            "    \n",
            "          * 'no' means the data types should not be cast at all.\n",
            "          * 'equiv' means only byte-order changes are allowed.\n",
            "          * 'safe' means only casts which can preserve values are allowed.\n",
            "          * 'same_kind' means only safe casts or casts within a kind,\n",
            "            like float64 to float32, are allowed.\n",
            "          * 'unsafe' means any data conversions may be done.\n",
            "    \n",
            "        Default is 'safe'.\n",
            "    optimize : {False, True, 'greedy', 'optimal'}, optional\n",
            "        Controls if intermediate optimization should occur. No optimization\n",
            "        will occur if False and True will default to the 'greedy' algorithm.\n",
            "        Also accepts an explicit contraction list from the ``np.einsum_path``\n",
            "        function. See ``np.einsum_path`` for more details. Defaults to False.\n",
            "    \n",
            "    Returns\n",
            "    -------\n",
            "    output : ndarray\n",
            "        The calculation based on the Einstein summation convention.\n",
            "    \n",
            "    See Also\n",
            "    --------\n",
            "    einsum_path, dot, inner, outer, tensordot, linalg.multi_dot\n",
            "    einops :\n",
            "        similar verbose interface is provided by\n",
            "        `einops <https://github.com/arogozhnikov/einops>`_ package to cover\n",
            "        additional operations: transpose, reshape/flatten, repeat/tile,\n",
            "        squeeze/unsqueeze and reductions.\n",
            "    opt_einsum :\n",
            "        `opt_einsum <https://optimized-einsum.readthedocs.io/en/stable/>`_\n",
            "        optimizes contraction order for einsum-like expressions\n",
            "        in backend-agnostic manner.\n",
            "    \n",
            "    Notes\n",
            "    -----\n",
            "    .. versionadded:: 1.6.0\n",
            "    \n",
            "    The Einstein summation convention can be used to compute\n",
            "    many multi-dimensional, linear algebraic array operations. `einsum`\n",
            "    provides a succinct way of representing these.\n",
            "    \n",
            "    A non-exhaustive list of these operations,\n",
            "    which can be computed by `einsum`, is shown below along with examples:\n",
            "    \n",
            "    * Trace of an array, :py:func:`numpy.trace`.\n",
            "    * Return a diagonal, :py:func:`numpy.diag`.\n",
            "    * Array axis summations, :py:func:`numpy.sum`.\n",
            "    * Transpositions and permutations, :py:func:`numpy.transpose`.\n",
            "    * Matrix multiplication and dot product, :py:func:`numpy.matmul` :py:func:`numpy.dot`.\n",
            "    * Vector inner and outer products, :py:func:`numpy.inner` :py:func:`numpy.outer`.\n",
            "    * Broadcasting, element-wise and scalar multiplication, :py:func:`numpy.multiply`.\n",
            "    * Tensor contractions, :py:func:`numpy.tensordot`.\n",
            "    * Chained array operations, in efficient calculation order, :py:func:`numpy.einsum_path`.\n",
            "    \n",
            "    The subscripts string is a comma-separated list of subscript labels,\n",
            "    where each label refers to a dimension of the corresponding operand.\n",
            "    Whenever a label is repeated it is summed, so ``np.einsum('i,i', a, b)``\n",
            "    is equivalent to :py:func:`np.inner(a,b) <numpy.inner>`. If a label\n",
            "    appears only once, it is not summed, so ``np.einsum('i', a)`` produces a\n",
            "    view of ``a`` with no changes. A further example ``np.einsum('ij,jk', a, b)``\n",
            "    describes traditional matrix multiplication and is equivalent to\n",
            "    :py:func:`np.matmul(a,b) <numpy.matmul>`. Repeated subscript labels in one\n",
            "    operand take the diagonal. For example, ``np.einsum('ii', a)`` is equivalent\n",
            "    to :py:func:`np.trace(a) <numpy.trace>`.\n",
            "    \n",
            "    In *implicit mode*, the chosen subscripts are important\n",
            "    since the axes of the output are reordered alphabetically.  This\n",
            "    means that ``np.einsum('ij', a)`` doesn't affect a 2D array, while\n",
            "    ``np.einsum('ji', a)`` takes its transpose. Additionally,\n",
            "    ``np.einsum('ij,jk', a, b)`` returns a matrix multiplication, while,\n",
            "    ``np.einsum('ij,jh', a, b)`` returns the transpose of the\n",
            "    multiplication since subscript 'h' precedes subscript 'i'.\n",
            "    \n",
            "    In *explicit mode* the output can be directly controlled by\n",
            "    specifying output subscript labels.  This requires the\n",
            "    identifier '->' as well as the list of output subscript labels.\n",
            "    This feature increases the flexibility of the function since\n",
            "    summing can be disabled or forced when required. The call\n",
            "    ``np.einsum('i->', a)`` is like :py:func:`np.sum(a, axis=-1) <numpy.sum>`,\n",
            "    and ``np.einsum('ii->i', a)`` is like :py:func:`np.diag(a) <numpy.diag>`.\n",
            "    The difference is that `einsum` does not allow broadcasting by default.\n",
            "    Additionally ``np.einsum('ij,jh->ih', a, b)`` directly specifies the\n",
            "    order of the output subscript labels and therefore returns matrix\n",
            "    multiplication, unlike the example above in implicit mode.\n",
            "    \n",
            "    To enable and control broadcasting, use an ellipsis.  Default\n",
            "    NumPy-style broadcasting is done by adding an ellipsis\n",
            "    to the left of each term, like ``np.einsum('...ii->...i', a)``.\n",
            "    To take the trace along the first and last axes,\n",
            "    you can do ``np.einsum('i...i', a)``, or to do a matrix-matrix\n",
            "    product with the left-most indices instead of rightmost, one can do\n",
            "    ``np.einsum('ij...,jk...->ik...', a, b)``.\n",
            "    \n",
            "    When there is only one operand, no axes are summed, and no output\n",
            "    parameter is provided, a view into the operand is returned instead\n",
            "    of a new array.  Thus, taking the diagonal as ``np.einsum('ii->i', a)``\n",
            "    produces a view (changed in version 1.10.0).\n",
            "    \n",
            "    `einsum` also provides an alternative way to provide the subscripts\n",
            "    and operands as ``einsum(op0, sublist0, op1, sublist1, ..., [sublistout])``.\n",
            "    If the output shape is not provided in this format `einsum` will be\n",
            "    calculated in implicit mode, otherwise it will be performed explicitly.\n",
            "    The examples below have corresponding `einsum` calls with the two\n",
            "    parameter methods.\n",
            "    \n",
            "    .. versionadded:: 1.10.0\n",
            "    \n",
            "    Views returned from einsum are now writeable whenever the input array\n",
            "    is writeable. For example, ``np.einsum('ijk...->kji...', a)`` will now\n",
            "    have the same effect as :py:func:`np.swapaxes(a, 0, 2) <numpy.swapaxes>`\n",
            "    and ``np.einsum('ii->i', a)`` will return a writeable view of the diagonal\n",
            "    of a 2D array.\n",
            "    \n",
            "    .. versionadded:: 1.12.0\n",
            "    \n",
            "    Added the ``optimize`` argument which will optimize the contraction order\n",
            "    of an einsum expression. For a contraction with three or more operands this\n",
            "    can greatly increase the computational efficiency at the cost of a larger\n",
            "    memory footprint during computation.\n",
            "    \n",
            "    Typically a 'greedy' algorithm is applied which empirical tests have shown\n",
            "    returns the optimal path in the majority of cases. In some cases 'optimal'\n",
            "    will return the superlative path through a more expensive, exhaustive search.\n",
            "    For iterative calculations it may be advisable to calculate the optimal path\n",
            "    once and reuse that path by supplying it as an argument. An example is given\n",
            "    below.\n",
            "    \n",
            "    See :py:func:`numpy.einsum_path` for more details.\n",
            "    \n",
            "    Examples\n",
            "    --------\n",
            "    >>> a = np.arange(25).reshape(5,5)\n",
            "    >>> b = np.arange(5)\n",
            "    >>> c = np.arange(6).reshape(2,3)\n",
            "    \n",
            "    Trace of a matrix:\n",
            "    \n",
            "    >>> np.einsum('ii', a)\n",
            "    60\n",
            "    >>> np.einsum(a, [0,0])\n",
            "    60\n",
            "    >>> np.trace(a)\n",
            "    60\n",
            "    \n",
            "    Extract the diagonal (requires explicit form):\n",
            "    \n",
            "    >>> np.einsum('ii->i', a)\n",
            "    array([ 0,  6, 12, 18, 24])\n",
            "    >>> np.einsum(a, [0,0], [0])\n",
            "    array([ 0,  6, 12, 18, 24])\n",
            "    >>> np.diag(a)\n",
            "    array([ 0,  6, 12, 18, 24])\n",
            "    \n",
            "    Sum over an axis (requires explicit form):\n",
            "    \n",
            "    >>> np.einsum('ij->i', a)\n",
            "    array([ 10,  35,  60,  85, 110])\n",
            "    >>> np.einsum(a, [0,1], [0])\n",
            "    array([ 10,  35,  60,  85, 110])\n",
            "    >>> np.sum(a, axis=1)\n",
            "    array([ 10,  35,  60,  85, 110])\n",
            "    \n",
            "    For higher dimensional arrays summing a single axis can be done with ellipsis:\n",
            "    \n",
            "    >>> np.einsum('...j->...', a)\n",
            "    array([ 10,  35,  60,  85, 110])\n",
            "    >>> np.einsum(a, [Ellipsis,1], [Ellipsis])\n",
            "    array([ 10,  35,  60,  85, 110])\n",
            "    \n",
            "    Compute a matrix transpose, or reorder any number of axes:\n",
            "    \n",
            "    >>> np.einsum('ji', c)\n",
            "    array([[0, 3],\n",
            "           [1, 4],\n",
            "           [2, 5]])\n",
            "    >>> np.einsum('ij->ji', c)\n",
            "    array([[0, 3],\n",
            "           [1, 4],\n",
            "           [2, 5]])\n",
            "    >>> np.einsum(c, [1,0])\n",
            "    array([[0, 3],\n",
            "           [1, 4],\n",
            "           [2, 5]])\n",
            "    >>> np.transpose(c)\n",
            "    array([[0, 3],\n",
            "           [1, 4],\n",
            "           [2, 5]])\n",
            "    \n",
            "    Vector inner products:\n",
            "    \n",
            "    >>> np.einsum('i,i', b, b)\n",
            "    30\n",
            "    >>> np.einsum(b, [0], b, [0])\n",
            "    30\n",
            "    >>> np.inner(b,b)\n",
            "    30\n",
            "    \n",
            "    Matrix vector multiplication:\n",
            "    \n",
            "    >>> np.einsum('ij,j', a, b)\n",
            "    array([ 30,  80, 130, 180, 230])\n",
            "    >>> np.einsum(a, [0,1], b, [1])\n",
            "    array([ 30,  80, 130, 180, 230])\n",
            "    >>> np.dot(a, b)\n",
            "    array([ 30,  80, 130, 180, 230])\n",
            "    >>> np.einsum('...j,j', a, b)\n",
            "    array([ 30,  80, 130, 180, 230])\n",
            "    \n",
            "    Broadcasting and scalar multiplication:\n",
            "    \n",
            "    >>> np.einsum('..., ...', 3, c)\n",
            "    array([[ 0,  3,  6],\n",
            "           [ 9, 12, 15]])\n",
            "    >>> np.einsum(',ij', 3, c)\n",
            "    array([[ 0,  3,  6],\n",
            "           [ 9, 12, 15]])\n",
            "    >>> np.einsum(3, [Ellipsis], c, [Ellipsis])\n",
            "    array([[ 0,  3,  6],\n",
            "           [ 9, 12, 15]])\n",
            "    >>> np.multiply(3, c)\n",
            "    array([[ 0,  3,  6],\n",
            "           [ 9, 12, 15]])\n",
            "    \n",
            "    Vector outer product:\n",
            "    \n",
            "    >>> np.einsum('i,j', np.arange(2)+1, b)\n",
            "    array([[0, 1, 2, 3, 4],\n",
            "           [0, 2, 4, 6, 8]])\n",
            "    >>> np.einsum(np.arange(2)+1, [0], b, [1])\n",
            "    array([[0, 1, 2, 3, 4],\n",
            "           [0, 2, 4, 6, 8]])\n",
            "    >>> np.outer(np.arange(2)+1, b)\n",
            "    array([[0, 1, 2, 3, 4],\n",
            "           [0, 2, 4, 6, 8]])\n",
            "    \n",
            "    Tensor contraction:\n",
            "    \n",
            "    >>> a = np.arange(60.).reshape(3,4,5)\n",
            "    >>> b = np.arange(24.).reshape(4,3,2)\n",
            "    >>> np.einsum('ijk,jil->kl', a, b)\n",
            "    array([[4400., 4730.],\n",
            "           [4532., 4874.],\n",
            "           [4664., 5018.],\n",
            "           [4796., 5162.],\n",
            "           [4928., 5306.]])\n",
            "    >>> np.einsum(a, [0,1,2], b, [1,0,3], [2,3])\n",
            "    array([[4400., 4730.],\n",
            "           [4532., 4874.],\n",
            "           [4664., 5018.],\n",
            "           [4796., 5162.],\n",
            "           [4928., 5306.]])\n",
            "    >>> np.tensordot(a,b, axes=([1,0],[0,1]))\n",
            "    array([[4400., 4730.],\n",
            "           [4532., 4874.],\n",
            "           [4664., 5018.],\n",
            "           [4796., 5162.],\n",
            "           [4928., 5306.]])\n",
            "    \n",
            "    Writeable returned arrays (since version 1.10.0):\n",
            "    \n",
            "    >>> a = np.zeros((3, 3))\n",
            "    >>> np.einsum('ii->i', a)[:] = 1\n",
            "    >>> a\n",
            "    array([[1., 0., 0.],\n",
            "           [0., 1., 0.],\n",
            "           [0., 0., 1.]])\n",
            "    \n",
            "    Example of ellipsis use:\n",
            "    \n",
            "    >>> a = np.arange(6).reshape((3,2))\n",
            "    >>> b = np.arange(12).reshape((4,3))\n",
            "    >>> np.einsum('ki,jk->ij', a, b)\n",
            "    array([[10, 28, 46, 64],\n",
            "           [13, 40, 67, 94]])\n",
            "    >>> np.einsum('ki,...k->i...', a, b)\n",
            "    array([[10, 28, 46, 64],\n",
            "           [13, 40, 67, 94]])\n",
            "    >>> np.einsum('k...,jk', a, b)\n",
            "    array([[10, 28, 46, 64],\n",
            "           [13, 40, 67, 94]])\n",
            "    \n",
            "    Chained array operations. For more complicated contractions, speed ups\n",
            "    might be achieved by repeatedly computing a 'greedy' path or pre-computing the\n",
            "    'optimal' path and repeatedly applying it, using an\n",
            "    `einsum_path` insertion (since version 1.12.0). Performance improvements can be\n",
            "    particularly significant with larger arrays:\n",
            "    \n",
            "    >>> a = np.ones(64).reshape(2,4,8)\n",
            "    \n",
            "    Basic `einsum`: ~1520ms  (benchmarked on 3.1GHz Intel i5.)\n",
            "    \n",
            "    >>> for iteration in range(500):\n",
            "    ...     _ = np.einsum('ijk,ilm,njm,nlk,abc->',a,a,a,a,a)\n",
            "    \n",
            "    Sub-optimal `einsum` (due to repeated path calculation time): ~330ms\n",
            "    \n",
            "    >>> for iteration in range(500):\n",
            "    ...     _ = np.einsum('ijk,ilm,njm,nlk,abc->',a,a,a,a,a, optimize='optimal')\n",
            "    \n",
            "    Greedy `einsum` (faster optimal path approximation): ~160ms\n",
            "    \n",
            "    >>> for iteration in range(500):\n",
            "    ...     _ = np.einsum('ijk,ilm,njm,nlk,abc->',a,a,a,a,a, optimize='greedy')\n",
            "    \n",
            "    Optimal `einsum` (best usage pattern in some use cases): ~110ms\n",
            "    \n",
            "    >>> path = np.einsum_path('ijk,ilm,njm,nlk,abc->',a,a,a,a,a, optimize='optimal')[0]\n",
            "    >>> for iteration in range(500):\n",
            "    ...     _ = np.einsum('ijk,ilm,njm,nlk,abc->',a,a,a,a,a, optimize=path)\n",
            "\n"
          ]
        }
      ]
    },
    {
      "cell_type": "code",
      "source": [
        " a = np.arange(60.).reshape(3,4,5)\n",
        " print(a)\n",
        " b = np.arange(24.).reshape(4,3,2)\n",
        " print(b)\n",
        "print(np.einsum('ijk,jil->kl', a, b))\n",
        "\n",
        "print(np.einsum(a, [0,1,2], b, [1,0,3], [2,3]))\n",
        "\n",
        "print(np.tensordot(a,b, axes=([1,0],[0,1])))\n",
        "\n",
        "    "
      ],
      "metadata": {
        "colab": {
          "base_uri": "https://localhost:8080/"
        },
        "id": "gTYzRj4t3YIa",
        "outputId": "1bb8c328-3841-40bf-ce92-c1cc5394fb8e"
      },
      "execution_count": null,
      "outputs": [
        {
          "output_type": "stream",
          "name": "stdout",
          "text": [
            "[[[ 0.  1.  2.  3.  4.]\n",
            "  [ 5.  6.  7.  8.  9.]\n",
            "  [10. 11. 12. 13. 14.]\n",
            "  [15. 16. 17. 18. 19.]]\n",
            "\n",
            " [[20. 21. 22. 23. 24.]\n",
            "  [25. 26. 27. 28. 29.]\n",
            "  [30. 31. 32. 33. 34.]\n",
            "  [35. 36. 37. 38. 39.]]\n",
            "\n",
            " [[40. 41. 42. 43. 44.]\n",
            "  [45. 46. 47. 48. 49.]\n",
            "  [50. 51. 52. 53. 54.]\n",
            "  [55. 56. 57. 58. 59.]]]\n",
            "[[[ 0.  1.]\n",
            "  [ 2.  3.]\n",
            "  [ 4.  5.]]\n",
            "\n",
            " [[ 6.  7.]\n",
            "  [ 8.  9.]\n",
            "  [10. 11.]]\n",
            "\n",
            " [[12. 13.]\n",
            "  [14. 15.]\n",
            "  [16. 17.]]\n",
            "\n",
            " [[18. 19.]\n",
            "  [20. 21.]\n",
            "  [22. 23.]]]\n",
            "[[4400. 4730.]\n",
            " [4532. 4874.]\n",
            " [4664. 5018.]\n",
            " [4796. 5162.]\n",
            " [4928. 5306.]]\n",
            "[[4400. 4730.]\n",
            " [4532. 4874.]\n",
            " [4664. 5018.]\n",
            " [4796. 5162.]\n",
            " [4928. 5306.]]\n",
            "[[4400. 4730.]\n",
            " [4532. 4874.]\n",
            " [4664. 5018.]\n",
            " [4796. 5162.]\n",
            " [4928. 5306.]]\n"
          ]
        }
      ]
    },
    {
      "cell_type": "code",
      "execution_count": null,
      "metadata": {
        "id": "_gkS2gtk3Jhk",
        "colab": {
          "base_uri": "https://localhost:8080/"
        },
        "outputId": "c600274f-5f9a-4de2-d14d-6b6edb6022ae"
      },
      "outputs": [
        {
          "output_type": "stream",
          "name": "stdout",
          "text": [
            "[0.83415585 0.0222971  0.37410002 0.16968536 0.43015966 0.44798198\n",
            " 0.91644641 0.25530854 0.26993512 0.89506536]\n",
            "[0.37236269 0.83032699 0.87305863 0.78136508 0.04694554 0.8812789\n",
            " 0.74194508 0.75795657 0.63951097 0.88822523]\n"
          ]
        }
      ],
      "source": [
        "A = np.random.uniform(0,1,10)\n",
        "print(A)\n",
        "B = np.random.uniform(0,1,10)\n",
        "print(B)\n",
        "\n",
        "\n",
        "\n"
      ]
    },
    {
      "cell_type": "code",
      "source": [
        "np.einsum('i->', A)       # np.sum(A)"
      ],
      "metadata": {
        "colab": {
          "base_uri": "https://localhost:8080/"
        },
        "id": "r_2dRm1bTGjD",
        "outputId": "fea467f5-5c1c-4ff6-b2b3-81468e355f3c"
      },
      "execution_count": null,
      "outputs": [
        {
          "output_type": "execute_result",
          "data": {
            "text/plain": [
              "4.615135393929126"
            ]
          },
          "metadata": {},
          "execution_count": 19
        }
      ]
    },
    {
      "cell_type": "code",
      "source": [
        "np.einsum('i,i->i', A, B) # A * B"
      ],
      "metadata": {
        "colab": {
          "base_uri": "https://localhost:8080/"
        },
        "id": "0McQYQwITGv7",
        "outputId": "6f93eb12-bfe7-4c81-b831-4aaf3b15704e"
      },
      "execution_count": null,
      "outputs": [
        {
          "output_type": "execute_result",
          "data": {
            "text/plain": [
              "array([0.31060851, 0.01851389, 0.32661125, 0.13258622, 0.02019408,\n",
              "       0.39479707, 0.67995291, 0.19351278, 0.17262647, 0.79501963])"
            ]
          },
          "metadata": {},
          "execution_count": 20
        }
      ]
    },
    {
      "cell_type": "code",
      "source": [
        "np.einsum('i,i', A, B)    # np.inner(A, B)"
      ],
      "metadata": {
        "colab": {
          "base_uri": "https://localhost:8080/"
        },
        "id": "FrMSrsWlTG4y",
        "outputId": "6415b9a8-3adc-4b49-c84b-200ebea5383b"
      },
      "execution_count": null,
      "outputs": [
        {
          "output_type": "execute_result",
          "data": {
            "text/plain": [
              "3.0444228060685337"
            ]
          },
          "metadata": {},
          "execution_count": 21
        }
      ]
    },
    {
      "cell_type": "code",
      "source": [
        "np.einsum('i,j->ij', A, B)    # np.outer(A, B)"
      ],
      "metadata": {
        "colab": {
          "base_uri": "https://localhost:8080/"
        },
        "id": "xb718FZETHAC",
        "outputId": "a2b053a2-83e9-4a08-961e-143390ea10d2"
      },
      "execution_count": null,
      "outputs": [
        {
          "output_type": "execute_result",
          "data": {
            "text/plain": [
              "array([[0.31060851, 0.69262211, 0.72826696, 0.65178025, 0.0391599 ,\n",
              "        0.73512395, 0.61889782, 0.63225391, 0.53345182, 0.74091827],\n",
              "       [0.00830261, 0.01851389, 0.01946668, 0.01742218, 0.00104675,\n",
              "        0.01964997, 0.01654323, 0.01690024, 0.01425924, 0.01980485],\n",
              "       [0.13930089, 0.31062534, 0.32661125, 0.29230869, 0.01756233,\n",
              "        0.32968645, 0.27756167, 0.28355157, 0.23924107, 0.33228508],\n",
              "       [0.0631845 , 0.14089434, 0.14814527, 0.13258622, 0.00796597,\n",
              "        0.14954013, 0.12589722, 0.12861414, 0.10851565, 0.15071882],\n",
              "       [0.16017541, 0.35717317, 0.3755546 , 0.33611173, 0.02019408,\n",
              "        0.37909063, 0.31915484, 0.32604234, 0.27509182, 0.38207866],\n",
              "       [0.16681177, 0.37197153, 0.39111453, 0.35003748, 0.02103076,\n",
              "        0.39479707, 0.33237802, 0.33955089, 0.28648939, 0.3979089 ],\n",
              "       [0.34125045, 0.76095019, 0.80011145, 0.71607923, 0.04302307,\n",
              "        0.80764489, 0.67995291, 0.69462658, 0.58607754, 0.81401083],\n",
              "       [0.09506737, 0.21198957, 0.22289932, 0.19948917, 0.0119856 ,\n",
              "        0.22499803, 0.18942491, 0.19351278, 0.16327261, 0.22677148],\n",
              "       [0.10051377, 0.22413441, 0.23566918, 0.21091787, 0.01267225,\n",
              "        0.23788812, 0.20027703, 0.2045991 , 0.17262647, 0.23976318],\n",
              "       [0.33328894, 0.74319692, 0.78144454, 0.69937282, 0.04201932,\n",
              "        0.78880222, 0.66408934, 0.67842067, 0.57240412, 0.79501963]])"
            ]
          },
          "metadata": {},
          "execution_count": 22
        }
      ]
    },
    {
      "cell_type": "markdown",
      "metadata": {
        "id": "JILsU1ET3Jhl"
      },
      "source": [
        "#### 98. Considering a path described by two vectors (X,Y), how to sample it using equidistant samples (★★★)? \n",
        "(**hint**: np.cumsum, np.interp)"
      ]
    },
    {
      "cell_type": "code",
      "source": [
        "help(np.pi)"
      ],
      "metadata": {
        "colab": {
          "base_uri": "https://localhost:8080/"
        },
        "id": "rytcH464nlnO",
        "outputId": "2d515036-bdd8-4c28-843b-929491db9701"
      },
      "execution_count": null,
      "outputs": [
        {
          "output_type": "stream",
          "name": "stdout",
          "text": [
            "Help on float object:\n",
            "\n",
            "class float(object)\n",
            " |  float(x=0, /)\n",
            " |  \n",
            " |  Convert a string or number to a floating point number, if possible.\n",
            " |  \n",
            " |  Methods defined here:\n",
            " |  \n",
            " |  __abs__(self, /)\n",
            " |      abs(self)\n",
            " |  \n",
            " |  __add__(self, value, /)\n",
            " |      Return self+value.\n",
            " |  \n",
            " |  __bool__(self, /)\n",
            " |      self != 0\n",
            " |  \n",
            " |  __divmod__(self, value, /)\n",
            " |      Return divmod(self, value).\n",
            " |  \n",
            " |  __eq__(self, value, /)\n",
            " |      Return self==value.\n",
            " |  \n",
            " |  __float__(self, /)\n",
            " |      float(self)\n",
            " |  \n",
            " |  __floordiv__(self, value, /)\n",
            " |      Return self//value.\n",
            " |  \n",
            " |  __format__(self, format_spec, /)\n",
            " |      Formats the float according to format_spec.\n",
            " |  \n",
            " |  __ge__(self, value, /)\n",
            " |      Return self>=value.\n",
            " |  \n",
            " |  __getattribute__(self, name, /)\n",
            " |      Return getattr(self, name).\n",
            " |  \n",
            " |  __getnewargs__(self, /)\n",
            " |  \n",
            " |  __gt__(self, value, /)\n",
            " |      Return self>value.\n",
            " |  \n",
            " |  __hash__(self, /)\n",
            " |      Return hash(self).\n",
            " |  \n",
            " |  __int__(self, /)\n",
            " |      int(self)\n",
            " |  \n",
            " |  __le__(self, value, /)\n",
            " |      Return self<=value.\n",
            " |  \n",
            " |  __lt__(self, value, /)\n",
            " |      Return self<value.\n",
            " |  \n",
            " |  __mod__(self, value, /)\n",
            " |      Return self%value.\n",
            " |  \n",
            " |  __mul__(self, value, /)\n",
            " |      Return self*value.\n",
            " |  \n",
            " |  __ne__(self, value, /)\n",
            " |      Return self!=value.\n",
            " |  \n",
            " |  __neg__(self, /)\n",
            " |      -self\n",
            " |  \n",
            " |  __pos__(self, /)\n",
            " |      +self\n",
            " |  \n",
            " |  __pow__(self, value, mod=None, /)\n",
            " |      Return pow(self, value, mod).\n",
            " |  \n",
            " |  __radd__(self, value, /)\n",
            " |      Return value+self.\n",
            " |  \n",
            " |  __rdivmod__(self, value, /)\n",
            " |      Return divmod(value, self).\n",
            " |  \n",
            " |  __repr__(self, /)\n",
            " |      Return repr(self).\n",
            " |  \n",
            " |  __rfloordiv__(self, value, /)\n",
            " |      Return value//self.\n",
            " |  \n",
            " |  __rmod__(self, value, /)\n",
            " |      Return value%self.\n",
            " |  \n",
            " |  __rmul__(self, value, /)\n",
            " |      Return value*self.\n",
            " |  \n",
            " |  __round__(self, ndigits=None, /)\n",
            " |      Return the Integral closest to x, rounding half toward even.\n",
            " |      \n",
            " |      When an argument is passed, work like built-in round(x, ndigits).\n",
            " |  \n",
            " |  __rpow__(self, value, mod=None, /)\n",
            " |      Return pow(value, self, mod).\n",
            " |  \n",
            " |  __rsub__(self, value, /)\n",
            " |      Return value-self.\n",
            " |  \n",
            " |  __rtruediv__(self, value, /)\n",
            " |      Return value/self.\n",
            " |  \n",
            " |  __str__(self, /)\n",
            " |      Return str(self).\n",
            " |  \n",
            " |  __sub__(self, value, /)\n",
            " |      Return self-value.\n",
            " |  \n",
            " |  __truediv__(self, value, /)\n",
            " |      Return self/value.\n",
            " |  \n",
            " |  __trunc__(self, /)\n",
            " |      Return the Integral closest to x between 0 and x.\n",
            " |  \n",
            " |  as_integer_ratio(self, /)\n",
            " |      Return integer ratio.\n",
            " |      \n",
            " |      Return a pair of integers, whose ratio is exactly equal to the original float\n",
            " |      and with a positive denominator.\n",
            " |      \n",
            " |      Raise OverflowError on infinities and a ValueError on NaNs.\n",
            " |      \n",
            " |      >>> (10.0).as_integer_ratio()\n",
            " |      (10, 1)\n",
            " |      >>> (0.0).as_integer_ratio()\n",
            " |      (0, 1)\n",
            " |      >>> (-.25).as_integer_ratio()\n",
            " |      (-1, 4)\n",
            " |  \n",
            " |  conjugate(self, /)\n",
            " |      Return self, the complex conjugate of any float.\n",
            " |  \n",
            " |  hex(self, /)\n",
            " |      Return a hexadecimal representation of a floating-point number.\n",
            " |      \n",
            " |      >>> (-0.1).hex()\n",
            " |      '-0x1.999999999999ap-4'\n",
            " |      >>> 3.14159.hex()\n",
            " |      '0x1.921f9f01b866ep+1'\n",
            " |  \n",
            " |  is_integer(self, /)\n",
            " |      Return True if the float is an integer.\n",
            " |  \n",
            " |  ----------------------------------------------------------------------\n",
            " |  Class methods defined here:\n",
            " |  \n",
            " |  __getformat__(typestr, /) from builtins.type\n",
            " |      You probably don't want to use this function.\n",
            " |      \n",
            " |        typestr\n",
            " |          Must be 'double' or 'float'.\n",
            " |      \n",
            " |      It exists mainly to be used in Python's test suite.\n",
            " |      \n",
            " |      This function returns whichever of 'unknown', 'IEEE, big-endian' or 'IEEE,\n",
            " |      little-endian' best describes the format of floating point numbers used by the\n",
            " |      C type named by typestr.\n",
            " |  \n",
            " |  __set_format__(typestr, fmt, /) from builtins.type\n",
            " |      You probably don't want to use this function.\n",
            " |      \n",
            " |        typestr\n",
            " |          Must be 'double' or 'float'.\n",
            " |        fmt\n",
            " |          Must be one of 'unknown', 'IEEE, big-endian' or 'IEEE, little-endian',\n",
            " |          and in addition can only be one of the latter two if it appears to\n",
            " |          match the underlying C reality.\n",
            " |      \n",
            " |      It exists mainly to be used in Python's test suite.\n",
            " |      \n",
            " |      Override the automatic determination of C-level floating point type.\n",
            " |      This affects how floats are converted to and from binary strings.\n",
            " |  \n",
            " |  fromhex(string, /) from builtins.type\n",
            " |      Create a floating-point number from a hexadecimal string.\n",
            " |      \n",
            " |      >>> float.fromhex('0x1.ffffp10')\n",
            " |      2047.984375\n",
            " |      >>> float.fromhex('-0x1p-1074')\n",
            " |      -5e-324\n",
            " |  \n",
            " |  ----------------------------------------------------------------------\n",
            " |  Static methods defined here:\n",
            " |  \n",
            " |  __new__(*args, **kwargs) from builtins.type\n",
            " |      Create and return a new object.  See help(type) for accurate signature.\n",
            " |  \n",
            " |  ----------------------------------------------------------------------\n",
            " |  Data descriptors defined here:\n",
            " |  \n",
            " |  imag\n",
            " |      the imaginary part of a complex number\n",
            " |  \n",
            " |  real\n",
            " |      the real part of a complex number\n",
            "\n"
          ]
        }
      ]
    },
    {
      "cell_type": "code",
      "source": [
        "help(np.diff)"
      ],
      "metadata": {
        "colab": {
          "base_uri": "https://localhost:8080/"
        },
        "id": "Wf3wsOGWokOF",
        "outputId": "01bd2283-8b53-4871-f947-cdc170d1b2e9"
      },
      "execution_count": null,
      "outputs": [
        {
          "output_type": "stream",
          "name": "stdout",
          "text": [
            "Help on function diff in module numpy:\n",
            "\n",
            "diff(a, n=1, axis=-1, prepend=<no value>, append=<no value>)\n",
            "    Calculate the n-th discrete difference along the given axis.\n",
            "    \n",
            "    The first difference is given by ``out[i] = a[i+1] - a[i]`` along\n",
            "    the given axis, higher differences are calculated by using `diff`\n",
            "    recursively.\n",
            "    \n",
            "    Parameters\n",
            "    ----------\n",
            "    a : array_like\n",
            "        Input array\n",
            "    n : int, optional\n",
            "        The number of times values are differenced. If zero, the input\n",
            "        is returned as-is.\n",
            "    axis : int, optional\n",
            "        The axis along which the difference is taken, default is the\n",
            "        last axis.\n",
            "    prepend, append : array_like, optional\n",
            "        Values to prepend or append to `a` along axis prior to\n",
            "        performing the difference.  Scalar values are expanded to\n",
            "        arrays with length 1 in the direction of axis and the shape\n",
            "        of the input array in along all other axes.  Otherwise the\n",
            "        dimension and shape must match `a` except along axis.\n",
            "    \n",
            "        .. versionadded:: 1.16.0\n",
            "    \n",
            "    Returns\n",
            "    -------\n",
            "    diff : ndarray\n",
            "        The n-th differences. The shape of the output is the same as `a`\n",
            "        except along `axis` where the dimension is smaller by `n`. The\n",
            "        type of the output is the same as the type of the difference\n",
            "        between any two elements of `a`. This is the same as the type of\n",
            "        `a` in most cases. A notable exception is `datetime64`, which\n",
            "        results in a `timedelta64` output array.\n",
            "    \n",
            "    See Also\n",
            "    --------\n",
            "    gradient, ediff1d, cumsum\n",
            "    \n",
            "    Notes\n",
            "    -----\n",
            "    Type is preserved for boolean arrays, so the result will contain\n",
            "    `False` when consecutive elements are the same and `True` when they\n",
            "    differ.\n",
            "    \n",
            "    For unsigned integer arrays, the results will also be unsigned. This\n",
            "    should not be surprising, as the result is consistent with\n",
            "    calculating the difference directly:\n",
            "    \n",
            "    >>> u8_arr = np.array([1, 0], dtype=np.uint8)\n",
            "    >>> np.diff(u8_arr)\n",
            "    array([255], dtype=uint8)\n",
            "    >>> u8_arr[1,...] - u8_arr[0,...]\n",
            "    255\n",
            "    \n",
            "    If this is not desirable, then the array should be cast to a larger\n",
            "    integer type first:\n",
            "    \n",
            "    >>> i16_arr = u8_arr.astype(np.int16)\n",
            "    >>> np.diff(i16_arr)\n",
            "    array([-1], dtype=int16)\n",
            "    \n",
            "    Examples\n",
            "    --------\n",
            "    >>> x = np.array([1, 2, 4, 7, 0])\n",
            "    >>> np.diff(x)\n",
            "    array([ 1,  2,  3, -7])\n",
            "    >>> np.diff(x, n=2)\n",
            "    array([  1,   1, -10])\n",
            "    \n",
            "    >>> x = np.array([[1, 3, 6, 10], [0, 5, 6, 8]])\n",
            "    >>> np.diff(x)\n",
            "    array([[2, 3, 4],\n",
            "           [5, 1, 2]])\n",
            "    >>> np.diff(x, axis=0)\n",
            "    array([[-1,  2,  0, -2]])\n",
            "    \n",
            "    >>> x = np.arange('1066-10-13', '1066-10-16', dtype=np.datetime64)\n",
            "    >>> np.diff(x)\n",
            "    array([1, 1], dtype='timedelta64[D]')\n",
            "\n"
          ]
        }
      ]
    },
    {
      "cell_type": "code",
      "source": [
        "help(np.interp)"
      ],
      "metadata": {
        "id": "6wtMzGhsp5nA",
        "outputId": "f9902316-b81f-4c3d-f1fa-8d0d9f5a83f6",
        "colab": {
          "base_uri": "https://localhost:8080/"
        }
      },
      "execution_count": null,
      "outputs": [
        {
          "output_type": "stream",
          "name": "stdout",
          "text": [
            "Help on function interp in module numpy:\n",
            "\n",
            "interp(x, xp, fp, left=None, right=None, period=None)\n",
            "    One-dimensional linear interpolation for monotonically increasing sample points.\n",
            "    \n",
            "    Returns the one-dimensional piecewise linear interpolant to a function\n",
            "    with given discrete data points (`xp`, `fp`), evaluated at `x`.\n",
            "    \n",
            "    Parameters\n",
            "    ----------\n",
            "    x : array_like\n",
            "        The x-coordinates at which to evaluate the interpolated values.\n",
            "    \n",
            "    xp : 1-D sequence of floats\n",
            "        The x-coordinates of the data points, must be increasing if argument\n",
            "        `period` is not specified. Otherwise, `xp` is internally sorted after\n",
            "        normalizing the periodic boundaries with ``xp = xp % period``.\n",
            "    \n",
            "    fp : 1-D sequence of float or complex\n",
            "        The y-coordinates of the data points, same length as `xp`.\n",
            "    \n",
            "    left : optional float or complex corresponding to fp\n",
            "        Value to return for `x < xp[0]`, default is `fp[0]`.\n",
            "    \n",
            "    right : optional float or complex corresponding to fp\n",
            "        Value to return for `x > xp[-1]`, default is `fp[-1]`.\n",
            "    \n",
            "    period : None or float, optional\n",
            "        A period for the x-coordinates. This parameter allows the proper\n",
            "        interpolation of angular x-coordinates. Parameters `left` and `right`\n",
            "        are ignored if `period` is specified.\n",
            "    \n",
            "        .. versionadded:: 1.10.0\n",
            "    \n",
            "    Returns\n",
            "    -------\n",
            "    y : float or complex (corresponding to fp) or ndarray\n",
            "        The interpolated values, same shape as `x`.\n",
            "    \n",
            "    Raises\n",
            "    ------\n",
            "    ValueError\n",
            "        If `xp` and `fp` have different length\n",
            "        If `xp` or `fp` are not 1-D sequences\n",
            "        If `period == 0`\n",
            "    \n",
            "    See Also\n",
            "    --------\n",
            "    scipy.interpolate\n",
            "    \n",
            "    Warnings\n",
            "    --------\n",
            "    The x-coordinate sequence is expected to be increasing, but this is not\n",
            "    explicitly enforced.  However, if the sequence `xp` is non-increasing,\n",
            "    interpolation results are meaningless.\n",
            "    \n",
            "    Note that, since NaN is unsortable, `xp` also cannot contain NaNs.\n",
            "    \n",
            "    A simple check for `xp` being strictly increasing is::\n",
            "    \n",
            "        np.all(np.diff(xp) > 0)\n",
            "    \n",
            "    Examples\n",
            "    --------\n",
            "    >>> xp = [1, 2, 3]\n",
            "    >>> fp = [3, 2, 0]\n",
            "    >>> np.interp(2.5, xp, fp)\n",
            "    1.0\n",
            "    >>> np.interp([0, 1, 1.5, 2.72, 3.14], xp, fp)\n",
            "    array([3.  , 3.  , 2.5 , 0.56, 0.  ])\n",
            "    >>> UNDEF = -99.0\n",
            "    >>> np.interp(3.14, xp, fp, right=UNDEF)\n",
            "    -99.0\n",
            "    \n",
            "    Plot an interpolant to the sine function:\n",
            "    \n",
            "    >>> x = np.linspace(0, 2*np.pi, 10)\n",
            "    >>> y = np.sin(x)\n",
            "    >>> xvals = np.linspace(0, 2*np.pi, 50)\n",
            "    >>> yinterp = np.interp(xvals, x, y)\n",
            "    >>> import matplotlib.pyplot as plt\n",
            "    >>> plt.plot(x, y, 'o')\n",
            "    [<matplotlib.lines.Line2D object at 0x...>]\n",
            "    >>> plt.plot(xvals, yinterp, '-x')\n",
            "    [<matplotlib.lines.Line2D object at 0x...>]\n",
            "    >>> plt.show()\n",
            "    \n",
            "    Interpolation with periodic x-coordinates:\n",
            "    \n",
            "    >>> x = [-180, -170, -185, 185, -10, -5, 0, 365]\n",
            "    >>> xp = [190, -190, 350, -350]\n",
            "    >>> fp = [5, 10, 3, 4]\n",
            "    >>> np.interp(x, xp, fp, period=360)\n",
            "    array([7.5 , 5.  , 8.75, 6.25, 3.  , 3.25, 3.5 , 3.75])\n",
            "    \n",
            "    Complex interpolation:\n",
            "    \n",
            "    >>> x = [1.5, 4.0]\n",
            "    >>> xp = [2,3,5]\n",
            "    >>> fp = [1.0j, 0, 2+3j]\n",
            "    >>> np.interp(x, xp, fp)\n",
            "    array([0.+1.j , 1.+1.5j])\n",
            "\n"
          ]
        }
      ]
    },
    {
      "cell_type": "code",
      "execution_count": null,
      "metadata": {
        "collapsed": true,
        "id": "ppH6pHdD3Jhl",
        "colab": {
          "base_uri": "https://localhost:8080/"
        },
        "outputId": "72c21fc1-2d9d-4e3a-cbaa-3332cd915abe"
      },
      "outputs": [
        {
          "output_type": "stream",
          "name": "stdout",
          "text": [
            "[ 0.   0.1  0.2  0.3  0.4  0.5  0.6  0.7  0.8  0.9  1.   1.1  1.2  1.3\n",
            "  1.4  1.5  1.6  1.7  1.8  1.9  2.   2.1  2.2  2.3  2.4  2.5  2.6  2.7\n",
            "  2.8  2.9  3.   3.1  3.2  3.3  3.4  3.5  3.6  3.7  3.8  3.9  4.   4.1\n",
            "  4.2  4.3  4.4  4.5  4.6  4.7  4.8  4.9  5.   5.1  5.2  5.3  5.4  5.5\n",
            "  5.6  5.7  5.8  5.9  6.   6.1  6.2  6.3  6.4  6.5  6.6  6.7  6.8  6.9\n",
            "  7.   7.1  7.2  7.3  7.4  7.5  7.6  7.7  7.8  7.9  8.   8.1  8.2  8.3\n",
            "  8.4  8.5  8.6  8.7  8.8  8.9  9.   9.1  9.2  9.3  9.4  9.5  9.6  9.7\n",
            "  9.8  9.9 10.  10.1 10.2 10.3 10.4 10.5 10.6 10.7 10.8 10.9 11.  11.1\n",
            " 11.2 11.3 11.4 11.5 11.6 11.7 11.8 11.9 12.  12.1 12.2 12.3 12.4 12.5\n",
            " 12.6 12.7 12.8 12.9 13.  13.1 13.2 13.3 13.4 13.5 13.6 13.7 13.8 13.9\n",
            " 14.  14.1 14.2 14.3 14.4 14.5 14.6 14.7 14.8 14.9 15.  15.1 15.2 15.3\n",
            " 15.4 15.5 15.6 15.7 15.8 15.9 16.  16.1 16.2 16.3 16.4 16.5 16.6 16.7\n",
            " 16.8 16.9 17.  17.1 17.2 17.3 17.4 17.5 17.6 17.7 17.8 17.9 18.  18.1\n",
            " 18.2 18.3 18.4 18.5 18.6 18.7 18.8 18.9 19.  19.1 19.2 19.3 19.4 19.5\n",
            " 19.6 19.7 19.8 19.9 20.  20.1 20.2 20.3 20.4 20.5 20.6 20.7 20.8 20.9\n",
            " 21.  21.1 21.2 21.3 21.4 21.5 21.6 21.7 21.8 21.9 22.  22.1 22.2 22.3\n",
            " 22.4 22.5 22.6 22.7 22.8 22.9 23.  23.1 23.2 23.3 23.4 23.5 23.6 23.7\n",
            " 23.8 23.9 24.  24.1 24.2 24.3 24.4 24.5 24.6 24.7 24.8 24.9 25.  25.1\n",
            " 25.2 25.3 25.4 25.5 25.6 25.7 25.8 25.9 26.  26.1 26.2 26.3 26.4 26.5\n",
            " 26.6 26.7 26.8 26.9 27.  27.1 27.2 27.3 27.4 27.5 27.6 27.7 27.8 27.9\n",
            " 28.  28.1 28.2 28.3 28.4 28.5 28.6 28.7 28.8 28.9 29.  29.1 29.2 29.3\n",
            " 29.4 29.5 29.6 29.7 29.8 29.9 30.  30.1 30.2 30.3 30.4 30.5 30.6 30.7\n",
            " 30.8 30.9 31.  31.1 31.2 31.3 31.4]\n",
            "[  0.           0.09950042   0.19601332   0.28660095   0.3684244\n",
            "   0.43879128   0.49520137   0.53538953   0.55736537   0.55944897\n",
            "   0.54030231   0.49895573   0.43482931   0.34774848   0.237954\n",
            "   0.1061058   -0.04671924  -0.21903564  -0.40896377  -0.61425018\n",
            "  -0.83229367  -1.06017682  -1.29470246  -1.53243485  -1.76974492\n",
            "  -2.00285904  -2.22791076  -2.44099478  -2.63822255  -2.81577868\n",
            "  -2.96997749  -3.09731897  -3.19454328  -3.25868324  -3.28711385\n",
            "  -3.27759841  -3.2283303   -3.13797012  -3.00567731  -2.83113599\n",
            "  -2.61457448  -2.35677818  -2.05909545  -1.72343644  -1.35226463\n",
            "  -0.9485811   -0.51590162  -0.05822672   0.41999512   0.91391061\n",
            "   1.41831093   1.92768649   2.43628669   2.93818398   3.42734153\n",
            "   3.89768376   4.34316892   4.75786287   5.1360132    5.47212274\n",
            "   5.76102172   5.99793747   6.178561     6.29910941   6.35638348\n",
            "   6.34781957   6.27153511   6.12636709   5.91190293   5.62850319\n",
            "   5.27731578   4.86028133   4.38012946   3.84036588   3.24525022\n",
            "   2.59976488   1.9095748    1.18097874   0.42085228  -0.36341679\n",
            "  -1.16400027  -1.97270765  -2.78106986  -3.58042781  -4.36202469\n",
            "  -5.11710117  -5.83699241  -6.51322582  -7.13761852  -7.70237336\n",
            "  -8.20017236  -8.62426658  -8.96856132  -9.22769553  -9.3971146\n",
            "  -9.47313548  -9.45300342  -9.33493933  -9.11817747  -8.80299241\n",
            "  -8.39071529  -7.88373862  -7.28550965  -6.6005121   -5.83423628\n",
            "  -4.99313774  -4.08458482  -3.11679531  -2.09876299  -1.04017448\n",
            "   0.04868268   1.1570199    2.27365447   3.38712238   4.48579588\n",
            "   5.55800473   6.59215971   7.57687716   8.50110325   9.35423652\n",
            "  10.1262475   10.80779395  11.39033046  11.8662112   12.22878455\n",
            "  12.47247849  12.59287578  12.58677787  12.45225684  12.18869449\n",
            "  11.79680816  11.27866268  10.63766824   9.878564     9.00738732\n",
            "   8.03142895   6.9591743    5.80023126   4.56524532   3.26580248\n",
            "   1.91432105   0.52393323  -0.89164247  -2.31823644  -3.74136993\n",
            "  -5.14640187  -6.51867941  -7.84369048  -9.10721675 -10.29548549\n",
            " -11.39531869 -12.39427773 -13.28080214 -14.04434094 -14.67547492\n",
            " -15.16602867 -15.50917095 -15.69950221 -15.73312822 -15.60771894\n",
            " -15.32255169 -14.87853808 -14.27823434 -13.52583451 -12.62714655\n",
            " -11.58955145 -10.42194539  -9.13466558  -7.73940027  -6.24908366\n",
            "  -4.67777675  -3.04053512  -1.35326495   0.36743138   2.10441864\n",
            "   3.84019936   5.55709009   7.23740149   8.86362041  10.41859212\n",
            "  11.88570075  13.24904611  14.49361496  15.6054449   16.57177917\n",
            "  17.38121053  18.02381279  18.49125831  18.7769203   18.87595858\n",
            "  18.78538775  18.50412697  18.03303066  17.3748994   16.53447108\n",
            "  15.51839191  14.33516747  12.99509423  11.51017187   9.89399732\n",
            "   8.16164124   6.32950824   4.41518203   2.43725688   0.4151572\n",
            "  -1.63105313  -3.6808699   -5.713554    -7.70834118  -9.64465412\n",
            " -11.50231446 -13.26175272 -14.9042139  -16.41195663 -17.76844373\n",
            " -18.95852214 -19.96859034 -20.78675129 -21.40294938 -21.80908968\n",
            " -21.99913818 -21.96920183 -21.71758737 -21.24483813 -20.55374833\n",
            " -19.6493544  -18.53890336 -17.23179826 -15.73952118 -14.07553421\n",
            " -12.25515947 -10.29543901  -8.21497601  -6.03375864  -3.77296837\n",
            "  -1.45477441   0.89788356   3.2615224    5.6123499    7.92650424\n",
            "  10.18029618  12.35045135  14.41435043  16.35026444  18.13758293\n",
            "  19.7570326   21.19088398  22.42314406  23.43973275  24.2286412\n",
            "  24.7800703   25.08654775  25.14302233  24.94693422  24.49826054\n",
            "  23.79953536  22.85584389  21.67479057  20.26644137  18.64324051\n",
            "  16.81990238  14.81327959  12.64220817  10.32733155   7.89090473\n",
            "   5.35658069   2.74918094   0.09445254  -2.58118617  -5.25090838\n",
            "  -7.88774784 -10.46487118 -12.95585091 -15.33493623 -17.57731893\n",
            " -19.65939164 -21.55899571 -23.25565617 -24.7308012  -25.96796395\n",
            " -26.95296426 -27.67406854 -28.12212595 -28.2906792  -28.17604893\n",
            " -27.77739036 -27.09672162 -26.13892326 -24.91170863 -23.42556536\n",
            " -21.69366836 -19.73176483 -17.55803252 -15.19291234 -12.6589169\n",
            "  -9.98041672  -7.18340625  -4.29525175  -1.34442375   1.63978364\n",
            "   4.6275435    7.58879418  10.49354182  13.31216405  16.01571198\n",
            "  18.57620727  20.96693136  23.16270375  25.14014653  26.87793233\n",
            "  28.35701309  29.56082725  30.47548299  31.08991568  31.39601771]\n",
            "[ 0.00000000e+00  9.98334166e-03  3.97338662e-02  8.86560620e-02\n",
            "  1.55767337e-01  2.39712769e-01  3.38785484e-01  4.50952381e-01\n",
            "  5.73884873e-01  7.04994219e-01  8.41470985e-01  9.80328096e-01\n",
            "  1.11844690e+00  1.25262564e+00  1.37962962e+00  1.49624248e+00\n",
            "  1.59931776e+00  1.68583018e+00  1.75292574e+00  1.79797017e+00\n",
            "  1.81859485e+00  1.81273967e+00  1.77869209e+00  1.71512199e+00\n",
            "  1.62111163e+00  1.49618036e+00  1.34030357e+00  1.15392568e+00\n",
            "  9.37966820e-01  6.93823055e-01  4.23360024e-01  1.28900054e-01\n",
            " -1.86797259e-01 -5.20560791e-01 -8.68839747e-01 -1.22774130e+00\n",
            " -1.59307360e+00 -1.96039372e+00 -2.32505999e+00 -2.68228802e+00\n",
            " -3.02720998e+00 -3.35493616e+00 -3.66061824e+00 -3.93951353e+00\n",
            " -4.18704913e+00 -4.39888553e+00 -4.57097862e+00 -4.69963931e+00\n",
            " -4.78159012e+00 -4.81401780e+00 -4.79462137e+00 -4.72165488e+00\n",
            " -4.59396421e+00 -4.41101744e+00 -4.17292823e+00 -3.88047179e+00\n",
            " -3.53509317e+00 -3.13890759e+00 -2.69469264e+00 -2.20587232e+00\n",
            " -1.67649299e+00 -1.11119128e+00 -5.15154297e-01  1.05927573e-01\n",
            "  7.45914911e-01  1.39827992e+00  2.05617300e+00  2.71249447e+00\n",
            "  3.35997079e+00  3.99123437e+00  4.59890619e+00  5.17568018e+00\n",
            "  5.71440862e+00  6.20818733e+00  6.65043991e+00  7.03499983e+00\n",
            "  7.35618951e+00  7.60889540e+00  7.78863809e+00  7.89163660e+00\n",
            "  7.91486597e+00  7.85610747e+00  7.71399056e+00  7.48802622e+00\n",
            "  7.17863083e+00  6.78714046e+00  6.31581504e+00  5.76783230e+00\n",
            "  5.14727130e+00  4.45908562e+00  3.70906637e+00  2.90379510e+00\n",
            "  2.05058721e+00  1.15742614e+00  2.32888999e-01 -7.13935644e-01\n",
            " -1.67353710e+00 -2.63607808e+00 -3.59149547e+00 -4.52960535e+00\n",
            " -5.44021111e+00 -6.31321355e+00 -7.13872181e+00 -7.90716384e+00\n",
            " -8.60939528e+00 -9.23680548e+00 -9.78141947e+00 -1.02359947e+01\n",
            " -1.05941113e+01 -1.08502552e+01 -1.09998923e+01 -1.10395337e+01\n",
            " -1.09667906e+01 -1.07804175e+01 -1.04803452e+01 -1.00677000e+01\n",
            " -9.54481170e+00 -8.91520793e+00 -8.18359600e+00 -7.35583164e+00\n",
            " -6.43887502e+00 -5.44073432e+00 -4.37039724e+00 -3.23775103e+00\n",
            " -2.05349178e+00 -8.29023717e-01  4.23650395e-01  1.69204693e+00\n",
            "  2.96332576e+00  4.22442026e+00  5.46217148e+00  6.66346518e+00\n",
            "  7.81537039e+00  8.90527784e+00  9.92103693e+00  1.08510898e+01\n",
            "  1.16846007e+01  1.24115800e+01  1.30230002e+01  1.35109043e+01\n",
            "  1.38685030e+01  1.40902624e+01  1.41719785e+01  1.41108391e+01\n",
            "  1.39054720e+01  1.35559783e+01  1.30639511e+01  1.24324784e+01\n",
            "  1.16661306e+01  1.07709321e+01  9.75431760e+00  8.62507273e+00\n",
            "  7.39326007e+00  6.07013077e+00  4.66802269e+00  3.20024597e+00\n",
            "  1.68095698e+00  1.25021985e-01 -1.45212823e+00 -3.03465144e+00\n",
            " -4.60645307e+00 -6.15134982e+00 -7.65323618e+00 -9.09625202e+00\n",
            " -1.04649496e+01 -1.17444581e+01 -1.29206445e+01 -1.39802677e+01\n",
            " -1.49111262e+01 -1.57021958e+01 -1.63437574e+01 -1.68275116e+01\n",
            " -1.71466811e+01 -1.72960977e+01 -1.72722732e+01 -1.70734551e+01\n",
            " -1.66996632e+01 -1.61527094e+01 -1.54361988e+01 -1.45555123e+01\n",
            " -1.35177704e+01 -1.23317792e+01 -1.10079574e+01 -9.55824719e+00\n",
            " -7.99600745e+00 -6.33589144e+00 -4.59371011e+00 -2.78628178e+00\n",
            " -9.31270049e-01  9.52988800e-01  2.84766698e+00  4.73363337e+00\n",
            "  6.59164663e+00  8.40255146e+00  1.01474758e+01  1.18080275e+01\n",
            "  1.33664870e+01  1.48059963e+01  1.61107400e+01  1.72661176e+01\n",
            "  1.82589050e+01  1.90774035e+01  1.97115745e+01  2.01531580e+01\n",
            "  2.03957752e+01  2.04350108e+01  2.02684779e+01  1.98958614e+01\n",
            "  1.93189409e+01  1.85415923e+01  1.75697684e+01  1.64114568e+01\n",
            "  1.50766179e+01  1.35771013e+01  1.19265421e+01  1.01402386e+01\n",
            "  8.23501062e+00  6.22904253e+00  4.14170953e+00  1.99339091e+00\n",
            " -1.94728804e-01 -2.40086876e+00 -4.60286854e+00 -6.77841078e+00\n",
            " -8.90524730e+00 -1.09614265e+01 -1.29255198e+01 -1.47768443e+01\n",
            " -1.64956804e+01 -1.80634807e+01 -1.94630693e+01 -2.06788282e+01\n",
            " -2.16968700e+01 -2.25051940e+01 -2.30938241e+01 -2.34549277e+01\n",
            " -2.35829134e+01 -2.34745068e+01 -2.31288030e+01 -2.25472954e+01\n",
            " -2.17338807e+01 -2.06948388e+01 -1.94387886e+01 -1.79766196e+01\n",
            " -1.63213996e+01 -1.44882595e+01 -1.24942561e+01 -1.03582146e+01\n",
            " -8.10055113e+00 -5.74307808e+00 -3.30879375e+00 -8.21658021e-01\n",
            "  1.69364343e+00  4.21194409e+00  6.70784844e+00  9.15598803e+00\n",
            "  1.15312792e+01  1.38091801e+01  1.59659436e+01  1.79788649e+01\n",
            "  1.98265197e+01  2.14889913e+01  2.29480843e+01  2.41875221e+01\n",
            "  2.51931265e+01  2.59529775e+01  2.64575510e+01  2.66998329e+01\n",
            "  2.66754096e+01  2.63825314e+01  2.58221501e+01  2.49979293e+01\n",
            "  2.39162273e+01  2.25860517e+01  2.10189881e+01  1.92291009e+01\n",
            "  1.72328089e+01  1.50487360e+01  1.26975380e+01  1.02017081e+01\n",
            "  7.58536207e+00  4.87400556e+00  2.09428557e+00 -7.26271386e-01\n",
            " -3.55953178e+00 -6.37703575e+00 -9.15028291e+00 -1.18510207e+01\n",
            " -1.44515319e+01 -1.69249191e+01 -1.92453826e+01 -2.13884889e+01\n",
            " -2.33314272e+01 -2.50532516e+01 -2.65351055e+01 -2.77604265e+01\n",
            " -2.87151297e+01 -2.93877664e+01 -2.97696578e+01 -2.98550014e+01\n",
            " -2.96409487e+01 -2.91276536e+01 -2.83182906e+01 -2.72190427e+01\n",
            " -2.58390590e+01 -2.41903808e+01 -2.22878395e+01 -2.01489244e+01\n",
            " -1.77936234e+01 -1.52442367e+01 -1.25251670e+01 -9.66268557e+00\n",
            " -6.68467926e+00 -3.62037882e+00 -5.00072086e-01]\n"
          ]
        }
      ],
      "source": [
        "import numpy as np\n",
        "phi = np.arange(0, 10*np.pi, 0.1)\n",
        "print(phi)\n",
        "a = 1\n",
        "x = a*phi*np.cos(phi)\n",
        "print(x)\n",
        "y = a*phi*np.sin(phi)\n",
        "print(y)\n",
        "\n",
        "dr = (np.diff(x)**2 + np.diff(y)**2)**.5 # segment lengths\n",
        "r = np.zeros_like(x)\n",
        "r[1:] = np.cumsum(dr)                # integrate path\n",
        "r_int = np.linspace(0, r.max(), 200) # regular spaced path\n",
        "x_int = np.interp(r_int, r, x)       # integrate path\n",
        "y_int = np.interp(r_int, r, y)"
      ]
    },
    {
      "cell_type": "markdown",
      "metadata": {
        "id": "bs7OnuW03Jhm"
      },
      "source": [
        "#### 99. Given an integer n and a 2D array X, select from X the rows which can be interpreted as draws from a multinomial distribution with n degrees, i.e., the rows which only contain integers and which sum to n. (★★★) \n",
        "(**hint**: np.logical\\_and.reduce, np.mod)"
      ]
    },
    {
      "cell_type": "code",
      "execution_count": null,
      "metadata": {
        "id": "tyfWeHtc3Jhn"
      },
      "outputs": [],
      "source": [
        ""
      ]
    },
    {
      "cell_type": "markdown",
      "metadata": {
        "id": "o_192hIe3Jhn"
      },
      "source": [
        "#### 100. Compute bootstrapped 95% confidence intervals for the mean of a 1D array X (i.e., resample the elements of an array with replacement N times, compute the mean of each sample, and then compute percentiles over the means). (★★★) \n",
        "(**hint**: np.percentile)"
      ]
    },
    {
      "cell_type": "code",
      "execution_count": null,
      "metadata": {
        "id": "9REY3sed3Jhp"
      },
      "outputs": [],
      "source": [
        ""
      ]
    }
  ],
  "metadata": {
    "kernelspec": {
      "display_name": "Python 3",
      "language": "python",
      "name": "python3"
    },
    "language_info": {
      "codemirror_mode": {
        "name": "ipython",
        "version": 3
      },
      "file_extension": ".py",
      "mimetype": "text/x-python",
      "name": "python",
      "nbconvert_exporter": "python",
      "pygments_lexer": "ipython3",
      "version": "3.8.3"
    },
    "colab": {
      "name": "Copy of Numpy_tasks.ipynb",
      "provenance": [],
      "collapsed_sections": [
        "mQ9cRGX53JeV",
        "jG0FxcVI3JeW",
        "Nm5yEeX-3JeX",
        "YF3JI4Og3Jeb",
        "HKYQSM0m3Jee",
        "ziIbOGhy3Jeg",
        "RvbhQ3y23Jeh",
        "ENNH9h7w3Jej",
        "Yh2djTS53Jel",
        "FGThC7dE3Jen",
        "cwbm6a_v3Jeo",
        "SY0h9xtO3Jer",
        "L33NB7GK3Jev",
        "QbFiIEbk3Je3",
        "kCJEf0u13Je4",
        "YSFjkHPD3Je_",
        "MegubDua3JfK",
        "qu55Eve33JfV",
        "JyrGtX9j3JfX",
        "OocdJYwb3JfY",
        "1qnQKZUm3JfZ",
        "ktBUCCmn3JfZ",
        "jpkKYVpq3Jfb",
        "rf1oS2vJ3Jff",
        "2yIXNhtW3Jgq",
        "uvDG4wju3Jgr",
        "hGWHb73N3Jgs",
        "b1mj2ta_3Jgt",
        "WUyoANg03Jgu",
        "tExf61sN3Jgu",
        "zRvsUmat3Jgw",
        "gLSm46ZB3Jgz",
        "Xhp1MiVc3Jg6",
        "kCwC5QX33Jg-",
        "s9Wpf2eR3Jg_",
        "vBd9Fiq53JhE",
        "iknLKUVe3JhJ",
        "ZBWyordy3JhQ",
        "SggVaGw23JhW",
        "navAsSAW3JhY",
        "-lBKVl4Y3JhZ",
        "G9_Dxfuj3Jha",
        "dZm2rHGH3Jhb",
        "NN32g4sK3Jhc",
        "QWTUaY4g3Jhd",
        "drEk94_a3Jhe",
        "yyMGU99i3Jhg",
        "IBzfUYkf3Jhj",
        "JILsU1ET3Jhl",
        "bs7OnuW03Jhm",
        "o_192hIe3Jhn"
      ]
    }
  },
  "nbformat": 4,
  "nbformat_minor": 0
}